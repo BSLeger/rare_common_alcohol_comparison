{
 "cells": [
  {
   "cell_type": "markdown",
   "id": "ec09394d-a605-4935-83a0-be43f7a93359",
   "metadata": {},
   "source": [
    "# rare vs common variants and genes"
   ]
  },
  {
   "cell_type": "markdown",
   "id": "99002680-ebe0-411a-9a41-aa7a5b125885",
   "metadata": {},
   "source": [
    "purpose: this notebook is used to compare the variants and genes from rare and common datasets directly (not in network space)\n",
    "analyses:\n",
    "    - manhattan and porcupine plots for rare variants and genes\n",
    "    - burden types in rare genes\n",
    "Figures generated:\n",
    "- Figure 1\n",
    "- Figure S2\n",
    "- source for Fig S\n",
    "Tables generated:\n"
   ]
  },
  {
   "cell_type": "markdown",
   "id": "5ea041cd-031f-49d3-911a-00a95fe506ff",
   "metadata": {},
   "source": [
    "# setup"
   ]
  },
  {
   "cell_type": "code",
   "execution_count": 2,
   "id": "262181da-814d-4b09-a017-1940e4b8f875",
   "metadata": {},
   "outputs": [],
   "source": [
    "import pandas as pd\n",
    "import matplotlib\n",
    "import matplotlib.pyplot as plt\n",
    "import upsetplot\n",
    "import math\n",
    "import statistics as stat\n",
    "import numpy as np\n",
    "import scipy.stats as stats\n",
    "import statsmodels.stats.multitest\n",
    "from upsetplot import plot as upplot\n",
    "from upsetplot import from_contents\n",
    "from upsetplot import UpSet\n",
    "from matplotlib_venn import venn3\n",
    "from rca_functions import *"
   ]
  },
  {
   "cell_type": "code",
   "execution_count": 3,
   "id": "50ffaf9d-9c34-46ae-a416-70a452c6282c",
   "metadata": {},
   "outputs": [],
   "source": [
    "matplotlib.rcParams.update({'font.size': 8})\n",
    "matplotlib.rcParams.update({'figure.dpi':500})"
   ]
  },
  {
   "cell_type": "code",
   "execution_count": 4,
   "id": "b73a9f3a-568f-44c3-9b9c-2e7f1788cf29",
   "metadata": {},
   "outputs": [
    {
     "data": {
      "text/plain": [
       "'/Users/brittanyleger/Downloads/rare_common_alcohol_comparison'"
      ]
     },
     "execution_count": 4,
     "metadata": {},
     "output_type": "execute_result"
    }
   ],
   "source": [
    "import os\n",
    "os.chdir('..')\n",
    "os.getcwd()"
   ]
  },
  {
   "cell_type": "code",
   "execution_count": 5,
   "id": "a8afc864-37a4-4f34-b1e2-022eb6ad6e1a",
   "metadata": {},
   "outputs": [],
   "source": [
    "save_figs=False"
   ]
  },
  {
   "cell_type": "markdown",
   "id": "710b00ad-6d85-4b7a-b241-61014bfd4484",
   "metadata": {},
   "source": [
    "# import variant tables"
   ]
  },
  {
   "cell_type": "code",
   "execution_count": 6,
   "id": "1e91cef2-750a-46d6-9879-14be876951b2",
   "metadata": {},
   "outputs": [],
   "source": [
    "#import common variants\n",
    "common=pd.read_csv('input_files/GSCAN_DPW/GSCAN_DrnkWk_2022_GWAS_SUMMARY_STATS_EUR.txt.gz',compression='gzip', sep='\\t')"
   ]
  },
  {
   "cell_type": "code",
   "execution_count": 7,
   "id": "7996fadf-d39d-4bd9-96ac-f03a6bb5fec1",
   "metadata": {},
   "outputs": [],
   "source": [
    "#filtered for MAF cutoff\n",
    "rare=pd.read_csv('input_files/rare_variant_genebass/alcohol_intake/alcohol_intake_variant_tbl_maf05.tsv.gz',compression='gzip',sep='\\t',low_memory=False)\n",
    "#filter for those with greater than 2 Minor allele counts to reduce number of artifacts\n",
    "rare=rare[rare['call_stats.AC']>2].reset_index()"
   ]
  },
  {
   "cell_type": "markdown",
   "id": "d0ac35a5-ffc1-4452-a083-5c234d0d3f68",
   "metadata": {},
   "source": [
    "## filter variants"
   ]
  },
  {
   "cell_type": "code",
   "execution_count": 8,
   "id": "6d85920b-a26f-4e47-978d-5c779778b553",
   "metadata": {},
   "outputs": [],
   "source": [
    "common['CHR']=common['CHR'].map(lambda x: x.lstrip('chr'))"
   ]
  },
  {
   "cell_type": "code",
   "execution_count": 9,
   "id": "9d9e7cec-c0b2-4218-8ebc-689944ea126d",
   "metadata": {},
   "outputs": [],
   "source": [
    "common_cutoff=5e-8"
   ]
  },
  {
   "cell_type": "code",
   "execution_count": 10,
   "id": "6167e977-6464-44a6-8f05-f96560275eab",
   "metadata": {},
   "outputs": [],
   "source": [
    "rare_cutoff=8e-9"
   ]
  },
  {
   "cell_type": "markdown",
   "id": "6f862e45-83d4-4972-b545-d3af9829acd5",
   "metadata": {},
   "source": [
    "# import gene tables"
   ]
  },
  {
   "cell_type": "code",
   "execution_count": 11,
   "id": "75a3f44a-669e-426f-9034-47783f9fa84c",
   "metadata": {},
   "outputs": [],
   "source": [
    "stringent_skato=2.5e-7\n",
    "stringent_skat= 2.5e-7\n",
    "stringent_burden=6.7e-7"
   ]
  },
  {
   "cell_type": "code",
   "execution_count": 12,
   "id": "ad243066-77aa-42a3-a5d2-a7461aac66ac",
   "metadata": {},
   "outputs": [],
   "source": [
    "common_datasets=pd.read_csv('common_datasets_prepub.csv',sep=',')\n",
    "rare_datasets=pd.read_csv('rare_datasets_prepub.csv',sep=',')"
   ]
  },
  {
   "cell_type": "markdown",
   "id": "c056a5e9-bdff-47b0-9236-33e8ec1462a3",
   "metadata": {},
   "source": [
    "### common"
   ]
  },
  {
   "cell_type": "code",
   "execution_count": 13,
   "id": "eda85240-5646-4f44-a0bd-715a1991a8f8",
   "metadata": {},
   "outputs": [
    {
     "name": "stdout",
     "output_type": "stream",
     "text": [
      "cutoff not defined/custom- using all genes \n",
      "        GENE  CHR   START    STOP  NSNPS  NPARAM       N    ZSTAT        P  \\\n",
      "0      79501    1   59091   80008      6       3  436159 -0.39952  0.65525   \n",
      "1  100996442    1  131934  184394      5       3  437867  0.23430  0.40738   \n",
      "2  105378947    1  576287  621297      7       4  444770 -0.45845  0.67668   \n",
      "3      81399    1  675716  696654      2       1  405668  0.83144  0.20286   \n",
      "4  105378580    1  793398  815130     71      19  473562  0.52224  0.30075   \n",
      "\n",
      "      GENE_NAME  \n",
      "0         OR4F5  \n",
      "1  LOC100996442  \n",
      "2  LOC105378947  \n",
      "3        OR4F16  \n",
      "4  LOC105378580  \n"
     ]
    }
   ],
   "source": [
    "#read in gene level associations from common variants\n",
    "row_common=common_datasets[common_datasets['label']=='GSCAN_DPW_magma'].index[0]\n",
    "common_genes=import_seedgenes(path=common_datasets['seed_path'][row_common],\n",
    "                pcol=common_datasets['seed_p'][row_common],\n",
    "                gene_col=common_datasets['seed_gene_name'][row_common],\n",
    "                delim=common_datasets['delim'][row_common],\n",
    "                cutoff=None)\n",
    "common_genes_cutoff=0.05/len(common_genes)\n",
    "common_genes['plt']=(common_genes['START']+common_genes['STOP'])/2\n",
    "common_genes_sig=common_genes[common_genes['P']<common_genes_cutoff]"
   ]
  },
  {
   "cell_type": "markdown",
   "id": "a6dbfeca-cd7c-4711-8e3d-9e2a2da86307",
   "metadata": {},
   "source": [
    "### rare"
   ]
  },
  {
   "cell_type": "code",
   "execution_count": 14,
   "id": "dfaa55d0-3eed-49f8-88b9-da25236b90e2",
   "metadata": {},
   "outputs": [
    {
     "data": {
      "text/html": [
       "<div>\n",
       "<style scoped>\n",
       "    .dataframe tbody tr th:only-of-type {\n",
       "        vertical-align: middle;\n",
       "    }\n",
       "\n",
       "    .dataframe tbody tr th {\n",
       "        vertical-align: top;\n",
       "    }\n",
       "\n",
       "    .dataframe thead th {\n",
       "        text-align: right;\n",
       "    }\n",
       "</style>\n",
       "<table border=\"1\" class=\"dataframe\">\n",
       "  <thead>\n",
       "    <tr style=\"text-align: right;\">\n",
       "      <th></th>\n",
       "      <th>Gene Name</th>\n",
       "      <th>Gene Id</th>\n",
       "      <th>P‑Value SKATO</th>\n",
       "      <th>P‑Value Burden</th>\n",
       "      <th>P‑Value SKAT</th>\n",
       "      <th>BETA Burden</th>\n",
       "      <th>Burden Set</th>\n",
       "      <th>Chrom : Position</th>\n",
       "      <th>Chrom</th>\n",
       "      <th>Position</th>\n",
       "    </tr>\n",
       "  </thead>\n",
       "  <tbody>\n",
       "    <tr>\n",
       "      <th>0</th>\n",
       "      <td>PMM2</td>\n",
       "      <td>ENSG00000140650</td>\n",
       "      <td>1.350000e-07</td>\n",
       "      <td>2.370000e-07</td>\n",
       "      <td>0.000003</td>\n",
       "      <td>-0.002303</td>\n",
       "      <td>missense|LC</td>\n",
       "      <td>1.600880e+10</td>\n",
       "      <td>16</td>\n",
       "      <td>8795849.0</td>\n",
       "    </tr>\n",
       "    <tr>\n",
       "      <th>1</th>\n",
       "      <td>SLC29A1</td>\n",
       "      <td>ENSG00000112759</td>\n",
       "      <td>1.143640e-05</td>\n",
       "      <td>2.248690e-05</td>\n",
       "      <td>0.000036</td>\n",
       "      <td>0.002125</td>\n",
       "      <td>missense|LC</td>\n",
       "      <td>6.044220e+09</td>\n",
       "      <td>6</td>\n",
       "      <td>44219628.0</td>\n",
       "    </tr>\n",
       "    <tr>\n",
       "      <th>2</th>\n",
       "      <td>SCN7A</td>\n",
       "      <td>ENSG00000136546</td>\n",
       "      <td>2.273180e-05</td>\n",
       "      <td>5.111642e-02</td>\n",
       "      <td>0.000011</td>\n",
       "      <td>0.000497</td>\n",
       "      <td>missense|LC</td>\n",
       "      <td>2.166406e+09</td>\n",
       "      <td>2</td>\n",
       "      <td>166405531.0</td>\n",
       "    </tr>\n",
       "    <tr>\n",
       "      <th>3</th>\n",
       "      <td>ATP2B1</td>\n",
       "      <td>ENSG00000070961</td>\n",
       "      <td>2.806750e-05</td>\n",
       "      <td>4.360580e-05</td>\n",
       "      <td>0.000238</td>\n",
       "      <td>-0.002661</td>\n",
       "      <td>missense|LC</td>\n",
       "      <td>1.208959e+10</td>\n",
       "      <td>12</td>\n",
       "      <td>89590911.0</td>\n",
       "    </tr>\n",
       "    <tr>\n",
       "      <th>4</th>\n",
       "      <td>MMEL1</td>\n",
       "      <td>ENSG00000142606</td>\n",
       "      <td>3.676450e-05</td>\n",
       "      <td>1.690100e-05</td>\n",
       "      <td>0.002806</td>\n",
       "      <td>0.001404</td>\n",
       "      <td>missense|LC</td>\n",
       "      <td>1.002587e+09</td>\n",
       "      <td>1</td>\n",
       "      <td>2586658.0</td>\n",
       "    </tr>\n",
       "    <tr>\n",
       "      <th>...</th>\n",
       "      <td>...</td>\n",
       "      <td>...</td>\n",
       "      <td>...</td>\n",
       "      <td>...</td>\n",
       "      <td>...</td>\n",
       "      <td>...</td>\n",
       "      <td>...</td>\n",
       "      <td>...</td>\n",
       "      <td>...</td>\n",
       "      <td>...</td>\n",
       "    </tr>\n",
       "    <tr>\n",
       "      <th>56310</th>\n",
       "      <td>AC010197.2</td>\n",
       "      <td>ENSG00000285854</td>\n",
       "      <td>1.000000e+00</td>\n",
       "      <td>8.396620e-01</td>\n",
       "      <td>0.835495</td>\n",
       "      <td>-0.000271</td>\n",
       "      <td>synonymous</td>\n",
       "      <td>1.202153e+10</td>\n",
       "      <td>12</td>\n",
       "      <td>21531210.0</td>\n",
       "    </tr>\n",
       "    <tr>\n",
       "      <th>56311</th>\n",
       "      <td>AC083977.1</td>\n",
       "      <td>ENSG00000286131</td>\n",
       "      <td>1.000000e+00</td>\n",
       "      <td>8.710636e-01</td>\n",
       "      <td>0.982191</td>\n",
       "      <td>-0.000623</td>\n",
       "      <td>synonymous</td>\n",
       "      <td>8.032647e+09</td>\n",
       "      <td>8</td>\n",
       "      <td>32646604.0</td>\n",
       "    </tr>\n",
       "    <tr>\n",
       "      <th>56312</th>\n",
       "      <td>DERPC</td>\n",
       "      <td>ENSG00000286140</td>\n",
       "      <td>1.000000e+00</td>\n",
       "      <td>8.545748e-01</td>\n",
       "      <td>0.803689</td>\n",
       "      <td>-0.000922</td>\n",
       "      <td>synonymous</td>\n",
       "      <td>1.606911e+10</td>\n",
       "      <td>16</td>\n",
       "      <td>69113413.0</td>\n",
       "    </tr>\n",
       "    <tr>\n",
       "      <th>56313</th>\n",
       "      <td>AC022137.3</td>\n",
       "      <td>ENSG00000286261</td>\n",
       "      <td>1.000000e+00</td>\n",
       "      <td>9.306755e-01</td>\n",
       "      <td>0.963149</td>\n",
       "      <td>0.000259</td>\n",
       "      <td>synonymous</td>\n",
       "      <td>1.905344e+10</td>\n",
       "      <td>19</td>\n",
       "      <td>53441833.0</td>\n",
       "    </tr>\n",
       "    <tr>\n",
       "      <th>56314</th>\n",
       "      <td>CDR1</td>\n",
       "      <td>ENSG00000288642</td>\n",
       "      <td>1.000000e+00</td>\n",
       "      <td>8.651322e-01</td>\n",
       "      <td>0.815618</td>\n",
       "      <td>0.000214</td>\n",
       "      <td>synonymous</td>\n",
       "      <td>2.314078e+10</td>\n",
       "      <td>X</td>\n",
       "      <td>140783582.0</td>\n",
       "    </tr>\n",
       "  </tbody>\n",
       "</table>\n",
       "<p>56315 rows × 10 columns</p>\n",
       "</div>"
      ],
      "text/plain": [
       "        Gene Name          Gene Id  P‑Value SKATO  P‑Value Burden  \\\n",
       "0            PMM2  ENSG00000140650   1.350000e-07    2.370000e-07   \n",
       "1         SLC29A1  ENSG00000112759   1.143640e-05    2.248690e-05   \n",
       "2           SCN7A  ENSG00000136546   2.273180e-05    5.111642e-02   \n",
       "3          ATP2B1  ENSG00000070961   2.806750e-05    4.360580e-05   \n",
       "4           MMEL1  ENSG00000142606   3.676450e-05    1.690100e-05   \n",
       "...           ...              ...            ...             ...   \n",
       "56310  AC010197.2  ENSG00000285854   1.000000e+00    8.396620e-01   \n",
       "56311  AC083977.1  ENSG00000286131   1.000000e+00    8.710636e-01   \n",
       "56312       DERPC  ENSG00000286140   1.000000e+00    8.545748e-01   \n",
       "56313  AC022137.3  ENSG00000286261   1.000000e+00    9.306755e-01   \n",
       "56314        CDR1  ENSG00000288642   1.000000e+00    8.651322e-01   \n",
       "\n",
       "       P‑Value SKAT  BETA Burden   Burden Set  Chrom : Position Chrom  \\\n",
       "0          0.000003    -0.002303  missense|LC      1.600880e+10    16   \n",
       "1          0.000036     0.002125  missense|LC      6.044220e+09     6   \n",
       "2          0.000011     0.000497  missense|LC      2.166406e+09     2   \n",
       "3          0.000238    -0.002661  missense|LC      1.208959e+10    12   \n",
       "4          0.002806     0.001404  missense|LC      1.002587e+09     1   \n",
       "...             ...          ...          ...               ...   ...   \n",
       "56310      0.835495    -0.000271   synonymous      1.202153e+10    12   \n",
       "56311      0.982191    -0.000623   synonymous      8.032647e+09     8   \n",
       "56312      0.803689    -0.000922   synonymous      1.606911e+10    16   \n",
       "56313      0.963149     0.000259   synonymous      1.905344e+10    19   \n",
       "56314      0.815618     0.000214   synonymous      2.314078e+10     X   \n",
       "\n",
       "          Position  \n",
       "0        8795849.0  \n",
       "1       44219628.0  \n",
       "2      166405531.0  \n",
       "3       89590911.0  \n",
       "4        2586658.0  \n",
       "...            ...  \n",
       "56310   21531210.0  \n",
       "56311   32646604.0  \n",
       "56312   69113413.0  \n",
       "56313   53441833.0  \n",
       "56314  140783582.0  \n",
       "\n",
       "[56315 rows x 10 columns]"
      ]
     },
     "execution_count": 14,
     "metadata": {},
     "output_type": "execute_result"
    }
   ],
   "source": [
    "#read in gene level associations from rare variants- all genes not just seed genes\n",
    "rare_genes=pd.read_csv('input_files/rare_variant_genebass/alcohol_intake/alcohol_intake_variants_filtered.csv')\n",
    "#rare_genes=rare_genes.reindex()\n",
    "rare_genes"
   ]
  },
  {
   "cell_type": "code",
   "execution_count": 15,
   "id": "06d5edea-ee0e-448a-98ff-ac4319f545b2",
   "metadata": {},
   "outputs": [],
   "source": [
    "#expand rare genes table so each gene list listed individually- for porcupine plot\n",
    "rare_genes['pvals']='Burden:'+rare_genes['P‑Value Burden'].astype('string')+','+'SKATO:'+rare_genes['P‑Value SKATO'].astype('string')+','+'SKAT:'+rare_genes['P‑Value SKAT'].astype('string')\n",
    "rare_genes['pvals']=rare_genes['pvals'].str.split(',')\n",
    "rare_genes_exploded=rare_genes.explode('pvals', ignore_index=True)\n",
    "rare_genes_exploded[['test','pvals']]=rare_genes_exploded['pvals'].str.split(':',expand=True)\n",
    "rare_genes_exploded['pvals']=rare_genes_exploded['pvals'].astype('float')"
   ]
  },
  {
   "cell_type": "code",
   "execution_count": 16,
   "id": "9ec2fe50-879e-4345-b77d-057cd5870f5b",
   "metadata": {},
   "outputs": [],
   "source": [
    "#calculate FDR for cutoffs\n",
    "rare_genes['FDR_SKATO']=statsmodels.stats.multitest.fdrcorrection(rare_genes['P‑Value SKATO'],alpha=0.05,method='indep',is_sorted=False)[1]\n",
    "rare_genes['FDR_SKAT']=statsmodels.stats.multitest.fdrcorrection(rare_genes['P‑Value SKAT'],alpha=0.05,method='indep',is_sorted=False)[1]\n",
    "rare_genes['FDR_burden']=statsmodels.stats.multitest.fdrcorrection(rare_genes['P‑Value Burden'],alpha=0.05,method='indep',is_sorted=False)[1]"
   ]
  },
  {
   "cell_type": "code",
   "execution_count": 17,
   "id": "d2bf9140-24e4-4d75-9e45-cfc594597631",
   "metadata": {},
   "outputs": [],
   "source": [
    "rare['beta_zscore']=stats.zscore(rare['BETA'])\n",
    "common['beta_zscore']=stats.zscore(common['BETA'])\n",
    "#check if any common variants are rare- they arent\n",
    "len(common)- len(common[common['AF_1000G']>0.001])\n",
    "#select only significant genes\n",
    "common_sig=common[common['P']<common_cutoff]"
   ]
  },
  {
   "cell_type": "code",
   "execution_count": 18,
   "id": "de9669a5-e1ec-400e-bbf6-8d6c7b5cc4a5",
   "metadata": {},
   "outputs": [
    {
     "data": {
      "image/png": "[encoded data removed]",
      "text/plain": [
       "<Figure size 360x144 with 1 Axes>"
      ]
     },
     "metadata": {
      "needs_background": "light"
     },
     "output_type": "display_data"
    }
   ],
   "source": [
    "tblr=rare['beta_zscore']\n",
    "tblc=common['beta_zscore']\n",
    "tblr_label='rare variants'\n",
    "tblc_label='common_variants'\n",
    "bins=100\n",
    "\n",
    "ax1=plt\n",
    "ax1.figure(figsize=(5,2))\n",
    "ax1.hist(tblr, bins=bins, alpha=0.7, density=True, label=tblr_label, color=color_dict['rare'], range=(-4,4))\n",
    "ax1.hist(tblc,bins=bins, alpha=0.7, density=True, label=tblc_label, color=color_dict['common'], range=(-4,4))\n",
    "\n",
    "ax1.ylabel(\"density\")\n",
    "ax1.xlabel(\"beta (z)\")\n",
    "if save_figs:\n",
    "    plt.savefig('figures/' + 'betazscore_histogram_variants_long.svg',bbox_inches='tight')"
   ]
  },
  {
   "cell_type": "code",
   "execution_count": 19,
   "id": "4013424b-25f6-4637-bcf0-3e32610819a7",
   "metadata": {},
   "outputs": [
    {
     "name": "stdout",
     "output_type": "stream",
     "text": [
      "variance rare:  0.9999999999999994 variance common:  0.9999999999999991\n",
      "rare over common variance: 1.0000002254122102\n",
      "significance (p-value) of difference between rare and common variance: 0.49911069501371075\n",
      "variance is not significantly different\n"
     ]
    }
   ],
   "source": [
    "#compute the variance of rare vs common \n",
    "print('variance rare: ',np.var(tblr),'variance common: ', np.var(tblc))\n",
    "#test if there's a significant difference in the distributions of common and rare beta values (z-score normalized)\n",
    "\n",
    "f=f_test(tblr, tblc)\n",
    "print(\"rare over common variance: \"+str(f[0]))\n",
    "print(\"significance (p-value) of difference between rare and common variance: \"+str(f[1]))\n",
    "if f[1]<0.05:\n",
    "    print(\"variance is significantly different\")\n",
    "else:\n",
    "    print(\"variance is not significantly different\")"
   ]
  },
  {
   "cell_type": "markdown",
   "id": "2ad80cb2-9758-46cc-8bc8-6c8744f08aa0",
   "metadata": {},
   "source": [
    "# manhattan plot"
   ]
  },
  {
   "cell_type": "markdown",
   "id": "3316b98c-3b5c-4d31-9570-444ef57c45d4",
   "metadata": {},
   "source": [
    "## common variant level manhattan - Fig 1A"
   ]
  },
  {
   "cell_type": "code",
   "execution_count": null,
   "id": "d1f14b20-b29a-46fd-adf1-db7bf5396a5d",
   "metadata": {
    "tags": []
   },
   "outputs": [],
   "source": [
    "fig=plt.figure(figsize=(10,4))\n",
    "manhattan(p1=common['P'],pos1=common['POS'],chr1=common['CHR'],label1='',\n",
    "                    plot_type='single',cut=0,lines=[-np.log10(5e-8)],lines_colors=['red'], colors=[color_dict['common'], color_dict['common_alt']],\n",
    "                    lines_widths = [2], lines_styles = [\"--\"],\n",
    "                   top1=50, markersize=3, plot_grid_lines=False)\n",
    "fig=plt.title('')\n",
    "fig=plt.xticks(rotation='vertical')\n",
    "fig=plt.ylabel('common variant -log10(p)')\n",
    "if save_figs:\n",
    "    plt.savefig('figures/' + 'common_variants'+'_zoom50_5e-8'+'.svg',bbox_inches='tight')\n",
    "    plt.savefig('figures/' + 'common_variants'+'_zoom50_5e-8'+'_500dpi.png',dpi=500,bbox_inches='tight')"
   ]
  },
  {
   "cell_type": "markdown",
   "id": "b9951f62-95da-4355-8533-db742767fb59",
   "metadata": {},
   "source": [
    "## common gene level manhattan- Fig 1C"
   ]
  },
  {
   "cell_type": "code",
   "execution_count": null,
   "id": "8ff34a41-576e-48b6-923d-8f5337080329",
   "metadata": {
    "tags": []
   },
   "outputs": [],
   "source": [
    "fig=plt.figure(figsize=(10,4))\n",
    "#fig, ax=plt.subplots(figsize=(10,4))\n",
    "manhattan(p1=common_genes['P'],pos1=common_genes['plt'],chr1=common_genes['CHR'],label1='',\n",
    "                    plot_type='single',cut=0,lines=[-np.log10(0.05/len(common_genes))],lines_colors=['red'], colors=[color_dict['common'], color_dict['common_alt']],\n",
    "                    lines_widths = [2], lines_styles = [\"--\"],\n",
    "                   top1=-np.log10(min(rare_genes_exploded['pvals'])), markersize=3, plot_grid_lines=False)\n",
    "fig=plt.title('')\n",
    "fig=plt.ylabel('common gene -log10(p)')\n",
    "\n",
    "#commented out- use to turn into miami plot\n",
    "#plt.gca().invert_yaxis()\n",
    "#plt.tick_params(axis='x',labeltop=True, top=True, bottom=False, labelbottom=False)\n",
    "fig=plt.xticks(rotation='vertical')\n",
    "if save_figs:\n",
    "    plt.savefig('figures/' + 'common_genes'+'_zoom35_bonf'+'.svg',bbox_inches='tight')\n",
    "    plt.savefig('figures/' + 'common_genes'+'_zoom35_bonf'+'_500dpi.png',dpi=500,bbox_inches='tight')"
   ]
  },
  {
   "cell_type": "code",
   "execution_count": 48,
   "id": "6759859c-95d5-4a07-ac70-3614e34bdd69",
   "metadata": {},
   "outputs": [],
   "source": [
    "save_figs=True"
   ]
  },
  {
   "cell_type": "code",
   "execution_count": 52,
   "id": "953fabc5-204b-420b-9cd3-2439383294fa",
   "metadata": {
    "tags": []
   },
   "outputs": [
    {
     "data": {
      "image/png": "[encoded data removed]",
      "text/plain": [
       "<Figure size 720x288 with 1 Axes>"
      ]
     },
     "metadata": {
      "needs_background": "light"
     },
     "output_type": "display_data"
    }
   ],
   "source": [
    "fig=plt.figure(figsize=(10,4))\n",
    "#fig, ax=plt.subplots(figsize=(10,4))\n",
    "manhattan(p1=common_genes['P'],pos1=common_genes['plt'],chr1=common_genes['CHR'],label1='',\n",
    "                    plot_type='single',cut=0,lines=[-np.log10(0.05/len(common_genes))],lines_colors=['red'], colors=[color_dict['common'], color_dict['common_alt']],\n",
    "                    lines_widths = [2], lines_styles = [\"--\"],\n",
    "                   top1=-np.log10(min(rare_genes_exploded['pvals'])), markersize=6, plot_grid_lines=False)\n",
    "fig=plt.title('')\n",
    "fig=plt.ylabel('common gene -log10(p)')\n",
    "\n",
    "#commented out- use to turn into miami plot\n",
    "#plt.gca().invert_yaxis()\n",
    "#plt.tick_params(axis='x',labeltop=True, top=True, bottom=False, labelbottom=False)\n",
    "fig=plt.xticks(rotation='vertical')\n",
    "if save_figs:\n",
    "    plt.savefig('figures/' + 'common_genes'+'_abstract'+'_500dpi.png',dpi=500,bbox_inches='tight')"
   ]
  },
  {
   "cell_type": "code",
   "execution_count": 51,
   "id": "c9402371-6cb4-4b62-b267-2acb84538929",
   "metadata": {
    "tags": []
   },
   "outputs": [
    {
     "data": {
      "image/png": "[encoded data removed]",
      "text/plain": [
       "<Figure size 720x288 with 1 Axes>"
      ]
     },
     "metadata": {
      "needs_background": "light"
     },
     "output_type": "display_data"
    }
   ],
   "source": [
    "fig=plt.figure(figsize=(10,4))\n",
    "#fig, ax=plt.subplots(figsize=(10,4))\n",
    "manhattan(p1=rare_genes_exploded['pvals'],pos1=rare_genes_exploded['Position'],chr1=rare_genes_exploded['Chrom'],label1='',\n",
    "                    plot_type='single',cut=0,lines=[-np.log10((FDR_burden_25))],lines_colors=['red'], colors=[color_dict['rare'], color_dict['rare_alt']],\n",
    "                    lines_widths = [2], lines_styles = [\"--\"],\n",
    "                   top1=12, markersize=6, plot_grid_lines=False)\n",
    "fig=plt.title('')\n",
    "fig=plt.ylabel('common gene -log10(p)')\n",
    "\n",
    "#commented out- use to turn into miami plot\n",
    "#plt.gca().invert_yaxis()\n",
    "#plt.tick_params(axis='x',labeltop=True, top=True, bottom=False, labelbottom=False)\n",
    "fig=plt.xticks(rotation='vertical')\n",
    "if save_figs:\n",
    "    plt.savefig('figures/' + 'rare_genes'+'_abstract'+'_500dpi.png',dpi=500,bbox_inches='tight')"
   ]
  },
  {
   "cell_type": "markdown",
   "id": "d042604a-c216-4293-b8ab-c2dd6741f700",
   "metadata": {},
   "source": [
    "## rare variant manhattan- Fig 1B"
   ]
  },
  {
   "cell_type": "code",
   "execution_count": null,
   "id": "e68f6d34-1834-4345-a549-754cf22e6ed8",
   "metadata": {
    "scrolled": true,
    "tags": []
   },
   "outputs": [],
   "source": [
    "fig=plt.figure(figsize=(10,4))\n",
    "manhattan(p1=rare['Pvalue'],pos1=rare['POS'],chr1=rare['CHR'],label1='',\n",
    "                    plot_type='single',cut=0,lines=[-np.log10(8e-9)],lines_colors=['red'], colors=[color_dict['rare'], color_dict['rare_alt']],\n",
    "                    lines_widths = [2], lines_styles = [\"--\"],\n",
    "                   top1=10, markersize=3, plot_grid_lines=False)\n",
    "\n",
    "fig1=plt.title('')\n",
    "fig1=plt.xticks(rotation='vertical')\n",
    "fig1=plt.ylabel('rare variant -log10(p)')\n",
    "if save_figs:\n",
    "    plt.savefig('figures/' + 'rare_variants'+'_bonf'+'_10_short.svg',bbox_inches='tight')\n",
    "    plt.savefig('figures/' + 'rare_variants'+'_bonf'+'_10_short_500dpi.png',dpi=500,bbox_inches='tight')"
   ]
  },
  {
   "cell_type": "markdown",
   "id": "d0beb303-181a-4d9c-92ea-4012c9ca8cfc",
   "metadata": {},
   "source": [
    "## rare gene single-test manhattan- Fig S2A"
   ]
  },
  {
   "cell_type": "code",
   "execution_count": null,
   "id": "ca639582-7018-4a95-985f-23ec3472a8ea",
   "metadata": {},
   "outputs": [],
   "source": [
    "rare_cutoff_dict={'SKAT':2.7e-5,\n",
    "'SKAT-O':1.5e-4,\n",
    "'burden':1.1e-4}\n",
    "test_col={'SKAT':'P‑Value SKAT',\n",
    "'SKAT-O':'P‑Value SKATO',\n",
    "'burden':'P‑Value Burden'\n",
    "}\n",
    "\n",
    "for k in rare_cutoff_dict.keys():\n",
    "    fig=plt.figure(figsize=(7.5,2))\n",
    "    manhattan(p1=rare_genes[test_col[k]],pos1=rare_genes['Position'],chr1=rare_genes['Chrom'],label1='',\n",
    "                plot_type='single',cut=0,lines=[-np.log10(rare_cutoff_dict[k])],lines_colors=[color_dict[k]], colors=[color_dict['rare'], color_dict['rare_alt']],\n",
    "                lines_widths = [1],lines_styles = [\"--\"],\n",
    "               top1=0, markersize=3, plot_grid_lines=False)\n",
    "    if k=='burden':\n",
    "        lab='Burden -log10(p)'\n",
    "    else:\n",
    "        lab=k+' -log10(p)'\n",
    "    fig=plt.title('')\n",
    "    fig=plt.ylabel(lab)\n",
    "    fig=plt.xticks(rotation='vertical')   \n",
    "    if save_figs:\n",
    "        plt.savefig('figures/' + 'rare_genes_'+k+'.svg',bbox_inches='tight')\n",
    "        plt.savefig('figures/' + 'rare_genes_'+k+'_500dpi.png',dpi=500,bbox_inches='tight')"
   ]
  },
  {
   "cell_type": "markdown",
   "id": "ac3b4cbb-5978-4f52-8fb0-35a67f821e1d",
   "metadata": {},
   "source": [
    "## porcupine plot rare genes (all 3 tests)- Fig 1D"
   ]
  },
  {
   "cell_type": "code",
   "execution_count": 22,
   "id": "89a296dc-58fc-415a-a1b4-394cc776c5b2",
   "metadata": {},
   "outputs": [],
   "source": [
    "FDR_skato_25=min(rare_genes[(rare_genes['FDR_SKATO']>=0.25)]['P‑Value SKATO'])\n",
    "FDR_skat_25=min(rare_genes[(rare_genes['FDR_SKAT']>=0.25)]['P‑Value SKAT'])\n",
    "FDR_burden_25=min(rare_genes[(rare_genes['FDR_burden']>=0.25)]['P‑Value Burden'])"
   ]
  },
  {
   "cell_type": "code",
   "execution_count": null,
   "id": "0da9e5d0-cb3d-48b7-9e0f-df6f8e28a9b0",
   "metadata": {},
   "outputs": [],
   "source": [
    "fig=plt.figure(figsize=(10,4))\n",
    "#fig, ax=plt.subplots(figsize=(10,4))\n",
    "\n",
    "porcupine(p1=rare_genes_exploded['pvals'],test1=rare_genes_exploded['test'],\n",
    "          pos1=rare_genes_exploded['Position'],\n",
    "          chr1=rare_genes_exploded['Chrom'],label1='',\n",
    "          cut_SKATO=FDR_skato_25, cut_SKAT=FDR_skat_25, cut_burden=FDR_burden_25,  \n",
    "          cut=0,lines=[0],lines_colors=['Black'], colors=[color_dict['rare'], color_dict['rare_alt']],\n",
    "          lines_widths = [2],top1=0, markersize=3, plot_grid_lines=False)\n",
    "fig=plt.title('')\n",
    "fig=plt.ylabel('rare gene -log10(p)')\n",
    "#plt.gca().invert_yaxis()\n",
    "#plt.tick_params(axis='x',labeltop=True, top=True, bottom=False, labelbottom=False)\n",
    "fig=plt.xticks(rotation='vertical')\n",
    "#plt.savefig('figures/' + 'invert_rare_genes'+'_bonf_all'+'.svg',bbox_inches='tight')\n",
    "#plt.savefig('figures/' + 'invert_rare_genes'+'_bonf_all'+'_500dpi.png',dpi=500,bbox_inches='tight')\n",
    "if save_figs:\n",
    "    plt.savefig('figures/' + 'rare_genes'+'_FDR_25'+'_short.svg',bbox_inches='tight')\n",
    "    plt.savefig('figures/' + 'rare_genes'+'_FDR_25'+'_short_500dpi.png',dpi=500,bbox_inches='tight')"
   ]
  },
  {
   "cell_type": "code",
   "execution_count": 38,
   "id": "c3652339-02df-45d5-8749-50a330774b6d",
   "metadata": {},
   "outputs": [
    {
     "name": "stdout",
     "output_type": "stream",
     "text": [
      "inf\n",
      "inf\n",
      "inf\n"
     ]
    },
    {
     "data": {
      "image/png": "[encoded data removed]",
      "text/plain": [
       "<Figure size 720x288 with 1 Axes>"
      ]
     },
     "metadata": {
      "needs_background": "light"
     },
     "output_type": "display_data"
    }
   ],
   "source": [
    "fig=plt.figure(figsize=(10,4))\n",
    "#fig, ax=plt.subplots(figsize=(10,4))\n",
    "\n",
    "porcupine(p1=rare_genes_exploded['pvals'],test1=rare_genes_exploded['test'],\n",
    "          pos1=rare_genes_exploded['Position'],\n",
    "          chr1=rare_genes_exploded['Chrom'],label1='',\n",
    "          cut_SKATO=0, cut_SKAT=0, cut_burden=0,  \n",
    "          cut=0,lines=[-np.log10(FDR_burden_25)],lines_colors=['red'], colors=[color_dict['rare'], color_dict['rare_alt']],\n",
    "          lines_widths = [2],lines_styles = [\"--\"],top1=0, markersize=6, plot_grid_lines=False)\n",
    "fig=plt.title('')\n",
    "fig=plt.ylabel('rare gene -log10(p)')\n",
    "#plt.gca().invert_yaxis()\n",
    "#plt.tick_params(axis='x',labeltop=True, top=True, bottom=False, labelbottom=False)\n",
    "fig=plt.xticks(rotation='vertical')\n",
    "#plt.savefig('figures/' + 'invert_rare_genes'+'_bonf_all'+'.svg',bbox_inches='tight')\n",
    "#plt.savefig('figures/' + 'invert_rare_genes'+'_bonf_all'+'_500dpi.png',dpi=500,bbox_inches='tight')\n",
    "if save_figs:\n",
    "    plt.savefig('figures/' + 'rare_genes'+'_FDR_25'+'_short.svg',bbox_inches='tight')\n",
    "    plt.savefig('figures/' + 'rare_genes'+'_FDR_25'+'_short_500dpi.png',dpi=500,bbox_inches='tight')"
   ]
  },
  {
   "cell_type": "markdown",
   "id": "cf339b29-8135-40da-8527-e95d9bf4d67e",
   "metadata": {
    "tags": []
   },
   "source": [
    "# rare genes stacked barplots- Fig S2C"
   ]
  },
  {
   "cell_type": "code",
   "execution_count": null,
   "id": "72a61303-a048-49d1-aa48-2923ae6a0205",
   "metadata": {},
   "outputs": [],
   "source": [
    "#subset tables for only genes that pass significance thresholds\n",
    "rgenes_fdr25=rare_genes[(rare_genes['FDR_burden']<0.25)|\n",
    "           (rare_genes['FDR_SKAT']<0.25)|\n",
    "           (rare_genes['FDR_SKATO']<.25)]\n",
    "rgenes_bonf=rare_genes[(rare_genes['P‑Value SKATO']<0.05/len(rare_genes))|\n",
    "           (rare_genes['P‑Value SKAT']<0.05/len(rare_genes))|\n",
    "           (rare_genes['P‑Value Burden']<0.05/len(rare_genes))]\n",
    "#define dictionary of rare genes by test \n",
    "rare_gene_test={\n",
    "    'misLC':list(set(rgenes_fdr25[rgenes_fdr25['Burden Set']=='missense|LC']['Gene Name'])),\n",
    "'misLC_strin':list(set(rgenes_bonf[rgenes_bonf['Burden Set']=='missense|LC']['Gene Name'])),\n",
    "'pLoF':list(set(rgenes_fdr25[rgenes_fdr25['Burden Set']=='pLoF']['Gene Name'])),\n",
    "'pLoF_strin':list(set(rgenes_bonf[rgenes_bonf['Burden Set']=='pLoF']['Gene Name'])),\n",
    "'syn':list(set(rgenes_fdr25[rgenes_fdr25['Burden Set']=='synonymous']['Gene Name'])),\n",
    "'syn_strin':list(set(rgenes_bonf[rgenes_bonf['Burden Set']=='synonymous']['Gene Name']))}"
   ]
  },
  {
   "cell_type": "code",
   "execution_count": null,
   "id": "6bbcca23-62ce-4168-a392-db5bfb4d0b93",
   "metadata": {},
   "outputs": [],
   "source": [
    "data=('predicted LoF','missense|LC','synonymous')\n",
    "gene_counts = {\n",
    "    \"stringent\": np.array([len(rare_gene_test['pLoF_strin']), len(rare_gene_test['misLC_strin']), len(rare_gene_test['syn_strin'])]),\n",
    "    \"lenient\": np.array([len(rare_gene_test['pLoF']), len(rare_gene_test['misLC']), len(rare_gene_test['syn'])])\n",
    "}\n",
    "\n",
    "fig, ax = plt.subplots(figsize=(3, 3))\n",
    "# Stacked bar chart\n",
    "ax.bar(data, list(gene_counts['stringent']),\n",
    "       color=[color_dict['pLoF_alt'],color_dict['misLC_alt'],color_dict['syn_alt']], edgecolor=\"black\")\n",
    "ax.bar(data, list(gene_counts['lenient']), bottom = list(gene_counts['stringent']),  \n",
    "      color=([color_dict['pLoF'],color_dict['misLC'],color_dict['syn']]), edgecolor=\"black\")\n",
    "plt.yticks([2,4,6,8,10,12,14,16,18, 20, 22])\n",
    "plt.xticks(rotation='vertical')\n",
    "plt.ylabel(\"rare genes (n)\")\n",
    "if save_figs:\n",
    "    plt.savefig('figures/' + 'rare_genes_'+'stacked'+'_barplot.svg',bbox_inches='tight')\n"
   ]
  },
  {
   "cell_type": "markdown",
   "id": "46ace879-2f2b-44ff-9dfd-fd209ebca644",
   "metadata": {},
   "source": [
    "# rare genes venn diagram by test- Fig S2B"
   ]
  },
  {
   "cell_type": "code",
   "execution_count": null,
   "id": "692ea800-abf2-4735-8c18-23f48737f43e",
   "metadata": {},
   "outputs": [],
   "source": [
    "b=set(rgenes_fdr25[rgenes_fdr25['FDR_burden']<0.25]['Gene Name'])\n",
    "sk=set(rgenes_fdr25[rgenes_fdr25['FDR_SKATO']<0.25]['Gene Name'])\n",
    "s=set(rgenes_fdr25[rgenes_fdr25['FDR_SKAT']<0.25]['Gene Name'])"
   ]
  },
  {
   "cell_type": "code",
   "execution_count": null,
   "id": "67eaf9c0-763e-4773-b624-5987b89c941c",
   "metadata": {},
   "outputs": [],
   "source": [
    "venn_rare_test(sk,b,s,['SKAT-O','Burden','SKAT'],[color_dict['SKAT-O'],color_dict['burden'],color_dict['SKAT']])"
   ]
  }
 ],
 "metadata": {
  "kernelspec": {
   "display_name": "Python 3 (ipykernel)",
   "language": "python",
   "name": "python3"
  },
  "language_info": {
   "codemirror_mode": {
    "name": "ipython",
    "version": 3
   },
   "file_extension": ".py",
   "mimetype": "text/x-python",
   "name": "python",
   "nbconvert_exporter": "python",
   "pygments_lexer": "ipython3",
   "version": "3.9.12"
  },
  "toc-showcode": false,
  "toc-showmarkdowntxt": false,
  "toc-showtags": false
 },
 "nbformat": 4,
 "nbformat_minor": 5
}
