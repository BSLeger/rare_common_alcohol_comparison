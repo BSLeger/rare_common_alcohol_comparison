{
 "cells": [
  {
   "cell_type": "markdown",
   "id": "0bd52859-e24a-46f0-bc17-43ac4bf496c6",
   "metadata": {},
   "source": [
    "# purpose and use notes"
   ]
  },
  {
   "cell_type": "markdown",
   "id": "3975a6e8-2200-44e5-8a25-5f7adeeaba3f",
   "metadata": {},
   "source": [
    "purpose: generates NPS scores for traits used in this paper. If overwrite_file==TRUE, the network propagation scores will be overwritten with the newly generated scores. This will affect all downstream analyses.\n",
    "\n",
    "runs network propagation (typically in pcnet v1.4) from seed genes saved in a file- accessed from meta data csv. if rerun==TRUE, then network propagation scores will be recalculated."
   ]
  },
  {
   "cell_type": "markdown",
   "id": "e3d4187a-cb0a-4ff0-b74a-e050dac374fb",
   "metadata": {},
   "source": [
    "# setup"
   ]
  },
  {
   "cell_type": "code",
   "execution_count": 1,
   "id": "4e75e497-9c62-4faf-b7f6-6a8a6c1295c2",
   "metadata": {
    "tags": []
   },
   "outputs": [],
   "source": [
    "#read in libraries\n",
    "from rca_functions import *\n",
    "import os\n",
    "import numpy as np\n",
    "import pandas as pd\n",
    "import matplotlib.pyplot as plt\n",
    "import scipy.stats as stats\n",
    "import matplotlib\n",
    "from matplotlib_venn import venn2 \n",
    "from scipy.stats import hypergeom\n",
    "import statsmodels.stats.multitest\n",
    "import rca_functions\n",
    "import ndex2\n",
    "import networkx as nx\n",
    "from netcoloc import netprop_zscore\n",
    "from netcoloc import netprop\n",
    "from netcoloc import network_colocalization\n",
    "import sys"
   ]
  },
  {
   "cell_type": "code",
   "execution_count": 2,
   "id": "d0581bc2-3a97-4a64-8b19-f00944305444",
   "metadata": {
    "tags": []
   },
   "outputs": [],
   "source": [
    "os.chdir('../')"
   ]
  },
  {
   "cell_type": "code",
   "execution_count": 3,
   "id": "bc8d9246-7903-4005-b411-3210a3c4e41c",
   "metadata": {},
   "outputs": [
    {
     "data": {
      "text/plain": [
       "'/tscc/projects/ps-palmer/brittany/rare_common_alcohol_comparison'"
      ]
     },
     "execution_count": 3,
     "metadata": {},
     "output_type": "execute_result"
    }
   ],
   "source": [
    "os.getcwd()"
   ]
  },
  {
   "cell_type": "markdown",
   "id": "04865e63-c410-489d-a506-709b248d0e02",
   "metadata": {},
   "source": [
    "# Interactome Set-up"
   ]
  },
  {
   "cell_type": "code",
   "execution_count": 4,
   "id": "b88fe08d-6e66-4a9d-a3b9-468520ae06ac",
   "metadata": {},
   "outputs": [
    {
     "name": "stdout",
     "output_type": "stream",
     "text": [
      "NDEx credentials imported from meta file\n"
     ]
    }
   ],
   "source": [
    "#create a file called environ_ndex_meta.py where you save variables 'ndex_user' and 'ndex_password'\n",
    "#otherwise will prompt you to define those within the notebooks\n",
    "if os.path.isfile('../environ_ndex_meta.py'):\n",
    "    print ('NDEx credentials imported from meta file')\n",
    "    sys.path.insert(1, '../')\n",
    "    from environ_ndex_meta import *\n",
    "    sys.path.pop(1)\n",
    "else:\n",
    "    # Prompt the user for a username\n",
    "    ndex_user = input(\"Enter your NDEx username: \")\n",
    "    # Prompt the user for a password\n",
    "    ndex_password = input(\"Enter your NDEx password: \")"
   ]
  },
  {
   "cell_type": "code",
   "execution_count": 5,
   "id": "7e2c526a-f5fc-4956-a504-4d293021582a",
   "metadata": {},
   "outputs": [
    {
     "data": {
      "text/plain": [
       "'/tscc/projects/ps-palmer/brittany/rare_common_alcohol_comparison'"
      ]
     },
     "execution_count": 5,
     "metadata": {},
     "output_type": "execute_result"
    }
   ],
   "source": [
    "os.getcwd()"
   ]
  },
  {
   "cell_type": "code",
   "execution_count": 6,
   "id": "60560dc2-45e2-4420-ab9d-50651a1b56f2",
   "metadata": {},
   "outputs": [],
   "source": [
    "interactome_name='pcnet_v14'"
   ]
  },
  {
   "cell_type": "code",
   "execution_count": 7,
   "id": "88c3d0c0-9554-43fa-8ab1-d3a435da3abe",
   "metadata": {},
   "outputs": [
    {
     "name": "stdout",
     "output_type": "stream",
     "text": [
      "pcnet_v14\n",
      "number of nodes:\n",
      "18630\n",
      "\n",
      "number of edges:\n",
      "2687393\n"
     ]
    }
   ],
   "source": [
    "interactome=import_interactome(interactome_name)"
   ]
  },
  {
   "cell_type": "code",
   "execution_count": 8,
   "id": "dd34ffa4-d161-46d5-9b2c-b1646ef31aba",
   "metadata": {},
   "outputs": [
    {
     "name": "stdout",
     "output_type": "stream",
     "text": [
      "\n",
      "calculating w_prime\n",
      "\n",
      "calculating w_double_prime\n"
     ]
    }
   ],
   "source": [
    "# pre calculate the matricies used for network propagation\n",
    "print('\\ncalculating w_prime')\n",
    "w_prime = netprop.get_normalized_adjacency_matrix(interactome, conserve_heat=True)\n",
    "\n",
    "print('\\ncalculating w_double_prime')\n",
    "w_double_prime = netprop.get_individual_heats_matrix(w_prime, .5)"
   ]
  },
  {
   "cell_type": "code",
   "execution_count": 9,
   "id": "6a7df614-842b-4118-8b20-e0c390672c40",
   "metadata": {},
   "outputs": [
    {
     "data": {
      "text/plain": [
       "array([[5.00505179e-01, 4.74520511e-04, 9.79187768e-04, ...,\n",
       "        1.05985691e-05, 5.33902865e-06, 5.32808702e-06],\n",
       "       [7.86945862e-04, 5.00358784e-01, 7.44330387e-04, ...,\n",
       "        7.28164864e-05, 2.11532107e-06, 9.52339521e-06],\n",
       "       [1.07359981e-03, 4.92098827e-04, 5.00535331e-01, ...,\n",
       "        1.18362017e-05, 5.38897524e-06, 4.46898669e-06],\n",
       "       ...,\n",
       "       [5.83943202e-08, 2.41915237e-07, 5.94784005e-08, ...,\n",
       "        5.00134933e-01, 3.65652715e-08, 1.97560360e-08],\n",
       "       [1.47080679e-08, 3.51382238e-09, 1.35401388e-08, ...,\n",
       "        1.82826358e-08, 5.01153008e-01, 3.71865669e-08],\n",
       "       [1.46779257e-08, 1.58195934e-08, 1.12286098e-08, ...,\n",
       "        9.87801802e-09, 3.71865669e-08, 5.00197359e-01]])"
      ]
     },
     "execution_count": 9,
     "metadata": {},
     "output_type": "execute_result"
    }
   ],
   "source": [
    "w_double_prime"
   ]
  },
  {
   "cell_type": "markdown",
   "id": "2284a152-d28b-4000-834b-01fe0811aa98",
   "metadata": {
    "tags": []
   },
   "source": [
    "# common gene data analysis"
   ]
  },
  {
   "cell_type": "code",
   "execution_count": 10,
   "id": "72d8418f-592d-4964-ab3f-5946538f34ca",
   "metadata": {},
   "outputs": [],
   "source": [
    "datasets=pd.read_csv('common_datasets_prepub.csv',sep=',')"
   ]
  },
  {
   "cell_type": "code",
   "execution_count": 11,
   "id": "815cd90b-895f-46ce-be4f-5b2a46c0e4b6",
   "metadata": {},
   "outputs": [
    {
     "data": {
      "text/html": [
       "<div>\n",
       "<style scoped>\n",
       "    .dataframe tbody tr th:only-of-type {\n",
       "        vertical-align: middle;\n",
       "    }\n",
       "\n",
       "    .dataframe tbody tr th {\n",
       "        vertical-align: top;\n",
       "    }\n",
       "\n",
       "    .dataframe thead th {\n",
       "        text-align: right;\n",
       "    }\n",
       "</style>\n",
       "<table border=\"1\" class=\"dataframe\">\n",
       "  <thead>\n",
       "    <tr style=\"text-align: right;\">\n",
       "      <th></th>\n",
       "      <th>group</th>\n",
       "      <th>snp2gene_method</th>\n",
       "      <th>label</th>\n",
       "      <th>phenotype_group</th>\n",
       "      <th>seed_path</th>\n",
       "      <th>delim</th>\n",
       "      <th>zscore_file</th>\n",
       "      <th>zscore_path</th>\n",
       "      <th>seed_p</th>\n",
       "      <th>seed_gene_name</th>\n",
       "      <th>description</th>\n",
       "      <th>cutoff</th>\n",
       "    </tr>\n",
       "  </thead>\n",
       "  <tbody>\n",
       "    <tr>\n",
       "      <th>0</th>\n",
       "      <td>GSCAN_DPW</td>\n",
       "      <td>magma</td>\n",
       "      <td>GSCAN_DPW_magma</td>\n",
       "      <td>alcohol</td>\n",
       "      <td>GSCAN_DPW/GSCAN_DPW_magma_results.csv</td>\n",
       "      <td>comma</td>\n",
       "      <td>gscan_dpw_magma_zscore.tsv</td>\n",
       "      <td>network_scores/gscan_dpw_magma_zscore.tsv</td>\n",
       "      <td>P</td>\n",
       "      <td>GENE_NAME</td>\n",
       "      <td>drinks_per_week_gscan</td>\n",
       "      <td>bonferroni</td>\n",
       "    </tr>\n",
       "    <tr>\n",
       "      <th>1</th>\n",
       "      <td>neale_20153_irnt</td>\n",
       "      <td>magma</td>\n",
       "      <td>neale_20153_irnt_magma</td>\n",
       "      <td>control</td>\n",
       "      <td>neale_ctrl/20153_gscan_dpw_magma_zscore.tsv</td>\n",
       "      <td>neale_20153_magma_zscore.tsv</td>\n",
       "      <td>network_scores/neale_20153_magma_zscore.tsv</td>\n",
       "      <td>P</td>\n",
       "      <td>SYMBOL</td>\n",
       "      <td>FEV1</td>\n",
       "      <td>bonferroni</td>\n",
       "      <td>NaN</td>\n",
       "    </tr>\n",
       "    <tr>\n",
       "      <th>2</th>\n",
       "      <td>neale_30110_irnt</td>\n",
       "      <td>magma</td>\n",
       "      <td>neale_30110_irnt_magma</td>\n",
       "      <td>control</td>\n",
       "      <td>neale_ctrl/30110_gscan_dpw_magma_zscore.tsv</td>\n",
       "      <td>tab</td>\n",
       "      <td>neale_30110_magma_zscore.tsv</td>\n",
       "      <td>network_scores/neale_30110_magma_zscore.tsv</td>\n",
       "      <td>P</td>\n",
       "      <td>SYMBOL</td>\n",
       "      <td>platelet_width</td>\n",
       "      <td>bonferroni</td>\n",
       "    </tr>\n",
       "    <tr>\n",
       "      <th>3</th>\n",
       "      <td>neale_3148_irnt</td>\n",
       "      <td>magma</td>\n",
       "      <td>neale_3148_irnt_magma</td>\n",
       "      <td>control</td>\n",
       "      <td>neale_ctrl/3148_gscan_dpw_magma_zscore.tsv</td>\n",
       "      <td>tab</td>\n",
       "      <td>neale_3148_irnt_magma_zscore.tsv</td>\n",
       "      <td>network_scores/neale_3148_irnt_magma_zscore.tsv</td>\n",
       "      <td>P</td>\n",
       "      <td>SYMBOL</td>\n",
       "      <td>heel_bone_density</td>\n",
       "      <td>bonferroni</td>\n",
       "    </tr>\n",
       "    <tr>\n",
       "      <th>4</th>\n",
       "      <td>neale_4104_irnt</td>\n",
       "      <td>magma</td>\n",
       "      <td>neale_4104_irnt_magma</td>\n",
       "      <td>control</td>\n",
       "      <td>neale_ctrl/4104_gscan_dpw_magma_zscore.tsv</td>\n",
       "      <td>tab</td>\n",
       "      <td>neale_4104_irnt_magma_zscore.tsv</td>\n",
       "      <td>network_scores/neale_4104_irnt_magma_zscore.tsv</td>\n",
       "      <td>P</td>\n",
       "      <td>SYMBOL</td>\n",
       "      <td>heel_bone_density</td>\n",
       "      <td>bonferroni</td>\n",
       "    </tr>\n",
       "  </tbody>\n",
       "</table>\n",
       "</div>"
      ],
      "text/plain": [
       "              group snp2gene_method                   label phenotype_group  \\\n",
       "0         GSCAN_DPW           magma         GSCAN_DPW_magma         alcohol   \n",
       "1  neale_20153_irnt           magma  neale_20153_irnt_magma         control   \n",
       "2  neale_30110_irnt           magma  neale_30110_irnt_magma         control   \n",
       "3   neale_3148_irnt           magma   neale_3148_irnt_magma         control   \n",
       "4   neale_4104_irnt           magma   neale_4104_irnt_magma         control   \n",
       "\n",
       "                                     seed_path                         delim  \\\n",
       "0        GSCAN_DPW/GSCAN_DPW_magma_results.csv                         comma   \n",
       "1  neale_ctrl/20153_gscan_dpw_magma_zscore.tsv  neale_20153_magma_zscore.tsv   \n",
       "2  neale_ctrl/30110_gscan_dpw_magma_zscore.tsv                           tab   \n",
       "3   neale_ctrl/3148_gscan_dpw_magma_zscore.tsv                           tab   \n",
       "4   neale_ctrl/4104_gscan_dpw_magma_zscore.tsv                           tab   \n",
       "\n",
       "                                   zscore_file  \\\n",
       "0                   gscan_dpw_magma_zscore.tsv   \n",
       "1  network_scores/neale_20153_magma_zscore.tsv   \n",
       "2                 neale_30110_magma_zscore.tsv   \n",
       "3             neale_3148_irnt_magma_zscore.tsv   \n",
       "4             neale_4104_irnt_magma_zscore.tsv   \n",
       "\n",
       "                                       zscore_path  seed_p seed_gene_name  \\\n",
       "0        network_scores/gscan_dpw_magma_zscore.tsv       P      GENE_NAME   \n",
       "1                                                P  SYMBOL           FEV1   \n",
       "2      network_scores/neale_30110_magma_zscore.tsv       P         SYMBOL   \n",
       "3  network_scores/neale_3148_irnt_magma_zscore.tsv       P         SYMBOL   \n",
       "4  network_scores/neale_4104_irnt_magma_zscore.tsv       P         SYMBOL   \n",
       "\n",
       "             description      cutoff  \n",
       "0  drinks_per_week_gscan  bonferroni  \n",
       "1             bonferroni         NaN  \n",
       "2         platelet_width  bonferroni  \n",
       "3      heel_bone_density  bonferroni  \n",
       "4      heel_bone_density  bonferroni  "
      ]
     },
     "execution_count": 11,
     "metadata": {},
     "output_type": "execute_result"
    }
   ],
   "source": [
    "datasets"
   ]
  },
  {
   "cell_type": "code",
   "execution_count": 12,
   "id": "f2d80ed6-3eb9-4da1-befe-de72b5512aab",
   "metadata": {},
   "outputs": [],
   "source": [
    "row_common=0"
   ]
  },
  {
   "cell_type": "code",
   "execution_count": 34,
   "id": "90c72716-90cd-4cfc-bcc8-b24eb46cbc65",
   "metadata": {
    "scrolled": true
   },
   "outputs": [
    {
     "name": "stdout",
     "output_type": "stream",
     "text": [
      "processing GSCAN_DPW_magma\n",
      "cutoff not defined/custom- using all genes \n",
      "        GENE  CHR   START    STOP  NSNPS  NPARAM       N    ZSTAT        P  \\\n",
      "0      79501    1   59091   80008      6       3  436159 -0.39952  0.65525   \n",
      "1  100996442    1  131934  184394      5       3  437867  0.23430  0.40738   \n",
      "2  105378947    1  576287  621297      7       4  444770 -0.45845  0.67668   \n",
      "3      81399    1  675716  696654      2       1  405668  0.83144  0.20286   \n",
      "4  105378580    1  793398  815130     71      19  473562  0.52224  0.30075   \n",
      "\n",
      "      GENE_NAME  \n",
      "0         OR4F5  \n",
      "1  LOC100996442  \n",
      "2  LOC105378947  \n",
      "3        OR4F16  \n",
      "4  LOC105378580  \n",
      "using provided w_double_prime - please ensure that w_double_prime aligns to graph provided\n"
     ]
    },
    {
     "ename": "TypeError",
     "evalue": "tuple indices must be integers or slices, not tuple",
     "output_type": "error",
     "traceback": [
      "\u001b[0;31m---------------------------------------------------------------------------\u001b[0m",
      "\u001b[0;31mTypeError\u001b[0m                                 Traceback (most recent call last)",
      "Input \u001b[0;32mIn [34]\u001b[0m, in \u001b[0;36m<cell line: 1>\u001b[0;34m()\u001b[0m\n\u001b[1;32m      1\u001b[0m \u001b[38;5;28;01mfor\u001b[39;00m row_common \u001b[38;5;129;01min\u001b[39;00m \u001b[38;5;28mrange\u001b[39m(\u001b[38;5;28mlen\u001b[39m(datasets)):\n\u001b[1;32m      2\u001b[0m     \u001b[38;5;28mprint\u001b[39m(\u001b[38;5;124m'\u001b[39m\u001b[38;5;124mprocessing \u001b[39m\u001b[38;5;124m'\u001b[39m\u001b[38;5;241m+\u001b[39mdatasets[\u001b[38;5;124m'\u001b[39m\u001b[38;5;124mlabel\u001b[39m\u001b[38;5;124m'\u001b[39m][row_common])\n\u001b[0;32m----> 3\u001b[0m     NPSc\u001b[38;5;241m=\u001b[39m\u001b[43mrun_net_prop\u001b[49m\u001b[43m(\u001b[49m\u001b[43mpath\u001b[49m\u001b[38;5;241;43m=\u001b[39;49m\u001b[38;5;124;43m'\u001b[39;49m\u001b[38;5;124;43minput_files/\u001b[39;49m\u001b[38;5;124;43m'\u001b[39;49m\u001b[38;5;241;43m+\u001b[39;49m\u001b[43mdatasets\u001b[49m\u001b[43m[\u001b[49m\u001b[38;5;124;43m'\u001b[39;49m\u001b[38;5;124;43mseed_path\u001b[39;49m\u001b[38;5;124;43m'\u001b[39;49m\u001b[43m]\u001b[49m\u001b[43m[\u001b[49m\u001b[43mrow_common\u001b[49m\u001b[43m]\u001b[49m\u001b[43m,\u001b[49m\u001b[43m \u001b[49m\n\u001b[1;32m      4\u001b[0m \u001b[43m                 \u001b[49m\u001b[43mtrait_name\u001b[49m\u001b[38;5;241;43m=\u001b[39;49m\u001b[43mdatasets\u001b[49m\u001b[43m[\u001b[49m\u001b[38;5;124;43m'\u001b[39;49m\u001b[38;5;124;43mlabel\u001b[39;49m\u001b[38;5;124;43m'\u001b[39;49m\u001b[43m]\u001b[49m\u001b[43m[\u001b[49m\u001b[43mrow_common\u001b[49m\u001b[43m]\u001b[49m\u001b[43m,\u001b[49m\n\u001b[1;32m      5\u001b[0m \u001b[43m                 \u001b[49m\u001b[43mpcol\u001b[49m\u001b[38;5;241;43m=\u001b[39;49m\u001b[43mdatasets\u001b[49m\u001b[43m[\u001b[49m\u001b[38;5;124;43m'\u001b[39;49m\u001b[38;5;124;43mseed_p\u001b[39;49m\u001b[38;5;124;43m'\u001b[39;49m\u001b[43m]\u001b[49m\u001b[43m[\u001b[49m\u001b[43mrow_common\u001b[49m\u001b[43m]\u001b[49m\u001b[43m,\u001b[49m\n\u001b[1;32m      6\u001b[0m \u001b[43m                 \u001b[49m\u001b[43mgene_col\u001b[49m\u001b[38;5;241;43m=\u001b[39;49m\u001b[43mdatasets\u001b[49m\u001b[43m[\u001b[49m\u001b[38;5;124;43m'\u001b[39;49m\u001b[38;5;124;43mseed_gene_name\u001b[39;49m\u001b[38;5;124;43m'\u001b[39;49m\u001b[43m]\u001b[49m\u001b[43m[\u001b[49m\u001b[43mrow_common\u001b[49m\u001b[43m]\u001b[49m\u001b[43m,\u001b[49m\n\u001b[1;32m      7\u001b[0m \u001b[43m                 \u001b[49m\u001b[43mdelim\u001b[49m\u001b[38;5;241;43m=\u001b[39;49m\u001b[43mdatasets\u001b[49m\u001b[43m[\u001b[49m\u001b[38;5;124;43m'\u001b[39;49m\u001b[38;5;124;43mdelim\u001b[39;49m\u001b[38;5;124;43m'\u001b[39;49m\u001b[43m]\u001b[49m\u001b[43m[\u001b[49m\u001b[43mrow_common\u001b[49m\u001b[43m]\u001b[49m\u001b[43m,\u001b[49m\n\u001b[1;32m      8\u001b[0m \u001b[43m                 \u001b[49m\u001b[43mcutoff\u001b[49m\u001b[38;5;241;43m=\u001b[39;49m\u001b[43mdatasets\u001b[49m\u001b[43m[\u001b[49m\u001b[38;5;124;43m'\u001b[39;49m\u001b[38;5;124;43mcutoff\u001b[39;49m\u001b[38;5;124;43m'\u001b[39;49m\u001b[43m]\u001b[49m\u001b[43m[\u001b[49m\u001b[43mrow_common\u001b[49m\u001b[43m]\u001b[49m\u001b[43m,\u001b[49m\n\u001b[1;32m      9\u001b[0m \u001b[43m                 \u001b[49m\u001b[43mgraph\u001b[49m\u001b[38;5;241;43m=\u001b[39;49m\u001b[43mG_PC\u001b[49m\u001b[43m,\u001b[49m\n\u001b[1;32m     10\u001b[0m \u001b[43m                 \u001b[49m\u001b[43minteractome\u001b[49m\u001b[38;5;241;43m=\u001b[39;49m\u001b[38;5;124;43m'\u001b[39;49m\u001b[38;5;124;43mpcnet_v14\u001b[39;49m\u001b[38;5;124;43m'\u001b[39;49m\u001b[43m,\u001b[49m\n\u001b[1;32m     11\u001b[0m \u001b[43m                 \u001b[49m\u001b[43mw_double_prime\u001b[49m\u001b[38;5;241;43m=\u001b[39;49m\u001b[43mw_double_prime\u001b[49m\u001b[43m,\u001b[49m\u001b[43m \u001b[49m\n\u001b[1;32m     12\u001b[0m \u001b[43m                 \u001b[49m\u001b[43msavefile\u001b[49m\u001b[38;5;241;43m=\u001b[39;49m\u001b[38;5;28;43;01mFalse\u001b[39;49;00m\u001b[43m)\u001b[49m    \n\u001b[1;32m     13\u001b[0m     \u001b[38;5;28mprint\u001b[39m(NPSc\u001b[38;5;241m.\u001b[39mhead)\n",
      "File \u001b[0;32m/tscc/projects/ps-palmer/brittany/rare_common_alcohol_comparison/notebooks/rca_functions.py:328\u001b[0m, in \u001b[0;36mrun_net_prop\u001b[0;34m(path, trait_name, pcol, gene_col, delim, cutoff, graph, w_double_prime, interactome, ndex_user, ndex_password, savefile)\u001b[0m\n\u001b[1;32m    325\u001b[0m data \u001b[38;5;241m=\u001b[39m \u001b[38;5;28mlist\u001b[39m(\u001b[38;5;28mset\u001b[39m(data)\u001b[38;5;241m.\u001b[39mintersection(graph_nodes))\n\u001b[1;32m    326\u001b[0m \u001b[38;5;66;03m#print(data)\u001b[39;00m\n\u001b[1;32m    327\u001b[0m \u001b[38;5;66;03m##calculate heats\u001b[39;00m\n\u001b[0;32m--> 328\u001b[0m z_score, Fnew_score, Fnew_rand_score \u001b[38;5;241m=\u001b[39m \u001b[43mnetprop_zscore\u001b[49m\u001b[38;5;241;43m.\u001b[39;49m\u001b[43mcalculate_heat_zscores\u001b[49m\u001b[43m(\u001b[49m\n\u001b[1;32m    329\u001b[0m \u001b[43m    \u001b[49m\u001b[43mw_double_prime\u001b[49m\u001b[43m,\u001b[49m\u001b[43m  \u001b[49m\n\u001b[1;32m    330\u001b[0m \u001b[43m    \u001b[49m\u001b[43mgraph_nodes\u001b[49m\u001b[43m,\u001b[49m\n\u001b[1;32m    331\u001b[0m \u001b[43m    \u001b[49m\u001b[38;5;28;43mdict\u001b[39;49m\u001b[43m(\u001b[49m\u001b[43mgraph\u001b[49m\u001b[38;5;241;43m.\u001b[39;49m\u001b[43mdegree\u001b[49m\u001b[43m)\u001b[49m\u001b[43m,\u001b[49m\u001b[43m \u001b[49m\n\u001b[1;32m    332\u001b[0m \u001b[43m    \u001b[49m\u001b[43mdata\u001b[49m\u001b[43m,\u001b[49m\u001b[43m \u001b[49m\u001b[43mnum_reps\u001b[49m\u001b[38;5;241;43m=\u001b[39;49m\u001b[38;5;241;43m1000\u001b[39;49m\u001b[43m,\u001b[49m\n\u001b[1;32m    333\u001b[0m \u001b[43m    \u001b[49m\u001b[43mminimum_bin_size\u001b[49m\u001b[38;5;241;43m=\u001b[39;49m\u001b[38;5;241;43m100\u001b[39;49m\n\u001b[1;32m    334\u001b[0m \u001b[43m\u001b[49m\u001b[43m)\u001b[49m\n\u001b[1;32m    335\u001b[0m \u001b[38;5;28;01mif\u001b[39;00m savefile:\n\u001b[1;32m    336\u001b[0m     export_path \u001b[38;5;241m=\u001b[39m \u001b[38;5;124m'\u001b[39m\u001b[38;5;124mcalculated_values/network_scores/\u001b[39m\u001b[38;5;124m'\u001b[39m\n",
      "File \u001b[0;32m~/miniconda3/envs/env-std-py38/lib/python3.8/site-packages/netcoloc/netprop_zscore.py:231\u001b[0m, in \u001b[0;36mcalculate_heat_zscores\u001b[0;34m(individual_heats_matrix, nodes, degrees, seed_genes, num_reps, alpha, minimum_bin_size, random_seed)\u001b[0m\n\u001b[1;32m    229\u001b[0m \u001b[38;5;66;03m# Calculate network propagation results given gene set\u001b[39;00m\n\u001b[1;32m    230\u001b[0m seed_genes \u001b[38;5;241m=\u001b[39m \u001b[38;5;28mlist\u001b[39m(np\u001b[38;5;241m.\u001b[39mintersect1d(nodes, seed_genes))\n\u001b[0;32m--> 231\u001b[0m final_heat \u001b[38;5;241m=\u001b[39m \u001b[43mnetwork_propagation\u001b[49m\u001b[43m(\u001b[49m\u001b[43mindividual_heats_matrix\u001b[49m\u001b[43m,\u001b[49m\u001b[43m \u001b[49m\u001b[43mnodes\u001b[49m\u001b[43m,\u001b[49m\u001b[43m \u001b[49m\u001b[43mseed_genes\u001b[49m\u001b[43m)\u001b[49m\n\u001b[1;32m    233\u001b[0m \u001b[38;5;66;03m# Initialize empty matrix for results of random network propagations\u001b[39;00m\n\u001b[1;32m    234\u001b[0m random_final_heats \u001b[38;5;241m=\u001b[39m np\u001b[38;5;241m.\u001b[39mzeros([num_reps, \u001b[38;5;28mlen\u001b[39m(final_heat)])\n",
      "File \u001b[0;32m~/miniconda3/envs/env-std-py38/lib/python3.8/site-packages/netcoloc/netprop.py:203\u001b[0m, in \u001b[0;36mnetwork_propagation\u001b[0;34m(individual_heats_matrix, nodes, seed_genes)\u001b[0m\n\u001b[1;32m    200\u001b[0m \u001b[38;5;66;03m# Add up resulting heats from each gene in seed genes set\u001b[39;00m\n\u001b[1;32m    201\u001b[0m \u001b[38;5;28;01mfor\u001b[39;00m gene \u001b[38;5;129;01min\u001b[39;00m seed_genes:\n\u001b[1;32m    202\u001b[0m     \u001b[38;5;66;03m# TODO check that this is the correct orientation\u001b[39;00m\n\u001b[0;32m--> 203\u001b[0m     F \u001b[38;5;241m+\u001b[39m\u001b[38;5;241m=\u001b[39m \u001b[43mindividual_heats_matrix\u001b[49m\u001b[43m[\u001b[49m\u001b[43m:\u001b[49m\u001b[43m,\u001b[49m\u001b[43mnodes\u001b[49m\u001b[38;5;241;43m.\u001b[39;49m\u001b[43mindex\u001b[49m\u001b[43m(\u001b[49m\u001b[43mgene\u001b[49m\u001b[43m)\u001b[49m\u001b[43m]\u001b[49m\n\u001b[1;32m    205\u001b[0m \u001b[38;5;66;03m# Normalize results by number of seed genes\u001b[39;00m\n\u001b[1;32m    206\u001b[0m F \u001b[38;5;241m/\u001b[39m\u001b[38;5;241m=\u001b[39m \u001b[38;5;28mlen\u001b[39m(seed_genes)\n",
      "\u001b[0;31mTypeError\u001b[0m: tuple indices must be integers or slices, not tuple"
     ]
    }
   ],
   "source": [
    "for row_common in range(len(datasets)):\n",
    "    print('processing '+datasets['label'][row_common])\n",
    "    NPSc=run_net_prop(path='input_files/'+datasets['seed_path'][row_common], \n",
    "                 trait_name=datasets['label'][row_common],\n",
    "                 pcol=datasets['seed_p'][row_common],\n",
    "                 gene_col=datasets['seed_gene_name'][row_common],\n",
    "                 delim=datasets['delim'][row_common],\n",
    "                 cutoff=datasets['cutoff'][row_common],\n",
    "                 graph=interactome,\n",
    "                 interactome='pcnet_v14',\n",
    "                 w_double_prime=w_double_prime, \n",
    "                 savefile=False)    \n",
    "    print(NPSc.head)"
   ]
  },
  {
   "cell_type": "code",
   "execution_count": 20,
   "id": "85e06068-7e45-426d-a624-4571066e3837",
   "metadata": {},
   "outputs": [
    {
     "data": {
      "text/plain": [
       "'/tscc/projects/ps-palmer/brittany/rare_common_alcohol_comparison'"
      ]
     },
     "execution_count": 20,
     "metadata": {},
     "output_type": "execute_result"
    }
   ],
   "source": [
    "os.getcwd()"
   ]
  },
  {
   "cell_type": "code",
   "execution_count": 26,
   "id": "94fbcd8f-df69-4561-ab57-409c3fc6953c",
   "metadata": {},
   "outputs": [],
   "source": [
    "def import_seedgenes(path,pcol='P',gene_col='GENE NAME',delim='comma', cutoff=None):\n",
    "    if delim=='comma':\n",
    "        df=pd.read_csv(path,sep=',')\n",
    "    else:\n",
    "        df=pd.read_csv(path,sep='\\t')\n",
    "    if pcol==None:\n",
    "        print('pvalue column not specified- all genes will be used')\n",
    "        cutoff=None\n",
    "    if cutoff=='bonferroni':\n",
    "        df=df[df[pcol]<0.05/len(df)]\n",
    "    elif cutoff=='FDR':\n",
    "        df['pval_FDR']=statsmodels.stats.multitest.fdrcorrection(df[pcol],alpha=0.05,method='indep',is_sorted=False)[1]\n",
    "        df=df[df['pval_FDR']<0.05]\n",
    "    else:\n",
    "        print('cutoff not defined/custom- using all genes ')\n",
    "        df=df\n",
    "    print(df.head())\n",
    "    #gene_ls=list(set(df[gene_col]))\n",
    "    #return(gene_ls)\n",
    "    return(df)"
   ]
  },
  {
   "cell_type": "code",
   "execution_count": 24,
   "id": "8d7a40bc-38fb-45c7-91df-20e1bc20df18",
   "metadata": {},
   "outputs": [],
   "source": [
    "path='input_files/'+datasets['seed_path'][row_common], \n",
    "trait_name=datasets['label'][row_common],\n",
    "pcol=datasets['seed_p'][row_common],\n",
    "gene_col=datasets['seed_gene_name'][row_common],\n",
    "delim=datasets['delim'][row_common],\n",
    "cutoff=datasets['cutoff'][row_common],\n",
    "graph=interactome,\n",
    "interactome='pcnet_v14',\n",
    "w_double_prime=w_double_prime, \n",
    "savefile=False"
   ]
  },
  {
   "cell_type": "code",
   "execution_count": 27,
   "id": "6eadb043-1d73-45a3-bdd5-220ab8f3e6e3",
   "metadata": {},
   "outputs": [
    {
     "ename": "ValueError",
     "evalue": "Invalid file path or buffer object type: <class 'tuple'>",
     "output_type": "error",
     "traceback": [
      "\u001b[0;31m---------------------------------------------------------------------------\u001b[0m",
      "\u001b[0;31mValueError\u001b[0m                                Traceback (most recent call last)",
      "Input \u001b[0;32mIn [27]\u001b[0m, in \u001b[0;36m<cell line: 1>\u001b[0;34m()\u001b[0m\n\u001b[0;32m----> 1\u001b[0m \u001b[43mimport_seedgenes\u001b[49m\u001b[43m(\u001b[49m\u001b[43mpath\u001b[49m\u001b[43m,\u001b[49m\u001b[43m \u001b[49m\u001b[43mpcol\u001b[49m\u001b[43m,\u001b[49m\u001b[43m \u001b[49m\u001b[43mgene_col\u001b[49m\u001b[43m,\u001b[49m\u001b[43m \u001b[49m\u001b[43mdelim\u001b[49m\u001b[43m)\u001b[49m\n",
      "Input \u001b[0;32mIn [26]\u001b[0m, in \u001b[0;36mimport_seedgenes\u001b[0;34m(path, pcol, gene_col, delim, cutoff)\u001b[0m\n\u001b[1;32m      3\u001b[0m     df\u001b[38;5;241m=\u001b[39mpd\u001b[38;5;241m.\u001b[39mread_csv(path,sep\u001b[38;5;241m=\u001b[39m\u001b[38;5;124m'\u001b[39m\u001b[38;5;124m,\u001b[39m\u001b[38;5;124m'\u001b[39m)\n\u001b[1;32m      4\u001b[0m \u001b[38;5;28;01melse\u001b[39;00m:\n\u001b[0;32m----> 5\u001b[0m     df\u001b[38;5;241m=\u001b[39m\u001b[43mpd\u001b[49m\u001b[38;5;241;43m.\u001b[39;49m\u001b[43mread_csv\u001b[49m\u001b[43m(\u001b[49m\u001b[43mpath\u001b[49m\u001b[43m,\u001b[49m\u001b[43msep\u001b[49m\u001b[38;5;241;43m=\u001b[39;49m\u001b[38;5;124;43m'\u001b[39;49m\u001b[38;5;130;43;01m\\t\u001b[39;49;00m\u001b[38;5;124;43m'\u001b[39;49m\u001b[43m)\u001b[49m\n\u001b[1;32m      6\u001b[0m \u001b[38;5;28;01mif\u001b[39;00m pcol\u001b[38;5;241m==\u001b[39m\u001b[38;5;28;01mNone\u001b[39;00m:\n\u001b[1;32m      7\u001b[0m     \u001b[38;5;28mprint\u001b[39m(\u001b[38;5;124m'\u001b[39m\u001b[38;5;124mpvalue column not specified- all genes will be used\u001b[39m\u001b[38;5;124m'\u001b[39m)\n",
      "File \u001b[0;32m~/miniconda3/envs/env-std-py38/lib/python3.8/site-packages/pandas/util/_decorators.py:211\u001b[0m, in \u001b[0;36mdeprecate_kwarg.<locals>._deprecate_kwarg.<locals>.wrapper\u001b[0;34m(*args, **kwargs)\u001b[0m\n\u001b[1;32m    209\u001b[0m     \u001b[38;5;28;01melse\u001b[39;00m:\n\u001b[1;32m    210\u001b[0m         kwargs[new_arg_name] \u001b[38;5;241m=\u001b[39m new_arg_value\n\u001b[0;32m--> 211\u001b[0m \u001b[38;5;28;01mreturn\u001b[39;00m \u001b[43mfunc\u001b[49m\u001b[43m(\u001b[49m\u001b[38;5;241;43m*\u001b[39;49m\u001b[43margs\u001b[49m\u001b[43m,\u001b[49m\u001b[43m \u001b[49m\u001b[38;5;241;43m*\u001b[39;49m\u001b[38;5;241;43m*\u001b[39;49m\u001b[43mkwargs\u001b[49m\u001b[43m)\u001b[49m\n",
      "File \u001b[0;32m~/miniconda3/envs/env-std-py38/lib/python3.8/site-packages/pandas/util/_decorators.py:331\u001b[0m, in \u001b[0;36mdeprecate_nonkeyword_arguments.<locals>.decorate.<locals>.wrapper\u001b[0;34m(*args, **kwargs)\u001b[0m\n\u001b[1;32m    325\u001b[0m \u001b[38;5;28;01mif\u001b[39;00m \u001b[38;5;28mlen\u001b[39m(args) \u001b[38;5;241m>\u001b[39m num_allow_args:\n\u001b[1;32m    326\u001b[0m     warnings\u001b[38;5;241m.\u001b[39mwarn(\n\u001b[1;32m    327\u001b[0m         msg\u001b[38;5;241m.\u001b[39mformat(arguments\u001b[38;5;241m=\u001b[39m_format_argument_list(allow_args)),\n\u001b[1;32m    328\u001b[0m         \u001b[38;5;167;01mFutureWarning\u001b[39;00m,\n\u001b[1;32m    329\u001b[0m         stacklevel\u001b[38;5;241m=\u001b[39mfind_stack_level(),\n\u001b[1;32m    330\u001b[0m     )\n\u001b[0;32m--> 331\u001b[0m \u001b[38;5;28;01mreturn\u001b[39;00m \u001b[43mfunc\u001b[49m\u001b[43m(\u001b[49m\u001b[38;5;241;43m*\u001b[39;49m\u001b[43margs\u001b[49m\u001b[43m,\u001b[49m\u001b[43m \u001b[49m\u001b[38;5;241;43m*\u001b[39;49m\u001b[38;5;241;43m*\u001b[39;49m\u001b[43mkwargs\u001b[49m\u001b[43m)\u001b[49m\n",
      "File \u001b[0;32m~/miniconda3/envs/env-std-py38/lib/python3.8/site-packages/pandas/io/parsers/readers.py:950\u001b[0m, in \u001b[0;36mread_csv\u001b[0;34m(filepath_or_buffer, sep, delimiter, header, names, index_col, usecols, squeeze, prefix, mangle_dupe_cols, dtype, engine, converters, true_values, false_values, skipinitialspace, skiprows, skipfooter, nrows, na_values, keep_default_na, na_filter, verbose, skip_blank_lines, parse_dates, infer_datetime_format, keep_date_col, date_parser, dayfirst, cache_dates, iterator, chunksize, compression, thousands, decimal, lineterminator, quotechar, quoting, doublequote, escapechar, comment, encoding, encoding_errors, dialect, error_bad_lines, warn_bad_lines, on_bad_lines, delim_whitespace, low_memory, memory_map, float_precision, storage_options)\u001b[0m\n\u001b[1;32m    935\u001b[0m kwds_defaults \u001b[38;5;241m=\u001b[39m _refine_defaults_read(\n\u001b[1;32m    936\u001b[0m     dialect,\n\u001b[1;32m    937\u001b[0m     delimiter,\n\u001b[0;32m   (...)\u001b[0m\n\u001b[1;32m    946\u001b[0m     defaults\u001b[38;5;241m=\u001b[39m{\u001b[38;5;124m\"\u001b[39m\u001b[38;5;124mdelimiter\u001b[39m\u001b[38;5;124m\"\u001b[39m: \u001b[38;5;124m\"\u001b[39m\u001b[38;5;124m,\u001b[39m\u001b[38;5;124m\"\u001b[39m},\n\u001b[1;32m    947\u001b[0m )\n\u001b[1;32m    948\u001b[0m kwds\u001b[38;5;241m.\u001b[39mupdate(kwds_defaults)\n\u001b[0;32m--> 950\u001b[0m \u001b[38;5;28;01mreturn\u001b[39;00m \u001b[43m_read\u001b[49m\u001b[43m(\u001b[49m\u001b[43mfilepath_or_buffer\u001b[49m\u001b[43m,\u001b[49m\u001b[43m \u001b[49m\u001b[43mkwds\u001b[49m\u001b[43m)\u001b[49m\n",
      "File \u001b[0;32m~/miniconda3/envs/env-std-py38/lib/python3.8/site-packages/pandas/io/parsers/readers.py:605\u001b[0m, in \u001b[0;36m_read\u001b[0;34m(filepath_or_buffer, kwds)\u001b[0m\n\u001b[1;32m    602\u001b[0m _validate_names(kwds\u001b[38;5;241m.\u001b[39mget(\u001b[38;5;124m\"\u001b[39m\u001b[38;5;124mnames\u001b[39m\u001b[38;5;124m\"\u001b[39m, \u001b[38;5;28;01mNone\u001b[39;00m))\n\u001b[1;32m    604\u001b[0m \u001b[38;5;66;03m# Create the parser.\u001b[39;00m\n\u001b[0;32m--> 605\u001b[0m parser \u001b[38;5;241m=\u001b[39m \u001b[43mTextFileReader\u001b[49m\u001b[43m(\u001b[49m\u001b[43mfilepath_or_buffer\u001b[49m\u001b[43m,\u001b[49m\u001b[43m \u001b[49m\u001b[38;5;241;43m*\u001b[39;49m\u001b[38;5;241;43m*\u001b[39;49m\u001b[43mkwds\u001b[49m\u001b[43m)\u001b[49m\n\u001b[1;32m    607\u001b[0m \u001b[38;5;28;01mif\u001b[39;00m chunksize \u001b[38;5;129;01mor\u001b[39;00m iterator:\n\u001b[1;32m    608\u001b[0m     \u001b[38;5;28;01mreturn\u001b[39;00m parser\n",
      "File \u001b[0;32m~/miniconda3/envs/env-std-py38/lib/python3.8/site-packages/pandas/io/parsers/readers.py:1442\u001b[0m, in \u001b[0;36mTextFileReader.__init__\u001b[0;34m(self, f, engine, **kwds)\u001b[0m\n\u001b[1;32m   1439\u001b[0m     \u001b[38;5;28mself\u001b[39m\u001b[38;5;241m.\u001b[39moptions[\u001b[38;5;124m\"\u001b[39m\u001b[38;5;124mhas_index_names\u001b[39m\u001b[38;5;124m\"\u001b[39m] \u001b[38;5;241m=\u001b[39m kwds[\u001b[38;5;124m\"\u001b[39m\u001b[38;5;124mhas_index_names\u001b[39m\u001b[38;5;124m\"\u001b[39m]\n\u001b[1;32m   1441\u001b[0m \u001b[38;5;28mself\u001b[39m\u001b[38;5;241m.\u001b[39mhandles: IOHandles \u001b[38;5;241m|\u001b[39m \u001b[38;5;28;01mNone\u001b[39;00m \u001b[38;5;241m=\u001b[39m \u001b[38;5;28;01mNone\u001b[39;00m\n\u001b[0;32m-> 1442\u001b[0m \u001b[38;5;28mself\u001b[39m\u001b[38;5;241m.\u001b[39m_engine \u001b[38;5;241m=\u001b[39m \u001b[38;5;28;43mself\u001b[39;49m\u001b[38;5;241;43m.\u001b[39;49m\u001b[43m_make_engine\u001b[49m\u001b[43m(\u001b[49m\u001b[43mf\u001b[49m\u001b[43m,\u001b[49m\u001b[43m \u001b[49m\u001b[38;5;28;43mself\u001b[39;49m\u001b[38;5;241;43m.\u001b[39;49m\u001b[43mengine\u001b[49m\u001b[43m)\u001b[49m\n",
      "File \u001b[0;32m~/miniconda3/envs/env-std-py38/lib/python3.8/site-packages/pandas/io/parsers/readers.py:1735\u001b[0m, in \u001b[0;36mTextFileReader._make_engine\u001b[0;34m(self, f, engine)\u001b[0m\n\u001b[1;32m   1733\u001b[0m     \u001b[38;5;28;01mif\u001b[39;00m \u001b[38;5;124m\"\u001b[39m\u001b[38;5;124mb\u001b[39m\u001b[38;5;124m\"\u001b[39m \u001b[38;5;129;01mnot\u001b[39;00m \u001b[38;5;129;01min\u001b[39;00m mode:\n\u001b[1;32m   1734\u001b[0m         mode \u001b[38;5;241m+\u001b[39m\u001b[38;5;241m=\u001b[39m \u001b[38;5;124m\"\u001b[39m\u001b[38;5;124mb\u001b[39m\u001b[38;5;124m\"\u001b[39m\n\u001b[0;32m-> 1735\u001b[0m \u001b[38;5;28mself\u001b[39m\u001b[38;5;241m.\u001b[39mhandles \u001b[38;5;241m=\u001b[39m \u001b[43mget_handle\u001b[49m\u001b[43m(\u001b[49m\n\u001b[1;32m   1736\u001b[0m \u001b[43m    \u001b[49m\u001b[43mf\u001b[49m\u001b[43m,\u001b[49m\n\u001b[1;32m   1737\u001b[0m \u001b[43m    \u001b[49m\u001b[43mmode\u001b[49m\u001b[43m,\u001b[49m\n\u001b[1;32m   1738\u001b[0m \u001b[43m    \u001b[49m\u001b[43mencoding\u001b[49m\u001b[38;5;241;43m=\u001b[39;49m\u001b[38;5;28;43mself\u001b[39;49m\u001b[38;5;241;43m.\u001b[39;49m\u001b[43moptions\u001b[49m\u001b[38;5;241;43m.\u001b[39;49m\u001b[43mget\u001b[49m\u001b[43m(\u001b[49m\u001b[38;5;124;43m\"\u001b[39;49m\u001b[38;5;124;43mencoding\u001b[39;49m\u001b[38;5;124;43m\"\u001b[39;49m\u001b[43m,\u001b[49m\u001b[43m \u001b[49m\u001b[38;5;28;43;01mNone\u001b[39;49;00m\u001b[43m)\u001b[49m\u001b[43m,\u001b[49m\n\u001b[1;32m   1739\u001b[0m \u001b[43m    \u001b[49m\u001b[43mcompression\u001b[49m\u001b[38;5;241;43m=\u001b[39;49m\u001b[38;5;28;43mself\u001b[39;49m\u001b[38;5;241;43m.\u001b[39;49m\u001b[43moptions\u001b[49m\u001b[38;5;241;43m.\u001b[39;49m\u001b[43mget\u001b[49m\u001b[43m(\u001b[49m\u001b[38;5;124;43m\"\u001b[39;49m\u001b[38;5;124;43mcompression\u001b[39;49m\u001b[38;5;124;43m\"\u001b[39;49m\u001b[43m,\u001b[49m\u001b[43m \u001b[49m\u001b[38;5;28;43;01mNone\u001b[39;49;00m\u001b[43m)\u001b[49m\u001b[43m,\u001b[49m\n\u001b[1;32m   1740\u001b[0m \u001b[43m    \u001b[49m\u001b[43mmemory_map\u001b[49m\u001b[38;5;241;43m=\u001b[39;49m\u001b[38;5;28;43mself\u001b[39;49m\u001b[38;5;241;43m.\u001b[39;49m\u001b[43moptions\u001b[49m\u001b[38;5;241;43m.\u001b[39;49m\u001b[43mget\u001b[49m\u001b[43m(\u001b[49m\u001b[38;5;124;43m\"\u001b[39;49m\u001b[38;5;124;43mmemory_map\u001b[39;49m\u001b[38;5;124;43m\"\u001b[39;49m\u001b[43m,\u001b[49m\u001b[43m \u001b[49m\u001b[38;5;28;43;01mFalse\u001b[39;49;00m\u001b[43m)\u001b[49m\u001b[43m,\u001b[49m\n\u001b[1;32m   1741\u001b[0m \u001b[43m    \u001b[49m\u001b[43mis_text\u001b[49m\u001b[38;5;241;43m=\u001b[39;49m\u001b[43mis_text\u001b[49m\u001b[43m,\u001b[49m\n\u001b[1;32m   1742\u001b[0m \u001b[43m    \u001b[49m\u001b[43merrors\u001b[49m\u001b[38;5;241;43m=\u001b[39;49m\u001b[38;5;28;43mself\u001b[39;49m\u001b[38;5;241;43m.\u001b[39;49m\u001b[43moptions\u001b[49m\u001b[38;5;241;43m.\u001b[39;49m\u001b[43mget\u001b[49m\u001b[43m(\u001b[49m\u001b[38;5;124;43m\"\u001b[39;49m\u001b[38;5;124;43mencoding_errors\u001b[39;49m\u001b[38;5;124;43m\"\u001b[39;49m\u001b[43m,\u001b[49m\u001b[43m \u001b[49m\u001b[38;5;124;43m\"\u001b[39;49m\u001b[38;5;124;43mstrict\u001b[39;49m\u001b[38;5;124;43m\"\u001b[39;49m\u001b[43m)\u001b[49m\u001b[43m,\u001b[49m\n\u001b[1;32m   1743\u001b[0m \u001b[43m    \u001b[49m\u001b[43mstorage_options\u001b[49m\u001b[38;5;241;43m=\u001b[39;49m\u001b[38;5;28;43mself\u001b[39;49m\u001b[38;5;241;43m.\u001b[39;49m\u001b[43moptions\u001b[49m\u001b[38;5;241;43m.\u001b[39;49m\u001b[43mget\u001b[49m\u001b[43m(\u001b[49m\u001b[38;5;124;43m\"\u001b[39;49m\u001b[38;5;124;43mstorage_options\u001b[39;49m\u001b[38;5;124;43m\"\u001b[39;49m\u001b[43m,\u001b[49m\u001b[43m \u001b[49m\u001b[38;5;28;43;01mNone\u001b[39;49;00m\u001b[43m)\u001b[49m\u001b[43m,\u001b[49m\n\u001b[1;32m   1744\u001b[0m \u001b[43m\u001b[49m\u001b[43m)\u001b[49m\n\u001b[1;32m   1745\u001b[0m \u001b[38;5;28;01massert\u001b[39;00m \u001b[38;5;28mself\u001b[39m\u001b[38;5;241m.\u001b[39mhandles \u001b[38;5;129;01mis\u001b[39;00m \u001b[38;5;129;01mnot\u001b[39;00m \u001b[38;5;28;01mNone\u001b[39;00m\n\u001b[1;32m   1746\u001b[0m f \u001b[38;5;241m=\u001b[39m \u001b[38;5;28mself\u001b[39m\u001b[38;5;241m.\u001b[39mhandles\u001b[38;5;241m.\u001b[39mhandle\n",
      "File \u001b[0;32m~/miniconda3/envs/env-std-py38/lib/python3.8/site-packages/pandas/io/common.py:713\u001b[0m, in \u001b[0;36mget_handle\u001b[0;34m(path_or_buf, mode, encoding, compression, memory_map, is_text, errors, storage_options)\u001b[0m\n\u001b[1;32m    710\u001b[0m     codecs\u001b[38;5;241m.\u001b[39mlookup_error(errors)\n\u001b[1;32m    712\u001b[0m \u001b[38;5;66;03m# open URLs\u001b[39;00m\n\u001b[0;32m--> 713\u001b[0m ioargs \u001b[38;5;241m=\u001b[39m \u001b[43m_get_filepath_or_buffer\u001b[49m\u001b[43m(\u001b[49m\n\u001b[1;32m    714\u001b[0m \u001b[43m    \u001b[49m\u001b[43mpath_or_buf\u001b[49m\u001b[43m,\u001b[49m\n\u001b[1;32m    715\u001b[0m \u001b[43m    \u001b[49m\u001b[43mencoding\u001b[49m\u001b[38;5;241;43m=\u001b[39;49m\u001b[43mencoding\u001b[49m\u001b[43m,\u001b[49m\n\u001b[1;32m    716\u001b[0m \u001b[43m    \u001b[49m\u001b[43mcompression\u001b[49m\u001b[38;5;241;43m=\u001b[39;49m\u001b[43mcompression\u001b[49m\u001b[43m,\u001b[49m\n\u001b[1;32m    717\u001b[0m \u001b[43m    \u001b[49m\u001b[43mmode\u001b[49m\u001b[38;5;241;43m=\u001b[39;49m\u001b[43mmode\u001b[49m\u001b[43m,\u001b[49m\n\u001b[1;32m    718\u001b[0m \u001b[43m    \u001b[49m\u001b[43mstorage_options\u001b[49m\u001b[38;5;241;43m=\u001b[39;49m\u001b[43mstorage_options\u001b[49m\u001b[43m,\u001b[49m\n\u001b[1;32m    719\u001b[0m \u001b[43m\u001b[49m\u001b[43m)\u001b[49m\n\u001b[1;32m    721\u001b[0m handle \u001b[38;5;241m=\u001b[39m ioargs\u001b[38;5;241m.\u001b[39mfilepath_or_buffer\n\u001b[1;32m    722\u001b[0m handles: \u001b[38;5;28mlist\u001b[39m[BaseBuffer]\n",
      "File \u001b[0;32m~/miniconda3/envs/env-std-py38/lib/python3.8/site-packages/pandas/io/common.py:451\u001b[0m, in \u001b[0;36m_get_filepath_or_buffer\u001b[0;34m(filepath_or_buffer, encoding, compression, mode, storage_options)\u001b[0m\n\u001b[1;32m    447\u001b[0m \u001b[38;5;28;01mif\u001b[39;00m \u001b[38;5;129;01mnot\u001b[39;00m (\n\u001b[1;32m    448\u001b[0m     \u001b[38;5;28mhasattr\u001b[39m(filepath_or_buffer, \u001b[38;5;124m\"\u001b[39m\u001b[38;5;124mread\u001b[39m\u001b[38;5;124m\"\u001b[39m) \u001b[38;5;129;01mor\u001b[39;00m \u001b[38;5;28mhasattr\u001b[39m(filepath_or_buffer, \u001b[38;5;124m\"\u001b[39m\u001b[38;5;124mwrite\u001b[39m\u001b[38;5;124m\"\u001b[39m)\n\u001b[1;32m    449\u001b[0m ):\n\u001b[1;32m    450\u001b[0m     msg \u001b[38;5;241m=\u001b[39m \u001b[38;5;124mf\u001b[39m\u001b[38;5;124m\"\u001b[39m\u001b[38;5;124mInvalid file path or buffer object type: \u001b[39m\u001b[38;5;132;01m{\u001b[39;00m\u001b[38;5;28mtype\u001b[39m(filepath_or_buffer)\u001b[38;5;132;01m}\u001b[39;00m\u001b[38;5;124m\"\u001b[39m\n\u001b[0;32m--> 451\u001b[0m     \u001b[38;5;28;01mraise\u001b[39;00m \u001b[38;5;167;01mValueError\u001b[39;00m(msg)\n\u001b[1;32m    453\u001b[0m \u001b[38;5;28;01mreturn\u001b[39;00m IOArgs(\n\u001b[1;32m    454\u001b[0m     filepath_or_buffer\u001b[38;5;241m=\u001b[39mfilepath_or_buffer,\n\u001b[1;32m    455\u001b[0m     encoding\u001b[38;5;241m=\u001b[39mencoding,\n\u001b[0;32m   (...)\u001b[0m\n\u001b[1;32m    458\u001b[0m     mode\u001b[38;5;241m=\u001b[39mmode,\n\u001b[1;32m    459\u001b[0m )\n",
      "\u001b[0;31mValueError\u001b[0m: Invalid file path or buffer object type: <class 'tuple'>"
     ]
    }
   ],
   "source": [
    "import_seedgenes(path, pcol, gene_col, delim)"
   ]
  },
  {
   "cell_type": "code",
   "execution_count": 16,
   "id": "1e2f96a1-8130-4121-acdb-811253747c64",
   "metadata": {},
   "outputs": [
    {
     "ename": "ValueError",
     "evalue": "Invalid file path or buffer object type: <class 'tuple'>",
     "output_type": "error",
     "traceback": [
      "\u001b[0;31m---------------------------------------------------------------------------\u001b[0m",
      "\u001b[0;31mValueError\u001b[0m                                Traceback (most recent call last)",
      "Input \u001b[0;32mIn [16]\u001b[0m, in \u001b[0;36m<cell line: 1>\u001b[0;34m()\u001b[0m\n\u001b[0;32m----> 1\u001b[0m data \u001b[38;5;241m=\u001b[39m \u001b[43mimport_seedgenes\u001b[49m\u001b[43m(\u001b[49m\u001b[43mpath\u001b[49m\u001b[43m,\u001b[49m\u001b[43m \u001b[49m\u001b[43mpcol\u001b[49m\u001b[43m,\u001b[49m\u001b[43m \u001b[49m\u001b[43mgene_col\u001b[49m\u001b[43m,\u001b[49m\u001b[43m \u001b[49m\u001b[43mdelim\u001b[49m\u001b[43m)\u001b[49m\n\u001b[1;32m      2\u001b[0m data \u001b[38;5;241m=\u001b[39m \u001b[38;5;28mlist\u001b[39m(data[gene_col])\n\u001b[1;32m      3\u001b[0m \u001b[38;5;28;01mif\u001b[39;00m graph \u001b[38;5;129;01mis\u001b[39;00m \u001b[38;5;28;01mNone\u001b[39;00m:\n",
      "File \u001b[0;32m/tscc/projects/ps-palmer/brittany/rare_common_alcohol_comparison/notebooks/rca_functions.py:249\u001b[0m, in \u001b[0;36mimport_seedgenes\u001b[0;34m(path, pcol, gene_col, delim, cutoff)\u001b[0m\n\u001b[1;32m    247\u001b[0m     df\u001b[38;5;241m=\u001b[39mpd\u001b[38;5;241m.\u001b[39mread_csv(path,sep\u001b[38;5;241m=\u001b[39m\u001b[38;5;124m'\u001b[39m\u001b[38;5;124m,\u001b[39m\u001b[38;5;124m'\u001b[39m)\n\u001b[1;32m    248\u001b[0m \u001b[38;5;28;01melse\u001b[39;00m:\n\u001b[0;32m--> 249\u001b[0m     df\u001b[38;5;241m=\u001b[39m\u001b[43mpd\u001b[49m\u001b[38;5;241;43m.\u001b[39;49m\u001b[43mread_csv\u001b[49m\u001b[43m(\u001b[49m\u001b[43mpath\u001b[49m\u001b[43m,\u001b[49m\u001b[43msep\u001b[49m\u001b[38;5;241;43m=\u001b[39;49m\u001b[38;5;124;43m'\u001b[39;49m\u001b[38;5;130;43;01m\\t\u001b[39;49;00m\u001b[38;5;124;43m'\u001b[39;49m\u001b[43m)\u001b[49m\n\u001b[1;32m    250\u001b[0m \u001b[38;5;28;01mif\u001b[39;00m pcol\u001b[38;5;241m==\u001b[39m\u001b[38;5;28;01mNone\u001b[39;00m:\n\u001b[1;32m    251\u001b[0m     \u001b[38;5;28mprint\u001b[39m(\u001b[38;5;124m'\u001b[39m\u001b[38;5;124mpvalue column not specified- all genes will be used\u001b[39m\u001b[38;5;124m'\u001b[39m)\n",
      "File \u001b[0;32m~/miniconda3/envs/env-std-py38/lib/python3.8/site-packages/pandas/util/_decorators.py:211\u001b[0m, in \u001b[0;36mdeprecate_kwarg.<locals>._deprecate_kwarg.<locals>.wrapper\u001b[0;34m(*args, **kwargs)\u001b[0m\n\u001b[1;32m    209\u001b[0m     \u001b[38;5;28;01melse\u001b[39;00m:\n\u001b[1;32m    210\u001b[0m         kwargs[new_arg_name] \u001b[38;5;241m=\u001b[39m new_arg_value\n\u001b[0;32m--> 211\u001b[0m \u001b[38;5;28;01mreturn\u001b[39;00m \u001b[43mfunc\u001b[49m\u001b[43m(\u001b[49m\u001b[38;5;241;43m*\u001b[39;49m\u001b[43margs\u001b[49m\u001b[43m,\u001b[49m\u001b[43m \u001b[49m\u001b[38;5;241;43m*\u001b[39;49m\u001b[38;5;241;43m*\u001b[39;49m\u001b[43mkwargs\u001b[49m\u001b[43m)\u001b[49m\n",
      "File \u001b[0;32m~/miniconda3/envs/env-std-py38/lib/python3.8/site-packages/pandas/util/_decorators.py:331\u001b[0m, in \u001b[0;36mdeprecate_nonkeyword_arguments.<locals>.decorate.<locals>.wrapper\u001b[0;34m(*args, **kwargs)\u001b[0m\n\u001b[1;32m    325\u001b[0m \u001b[38;5;28;01mif\u001b[39;00m \u001b[38;5;28mlen\u001b[39m(args) \u001b[38;5;241m>\u001b[39m num_allow_args:\n\u001b[1;32m    326\u001b[0m     warnings\u001b[38;5;241m.\u001b[39mwarn(\n\u001b[1;32m    327\u001b[0m         msg\u001b[38;5;241m.\u001b[39mformat(arguments\u001b[38;5;241m=\u001b[39m_format_argument_list(allow_args)),\n\u001b[1;32m    328\u001b[0m         \u001b[38;5;167;01mFutureWarning\u001b[39;00m,\n\u001b[1;32m    329\u001b[0m         stacklevel\u001b[38;5;241m=\u001b[39mfind_stack_level(),\n\u001b[1;32m    330\u001b[0m     )\n\u001b[0;32m--> 331\u001b[0m \u001b[38;5;28;01mreturn\u001b[39;00m \u001b[43mfunc\u001b[49m\u001b[43m(\u001b[49m\u001b[38;5;241;43m*\u001b[39;49m\u001b[43margs\u001b[49m\u001b[43m,\u001b[49m\u001b[43m \u001b[49m\u001b[38;5;241;43m*\u001b[39;49m\u001b[38;5;241;43m*\u001b[39;49m\u001b[43mkwargs\u001b[49m\u001b[43m)\u001b[49m\n",
      "File \u001b[0;32m~/miniconda3/envs/env-std-py38/lib/python3.8/site-packages/pandas/io/parsers/readers.py:950\u001b[0m, in \u001b[0;36mread_csv\u001b[0;34m(filepath_or_buffer, sep, delimiter, header, names, index_col, usecols, squeeze, prefix, mangle_dupe_cols, dtype, engine, converters, true_values, false_values, skipinitialspace, skiprows, skipfooter, nrows, na_values, keep_default_na, na_filter, verbose, skip_blank_lines, parse_dates, infer_datetime_format, keep_date_col, date_parser, dayfirst, cache_dates, iterator, chunksize, compression, thousands, decimal, lineterminator, quotechar, quoting, doublequote, escapechar, comment, encoding, encoding_errors, dialect, error_bad_lines, warn_bad_lines, on_bad_lines, delim_whitespace, low_memory, memory_map, float_precision, storage_options)\u001b[0m\n\u001b[1;32m    935\u001b[0m kwds_defaults \u001b[38;5;241m=\u001b[39m _refine_defaults_read(\n\u001b[1;32m    936\u001b[0m     dialect,\n\u001b[1;32m    937\u001b[0m     delimiter,\n\u001b[0;32m   (...)\u001b[0m\n\u001b[1;32m    946\u001b[0m     defaults\u001b[38;5;241m=\u001b[39m{\u001b[38;5;124m\"\u001b[39m\u001b[38;5;124mdelimiter\u001b[39m\u001b[38;5;124m\"\u001b[39m: \u001b[38;5;124m\"\u001b[39m\u001b[38;5;124m,\u001b[39m\u001b[38;5;124m\"\u001b[39m},\n\u001b[1;32m    947\u001b[0m )\n\u001b[1;32m    948\u001b[0m kwds\u001b[38;5;241m.\u001b[39mupdate(kwds_defaults)\n\u001b[0;32m--> 950\u001b[0m \u001b[38;5;28;01mreturn\u001b[39;00m \u001b[43m_read\u001b[49m\u001b[43m(\u001b[49m\u001b[43mfilepath_or_buffer\u001b[49m\u001b[43m,\u001b[49m\u001b[43m \u001b[49m\u001b[43mkwds\u001b[49m\u001b[43m)\u001b[49m\n",
      "File \u001b[0;32m~/miniconda3/envs/env-std-py38/lib/python3.8/site-packages/pandas/io/parsers/readers.py:605\u001b[0m, in \u001b[0;36m_read\u001b[0;34m(filepath_or_buffer, kwds)\u001b[0m\n\u001b[1;32m    602\u001b[0m _validate_names(kwds\u001b[38;5;241m.\u001b[39mget(\u001b[38;5;124m\"\u001b[39m\u001b[38;5;124mnames\u001b[39m\u001b[38;5;124m\"\u001b[39m, \u001b[38;5;28;01mNone\u001b[39;00m))\n\u001b[1;32m    604\u001b[0m \u001b[38;5;66;03m# Create the parser.\u001b[39;00m\n\u001b[0;32m--> 605\u001b[0m parser \u001b[38;5;241m=\u001b[39m \u001b[43mTextFileReader\u001b[49m\u001b[43m(\u001b[49m\u001b[43mfilepath_or_buffer\u001b[49m\u001b[43m,\u001b[49m\u001b[43m \u001b[49m\u001b[38;5;241;43m*\u001b[39;49m\u001b[38;5;241;43m*\u001b[39;49m\u001b[43mkwds\u001b[49m\u001b[43m)\u001b[49m\n\u001b[1;32m    607\u001b[0m \u001b[38;5;28;01mif\u001b[39;00m chunksize \u001b[38;5;129;01mor\u001b[39;00m iterator:\n\u001b[1;32m    608\u001b[0m     \u001b[38;5;28;01mreturn\u001b[39;00m parser\n",
      "File \u001b[0;32m~/miniconda3/envs/env-std-py38/lib/python3.8/site-packages/pandas/io/parsers/readers.py:1442\u001b[0m, in \u001b[0;36mTextFileReader.__init__\u001b[0;34m(self, f, engine, **kwds)\u001b[0m\n\u001b[1;32m   1439\u001b[0m     \u001b[38;5;28mself\u001b[39m\u001b[38;5;241m.\u001b[39moptions[\u001b[38;5;124m\"\u001b[39m\u001b[38;5;124mhas_index_names\u001b[39m\u001b[38;5;124m\"\u001b[39m] \u001b[38;5;241m=\u001b[39m kwds[\u001b[38;5;124m\"\u001b[39m\u001b[38;5;124mhas_index_names\u001b[39m\u001b[38;5;124m\"\u001b[39m]\n\u001b[1;32m   1441\u001b[0m \u001b[38;5;28mself\u001b[39m\u001b[38;5;241m.\u001b[39mhandles: IOHandles \u001b[38;5;241m|\u001b[39m \u001b[38;5;28;01mNone\u001b[39;00m \u001b[38;5;241m=\u001b[39m \u001b[38;5;28;01mNone\u001b[39;00m\n\u001b[0;32m-> 1442\u001b[0m \u001b[38;5;28mself\u001b[39m\u001b[38;5;241m.\u001b[39m_engine \u001b[38;5;241m=\u001b[39m \u001b[38;5;28;43mself\u001b[39;49m\u001b[38;5;241;43m.\u001b[39;49m\u001b[43m_make_engine\u001b[49m\u001b[43m(\u001b[49m\u001b[43mf\u001b[49m\u001b[43m,\u001b[49m\u001b[43m \u001b[49m\u001b[38;5;28;43mself\u001b[39;49m\u001b[38;5;241;43m.\u001b[39;49m\u001b[43mengine\u001b[49m\u001b[43m)\u001b[49m\n",
      "File \u001b[0;32m~/miniconda3/envs/env-std-py38/lib/python3.8/site-packages/pandas/io/parsers/readers.py:1735\u001b[0m, in \u001b[0;36mTextFileReader._make_engine\u001b[0;34m(self, f, engine)\u001b[0m\n\u001b[1;32m   1733\u001b[0m     \u001b[38;5;28;01mif\u001b[39;00m \u001b[38;5;124m\"\u001b[39m\u001b[38;5;124mb\u001b[39m\u001b[38;5;124m\"\u001b[39m \u001b[38;5;129;01mnot\u001b[39;00m \u001b[38;5;129;01min\u001b[39;00m mode:\n\u001b[1;32m   1734\u001b[0m         mode \u001b[38;5;241m+\u001b[39m\u001b[38;5;241m=\u001b[39m \u001b[38;5;124m\"\u001b[39m\u001b[38;5;124mb\u001b[39m\u001b[38;5;124m\"\u001b[39m\n\u001b[0;32m-> 1735\u001b[0m \u001b[38;5;28mself\u001b[39m\u001b[38;5;241m.\u001b[39mhandles \u001b[38;5;241m=\u001b[39m \u001b[43mget_handle\u001b[49m\u001b[43m(\u001b[49m\n\u001b[1;32m   1736\u001b[0m \u001b[43m    \u001b[49m\u001b[43mf\u001b[49m\u001b[43m,\u001b[49m\n\u001b[1;32m   1737\u001b[0m \u001b[43m    \u001b[49m\u001b[43mmode\u001b[49m\u001b[43m,\u001b[49m\n\u001b[1;32m   1738\u001b[0m \u001b[43m    \u001b[49m\u001b[43mencoding\u001b[49m\u001b[38;5;241;43m=\u001b[39;49m\u001b[38;5;28;43mself\u001b[39;49m\u001b[38;5;241;43m.\u001b[39;49m\u001b[43moptions\u001b[49m\u001b[38;5;241;43m.\u001b[39;49m\u001b[43mget\u001b[49m\u001b[43m(\u001b[49m\u001b[38;5;124;43m\"\u001b[39;49m\u001b[38;5;124;43mencoding\u001b[39;49m\u001b[38;5;124;43m\"\u001b[39;49m\u001b[43m,\u001b[49m\u001b[43m \u001b[49m\u001b[38;5;28;43;01mNone\u001b[39;49;00m\u001b[43m)\u001b[49m\u001b[43m,\u001b[49m\n\u001b[1;32m   1739\u001b[0m \u001b[43m    \u001b[49m\u001b[43mcompression\u001b[49m\u001b[38;5;241;43m=\u001b[39;49m\u001b[38;5;28;43mself\u001b[39;49m\u001b[38;5;241;43m.\u001b[39;49m\u001b[43moptions\u001b[49m\u001b[38;5;241;43m.\u001b[39;49m\u001b[43mget\u001b[49m\u001b[43m(\u001b[49m\u001b[38;5;124;43m\"\u001b[39;49m\u001b[38;5;124;43mcompression\u001b[39;49m\u001b[38;5;124;43m\"\u001b[39;49m\u001b[43m,\u001b[49m\u001b[43m \u001b[49m\u001b[38;5;28;43;01mNone\u001b[39;49;00m\u001b[43m)\u001b[49m\u001b[43m,\u001b[49m\n\u001b[1;32m   1740\u001b[0m \u001b[43m    \u001b[49m\u001b[43mmemory_map\u001b[49m\u001b[38;5;241;43m=\u001b[39;49m\u001b[38;5;28;43mself\u001b[39;49m\u001b[38;5;241;43m.\u001b[39;49m\u001b[43moptions\u001b[49m\u001b[38;5;241;43m.\u001b[39;49m\u001b[43mget\u001b[49m\u001b[43m(\u001b[49m\u001b[38;5;124;43m\"\u001b[39;49m\u001b[38;5;124;43mmemory_map\u001b[39;49m\u001b[38;5;124;43m\"\u001b[39;49m\u001b[43m,\u001b[49m\u001b[43m \u001b[49m\u001b[38;5;28;43;01mFalse\u001b[39;49;00m\u001b[43m)\u001b[49m\u001b[43m,\u001b[49m\n\u001b[1;32m   1741\u001b[0m \u001b[43m    \u001b[49m\u001b[43mis_text\u001b[49m\u001b[38;5;241;43m=\u001b[39;49m\u001b[43mis_text\u001b[49m\u001b[43m,\u001b[49m\n\u001b[1;32m   1742\u001b[0m \u001b[43m    \u001b[49m\u001b[43merrors\u001b[49m\u001b[38;5;241;43m=\u001b[39;49m\u001b[38;5;28;43mself\u001b[39;49m\u001b[38;5;241;43m.\u001b[39;49m\u001b[43moptions\u001b[49m\u001b[38;5;241;43m.\u001b[39;49m\u001b[43mget\u001b[49m\u001b[43m(\u001b[49m\u001b[38;5;124;43m\"\u001b[39;49m\u001b[38;5;124;43mencoding_errors\u001b[39;49m\u001b[38;5;124;43m\"\u001b[39;49m\u001b[43m,\u001b[49m\u001b[43m \u001b[49m\u001b[38;5;124;43m\"\u001b[39;49m\u001b[38;5;124;43mstrict\u001b[39;49m\u001b[38;5;124;43m\"\u001b[39;49m\u001b[43m)\u001b[49m\u001b[43m,\u001b[49m\n\u001b[1;32m   1743\u001b[0m \u001b[43m    \u001b[49m\u001b[43mstorage_options\u001b[49m\u001b[38;5;241;43m=\u001b[39;49m\u001b[38;5;28;43mself\u001b[39;49m\u001b[38;5;241;43m.\u001b[39;49m\u001b[43moptions\u001b[49m\u001b[38;5;241;43m.\u001b[39;49m\u001b[43mget\u001b[49m\u001b[43m(\u001b[49m\u001b[38;5;124;43m\"\u001b[39;49m\u001b[38;5;124;43mstorage_options\u001b[39;49m\u001b[38;5;124;43m\"\u001b[39;49m\u001b[43m,\u001b[49m\u001b[43m \u001b[49m\u001b[38;5;28;43;01mNone\u001b[39;49;00m\u001b[43m)\u001b[49m\u001b[43m,\u001b[49m\n\u001b[1;32m   1744\u001b[0m \u001b[43m\u001b[49m\u001b[43m)\u001b[49m\n\u001b[1;32m   1745\u001b[0m \u001b[38;5;28;01massert\u001b[39;00m \u001b[38;5;28mself\u001b[39m\u001b[38;5;241m.\u001b[39mhandles \u001b[38;5;129;01mis\u001b[39;00m \u001b[38;5;129;01mnot\u001b[39;00m \u001b[38;5;28;01mNone\u001b[39;00m\n\u001b[1;32m   1746\u001b[0m f \u001b[38;5;241m=\u001b[39m \u001b[38;5;28mself\u001b[39m\u001b[38;5;241m.\u001b[39mhandles\u001b[38;5;241m.\u001b[39mhandle\n",
      "File \u001b[0;32m~/miniconda3/envs/env-std-py38/lib/python3.8/site-packages/pandas/io/common.py:713\u001b[0m, in \u001b[0;36mget_handle\u001b[0;34m(path_or_buf, mode, encoding, compression, memory_map, is_text, errors, storage_options)\u001b[0m\n\u001b[1;32m    710\u001b[0m     codecs\u001b[38;5;241m.\u001b[39mlookup_error(errors)\n\u001b[1;32m    712\u001b[0m \u001b[38;5;66;03m# open URLs\u001b[39;00m\n\u001b[0;32m--> 713\u001b[0m ioargs \u001b[38;5;241m=\u001b[39m \u001b[43m_get_filepath_or_buffer\u001b[49m\u001b[43m(\u001b[49m\n\u001b[1;32m    714\u001b[0m \u001b[43m    \u001b[49m\u001b[43mpath_or_buf\u001b[49m\u001b[43m,\u001b[49m\n\u001b[1;32m    715\u001b[0m \u001b[43m    \u001b[49m\u001b[43mencoding\u001b[49m\u001b[38;5;241;43m=\u001b[39;49m\u001b[43mencoding\u001b[49m\u001b[43m,\u001b[49m\n\u001b[1;32m    716\u001b[0m \u001b[43m    \u001b[49m\u001b[43mcompression\u001b[49m\u001b[38;5;241;43m=\u001b[39;49m\u001b[43mcompression\u001b[49m\u001b[43m,\u001b[49m\n\u001b[1;32m    717\u001b[0m \u001b[43m    \u001b[49m\u001b[43mmode\u001b[49m\u001b[38;5;241;43m=\u001b[39;49m\u001b[43mmode\u001b[49m\u001b[43m,\u001b[49m\n\u001b[1;32m    718\u001b[0m \u001b[43m    \u001b[49m\u001b[43mstorage_options\u001b[49m\u001b[38;5;241;43m=\u001b[39;49m\u001b[43mstorage_options\u001b[49m\u001b[43m,\u001b[49m\n\u001b[1;32m    719\u001b[0m \u001b[43m\u001b[49m\u001b[43m)\u001b[49m\n\u001b[1;32m    721\u001b[0m handle \u001b[38;5;241m=\u001b[39m ioargs\u001b[38;5;241m.\u001b[39mfilepath_or_buffer\n\u001b[1;32m    722\u001b[0m handles: \u001b[38;5;28mlist\u001b[39m[BaseBuffer]\n",
      "File \u001b[0;32m~/miniconda3/envs/env-std-py38/lib/python3.8/site-packages/pandas/io/common.py:451\u001b[0m, in \u001b[0;36m_get_filepath_or_buffer\u001b[0;34m(filepath_or_buffer, encoding, compression, mode, storage_options)\u001b[0m\n\u001b[1;32m    447\u001b[0m \u001b[38;5;28;01mif\u001b[39;00m \u001b[38;5;129;01mnot\u001b[39;00m (\n\u001b[1;32m    448\u001b[0m     \u001b[38;5;28mhasattr\u001b[39m(filepath_or_buffer, \u001b[38;5;124m\"\u001b[39m\u001b[38;5;124mread\u001b[39m\u001b[38;5;124m\"\u001b[39m) \u001b[38;5;129;01mor\u001b[39;00m \u001b[38;5;28mhasattr\u001b[39m(filepath_or_buffer, \u001b[38;5;124m\"\u001b[39m\u001b[38;5;124mwrite\u001b[39m\u001b[38;5;124m\"\u001b[39m)\n\u001b[1;32m    449\u001b[0m ):\n\u001b[1;32m    450\u001b[0m     msg \u001b[38;5;241m=\u001b[39m \u001b[38;5;124mf\u001b[39m\u001b[38;5;124m\"\u001b[39m\u001b[38;5;124mInvalid file path or buffer object type: \u001b[39m\u001b[38;5;132;01m{\u001b[39;00m\u001b[38;5;28mtype\u001b[39m(filepath_or_buffer)\u001b[38;5;132;01m}\u001b[39;00m\u001b[38;5;124m\"\u001b[39m\n\u001b[0;32m--> 451\u001b[0m     \u001b[38;5;28;01mraise\u001b[39;00m \u001b[38;5;167;01mValueError\u001b[39;00m(msg)\n\u001b[1;32m    453\u001b[0m \u001b[38;5;28;01mreturn\u001b[39;00m IOArgs(\n\u001b[1;32m    454\u001b[0m     filepath_or_buffer\u001b[38;5;241m=\u001b[39mfilepath_or_buffer,\n\u001b[1;32m    455\u001b[0m     encoding\u001b[38;5;241m=\u001b[39mencoding,\n\u001b[0;32m   (...)\u001b[0m\n\u001b[1;32m    458\u001b[0m     mode\u001b[38;5;241m=\u001b[39mmode,\n\u001b[1;32m    459\u001b[0m )\n",
      "\u001b[0;31mValueError\u001b[0m: Invalid file path or buffer object type: <class 'tuple'>"
     ]
    }
   ],
   "source": [
    "data = import_seedgenes(path, pcol, gene_col, delim)\n",
    "data = list(data[gene_col])\n",
    "if graph is None:\n",
    "    graph = import_interactome(interactome)\n",
    "    print(\"importing network \" + interactome)\n",
    "if w_double_prime is None:\n",
    "    # pre calculate mats used for netprop\n",
    "    print('\\ncalculating w_prime')\n",
    "    w_prime = netprop.get_normalized_adjacency_matrix(graph, conserve_heat=True) \n",
    "    print('\\ncalculating w_double_prime')\n",
    "    w_double_prime = netprop.get_individual_heats_matrix(w_prime, 0.5)\n",
    "else:\n",
    "    print(\"using provided w_double_prime - please ensure that w_double_prime aligns to graph provided\")\n",
    "graph_nodes = list(graph.nodes())\n",
    "#print(graph_nodes)\n",
    "data = list(set(data).intersection(graph_nodes))\n",
    "#print(data)\n",
    "##calculate heats\n",
    "z_score, Fnew_score, Fnew_rand_score = netprop_zscore.calculate_heat_zscores(\n",
    "    w_double_prime,  \n",
    "    graph_nodes,\n",
    "    dict(graph.degree), \n",
    "    data, num_reps=1000,\n",
    "    minimum_bin_size=100\n",
    ")\n",
    "if savefile:\n",
    "    export_path = 'calculated_values/network_scores/'\n",
    "    if graph is None and interactome == 'pcnet_v14':\n",
    "        prefix = (export_path + trait_name).lower()\n",
    "    elif graph is None and interactome != 'pcnet_v14':\n",
    "        prefix = (export_path + trait_name + '_' + interactome).lower()\n",
    "    elif graph is not None and interactome != 'pcnet_v14':\n",
    "        prefix = (export_path + trait_name + '_' + interactome).lower()\n",
    "    else:\n",
    "        print(\"saving file without interactome_prefix, please provide an interactome name if prefix wanted\")\n",
    "        prefix = ('network_scores/' + trait_name).lower()\n",
    "\n",
    "    z_score.to_csv(prefix + '_zscore.tsv', sep='\\t', header=False)\n",
    "    if saveheat:\n",
    "        Fnew_score.to_csv(prefix + '_heats.tsv', sep='\\t', header=False)\n",
    "        pd.DataFrame(Fnew_rand_score, columns=z_score.index).to_csv((prefix+'_randheats.tsv'),sep='\\t')\n",
    "    else:\n",
    "        print('calculated NPS not saved')"
   ]
  },
  {
   "cell_type": "code",
   "execution_count": 13,
   "id": "31893e89-2d9b-4548-a6e6-f5e4b7414ece",
   "metadata": {},
   "outputs": [
    {
     "name": "stdout",
     "output_type": "stream",
     "text": [
      "processing GSCAN_DPW_magma\n",
      "cutoff not defined/custom- using all genes \n",
      "        GENE  CHR   START    STOP  NSNPS  NPARAM       N    ZSTAT        P  \\\n",
      "0      79501    1   59091   80008      6       3  436159 -0.39952  0.65525   \n",
      "1  100996442    1  131934  184394      5       3  437867  0.23430  0.40738   \n",
      "2  105378947    1  576287  621297      7       4  444770 -0.45845  0.67668   \n",
      "3      81399    1  675716  696654      2       1  405668  0.83144  0.20286   \n",
      "4  105378580    1  793398  815130     71      19  473562  0.52224  0.30075   \n",
      "\n",
      "      GENE_NAME  \n",
      "0         OR4F5  \n",
      "1  LOC100996442  \n",
      "2  LOC105378947  \n",
      "3        OR4F16  \n",
      "4  LOC105378580  \n",
      "using provided w_double_prime - please ensure that w_double_prime aligns to graph provided\n"
     ]
    },
    {
     "data": {
      "application/vnd.jupyter.widget-view+json": {
       "model_id": "721470923dd843d591fa26715313c5cd",
       "version_major": 2,
       "version_minor": 0
      },
      "text/plain": [
       "  0%|          | 0/1000 [00:00<?, ?it/s]"
      ]
     },
     "metadata": {},
     "output_type": "display_data"
    },
    {
     "ename": "KeyboardInterrupt",
     "evalue": "",
     "output_type": "error",
     "traceback": [
      "\u001b[0;31m---------------------------------------------------------------------------\u001b[0m",
      "\u001b[0;31mKeyboardInterrupt\u001b[0m                         Traceback (most recent call last)",
      "Input \u001b[0;32mIn [13]\u001b[0m, in \u001b[0;36m<cell line: 2>\u001b[0;34m()\u001b[0m\n\u001b[1;32m      1\u001b[0m \u001b[38;5;28mprint\u001b[39m(\u001b[38;5;124m'\u001b[39m\u001b[38;5;124mprocessing \u001b[39m\u001b[38;5;124m'\u001b[39m\u001b[38;5;241m+\u001b[39mdatasets[\u001b[38;5;124m'\u001b[39m\u001b[38;5;124mlabel\u001b[39m\u001b[38;5;124m'\u001b[39m][row_common])\n\u001b[0;32m----> 2\u001b[0m NPSc\u001b[38;5;241m=\u001b[39m\u001b[43mrun_net_prop\u001b[49m\u001b[43m(\u001b[49m\u001b[43mpath\u001b[49m\u001b[38;5;241;43m=\u001b[39;49m\u001b[38;5;124;43m'\u001b[39;49m\u001b[38;5;124;43minput_files/\u001b[39;49m\u001b[38;5;124;43m'\u001b[39;49m\u001b[38;5;241;43m+\u001b[39;49m\u001b[43mdatasets\u001b[49m\u001b[43m[\u001b[49m\u001b[38;5;124;43m'\u001b[39;49m\u001b[38;5;124;43mseed_path\u001b[39;49m\u001b[38;5;124;43m'\u001b[39;49m\u001b[43m]\u001b[49m\u001b[43m[\u001b[49m\u001b[43mrow_common\u001b[49m\u001b[43m]\u001b[49m\u001b[43m,\u001b[49m\u001b[43m \u001b[49m\n\u001b[1;32m      3\u001b[0m \u001b[43m             \u001b[49m\u001b[43mtrait_name\u001b[49m\u001b[38;5;241;43m=\u001b[39;49m\u001b[43mdatasets\u001b[49m\u001b[43m[\u001b[49m\u001b[38;5;124;43m'\u001b[39;49m\u001b[38;5;124;43mlabel\u001b[39;49m\u001b[38;5;124;43m'\u001b[39;49m\u001b[43m]\u001b[49m\u001b[43m[\u001b[49m\u001b[43mrow_common\u001b[49m\u001b[43m]\u001b[49m\u001b[43m,\u001b[49m\n\u001b[1;32m      4\u001b[0m \u001b[43m             \u001b[49m\u001b[43mpcol\u001b[49m\u001b[38;5;241;43m=\u001b[39;49m\u001b[43mdatasets\u001b[49m\u001b[43m[\u001b[49m\u001b[38;5;124;43m'\u001b[39;49m\u001b[38;5;124;43mseed_p\u001b[39;49m\u001b[38;5;124;43m'\u001b[39;49m\u001b[43m]\u001b[49m\u001b[43m[\u001b[49m\u001b[43mrow_common\u001b[49m\u001b[43m]\u001b[49m\u001b[43m,\u001b[49m\n\u001b[1;32m      5\u001b[0m \u001b[43m             \u001b[49m\u001b[43mgene_col\u001b[49m\u001b[38;5;241;43m=\u001b[39;49m\u001b[43mdatasets\u001b[49m\u001b[43m[\u001b[49m\u001b[38;5;124;43m'\u001b[39;49m\u001b[38;5;124;43mseed_gene_name\u001b[39;49m\u001b[38;5;124;43m'\u001b[39;49m\u001b[43m]\u001b[49m\u001b[43m[\u001b[49m\u001b[43mrow_common\u001b[49m\u001b[43m]\u001b[49m\u001b[43m,\u001b[49m\n\u001b[1;32m      6\u001b[0m \u001b[43m             \u001b[49m\u001b[43mdelim\u001b[49m\u001b[38;5;241;43m=\u001b[39;49m\u001b[43mdatasets\u001b[49m\u001b[43m[\u001b[49m\u001b[38;5;124;43m'\u001b[39;49m\u001b[38;5;124;43mdelim\u001b[39;49m\u001b[38;5;124;43m'\u001b[39;49m\u001b[43m]\u001b[49m\u001b[43m[\u001b[49m\u001b[43mrow_common\u001b[49m\u001b[43m]\u001b[49m\u001b[43m,\u001b[49m\n\u001b[1;32m      7\u001b[0m \u001b[43m             \u001b[49m\u001b[43mcutoff\u001b[49m\u001b[38;5;241;43m=\u001b[39;49m\u001b[43mdatasets\u001b[49m\u001b[43m[\u001b[49m\u001b[38;5;124;43m'\u001b[39;49m\u001b[38;5;124;43mcutoff\u001b[39;49m\u001b[38;5;124;43m'\u001b[39;49m\u001b[43m]\u001b[49m\u001b[43m[\u001b[49m\u001b[43mrow_common\u001b[49m\u001b[43m]\u001b[49m\u001b[43m,\u001b[49m\n\u001b[1;32m      8\u001b[0m \u001b[43m             \u001b[49m\u001b[43mgraph\u001b[49m\u001b[38;5;241;43m=\u001b[39;49m\u001b[43mG_PC\u001b[49m\u001b[43m,\u001b[49m\n\u001b[1;32m      9\u001b[0m \u001b[43m             \u001b[49m\u001b[43minteractome\u001b[49m\u001b[38;5;241;43m=\u001b[39;49m\u001b[38;5;124;43m'\u001b[39;49m\u001b[38;5;124;43mpcnet_v14\u001b[39;49m\u001b[38;5;124;43m'\u001b[39;49m\u001b[43m,\u001b[49m\n\u001b[1;32m     10\u001b[0m \u001b[43m             \u001b[49m\u001b[43mw_double_prime\u001b[49m\u001b[38;5;241;43m=\u001b[39;49m\u001b[43mw_double_prime\u001b[49m\u001b[43m,\u001b[49m\u001b[43m \u001b[49m\n\u001b[1;32m     11\u001b[0m \u001b[43m             \u001b[49m\u001b[43msavefile\u001b[49m\u001b[38;5;241;43m=\u001b[39;49m\u001b[38;5;28;43;01mFalse\u001b[39;49;00m\u001b[43m)\u001b[49m    \n\u001b[1;32m     12\u001b[0m \u001b[38;5;28mprint\u001b[39m(NPSc\u001b[38;5;241m.\u001b[39mhead)\n",
      "File \u001b[0;32m/tscc/projects/ps-palmer/brittany/rare_common_alcohol_comparison/notebooks/rca_functions.py:328\u001b[0m, in \u001b[0;36mrun_net_prop\u001b[0;34m(path, trait_name, pcol, gene_col, delim, cutoff, graph, w_double_prime, interactome, ndex_user, ndex_password, savefile)\u001b[0m\n\u001b[1;32m    325\u001b[0m data \u001b[38;5;241m=\u001b[39m \u001b[38;5;28mlist\u001b[39m(\u001b[38;5;28mset\u001b[39m(data)\u001b[38;5;241m.\u001b[39mintersection(graph_nodes))\n\u001b[1;32m    326\u001b[0m \u001b[38;5;66;03m#print(data)\u001b[39;00m\n\u001b[1;32m    327\u001b[0m \u001b[38;5;66;03m##calculate heats\u001b[39;00m\n\u001b[0;32m--> 328\u001b[0m z_score, Fnew_score, Fnew_rand_score \u001b[38;5;241m=\u001b[39m \u001b[43mnetprop_zscore\u001b[49m\u001b[38;5;241;43m.\u001b[39;49m\u001b[43mcalculate_heat_zscores\u001b[49m\u001b[43m(\u001b[49m\n\u001b[1;32m    329\u001b[0m \u001b[43m    \u001b[49m\u001b[43mw_double_prime\u001b[49m\u001b[43m,\u001b[49m\u001b[43m  \u001b[49m\n\u001b[1;32m    330\u001b[0m \u001b[43m    \u001b[49m\u001b[43mgraph_nodes\u001b[49m\u001b[43m,\u001b[49m\n\u001b[1;32m    331\u001b[0m \u001b[43m    \u001b[49m\u001b[38;5;28;43mdict\u001b[39;49m\u001b[43m(\u001b[49m\u001b[43mgraph\u001b[49m\u001b[38;5;241;43m.\u001b[39;49m\u001b[43mdegree\u001b[49m\u001b[43m)\u001b[49m\u001b[43m,\u001b[49m\u001b[43m \u001b[49m\n\u001b[1;32m    332\u001b[0m \u001b[43m    \u001b[49m\u001b[43mdata\u001b[49m\u001b[43m,\u001b[49m\u001b[43m \u001b[49m\u001b[43mnum_reps\u001b[49m\u001b[38;5;241;43m=\u001b[39;49m\u001b[38;5;241;43m1000\u001b[39;49m\u001b[43m,\u001b[49m\n\u001b[1;32m    333\u001b[0m \u001b[43m    \u001b[49m\u001b[43mminimum_bin_size\u001b[49m\u001b[38;5;241;43m=\u001b[39;49m\u001b[38;5;241;43m100\u001b[39;49m\n\u001b[1;32m    334\u001b[0m \u001b[43m\u001b[49m\u001b[43m)\u001b[49m\n\u001b[1;32m    335\u001b[0m \u001b[38;5;28;01mif\u001b[39;00m savefile:\n\u001b[1;32m    336\u001b[0m     export_path \u001b[38;5;241m=\u001b[39m \u001b[38;5;124m'\u001b[39m\u001b[38;5;124mcalculated_values/network_scores/\u001b[39m\u001b[38;5;124m'\u001b[39m\n",
      "File \u001b[0;32m~/miniconda3/envs/env-std-py38/lib/python3.8/site-packages/netcoloc/netprop_zscore.py:252\u001b[0m, in \u001b[0;36mcalculate_heat_zscores\u001b[0;34m(individual_heats_matrix, nodes, degrees, seed_genes, num_reps, alpha, minimum_bin_size, random_seed)\u001b[0m\n\u001b[1;32m    250\u001b[0m \u001b[38;5;66;03m# Add genes to list that haven't already been added\u001b[39;00m\n\u001b[1;32m    251\u001b[0m index \u001b[38;5;241m=\u001b[39m \u001b[38;5;241m0\u001b[39m\n\u001b[0;32m--> 252\u001b[0m \u001b[38;5;28;01mwhile\u001b[39;00m \u001b[43mgenes_of_similar_degree\u001b[49m\u001b[43m[\u001b[49m\u001b[43mindex\u001b[49m\u001b[43m]\u001b[49m\u001b[43m \u001b[49m\u001b[38;5;129;43;01min\u001b[39;49;00m\u001b[43m \u001b[49m\u001b[43mrandom_seed_genes\u001b[49m:\n\u001b[1;32m    253\u001b[0m     index \u001b[38;5;241m+\u001b[39m\u001b[38;5;241m=\u001b[39m \u001b[38;5;241m1\u001b[39m\n\u001b[1;32m    254\u001b[0m random_seed_genes\u001b[38;5;241m.\u001b[39mappend(genes_of_similar_degree[index])\n",
      "\u001b[0;31mKeyboardInterrupt\u001b[0m: "
     ]
    }
   ],
   "source": [
    "print('processing '+datasets['label'][row_common])\n",
    "NPSc=run_net_prop(path='input_files/'+datasets['seed_path'][row_common], \n",
    "             trait_name=datasets['label'][row_common],\n",
    "             pcol=datasets['seed_p'][row_common],\n",
    "             gene_col=datasets['seed_gene_name'][row_common],\n",
    "             delim=datasets['delim'][row_common],\n",
    "             cutoff=datasets['cutoff'][row_common],\n",
    "             graph=interactome,\n",
    "             interactome='pcnet_v14',\n",
    "             w_double_prime=w_double_prime, \n",
    "             savefile=False)    \n",
    "print(NPSc.head)"
   ]
  },
  {
   "cell_type": "code",
   "execution_count": null,
   "id": "533d827f-8ddf-43de-8993-1a0c2d1cd667",
   "metadata": {},
   "outputs": [],
   "source": [
    "zscores"
   ]
  },
  {
   "cell_type": "code",
   "execution_count": 35,
   "id": "ea0800c6-f7d4-44ca-99db-ed21afdce6d3",
   "metadata": {},
   "outputs": [
    {
     "data": {
      "text/plain": [
       "'bonferroni'"
      ]
     },
     "execution_count": 35,
     "metadata": {},
     "output_type": "execute_result"
    }
   ],
   "source": [
    "datasets['cutoff'][row_common]"
   ]
  },
  {
   "cell_type": "code",
   "execution_count": 15,
   "id": "2aa137ed-12f3-4270-8cc1-72ae4436705e",
   "metadata": {},
   "outputs": [],
   "source": [
    "def run_net_prop(path, trait_name, pcol, gene_col, delim, cutoff=None, graph=None, w_double_prime=None, interactome='pcnet_v14', ndex_user=None, ndex_password=None, savefile=False):\n",
    "    \"\"\"\n",
    "    Executes network propagation analysis for a given trait using provided seed genes and provided interactome.\n",
    "\n",
    "    Parameters:\n",
    "    - path (str): The file path to the seed gene file.\n",
    "    - trait_name (str): The name of the trait for which the analysis is being run.\n",
    "    - pcol (str): The column name in the seed genes file that contains the p-values.\n",
    "    - gene_col (str): The column name in the seed genes file that specifies the gene names.\n",
    "    - delim (str): The delimiter used in the seed genes file.\n",
    "    - cutoff (float, optional): The p-value cutoff for filtering seed genes. If None (Default), no filtering is applied. Defaults to None.\n",
    "    - graph (NetworkX graph, optional): The interactome network graph. If None, the graph is imported using the interactome parameter. Defaults to None.\n",
    "    - w_double_prime (numpy.ndarray, optional): Pre-calculated matrix for network propagation. If None, it is calculated in the function. Defaults to None.\n",
    "    - interactome (str, optional): The name of the interactome. If no graph is provided, this will be imported using the import_interactome function which accepts UUIDs or keys to the UUIDs dictionary. Will used as a label for exported interactome files. Defaults to 'pcnet_v14', which was used for this analysis.\n",
    "    - ndex_user (str, optional): NDEx account username, required if uploading results to NDEx. Defaults to None.\n",
    "    - ndex_password (str, optional): NDEx account password, required if uploading results to NDEx. Defaults to None.\n",
    "\n",
    "    Returns:\n",
    "\tNPS zscores\n",
    " \n",
    "    Notes:\n",
    "    - The function requires an external library for network propagation calculations.\n",
    "    - The seed genes file should contain a column for genes and a column for their associated p-values.\n",
    "    - The function saves three files: z-scores, raw heats, and randomized heats for the network analysis,\n",
    "      with the trait name and optionally the interactome name as part of the filenames.\n",
    "    - If using a private interactome, ensure the ndex_user and ndex_password are correctly provided.\n",
    "    \"\"\"\n",
    "    data = import_seedgenes(path, pcol, gene_col, delim)\n",
    "    data = list(data[gene_col])\n",
    "    if graph is None:\n",
    "        graph = import_interactome(interactome)\n",
    "        print(\"importing network \" + interactome)\n",
    "    if w_double_prime is None:\n",
    "        # pre calculate mats used for netprop\n",
    "        print('\\ncalculating w_prime')\n",
    "        w_prime = netprop.get_normalized_adjacency_matrix(graph, conserve_heat=True) \n",
    "        print('\\ncalculating w_double_prime')\n",
    "        w_double_prime = netprop.get_individual_heats_matrix(w_prime, 0.5)\n",
    "    else:\n",
    "        print(\"using provided w_double_prime - please ensure that w_double_prime aligns to graph provided\")\n",
    "    graph_nodes = list(graph.nodes())\n",
    "    #print(graph_nodes)\n",
    "    data = list(set(data).intersection(graph_nodes))\n",
    "    #print(data)\n",
    "    ##calculate heats\n",
    "    z_score, Fnew_score, Fnew_rand_score = netprop_zscore.calculate_heat_zscores(\n",
    "        w_double_prime,  \n",
    "        graph_nodes,\n",
    "        dict(graph.degree), \n",
    "        data, num_reps=1000,\n",
    "        minimum_bin_size=100\n",
    "    )\n",
    "    if savefile:\n",
    "        export_path = 'calculated_values/network_scores/'\n",
    "        if graph is None and interactome == 'pcnet_v14':\n",
    "            prefix = (export_path + trait_name).lower()\n",
    "        elif graph is None and interactome != 'pcnet_v14':\n",
    "            prefix = (export_path + trait_name + '_' + interactome).lower()\n",
    "        elif graph is not None and interactome != 'pcnet_v14':\n",
    "            prefix = (export_path + trait_name + '_' + interactome).lower()\n",
    "        else:\n",
    "            print(\"saving file without interactome_prefix, please provide an interactome name if prefix wanted\")\n",
    "            prefix = ('network_scores/' + trait_name).lower()\n",
    "\n",
    "        z_score.to_csv(prefix + '_zscore.tsv', sep='\\t', header=False)\n",
    "        if saveheat:\n",
    "            Fnew_score.to_csv(prefix + '_heats.tsv', sep='\\t', header=False)\n",
    "            pd.DataFrame(Fnew_rand_score, columns=z_score.index).to_csv((prefix+'_randheats.tsv'),sep='\\t')\n",
    "        else:\n",
    "            print('calculated NPS not saved')\n",
    "    return z_score"
   ]
  },
  {
   "cell_type": "code",
   "execution_count": 16,
   "id": "748c0601-4a1b-4d9f-84de-ddb75222def0",
   "metadata": {},
   "outputs": [],
   "source": [
    "def import_seedgenes(path,pcol='P',gene_col='GENE NAME',delim='comma', cutoff=None):\n",
    "    if delim=='comma':\n",
    "        df=pd.read_csv(path,sep=',')\n",
    "    else:\n",
    "        df=pd.read_csv(path,sep='\\t')\n",
    "    if pcol==None:\n",
    "        print('pvalue column not specified- all genes will be used')\n",
    "        cutoff=None\n",
    "    if cutoff=='bonferroni':\n",
    "        df=df[df[pcol]<0.05/len(df)]\n",
    "    elif cutoff=='FDR':\n",
    "        df['pval_FDR']=statsmodels.stats.multitest.fdrcorrection(df[pcol],alpha=0.05,method='indep',is_sorted=False)[1]\n",
    "        df=df[df['pval_FDR']<0.05]\n",
    "    else:\n",
    "        print('cutoff not defined/custom- using all genes ')\n",
    "        df=df\n",
    "    print(df.head())\n",
    "    #gene_ls=list(set(df[gene_col]))\n",
    "    #return(gene_ls)\n",
    "    return(df)"
   ]
  },
  {
   "cell_type": "code",
   "execution_count": 11,
   "id": "1a7dada9-898b-4975-97a8-ad5a883e5cbe",
   "metadata": {},
   "outputs": [
    {
     "data": {
      "application/vnd.jupyter.widget-view+json": {
       "model_id": "db31d6f1563d4eb5b8e055dbeedcb360",
       "version_major": 2,
       "version_minor": 0
      },
      "text/plain": [
       "  0%|          | 0/1000 [00:00<?, ?it/s]"
      ]
     },
     "metadata": {},
     "output_type": "display_data"
    },
    {
     "name": "stdout",
     "output_type": "stream",
     "text": [
      "ADH1C_zscore.tsv\n",
      "network_scores/ADH1C_zscore.tsv\n"
     ]
    }
   ],
   "source": [
    "z_score, Fnew_score, Fnew_rand_score = netprop_zscore.calculate_heat_zscores(w_double_prime, pc_nodes, \n",
    "                                                            dict(interactome.degree), \n",
    "                                                            data, num_reps=1000,\n",
    "                                                            minimum_bin_size=100)\n",
    "trait_name=trait_name\n",
    "z_score.to_csv('network_scores/'+trait_name+'_zscore.tsv',sep='\\t',header=False)\n",
    "Fnew_score.to_csv('network_scores/'+trait_name+'_heats.tsv',sep='\\t',header=False)\n",
    "pd.DataFrame(Fnew_rand_score, columns=z_score.index).to_csv('network_scores/'+trait_name+'_randheats.tsv',sep='\\t')\n",
    "print(str(trait_name+'_zscore.tsv'))\n",
    "print(str('network_scores/'+trait_name+'_zscore.tsv'))"
   ]
  },
  {
   "cell_type": "markdown",
   "id": "36b893fb-2841-4947-a7b5-31fa92b159c5",
   "metadata": {},
   "source": [
    "# rare gene data analysis"
   ]
  },
  {
   "cell_type": "code",
   "execution_count": 21,
   "id": "b559cf91-a8ec-4c09-b2d6-5a80c7f1754d",
   "metadata": {},
   "outputs": [
    {
     "data": {
      "text/plain": [
       "'/tscc/projects/ps-palmer/brittany/rare_common_alcohol'"
      ]
     },
     "execution_count": 21,
     "metadata": {},
     "output_type": "execute_result"
    }
   ],
   "source": [
    "os.getcwd()"
   ]
  },
  {
   "cell_type": "code",
   "execution_count": 19,
   "id": "0ba414d4-5e6e-437b-98e5-cfbfa3695a9d",
   "metadata": {},
   "outputs": [],
   "source": [
    "datasets=pd.read_csv('rare_datasets_prepub.csv')\n",
    "runsets=datasets\n",
    "runsets=runsets.reset_index()"
   ]
  },
  {
   "cell_type": "code",
   "execution_count": 20,
   "id": "49b06541-bf3a-4a55-a3b4-07c9b0f604be",
   "metadata": {},
   "outputs": [
    {
     "data": {
      "text/html": [
       "<div>\n",
       "<style scoped>\n",
       "    .dataframe tbody tr th:only-of-type {\n",
       "        vertical-align: middle;\n",
       "    }\n",
       "\n",
       "    .dataframe tbody tr th {\n",
       "        vertical-align: top;\n",
       "    }\n",
       "\n",
       "    .dataframe thead th {\n",
       "        text-align: right;\n",
       "    }\n",
       "</style>\n",
       "<table border=\"1\" class=\"dataframe\">\n",
       "  <thead>\n",
       "    <tr style=\"text-align: right;\">\n",
       "      <th></th>\n",
       "      <th>index</th>\n",
       "      <th>label</th>\n",
       "      <th>cutoff used</th>\n",
       "      <th>seed_path</th>\n",
       "      <th>delim</th>\n",
       "      <th>zscore_file</th>\n",
       "      <th>zscore_path</th>\n",
       "      <th>Unnamed: 6</th>\n",
       "      <th>seed_gene_name</th>\n",
       "      <th>phenotype_group</th>\n",
       "    </tr>\n",
       "  </thead>\n",
       "  <tbody>\n",
       "    <tr>\n",
       "      <th>0</th>\n",
       "      <td>0</td>\n",
       "      <td>alcoholintake_FDR_25</td>\n",
       "      <td>all tests FDR &lt;0.25</td>\n",
       "      <td>rare_variant_genebass/alcohol_intake/alcohol_i...</td>\n",
       "      <td>comma</td>\n",
       "      <td>alcoholintake_fdr_25_zscore.tsv</td>\n",
       "      <td>network_scores/alcoholintake_FDR_25_zscore.tsv</td>\n",
       "      <td>network_scores/alcoholintake_fdr_25_zscore.tsv</td>\n",
       "      <td>Gene Name</td>\n",
       "      <td>alcohol</td>\n",
       "    </tr>\n",
       "    <tr>\n",
       "      <th>1</th>\n",
       "      <td>1</td>\n",
       "      <td>rare_neale_20153_irnt_FDR_25</td>\n",
       "      <td>all tests FDR &lt;0.25</td>\n",
       "      <td>rare_variant_genebass/20153_irnt/20153_irnt_25...</td>\n",
       "      <td>tab</td>\n",
       "      <td>rare_neale_20153_irnt_fdr_25_zscore.tsv</td>\n",
       "      <td>network_scores/rare_neale_20153_irnt_FDR_25_zs...</td>\n",
       "      <td>network_scores/rare_neale_20153_irnt_fdr_25_zs...</td>\n",
       "      <td>Gene Name</td>\n",
       "      <td>control</td>\n",
       "    </tr>\n",
       "    <tr>\n",
       "      <th>2</th>\n",
       "      <td>2</td>\n",
       "      <td>rare_neale_30110_irnt_FDR_25</td>\n",
       "      <td>all tests FDR &lt;0.25</td>\n",
       "      <td>rare_variant_genebass/30110_irnt/30110_irnt_25...</td>\n",
       "      <td>tab</td>\n",
       "      <td>rare_neale_30110_irnt_fdr_25_zscore.tsv</td>\n",
       "      <td>network_scores/rare_neale_30110_irnt_FDR_25_zs...</td>\n",
       "      <td>network_scores/rare_neale_30110_irnt_fdr_25_zs...</td>\n",
       "      <td>Gene Name</td>\n",
       "      <td>control</td>\n",
       "    </tr>\n",
       "    <tr>\n",
       "      <th>3</th>\n",
       "      <td>3</td>\n",
       "      <td>rare_neale_20016_FDR_25</td>\n",
       "      <td>all tests FDR &lt;0.25</td>\n",
       "      <td>rare_variant_genebass/20016/20016_25FDR.tsv</td>\n",
       "      <td>tab</td>\n",
       "      <td>rare_neale_20016_fdr_25_zscore.tsv</td>\n",
       "      <td>network_scores/rare_neale_20016_FDR_25_zscore.tsv</td>\n",
       "      <td>network_scores/rare_neale_20016_fdr_25_zscore.tsv</td>\n",
       "      <td>Gene Name</td>\n",
       "      <td>control</td>\n",
       "    </tr>\n",
       "    <tr>\n",
       "      <th>4</th>\n",
       "      <td>4</td>\n",
       "      <td>rare_neale_20502_FDR_25</td>\n",
       "      <td>all tests FDR &lt;0.25</td>\n",
       "      <td>rare_variant_genebass/20502/20502_25FDR.tsv</td>\n",
       "      <td>tab</td>\n",
       "      <td>rare_neale_20502_fdr_25_zscore.tsv</td>\n",
       "      <td>network_scores/rare_neale_20502_FDR_25_zscore.tsv</td>\n",
       "      <td>network_scores/rare_neale_20502_fdr_25_zscore.tsv</td>\n",
       "      <td>Gene Name</td>\n",
       "      <td>control</td>\n",
       "    </tr>\n",
       "    <tr>\n",
       "      <th>5</th>\n",
       "      <td>5</td>\n",
       "      <td>rare_neale_2443_FDR_25</td>\n",
       "      <td>all tests FDR &lt;0.25</td>\n",
       "      <td>rare_variant_genebass/2443/2443_25FDR.tsv</td>\n",
       "      <td>tab</td>\n",
       "      <td>rare_neale_2443_fdr_25_zscore.tsv</td>\n",
       "      <td>network_scores/rare_neale_2443_FDR_25_zscore.tsv</td>\n",
       "      <td>network_scores/rare_neale_2443_fdr_25_zscore.tsv</td>\n",
       "      <td>Gene Name</td>\n",
       "      <td>control</td>\n",
       "    </tr>\n",
       "    <tr>\n",
       "      <th>6</th>\n",
       "      <td>6</td>\n",
       "      <td>rare_neale_4194_FDR_25</td>\n",
       "      <td>all tests FDR &lt;0.25</td>\n",
       "      <td>rare_variant_genebass/4194/4194_25FDR.tsv</td>\n",
       "      <td>tab</td>\n",
       "      <td>rare_neale_4194_fdr_25_zscore.tsv</td>\n",
       "      <td>network_scores/rare_neale_4194_FDR_25_zscore.tsv</td>\n",
       "      <td>network_scores/rare_neale_4194_fdr_25_zscore.tsv</td>\n",
       "      <td>Gene Name</td>\n",
       "      <td>control</td>\n",
       "    </tr>\n",
       "    <tr>\n",
       "      <th>7</th>\n",
       "      <td>7</td>\n",
       "      <td>rare_neale_78_FDR_25</td>\n",
       "      <td>all tests FDR &lt;0.25</td>\n",
       "      <td>rare_variant_genebass/78/78_25FDR.tsv</td>\n",
       "      <td>tab</td>\n",
       "      <td>rare_neale_78_fdr_25_zscore.tsv</td>\n",
       "      <td>network_scores/rare_neale_78_FDR_25_zscore.tsv</td>\n",
       "      <td>network_scores/rare_neale_78_fdr_25_zscore.tsv</td>\n",
       "      <td>Gene Name</td>\n",
       "      <td>control</td>\n",
       "    </tr>\n",
       "    <tr>\n",
       "      <th>8</th>\n",
       "      <td>8</td>\n",
       "      <td>rare_neale_C50_FDR_25</td>\n",
       "      <td>all tests FDR &lt;0.25</td>\n",
       "      <td>rare_variant_genebass/C50/C50_25FDR.tsv</td>\n",
       "      <td>tab</td>\n",
       "      <td>rare_neale_c50_fdr_25_zscore.tsv</td>\n",
       "      <td>network_scores/rare_neale_C50_FDR_25_zscore.tsv</td>\n",
       "      <td>network_scores/rare_neale_c50_fdr_25_zscore.tsv</td>\n",
       "      <td>Gene Name</td>\n",
       "      <td>control</td>\n",
       "    </tr>\n",
       "    <tr>\n",
       "      <th>9</th>\n",
       "      <td>9</td>\n",
       "      <td>rare_neale_C44_FDR_25</td>\n",
       "      <td>all tests FDR &lt;0.25</td>\n",
       "      <td>rare_variant_genebass/C44/C44_25FDR.tsv</td>\n",
       "      <td>tab</td>\n",
       "      <td>rare_neale_c44_fdr_25_zscore.tsv</td>\n",
       "      <td>network_scores/rare_neale_C44_FDR_25_zscore.tsv</td>\n",
       "      <td>network_scores/rare_neale_c44_fdr_25_zscore.tsv</td>\n",
       "      <td>Gene Name</td>\n",
       "      <td>control</td>\n",
       "    </tr>\n",
       "    <tr>\n",
       "      <th>10</th>\n",
       "      <td>10</td>\n",
       "      <td>rare_neale_100010_FDR_25</td>\n",
       "      <td>all tests FDR &lt;0.25</td>\n",
       "      <td>rare_variant_genebass/100010/100010_25FDR.tsv</td>\n",
       "      <td>tab</td>\n",
       "      <td>rare_neale_100010_fdr_25_zscore.tsv</td>\n",
       "      <td>network_scores/rare_neale_100010_FDR_25_zscore...</td>\n",
       "      <td>network_scores/rare_neale_100010_fdr_25_zscore...</td>\n",
       "      <td>Gene Name</td>\n",
       "      <td>control</td>\n",
       "    </tr>\n",
       "    <tr>\n",
       "      <th>11</th>\n",
       "      <td>11</td>\n",
       "      <td>rare_neale_100016_FDR_25</td>\n",
       "      <td>all tests FDR &lt;0.25</td>\n",
       "      <td>rare_variant_genebass/100016/100016_25FDR.tsv</td>\n",
       "      <td>tab</td>\n",
       "      <td>rare_neale_100016_fdr_25_zscore.tsv</td>\n",
       "      <td>network_scores/rare_neale_100016_FDR_25_zscore...</td>\n",
       "      <td>network_scores/rare_neale_100016_fdr_25_zscore...</td>\n",
       "      <td>Gene Name</td>\n",
       "      <td>control</td>\n",
       "    </tr>\n",
       "    <tr>\n",
       "      <th>12</th>\n",
       "      <td>12</td>\n",
       "      <td>rare_strin_allcut_alcoholintake</td>\n",
       "      <td>burden bonferroni &lt; 0.05 in the whole table of...</td>\n",
       "      <td>rare_variant_genebass/alcohol_intake/alcohol_i...</td>\n",
       "      <td>comma</td>\n",
       "      <td>rare_strin_allcut_alcoholintake_zscore.tsv</td>\n",
       "      <td>network_scores/rare_strin_allcut_alcoholintake...</td>\n",
       "      <td>network_scores/rare_strin_allcut_alcoholintake...</td>\n",
       "      <td>gene_symbol</td>\n",
       "      <td>alcohol</td>\n",
       "    </tr>\n",
       "  </tbody>\n",
       "</table>\n",
       "</div>"
      ],
      "text/plain": [
       "    index                            label  \\\n",
       "0       0             alcoholintake_FDR_25   \n",
       "1       1     rare_neale_20153_irnt_FDR_25   \n",
       "2       2     rare_neale_30110_irnt_FDR_25   \n",
       "3       3          rare_neale_20016_FDR_25   \n",
       "4       4          rare_neale_20502_FDR_25   \n",
       "5       5           rare_neale_2443_FDR_25   \n",
       "6       6           rare_neale_4194_FDR_25   \n",
       "7       7             rare_neale_78_FDR_25   \n",
       "8       8            rare_neale_C50_FDR_25   \n",
       "9       9            rare_neale_C44_FDR_25   \n",
       "10     10         rare_neale_100010_FDR_25   \n",
       "11     11         rare_neale_100016_FDR_25   \n",
       "12     12  rare_strin_allcut_alcoholintake   \n",
       "\n",
       "                                          cutoff used  \\\n",
       "0                                 all tests FDR <0.25   \n",
       "1                                 all tests FDR <0.25   \n",
       "2                                 all tests FDR <0.25   \n",
       "3                                 all tests FDR <0.25   \n",
       "4                                 all tests FDR <0.25   \n",
       "5                                 all tests FDR <0.25   \n",
       "6                                 all tests FDR <0.25   \n",
       "7                                 all tests FDR <0.25   \n",
       "8                                 all tests FDR <0.25   \n",
       "9                                 all tests FDR <0.25   \n",
       "10                                all tests FDR <0.25   \n",
       "11                                all tests FDR <0.25   \n",
       "12  burden bonferroni < 0.05 in the whole table of...   \n",
       "\n",
       "                                            seed_path  delim  \\\n",
       "0   rare_variant_genebass/alcohol_intake/alcohol_i...  comma   \n",
       "1   rare_variant_genebass/20153_irnt/20153_irnt_25...    tab   \n",
       "2   rare_variant_genebass/30110_irnt/30110_irnt_25...    tab   \n",
       "3         rare_variant_genebass/20016/20016_25FDR.tsv    tab   \n",
       "4         rare_variant_genebass/20502/20502_25FDR.tsv    tab   \n",
       "5           rare_variant_genebass/2443/2443_25FDR.tsv    tab   \n",
       "6           rare_variant_genebass/4194/4194_25FDR.tsv    tab   \n",
       "7               rare_variant_genebass/78/78_25FDR.tsv    tab   \n",
       "8             rare_variant_genebass/C50/C50_25FDR.tsv    tab   \n",
       "9             rare_variant_genebass/C44/C44_25FDR.tsv    tab   \n",
       "10      rare_variant_genebass/100010/100010_25FDR.tsv    tab   \n",
       "11      rare_variant_genebass/100016/100016_25FDR.tsv    tab   \n",
       "12  rare_variant_genebass/alcohol_intake/alcohol_i...  comma   \n",
       "\n",
       "                                   zscore_file  \\\n",
       "0              alcoholintake_fdr_25_zscore.tsv   \n",
       "1      rare_neale_20153_irnt_fdr_25_zscore.tsv   \n",
       "2      rare_neale_30110_irnt_fdr_25_zscore.tsv   \n",
       "3           rare_neale_20016_fdr_25_zscore.tsv   \n",
       "4           rare_neale_20502_fdr_25_zscore.tsv   \n",
       "5            rare_neale_2443_fdr_25_zscore.tsv   \n",
       "6            rare_neale_4194_fdr_25_zscore.tsv   \n",
       "7              rare_neale_78_fdr_25_zscore.tsv   \n",
       "8             rare_neale_c50_fdr_25_zscore.tsv   \n",
       "9             rare_neale_c44_fdr_25_zscore.tsv   \n",
       "10         rare_neale_100010_fdr_25_zscore.tsv   \n",
       "11         rare_neale_100016_fdr_25_zscore.tsv   \n",
       "12  rare_strin_allcut_alcoholintake_zscore.tsv   \n",
       "\n",
       "                                          zscore_path  \\\n",
       "0      network_scores/alcoholintake_FDR_25_zscore.tsv   \n",
       "1   network_scores/rare_neale_20153_irnt_FDR_25_zs...   \n",
       "2   network_scores/rare_neale_30110_irnt_FDR_25_zs...   \n",
       "3   network_scores/rare_neale_20016_FDR_25_zscore.tsv   \n",
       "4   network_scores/rare_neale_20502_FDR_25_zscore.tsv   \n",
       "5    network_scores/rare_neale_2443_FDR_25_zscore.tsv   \n",
       "6    network_scores/rare_neale_4194_FDR_25_zscore.tsv   \n",
       "7      network_scores/rare_neale_78_FDR_25_zscore.tsv   \n",
       "8     network_scores/rare_neale_C50_FDR_25_zscore.tsv   \n",
       "9     network_scores/rare_neale_C44_FDR_25_zscore.tsv   \n",
       "10  network_scores/rare_neale_100010_FDR_25_zscore...   \n",
       "11  network_scores/rare_neale_100016_FDR_25_zscore...   \n",
       "12  network_scores/rare_strin_allcut_alcoholintake...   \n",
       "\n",
       "                                           Unnamed: 6 seed_gene_name  \\\n",
       "0      network_scores/alcoholintake_fdr_25_zscore.tsv      Gene Name   \n",
       "1   network_scores/rare_neale_20153_irnt_fdr_25_zs...      Gene Name   \n",
       "2   network_scores/rare_neale_30110_irnt_fdr_25_zs...      Gene Name   \n",
       "3   network_scores/rare_neale_20016_fdr_25_zscore.tsv      Gene Name   \n",
       "4   network_scores/rare_neale_20502_fdr_25_zscore.tsv      Gene Name   \n",
       "5    network_scores/rare_neale_2443_fdr_25_zscore.tsv      Gene Name   \n",
       "6    network_scores/rare_neale_4194_fdr_25_zscore.tsv      Gene Name   \n",
       "7      network_scores/rare_neale_78_fdr_25_zscore.tsv      Gene Name   \n",
       "8     network_scores/rare_neale_c50_fdr_25_zscore.tsv      Gene Name   \n",
       "9     network_scores/rare_neale_c44_fdr_25_zscore.tsv      Gene Name   \n",
       "10  network_scores/rare_neale_100010_fdr_25_zscore...      Gene Name   \n",
       "11  network_scores/rare_neale_100016_fdr_25_zscore...      Gene Name   \n",
       "12  network_scores/rare_strin_allcut_alcoholintake...    gene_symbol   \n",
       "\n",
       "   phenotype_group  \n",
       "0          alcohol  \n",
       "1          control  \n",
       "2          control  \n",
       "3          control  \n",
       "4          control  \n",
       "5          control  \n",
       "6          control  \n",
       "7          control  \n",
       "8          control  \n",
       "9          control  \n",
       "10         control  \n",
       "11         control  \n",
       "12         alcohol  "
      ]
     },
     "execution_count": 20,
     "metadata": {},
     "output_type": "execute_result"
    }
   ],
   "source": [
    "runsets"
   ]
  },
  {
   "cell_type": "code",
   "execution_count": null,
   "id": "b7f7334b-ff64-4ee1-9d36-d96a26e861a7",
   "metadata": {},
   "outputs": [],
   "source": [
    "for row in range(len(runsets)):\n",
    "    print('processing '+runsets['label'][row])\n",
    "    run_net_prop(runsets['seed_path'][row], runsets['label'][row],'0',runsets['seed_gene_name'][row],\n",
    "                 runsets['delim'][row],'no_cutoff',\n",
    "                interactome_name)"
   ]
  }
 ],
 "metadata": {
  "kernelspec": {
   "display_name": "Python [conda env:env-std-py38]",
   "language": "python",
   "name": "conda-env-env-std-py38-py"
  },
  "language_info": {
   "codemirror_mode": {
    "name": "ipython",
    "version": 3
   },
   "file_extension": ".py",
   "mimetype": "text/x-python",
   "name": "python",
   "nbconvert_exporter": "python",
   "pygments_lexer": "ipython3",
   "version": "3.8.13"
  }
 },
 "nbformat": 4,
 "nbformat_minor": 5
}
