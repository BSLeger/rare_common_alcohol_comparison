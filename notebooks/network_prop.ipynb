{
 "cells": [
  {
   "cell_type": "markdown",
   "id": "0bd52859-e24a-46f0-bc17-43ac4bf496c6",
   "metadata": {},
   "source": [
    "# purpose and use notes"
   ]
  },
  {
   "cell_type": "markdown",
   "id": "3975a6e8-2200-44e5-8a25-5f7adeeaba3f",
   "metadata": {},
   "source": [
    "purpose: generates NPS scores for traits used in this paper. If overwrite_file==TRUE, the network propagation scores will be overwritten with the newly generated scores. This will affect all downstream analyses.\n",
    "\n",
    "runs network propagation (typically in pcnet v1.4) from seed genes saved in a file- accessed from meta data csv. if rerun==TRUE, then network propagation scores will be recalculated."
   ]
  },
  {
   "cell_type": "markdown",
   "id": "e3d4187a-cb0a-4ff0-b74a-e050dac374fb",
   "metadata": {},
   "source": [
    "# setup"
   ]
  },
  {
   "cell_type": "code",
   "execution_count": 7,
   "id": "4e75e497-9c62-4faf-b7f6-6a8a6c1295c2",
   "metadata": {
    "tags": []
   },
   "outputs": [],
   "source": [
    "#read in libraries\n",
    "from rca_functions import *\n",
    "import os\n",
    "import numpy as np\n",
    "import pandas as pd\n",
    "import matplotlib.pyplot as plt\n",
    "import scipy.stats as stats\n",
    "import matplotlib\n",
    "from matplotlib_venn import venn2 \n",
    "from scipy.stats import hypergeom\n",
    "import statsmodels.stats.multitest\n",
    "import rca_functions\n",
    "import ndex2\n",
    "import networkx as nx\n",
    "from netcoloc import netprop_zscore\n",
    "from netcoloc import netprop\n",
    "from netcoloc import network_colocalization\n",
    "import sys"
   ]
  },
  {
   "cell_type": "code",
   "execution_count": 2,
   "id": "d0581bc2-3a97-4a64-8b19-f00944305444",
   "metadata": {
    "tags": []
   },
   "outputs": [],
   "source": [
    "os.chdir('../')"
   ]
  },
  {
   "cell_type": "code",
   "execution_count": 14,
   "id": "bc8d9246-7903-4005-b411-3210a3c4e41c",
   "metadata": {},
   "outputs": [
    {
     "data": {
      "text/plain": [
       "'/Users/brittanyleger/Documents/GitHub/rare_common_alcohol_comparison'"
      ]
     },
     "execution_count": 14,
     "metadata": {},
     "output_type": "execute_result"
    }
   ],
   "source": [
    "os.getcwd()"
   ]
  },
  {
   "cell_type": "code",
   "execution_count": 4,
   "id": "f8e0be7c-86e7-4423-b5ef-d7e84637dd86",
   "metadata": {},
   "outputs": [],
   "source": [
    "save_file=False"
   ]
  },
  {
   "cell_type": "markdown",
   "id": "04865e63-c410-489d-a506-709b248d0e02",
   "metadata": {},
   "source": [
    "# Interactome Set-up"
   ]
  },
  {
   "cell_type": "code",
   "execution_count": 5,
   "id": "60560dc2-45e2-4420-ab9d-50651a1b56f2",
   "metadata": {},
   "outputs": [],
   "source": [
    "interactome_name='pcnet_v14'"
   ]
  },
  {
   "cell_type": "code",
   "execution_count": 9,
   "id": "88c3d0c0-9554-43fa-8ab1-d3a435da3abe",
   "metadata": {},
   "outputs": [
    {
     "name": "stdout",
     "output_type": "stream",
     "text": [
      "pcnet_v14\n",
      "number of nodes:\n",
      "18630\n",
      "\n",
      "number of edges:\n",
      "2687393\n"
     ]
    }
   ],
   "source": [
    "graph=import_interactome(interactome_name)"
   ]
  },
  {
   "cell_type": "code",
   "execution_count": 10,
   "id": "dd34ffa4-d161-46d5-9b2c-b1646ef31aba",
   "metadata": {},
   "outputs": [
    {
     "name": "stdout",
     "output_type": "stream",
     "text": [
      "\n",
      "calculating w_prime\n",
      "\n",
      "calculating w_double_prime\n"
     ]
    }
   ],
   "source": [
    "# pre calculate the matricies used for network propagation\n",
    "print('\\ncalculating w_prime')\n",
    "w_prime = netprop.get_normalized_adjacency_matrix(graph, conserve_heat=True)\n",
    "\n",
    "print('\\ncalculating w_double_prime')\n",
    "w_double_prime = netprop.get_individual_heats_matrix(w_prime, .5)"
   ]
  },
  {
   "cell_type": "code",
   "execution_count": 23,
   "id": "72d8418f-592d-4964-ab3f-5946538f34ca",
   "metadata": {},
   "outputs": [],
   "source": [
    "common_datasets=pd.read_csv('common_datasets_prepub.csv',sep=',')\n",
    "rare_datasets=pd.read_csv('rare_datasets_prepub.csv',sep=',')"
   ]
  },
  {
   "cell_type": "markdown",
   "id": "2284a152-d28b-4000-834b-01fe0811aa98",
   "metadata": {
    "tags": []
   },
   "source": [
    "# rare gene data analysis"
   ]
  },
  {
   "cell_type": "code",
   "execution_count": 24,
   "id": "a972c662-cd79-4bfc-92a8-8bd4ef7601f7",
   "metadata": {
    "scrolled": true,
    "tags": []
   },
   "outputs": [
    {
     "data": {
      "text/html": [
       "<div>\n",
       "<style scoped>\n",
       "    .dataframe tbody tr th:only-of-type {\n",
       "        vertical-align: middle;\n",
       "    }\n",
       "\n",
       "    .dataframe tbody tr th {\n",
       "        vertical-align: top;\n",
       "    }\n",
       "\n",
       "    .dataframe thead th {\n",
       "        text-align: right;\n",
       "    }\n",
       "</style>\n",
       "<table border=\"1\" class=\"dataframe\">\n",
       "  <thead>\n",
       "    <tr style=\"text-align: right;\">\n",
       "      <th></th>\n",
       "      <th>label</th>\n",
       "      <th>cutoff used</th>\n",
       "      <th>seed_path</th>\n",
       "      <th>delim</th>\n",
       "      <th>zscore_file</th>\n",
       "      <th>zscore_path</th>\n",
       "      <th>seed_gene_name</th>\n",
       "      <th>phenotype_group</th>\n",
       "    </tr>\n",
       "  </thead>\n",
       "  <tbody>\n",
       "    <tr>\n",
       "      <th>0</th>\n",
       "      <td>alcoholintake_FDR_25</td>\n",
       "      <td>all tests FDR &lt;0.25</td>\n",
       "      <td>input_files/rare_variant_genebass/alcohol_inta...</td>\n",
       "      <td>comma</td>\n",
       "      <td>alcoholintake_fdr_25_zscore.tsv</td>\n",
       "      <td>calculated_values/network_scores/alcoholintake...</td>\n",
       "      <td>Gene Name</td>\n",
       "      <td>alcohol</td>\n",
       "    </tr>\n",
       "    <tr>\n",
       "      <th>1</th>\n",
       "      <td>rare_neale_20153_irnt_FDR_25</td>\n",
       "      <td>all tests FDR &lt;0.25</td>\n",
       "      <td>input_files/rare_variant_genebass/20153_irnt/2...</td>\n",
       "      <td>tab</td>\n",
       "      <td>rare_neale_20153_irnt_fdr_25_zscore.tsv</td>\n",
       "      <td>calculated_values/network_scores/rare_neale_20...</td>\n",
       "      <td>Gene Name</td>\n",
       "      <td>control</td>\n",
       "    </tr>\n",
       "    <tr>\n",
       "      <th>2</th>\n",
       "      <td>rare_neale_20016_FDR_25</td>\n",
       "      <td>all tests FDR &lt;0.25</td>\n",
       "      <td>input_files/rare_variant_genebass/20016/20016_...</td>\n",
       "      <td>tab</td>\n",
       "      <td>rare_neale_20016_fdr_25_zscore.tsv</td>\n",
       "      <td>calculated_values/network_scores/rare_neale_20...</td>\n",
       "      <td>Gene Name</td>\n",
       "      <td>control</td>\n",
       "    </tr>\n",
       "    <tr>\n",
       "      <th>3</th>\n",
       "      <td>rare_neale_4194_FDR_25</td>\n",
       "      <td>all tests FDR &lt;0.25</td>\n",
       "      <td>input_files/rare_variant_genebass/4194/4194_25...</td>\n",
       "      <td>tab</td>\n",
       "      <td>rare_neale_4194_fdr_25_zscore.tsv</td>\n",
       "      <td>calculated_values/network_scores/rare_neale_41...</td>\n",
       "      <td>Gene Name</td>\n",
       "      <td>control</td>\n",
       "    </tr>\n",
       "    <tr>\n",
       "      <th>4</th>\n",
       "      <td>rare_neale_78_FDR_25</td>\n",
       "      <td>all tests FDR &lt;0.25</td>\n",
       "      <td>input_files/rare_variant_genebass/78/78_25FDR.tsv</td>\n",
       "      <td>tab</td>\n",
       "      <td>rare_neale_78_fdr_25_zscore.tsv</td>\n",
       "      <td>calculated_values/network_scores/rare_neale_78...</td>\n",
       "      <td>Gene Name</td>\n",
       "      <td>control</td>\n",
       "    </tr>\n",
       "    <tr>\n",
       "      <th>5</th>\n",
       "      <td>rare_neale_C50_FDR_25</td>\n",
       "      <td>all tests FDR &lt;0.25</td>\n",
       "      <td>input_files/rare_variant_genebass/C50/C50_25FD...</td>\n",
       "      <td>tab</td>\n",
       "      <td>rare_neale_c50_fdr_25_zscore.tsv</td>\n",
       "      <td>calculated_values/network_scores/rare_neale_c5...</td>\n",
       "      <td>Gene Name</td>\n",
       "      <td>control</td>\n",
       "    </tr>\n",
       "    <tr>\n",
       "      <th>6</th>\n",
       "      <td>rare_neale_C44_FDR_25</td>\n",
       "      <td>all tests FDR &lt;0.25</td>\n",
       "      <td>input_files/rare_variant_genebass/C44/C44_25FD...</td>\n",
       "      <td>tab</td>\n",
       "      <td>rare_neale_c44_fdr_25_zscore.tsv</td>\n",
       "      <td>calculated_values/network_scores/rare_neale_c4...</td>\n",
       "      <td>Gene Name</td>\n",
       "      <td>control</td>\n",
       "    </tr>\n",
       "    <tr>\n",
       "      <th>7</th>\n",
       "      <td>rare_neale_100016_FDR_25</td>\n",
       "      <td>all tests FDR &lt;0.25</td>\n",
       "      <td>input_files/rare_variant_genebass/100016/10001...</td>\n",
       "      <td>tab</td>\n",
       "      <td>rare_neale_100016_fdr_25_zscore.tsv</td>\n",
       "      <td>calculated_values/network_scores/rare_neale_10...</td>\n",
       "      <td>Gene Name</td>\n",
       "      <td>control</td>\n",
       "    </tr>\n",
       "    <tr>\n",
       "      <th>8</th>\n",
       "      <td>rare_strin_allcut_alcoholintake</td>\n",
       "      <td>burden bonferroni &lt; 0.05 in the whole table of...</td>\n",
       "      <td>input_files/rare_variant_genebass/alcohol_inta...</td>\n",
       "      <td>comma</td>\n",
       "      <td>rare_strin_allcut_alcoholintake_zscore.tsv</td>\n",
       "      <td>calculated_values/network_scores/rare_strin_al...</td>\n",
       "      <td>gene_symbol</td>\n",
       "      <td>alcohol</td>\n",
       "    </tr>\n",
       "  </tbody>\n",
       "</table>\n",
       "</div>"
      ],
      "text/plain": [
       "                             label  \\\n",
       "0             alcoholintake_FDR_25   \n",
       "1     rare_neale_20153_irnt_FDR_25   \n",
       "2          rare_neale_20016_FDR_25   \n",
       "3           rare_neale_4194_FDR_25   \n",
       "4             rare_neale_78_FDR_25   \n",
       "5            rare_neale_C50_FDR_25   \n",
       "6            rare_neale_C44_FDR_25   \n",
       "7         rare_neale_100016_FDR_25   \n",
       "8  rare_strin_allcut_alcoholintake   \n",
       "\n",
       "                                         cutoff used  \\\n",
       "0                                all tests FDR <0.25   \n",
       "1                                all tests FDR <0.25   \n",
       "2                                all tests FDR <0.25   \n",
       "3                                all tests FDR <0.25   \n",
       "4                                all tests FDR <0.25   \n",
       "5                                all tests FDR <0.25   \n",
       "6                                all tests FDR <0.25   \n",
       "7                                all tests FDR <0.25   \n",
       "8  burden bonferroni < 0.05 in the whole table of...   \n",
       "\n",
       "                                           seed_path  delim  \\\n",
       "0  input_files/rare_variant_genebass/alcohol_inta...  comma   \n",
       "1  input_files/rare_variant_genebass/20153_irnt/2...    tab   \n",
       "2  input_files/rare_variant_genebass/20016/20016_...    tab   \n",
       "3  input_files/rare_variant_genebass/4194/4194_25...    tab   \n",
       "4  input_files/rare_variant_genebass/78/78_25FDR.tsv    tab   \n",
       "5  input_files/rare_variant_genebass/C50/C50_25FD...    tab   \n",
       "6  input_files/rare_variant_genebass/C44/C44_25FD...    tab   \n",
       "7  input_files/rare_variant_genebass/100016/10001...    tab   \n",
       "8  input_files/rare_variant_genebass/alcohol_inta...  comma   \n",
       "\n",
       "                                  zscore_file  \\\n",
       "0             alcoholintake_fdr_25_zscore.tsv   \n",
       "1     rare_neale_20153_irnt_fdr_25_zscore.tsv   \n",
       "2          rare_neale_20016_fdr_25_zscore.tsv   \n",
       "3           rare_neale_4194_fdr_25_zscore.tsv   \n",
       "4             rare_neale_78_fdr_25_zscore.tsv   \n",
       "5            rare_neale_c50_fdr_25_zscore.tsv   \n",
       "6            rare_neale_c44_fdr_25_zscore.tsv   \n",
       "7         rare_neale_100016_fdr_25_zscore.tsv   \n",
       "8  rare_strin_allcut_alcoholintake_zscore.tsv   \n",
       "\n",
       "                                         zscore_path seed_gene_name  \\\n",
       "0  calculated_values/network_scores/alcoholintake...      Gene Name   \n",
       "1  calculated_values/network_scores/rare_neale_20...      Gene Name   \n",
       "2  calculated_values/network_scores/rare_neale_20...      Gene Name   \n",
       "3  calculated_values/network_scores/rare_neale_41...      Gene Name   \n",
       "4  calculated_values/network_scores/rare_neale_78...      Gene Name   \n",
       "5  calculated_values/network_scores/rare_neale_c5...      Gene Name   \n",
       "6  calculated_values/network_scores/rare_neale_c4...      Gene Name   \n",
       "7  calculated_values/network_scores/rare_neale_10...      Gene Name   \n",
       "8  calculated_values/network_scores/rare_strin_al...    gene_symbol   \n",
       "\n",
       "  phenotype_group  \n",
       "0         alcohol  \n",
       "1         control  \n",
       "2         control  \n",
       "3         control  \n",
       "4         control  \n",
       "5         control  \n",
       "6         control  \n",
       "7         control  \n",
       "8         alcohol  "
      ]
     },
     "execution_count": 24,
     "metadata": {},
     "output_type": "execute_result"
    }
   ],
   "source": [
    "rare_datasets"
   ]
  },
  {
   "cell_type": "code",
   "execution_count": null,
   "id": "672edb52-d6e2-4f65-90c3-7f3168602dce",
   "metadata": {},
   "outputs": [],
   "source": [
    "#import seed genes- rare\n",
    "for row in range(len(rare_datasets)):\n",
    "    seed_genes = set(import_seedgenes(rare_datasets['seed_path'][row], \n",
    "                                      None, \n",
    "                                      rare_datasets['seed_gene_name'][row], \n",
    "                                      rare_datasets['delim'][row])[rare_datasets['seed_gene_name'][row]])\n",
    "    #filter for only genes in the interactome\n",
    "    seed_genes = list(seed_genes.intersection(graph.nodes()))\n",
    "\n",
    "    NPSc, Fnew_score, Fnew_rand_score = netprop_zscore.calculate_heat_zscores(\n",
    "        w_double_prime,  \n",
    "        list(graph.nodes()),\n",
    "        dict(graph.degree), \n",
    "        seed_genes, num_reps=1000,\n",
    "        minimum_bin_size=100)\n",
    "    print(NPSc.head())\n",
    "    print('calculated_values/network_scores/'+rare_datasets['label'][row]+'_zscore.tsv')\n",
    "    if save_file:\n",
    "        NPSc.to_csv(('calculated_values/network_scores/'+rare_datasets['label'][row]+'_zscore.tsv').lower(),sep='\\t',header=False)"
   ]
  },
  {
   "cell_type": "markdown",
   "id": "d9c0dd06-c186-425f-a283-5c71164c5c4e",
   "metadata": {},
   "source": [
    "# common gene data analysis"
   ]
  },
  {
   "cell_type": "code",
   "execution_count": 46,
   "id": "0e71077a-509a-47a4-b0b2-1b0109a1915a",
   "metadata": {},
   "outputs": [
    {
     "data": {
      "text/html": [
       "<div>\n",
       "<style scoped>\n",
       "    .dataframe tbody tr th:only-of-type {\n",
       "        vertical-align: middle;\n",
       "    }\n",
       "\n",
       "    .dataframe tbody tr th {\n",
       "        vertical-align: top;\n",
       "    }\n",
       "\n",
       "    .dataframe thead th {\n",
       "        text-align: right;\n",
       "    }\n",
       "</style>\n",
       "<table border=\"1\" class=\"dataframe\">\n",
       "  <thead>\n",
       "    <tr style=\"text-align: right;\">\n",
       "      <th></th>\n",
       "      <th>group</th>\n",
       "      <th>snp2gene_method</th>\n",
       "      <th>label</th>\n",
       "      <th>phenotype_group</th>\n",
       "      <th>seed_path</th>\n",
       "      <th>delim</th>\n",
       "      <th>zscore_file</th>\n",
       "      <th>zscore_path</th>\n",
       "      <th>seed_p</th>\n",
       "      <th>seed_gene_name</th>\n",
       "      <th>description</th>\n",
       "      <th>cutoff</th>\n",
       "    </tr>\n",
       "  </thead>\n",
       "  <tbody>\n",
       "    <tr>\n",
       "      <th>0</th>\n",
       "      <td>GSCAN_DPW</td>\n",
       "      <td>magma</td>\n",
       "      <td>GSCAN_DPW_magma</td>\n",
       "      <td>alcohol</td>\n",
       "      <td>input_files/GSCAN_DPW/GSCAN_DPW_magma_results.csv</td>\n",
       "      <td>comma</td>\n",
       "      <td>gscan_dpw_magma_zscore.tsv</td>\n",
       "      <td>calculated_values/network_scores/gscan_dpw_mag...</td>\n",
       "      <td>P</td>\n",
       "      <td>GENE_NAME</td>\n",
       "      <td>drinks_per_week_gscan</td>\n",
       "      <td>bonferroni</td>\n",
       "    </tr>\n",
       "    <tr>\n",
       "      <th>1</th>\n",
       "      <td>neale_20153_irnt</td>\n",
       "      <td>magma</td>\n",
       "      <td>neale_20153_irnt_magma</td>\n",
       "      <td>control</td>\n",
       "      <td>input_files/neale_ctrl/20153_magma_output.tsv</td>\n",
       "      <td>NaN</td>\n",
       "      <td>neale_20153_magma_zscore.tsv</td>\n",
       "      <td>calculated_values/network_scores/neale_20153_m...</td>\n",
       "      <td>P</td>\n",
       "      <td>SYMBOL</td>\n",
       "      <td>FEV1</td>\n",
       "      <td>bonferroni</td>\n",
       "    </tr>\n",
       "    <tr>\n",
       "      <th>2</th>\n",
       "      <td>neale_4104_irnt</td>\n",
       "      <td>magma</td>\n",
       "      <td>neale_4104_irnt_magma</td>\n",
       "      <td>control</td>\n",
       "      <td>input_files/neale_ctrl/4104_magma_output.tsv</td>\n",
       "      <td>tab</td>\n",
       "      <td>neale_4104_irnt_magma_zscore.tsv</td>\n",
       "      <td>calculated_values/network_scores/neale_4104_ir...</td>\n",
       "      <td>P</td>\n",
       "      <td>SYMBOL</td>\n",
       "      <td>heel_bone_density</td>\n",
       "      <td>bonferroni</td>\n",
       "    </tr>\n",
       "  </tbody>\n",
       "</table>\n",
       "</div>"
      ],
      "text/plain": [
       "              group snp2gene_method                   label phenotype_group  \\\n",
       "0         GSCAN_DPW           magma         GSCAN_DPW_magma         alcohol   \n",
       "1  neale_20153_irnt           magma  neale_20153_irnt_magma         control   \n",
       "2   neale_4104_irnt           magma   neale_4104_irnt_magma         control   \n",
       "\n",
       "                                           seed_path  delim  \\\n",
       "0  input_files/GSCAN_DPW/GSCAN_DPW_magma_results.csv  comma   \n",
       "1      input_files/neale_ctrl/20153_magma_output.tsv    NaN   \n",
       "2       input_files/neale_ctrl/4104_magma_output.tsv    tab   \n",
       "\n",
       "                        zscore_file  \\\n",
       "0        gscan_dpw_magma_zscore.tsv   \n",
       "1      neale_20153_magma_zscore.tsv   \n",
       "2  neale_4104_irnt_magma_zscore.tsv   \n",
       "\n",
       "                                         zscore_path seed_p seed_gene_name  \\\n",
       "0  calculated_values/network_scores/gscan_dpw_mag...      P      GENE_NAME   \n",
       "1  calculated_values/network_scores/neale_20153_m...      P         SYMBOL   \n",
       "2  calculated_values/network_scores/neale_4104_ir...      P         SYMBOL   \n",
       "\n",
       "             description      cutoff  \n",
       "0  drinks_per_week_gscan  bonferroni  \n",
       "1                   FEV1  bonferroni  \n",
       "2      heel_bone_density  bonferroni  "
      ]
     },
     "execution_count": 46,
     "metadata": {},
     "output_type": "execute_result"
    }
   ],
   "source": [
    "common_datasets"
   ]
  },
  {
   "cell_type": "code",
   "execution_count": null,
   "id": "8f17d056-a5ea-424e-a0c1-d49dfe98f1b5",
   "metadata": {},
   "outputs": [],
   "source": [
    "#import seed genes- common\n",
    "for row in range(len(common_datasets)):\n",
    "    seed_genes = set(import_seedgenes(path=common_datasets['seed_path'][row], \n",
    "                                      pcol=common_datasets['seed_p'][row], \n",
    "                                      gene_col=common_datasets['seed_gene_name'][row], \n",
    "                                      delim=common_datasets['delim'][row],\n",
    "                                     cutoff=common_datasets['cutoff'][row])[common_datasets['seed_gene_name'][row]])\n",
    "    #filter for only genes in the interactome\n",
    "    seed_genes = list(seed_genes.intersection(graph.nodes()))\n",
    "\n",
    "    NPSc, Fnew_score, Fnew_rand_score = netprop_zscore.calculate_heat_zscores(\n",
    "        w_double_prime,  \n",
    "        list(graph.nodes()),\n",
    "        dict(graph.degree), \n",
    "        seed_genes, num_reps=1000,\n",
    "        minimum_bin_size=100)\n",
    "    print(NPSc.head())\n",
    "    print(('calculated_values/network_scores/'+common_datasets['label'][row]+'_zscore.tsv').lower())\n",
    "    if save_file:\n",
    "        NPSc.to_csv('calculated_values/network_scores/'+common_datasets['label'][row]+'_zscore.tsv',sep='\\t',header=False)"
   ]
  }
 ],
 "metadata": {
  "kernelspec": {
   "display_name": "Python 3 (ipykernel)",
   "language": "python",
   "name": "python3"
  },
  "language_info": {
   "codemirror_mode": {
    "name": "ipython",
    "version": 3
   },
   "file_extension": ".py",
   "mimetype": "text/x-python",
   "name": "python",
   "nbconvert_exporter": "python",
   "pygments_lexer": "ipython3",
   "version": "3.9.12"
  }
 },
 "nbformat": 4,
 "nbformat_minor": 5
}
