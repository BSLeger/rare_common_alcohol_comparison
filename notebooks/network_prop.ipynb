{
 "cells": [
  {
   "cell_type": "markdown",
   "id": "0bd52859-e24a-46f0-bc17-43ac4bf496c6",
   "metadata": {},
   "source": [
    "# purpose and use notes"
   ]
  },
  {
   "cell_type": "markdown",
   "id": "3975a6e8-2200-44e5-8a25-5f7adeeaba3f",
   "metadata": {},
   "source": [
    "purpose: generates NPS scores for traits used in this paper. If overwrite_file==TRUE, the network propagation scores will be overwritten with the newly generated scores. This will affect all downstream analyses.\n",
    "\n",
    "runs network propagation (typically in pcnet v1.4) from seed genes saved in a file- accessed from meta data csv. if rerun==TRUE, then network propagation scores will be recalculated."
   ]
  },
  {
   "cell_type": "markdown",
   "id": "e3d4187a-cb0a-4ff0-b74a-e050dac374fb",
   "metadata": {},
   "source": [
    "# setup"
   ]
  },
  {
   "cell_type": "code",
   "execution_count": 3,
   "id": "4e75e497-9c62-4faf-b7f6-6a8a6c1295c2",
   "metadata": {
    "tags": []
   },
   "outputs": [],
   "source": [
    "#read in libraries\n",
    "#from rca_functions import *\n",
    "import os\n",
    "import numpy as np\n",
    "import pandas as pd\n",
    "import matplotlib.pyplot as plt\n",
    "import scipy.stats as stats\n",
    "import matplotlib\n",
    "from matplotlib_venn import venn2 \n",
    "from scipy.stats import hypergeom\n",
    "import statsmodels.stats.multitest\n",
    "import rca_functions\n",
    "import ndex2\n",
    "import networkx as nx\n",
    "from netcoloc import netprop_zscore\n",
    "from netcoloc import netprop\n",
    "from netcoloc import network_colocalization\n",
    "import sys"
   ]
  },
  {
   "cell_type": "code",
   "execution_count": 4,
   "id": "d0581bc2-3a97-4a64-8b19-f00944305444",
   "metadata": {
    "tags": []
   },
   "outputs": [],
   "source": [
    "os.chdir('../')"
   ]
  },
  {
   "cell_type": "code",
   "execution_count": 5,
   "id": "bc8d9246-7903-4005-b411-3210a3c4e41c",
   "metadata": {},
   "outputs": [
    {
     "data": {
      "text/plain": [
       "'/tscc/projects/ps-palmer/brittany/rare_common_alcohol_comparison'"
      ]
     },
     "execution_count": 5,
     "metadata": {},
     "output_type": "execute_result"
    }
   ],
   "source": [
    "os.getcwd()"
   ]
  },
  {
   "cell_type": "code",
   "execution_count": 6,
   "id": "f8e0be7c-86e7-4423-b5ef-d7e84637dd86",
   "metadata": {},
   "outputs": [],
   "source": [
    "save_file=False"
   ]
  },
  {
   "cell_type": "markdown",
   "id": "04865e63-c410-489d-a506-709b248d0e02",
   "metadata": {},
   "source": [
    "# Interactome Set-up"
   ]
  },
  {
   "cell_type": "code",
   "execution_count": 7,
   "id": "1749aa29-14e5-4acb-8d2d-1687208ecceb",
   "metadata": {},
   "outputs": [],
   "source": [
    "UUIDs= {\n",
    "    'pcnet_v14':'c3554b4e-8c81-11ed-a157-005056ae23aa',\n",
    "    'pcnet_v13':'4de852d9-9908-11e9-bcaf-0ac135e8bacf',\n",
    "    'string':'98ba6a19-586e-11e7-8f50-0ac135e8bacf',\n",
    "    'humanNet_v3_FN': '40913318-3a9c-11ed-ac45-0ac135e8bacf',\n",
    "    'ACN':'29b2d215-07fd-11ef-9621-005056ae23aa',\n",
    "\t'ACN_unannot':'f81a3f67-4215-11ee-aa50-005056ae23aa',\n",
    "\t'ACN_strin':'48de252c-3d50-11ee-aa50-005056ae23aa',\n",
    "}\n",
    "\n",
    "def import_interactome(interactome_name=None, ndex_user=None, ndex_password=None,UUID=None):\n",
    "    interactome_uuid=UUIDs[interactome_name]\n",
    "    print(interactome_name)\n",
    "    ndex_server='public.ndexbio.org'\n",
    "    #import network based on provided interactome key\n",
    "    if (interactome_name in UUIDs.keys()):\n",
    "        graph = ndex2.create_nice_cx_from_server(\n",
    "                    ndex_server, \n",
    "                    username=ndex_user, \n",
    "                    password=ndex_password, \n",
    "                    uuid=interactome_uuid\n",
    "                ).to_networkx()\n",
    "        if (interactome_name=='pcnet_v14'):\n",
    "            graph=nx.relabel_nodes(graph, nx.get_node_attributes(graph, 'HGNC Symbol'))\n",
    "        # print out interactome num nodes and edges for diagnostic purposes\n",
    "        print('number of nodes:')\n",
    "        print(len(graph.nodes))\n",
    "        print('\\nnumber of edges:')\n",
    "        print(len(graph.edges))\n",
    "        return(graph)\n",
    "    elif(interactome_name==None & UUID!=None):\n",
    "        print('using novel UUID. For UUIDs used in this study, see UUID_dict')\n",
    "        graph = ndex2.create_nice_cx_from_server(\n",
    "            ndex_server, \n",
    "            username=ndex_user, \n",
    "            password=ndex_password, \n",
    "            uuid=UUID\n",
    "        ).to_networkx()\n",
    "        # print out interactome num nodes and edges for diagnostic purposes\n",
    "        print('number of nodes:')\n",
    "        print(len(graph.nodes))\n",
    "        print('\\nnumber of edges:')\n",
    "        print(len(graph.edges))\n",
    "        return(graph)\n",
    "    else:\n",
    "        print('UUID/interactome name not provided- please provide either to import interactome.')\n",
    "    #relabel the nodes with the gene name instead of an arbitrary number\n"
   ]
  },
  {
   "cell_type": "code",
   "execution_count": 8,
   "id": "60560dc2-45e2-4420-ab9d-50651a1b56f2",
   "metadata": {},
   "outputs": [],
   "source": [
    "interactome_name='pcnet_v14'"
   ]
  },
  {
   "cell_type": "code",
   "execution_count": 9,
   "id": "88c3d0c0-9554-43fa-8ab1-d3a435da3abe",
   "metadata": {},
   "outputs": [
    {
     "name": "stdout",
     "output_type": "stream",
     "text": [
      "pcnet_v14\n",
      "number of nodes:\n",
      "18630\n",
      "\n",
      "number of edges:\n",
      "2687393\n"
     ]
    }
   ],
   "source": [
    "graph=import_interactome(interactome_name)"
   ]
  },
  {
   "cell_type": "code",
   "execution_count": null,
   "id": "dd34ffa4-d161-46d5-9b2c-b1646ef31aba",
   "metadata": {},
   "outputs": [
    {
     "name": "stdout",
     "output_type": "stream",
     "text": [
      "\n",
      "calculating w_prime\n",
      "\n",
      "calculating w_double_prime\n"
     ]
    }
   ],
   "source": [
    "# pre calculate the matricies used for network propagation\n",
    "print('\\ncalculating w_prime')\n",
    "w_prime = netprop.get_normalized_adjacency_matrix(graph, conserve_heat=True)\n",
    "\n",
    "print('\\ncalculating w_double_prime')\n",
    "w_double_prime = netprop.get_individual_heats_matrix(w_prime, .5)"
   ]
  },
  {
   "cell_type": "markdown",
   "id": "2284a152-d28b-4000-834b-01fe0811aa98",
   "metadata": {
    "tags": []
   },
   "source": [
    "# common gene data analysis"
   ]
  },
  {
   "cell_type": "code",
   "execution_count": null,
   "id": "c263bb34-0ee4-4014-b652-9ff6149bcd3b",
   "metadata": {},
   "outputs": [],
   "source": [
    "def import_seedgenes(path,pcol='P',gene_col='GENE NAME',delim='comma', cutoff=None):\n",
    "    if delim=='comma':\n",
    "        df=pd.read_csv(path,sep=',')\n",
    "    else:\n",
    "        df=pd.read_csv(path,sep='\\t')\n",
    "    if pcol==None:\n",
    "        print('pvalue column not specified- all genes will be used')\n",
    "        cutoff=None\n",
    "    if cutoff=='bonferroni':\n",
    "        df=df[df[pcol]<0.05/len(df)]\n",
    "    elif cutoff=='FDR':\n",
    "        df['pval_FDR']=statsmodels.stats.multitest.fdrcorrection(df[pcol],alpha=0.05,method='indep',is_sorted=False)[1]\n",
    "        df=df[df['pval_FDR']<0.05]\n",
    "    else:\n",
    "        print('cutoff not defined/custom- using all genes ')\n",
    "        df=df\n",
    "    print(df.head())\n",
    "    #gene_ls=list(set(df[gene_col]))\n",
    "    #return(gene_ls)\n",
    "    return(df)"
   ]
  },
  {
   "cell_type": "code",
   "execution_count": null,
   "id": "72d8418f-592d-4964-ab3f-5946538f34ca",
   "metadata": {},
   "outputs": [],
   "source": [
    "common_datasets=pd.read_csv('common_datasets_prepub.csv',sep=',')\n",
    "rare_datasets=pd.read_csv('rare_datasets_prepub.csv',sep=',')"
   ]
  },
  {
   "cell_type": "code",
   "execution_count": null,
   "id": "3459099a-aeca-4a82-a129-579e97487c8a",
   "metadata": {},
   "outputs": [],
   "source": [
    "datasets=rare_datasets\n",
    "row=0"
   ]
  },
  {
   "cell_type": "code",
   "execution_count": null,
   "id": "672edb52-d6e2-4f65-90c3-7f3168602dce",
   "metadata": {},
   "outputs": [],
   "source": [
    "#import seed genes- rare\n",
    "seed_genes = set(import_seedgenes(datasets['seed_path'][row], \n",
    "                                  None, \n",
    "                                  datasets['seed_gene_name'][row], \n",
    "                                  datasets['delim'][row])[datasets['seed_gene_name'][row]])\n",
    "#filter for only genes in the interactome\n",
    "seed_genes = list(seed_genes.intersection(graph.nodes()))"
   ]
  },
  {
   "cell_type": "code",
   "execution_count": null,
   "id": "14a6e9d5-1571-4b76-9f7f-2e1e1146ad3e",
   "metadata": {},
   "outputs": [],
   "source": [
    "z_score, Fnew_score, Fnew_rand_score = netprop_zscore.calculate_heat_zscores(\n",
    "    w_double_prime,  \n",
    "    list(graph.nodes()),\n",
    "    dict(graph.degree), \n",
    "    seed_genes, num_reps=1000,\n",
    "    minimum_bin_size=100)"
   ]
  },
  {
   "cell_type": "code",
   "execution_count": null,
   "id": "7e9388c6-058f-4905-b52b-e75e872f7fa7",
   "metadata": {},
   "outputs": [],
   "source": [
    "#import seed genes\n",
    "seed_genes = set(import_seedgenes(datasets['seed_path'][row_common], \n",
    "                                  datasets['seed_p'][row_common], \n",
    "                                  datasets['seed_gene_name'][row_common], \n",
    "                                  datasets['delim'][row_common])[datasets['seed_gene_name'][row_common]])\n",
    "#filter for only genes in the interactome\n",
    "seed_genes = list(seed_genes.intersection(graph.nodes()))\n",
    "z_score, Fnew_score, Fnew_rand_score = netprop_zscore.calculate_heat_zscores(\n",
    "    w_double_prime,  \n",
    "    list(graph.nodes()),\n",
    "    dict(graph.degree), \n",
    "    seed_genes, num_reps=1000,\n",
    "    minimum_bin_size=100)\n"
   ]
  },
  {
   "cell_type": "code",
   "execution_count": 133,
   "id": "ee2936ee-aca6-4f5d-b898-2d4fb1a58a00",
   "metadata": {},
   "outputs": [
    {
     "data": {
      "text/plain": [
       "Index(['label', 'cutoff used', 'seed_path', 'delim', 'zscore_file',\n",
       "       'zscore_path', 'seed_gene_name', 'phenotype_group'],\n",
       "      dtype='object')"
      ]
     },
     "execution_count": 133,
     "metadata": {},
     "output_type": "execute_result"
    }
   ],
   "source": [
    "datasets.columns"
   ]
  },
  {
   "cell_type": "code",
   "execution_count": 142,
   "id": "d2a67a11-8eda-4149-ba41-4a9049702dc4",
   "metadata": {
    "scrolled": true
   },
   "outputs": [
    {
     "data": {
      "text/plain": [
       "['FOXP1',\n",
       " 'MMEL1',\n",
       " 'SLC29A1',\n",
       " 'ZNF449',\n",
       " 'ANXA3',\n",
       " 'ADH1C',\n",
       " 'UBR3',\n",
       " 'OR51D1',\n",
       " 'ANKRD12',\n",
       " 'CHRM3',\n",
       " 'GIGYF1',\n",
       " 'ADH1A',\n",
       " 'PPFIA3',\n",
       " 'AKAP6',\n",
       " 'SMG1',\n",
       " 'MTOR',\n",
       " 'SCN7A',\n",
       " 'AKAP9',\n",
       " 'FRK',\n",
       " 'KIF21B',\n",
       " 'DNAJA4',\n",
       " 'KDM5B',\n",
       " 'GET4',\n",
       " 'TSPYL2',\n",
       " 'ADH1B',\n",
       " 'GRM5',\n",
       " 'STK31',\n",
       " 'ZPR1',\n",
       " 'PMM2',\n",
       " 'PLIN5',\n",
       " 'ATP2B1',\n",
       " 'CPSF6']"
      ]
     },
     "execution_count": 142,
     "metadata": {},
     "output_type": "execute_result"
    }
   ],
   "source": [
    "seed_genes"
   ]
  },
  {
   "cell_type": "code",
   "execution_count": null,
   "id": "dbf72336-06ce-4e7c-ab39-ed0b76cdc3a9",
   "metadata": {},
   "outputs": [
    {
     "data": {
      "application/vnd.jupyter.widget-view+json": {
       "model_id": "3875280f82e04e3ea266286897dde901",
       "version_major": 2,
       "version_minor": 0
      },
      "text/plain": [
       "  0%|          | 0/1000 [00:00<?, ?it/s]"
      ]
     },
     "metadata": {},
     "output_type": "display_data"
    }
   ],
   "source": [
    "z_score, Fnew_score, Fnew_rand_score = netprop_zscore.calculate_heat_zscores(\n",
    "    w_double_prime,  \n",
    "    list(graph.nodes()),\n",
    "    dict(graph.degree), \n",
    "    seed_genes, num_reps=1000,\n",
    "    minimum_bin_size=100)"
   ]
  },
  {
   "cell_type": "code",
   "execution_count": null,
   "id": "7d9b61d4-9f19-473c-9897-dee50f62fba3",
   "metadata": {},
   "outputs": [],
   "source": [
    "#import seed genes\n",
    "seed_genes = set(import_seedgenes(datasets['seed_path'][row], \n",
    "                                  datasets['seed_p'][row], \n",
    "                                  datasets['seed_gene_name'][row], \n",
    "                                  datasets['delim'][row_common])[datasets['seed_gene_name'][row]])\n",
    "#filter for only genes in the interactome\n",
    "seed_genes = list(seed_genes.intersection(graph.nodes()))\n",
    "z_score, Fnew_score, Fnew_rand_score = netprop_zscore.calculate_heat_zscores(\n",
    "    w_double_prime,  \n",
    "    list(graph.nodes()),\n",
    "    dict(graph.degree), \n",
    "    seed_genes, num_reps=1000,\n",
    "    minimum_bin_size=100)\n"
   ]
  },
  {
   "cell_type": "code",
   "execution_count": null,
   "id": "3a056232-5405-4c71-aada-4dbd6ad1f8db",
   "metadata": {},
   "outputs": [],
   "source": [
    "def run_net_prop(path, trait_name, pcol, gene_col, delim, cutoff=None, graph=None, w_double_prime=None, interactome='pcnet_v14', ndex_user=None, ndex_password=None, savefile=False):\n",
    "    graph_nodes = list(graph.nodes())\n",
    "    #print(graph_nodes)\n",
    "    data = list(set(data).intersection(graph_nodes))\n",
    "    #print(data)\n",
    "    ##calculate heats\n",
    "    z_score, Fnew_score, Fnew_rand_score = netprop_zscore.calculate_heat_zscores(\n",
    "        w_double_prime,  \n",
    "        graph_nodes,\n",
    "        dict(graph.degree), \n",
    "        data, num_reps=1000,\n",
    "        minimum_bin_size=100\n",
    "    )\n",
    "    if savefile:\n",
    "        export_path = 'calculated_values/network_scores/'\n",
    "        if graph is None and interactome == 'pcnet_v14':\n",
    "            prefix = (export_path + trait_name).lower()\n",
    "        elif graph is None and interactome != 'pcnet_v14':\n",
    "            prefix = (export_path + trait_name + '_' + interactome).lower()\n",
    "        elif graph is not None and interactome != 'pcnet_v14':\n",
    "            prefix = (export_path + trait_name + '_' + interactome).lower()\n",
    "        else:\n",
    "            print(\"saving file without interactome_prefix, please provide an interactome name if prefix wanted\")\n",
    "            prefix = ('network_scores/' + trait_name).lower()\n",
    "\n",
    "        z_score.to_csv(prefix + '_zscore.tsv', sep='\\t', header=False)\n",
    "        if saveheat:\n",
    "            Fnew_score.to_csv(prefix + '_heats.tsv', sep='\\t', header=False)\n",
    "            pd.DataFrame(Fnew_rand_score, columns=z_score.index).to_csv((prefix+'_randheats.tsv'),sep='\\t')\n",
    "        else:\n",
    "            print('calculated NPS not saved')\n",
    "    return z_score"
   ]
  },
  {
   "cell_type": "code",
   "execution_count": null,
   "id": "7415fdd0-3a85-49af-b5c0-cfc097ba148f",
   "metadata": {},
   "outputs": [],
   "source": [
    "data = import_seedgenes(path, pcol, gene_col, delim)\n",
    "data = list(data[gene_col])\n",
    "if graph is None:\n",
    "    graph = import_interactome(interactome)\n",
    "    print(\"importing network \" + interactome)\n",
    "if w_double_prime is None:\n",
    "    # pre calculate mats used for netprop\n",
    "    print('\\ncalculating w_prime')\n",
    "    w_prime = netprop.get_normalized_adjacency_matrix(graph, conserve_heat=True) \n",
    "    print('\\ncalculating w_double_prime')\n",
    "    w_double_prime = netprop.get_individual_heats_matrix(w_prime, 0.5)\n",
    "else:\n",
    "    print"
   ]
  },
  {
   "cell_type": "code",
   "execution_count": 30,
   "id": "be7f3207-65a3-4d54-b217-b045ff8db54d",
   "metadata": {},
   "outputs": [
    {
     "data": {
      "text/plain": [
       "\"('comma',)\""
      ]
     },
     "execution_count": 30,
     "metadata": {},
     "output_type": "execute_result"
    }
   ],
   "source": [
    "str(delim)"
   ]
  },
  {
   "cell_type": "code",
   "execution_count": 19,
   "id": "b9575f69-c21e-4a95-a7d6-2489846b5c63",
   "metadata": {},
   "outputs": [
    {
     "ename": "NameError",
     "evalue": "name 'graph_nodes' is not defined",
     "output_type": "error",
     "traceback": [
      "\u001b[0;31m---------------------------------------------------------------------------\u001b[0m",
      "\u001b[0;31mNameError\u001b[0m                                 Traceback (most recent call last)",
      "Input \u001b[0;32mIn [19]\u001b[0m, in \u001b[0;36m<cell line: 1>\u001b[0;34m()\u001b[0m\n\u001b[1;32m      1\u001b[0m z_score, Fnew_score, Fnew_rand_score \u001b[38;5;241m=\u001b[39m netprop_zscore\u001b[38;5;241m.\u001b[39mcalculate_heat_zscores(\n\u001b[1;32m      2\u001b[0m     w_double_prime,  \n\u001b[0;32m----> 3\u001b[0m     \u001b[43mgraph_nodes\u001b[49m,\n\u001b[1;32m      4\u001b[0m     \u001b[38;5;28mdict\u001b[39m(graph\u001b[38;5;241m.\u001b[39mdegree), \n\u001b[1;32m      5\u001b[0m     data, num_reps\u001b[38;5;241m=\u001b[39m\u001b[38;5;241m1000\u001b[39m,\n\u001b[1;32m      6\u001b[0m     minimum_bin_size\u001b[38;5;241m=\u001b[39m\u001b[38;5;241m100\u001b[39m\n\u001b[1;32m      7\u001b[0m )\n",
      "\u001b[0;31mNameError\u001b[0m: name 'graph_nodes' is not defined"
     ]
    }
   ],
   "source": [
    "z_score, Fnew_score, Fnew_rand_score = netprop_zscore.calculate_heat_zscores(\n",
    "    w_double_prime,  \n",
    "    graph_nodes,\n",
    "    dict(graph.degree), \n",
    "    data, num_reps=1000,\n",
    "    minimum_bin_size=100\n",
    ")"
   ]
  },
  {
   "cell_type": "code",
   "execution_count": null,
   "id": "90c72716-90cd-4cfc-bcc8-b24eb46cbc65",
   "metadata": {
    "scrolled": true
   },
   "outputs": [],
   "source": [
    "for row_common in range(len(datasets)):\n",
    "    print('processing '+datasets['label'][row_common])\n",
    "    NPSc=run_net_prop(\n",
    "        path=datasets['seed_path'][row_common], \n",
    "                 trait_name=datasets['label'][row_common],\n",
    "                 pcol=datasets['seed_p'][row_common],\n",
    "                 gene_col=datasets['seed_gene_name'][row_common],\n",
    "                 delim=datasets['delim'][row_common],\n",
    "                 cutoff=datasets['cutoff'][row_common],\n",
    "                 graph=interactome,\n",
    "                 interactome='pcnet_v14',\n",
    "                 w_double_prime=w_double_prime, \n",
    "                 savefile=False)    \n",
    "    print(NPSc.head)"
   ]
  },
  {
   "cell_type": "code",
   "execution_count": null,
   "id": "533d827f-8ddf-43de-8993-1a0c2d1cd667",
   "metadata": {},
   "outputs": [],
   "source": [
    "zscores"
   ]
  },
  {
   "cell_type": "code",
   "execution_count": 35,
   "id": "ea0800c6-f7d4-44ca-99db-ed21afdce6d3",
   "metadata": {},
   "outputs": [
    {
     "data": {
      "text/plain": [
       "'bonferroni'"
      ]
     },
     "execution_count": 35,
     "metadata": {},
     "output_type": "execute_result"
    }
   ],
   "source": [
    "datasets['cutoff'][row_common]"
   ]
  },
  {
   "cell_type": "code",
   "execution_count": 15,
   "id": "2aa137ed-12f3-4270-8cc1-72ae4436705e",
   "metadata": {},
   "outputs": [],
   "source": [
    "def run_net_prop(path, trait_name, pcol, gene_col, delim, cutoff=None, graph=None, w_double_prime=None, interactome='pcnet_v14', ndex_user=None, ndex_password=None, savefile=False):\n",
    "    \"\"\"\n",
    "    Executes network propagation analysis for a given trait using provided seed genes and provided interactome.\n",
    "\n",
    "    Parameters:\n",
    "    - path (str): The file path to the seed gene file.\n",
    "    - trait_name (str): The name of the trait for which the analysis is being run.\n",
    "    - pcol (str): The column name in the seed genes file that contains the p-values.\n",
    "    - gene_col (str): The column name in the seed genes file that specifies the gene names.\n",
    "    - delim (str): The delimiter used in the seed genes file.\n",
    "    - cutoff (float, optional): The p-value cutoff for filtering seed genes. If None (Default), no filtering is applied. Defaults to None.\n",
    "    - graph (NetworkX graph, optional): The interactome network graph. If None, the graph is imported using the interactome parameter. Defaults to None.\n",
    "    - w_double_prime (numpy.ndarray, optional): Pre-calculated matrix for network propagation. If None, it is calculated in the function. Defaults to None.\n",
    "    - interactome (str, optional): The name of the interactome. If no graph is provided, this will be imported using the import_interactome function which accepts UUIDs or keys to the UUIDs dictionary. Will used as a label for exported interactome files. Defaults to 'pcnet_v14', which was used for this analysis.\n",
    "    - ndex_user (str, optional): NDEx account username, required if uploading results to NDEx. Defaults to None.\n",
    "    - ndex_password (str, optional): NDEx account password, required if uploading results to NDEx. Defaults to None.\n",
    "\n",
    "    Returns:\n",
    "\tNPS zscores\n",
    " \n",
    "    Notes:\n",
    "    - The function requires an external library for network propagation calculations.\n",
    "    - The seed genes file should contain a column for genes and a column for their associated p-values.\n",
    "    - The function saves three files: z-scores, raw heats, and randomized heats for the network analysis,\n",
    "      with the trait name and optionally the interactome name as part of the filenames.\n",
    "    - If using a private interactome, ensure the ndex_user and ndex_password are correctly provided.\n",
    "    \"\"\"\n",
    "    data = import_seedgenes(path, pcol, gene_col, delim)\n",
    "    data = list(data[gene_col])\n",
    "    if graph is None:\n",
    "        graph = import_interactome(interactome)\n",
    "        print(\"importing network \" + interactome)\n",
    "    if w_double_prime is None:\n",
    "        # pre calculate mats used for netprop\n",
    "        print('\\ncalculating w_prime')\n",
    "        w_prime = netprop.get_normalized_adjacency_matrix(graph, conserve_heat=True) \n",
    "        print('\\ncalculating w_double_prime')\n",
    "        w_double_prime = netprop.get_individual_heats_matrix(w_prime, 0.5)\n",
    "    else:\n",
    "        print(\"using provided w_double_prime - please ensure that w_double_prime aligns to graph provided\")\n",
    "    graph_nodes = list(graph.nodes())\n",
    "    #print(graph_nodes)\n",
    "    data = list(set(data).intersection(graph_nodes))\n",
    "    #print(data)\n",
    "    ##calculate heats\n",
    "    z_score, Fnew_score, Fnew_rand_score = netprop_zscore.calculate_heat_zscores(\n",
    "        w_double_prime,  \n",
    "        graph_nodes,\n",
    "        dict(graph.degree), \n",
    "        data, num_reps=1000,\n",
    "        minimum_bin_size=100\n",
    "    )\n",
    "    if savefile:\n",
    "        export_path = 'calculated_values/network_scores/'\n",
    "        if graph is None and interactome == 'pcnet_v14':\n",
    "            prefix = (export_path + trait_name).lower()\n",
    "        elif graph is None and interactome != 'pcnet_v14':\n",
    "            prefix = (export_path + trait_name + '_' + interactome).lower()\n",
    "        elif graph is not None and interactome != 'pcnet_v14':\n",
    "            prefix = (export_path + trait_name + '_' + interactome).lower()\n",
    "        else:\n",
    "            print(\"saving file without interactome_prefix, please provide an interactome name if prefix wanted\")\n",
    "            prefix = ('network_scores/' + trait_name).lower()\n",
    "\n",
    "        z_score.to_csv(prefix + '_zscore.tsv', sep='\\t', header=False)\n",
    "        if saveheat:\n",
    "            Fnew_score.to_csv(prefix + '_heats.tsv', sep='\\t', header=False)\n",
    "            pd.DataFrame(Fnew_rand_score, columns=z_score.index).to_csv((prefix+'_randheats.tsv'),sep='\\t')\n",
    "        else:\n",
    "            print('calculated NPS not saved')\n",
    "    return z_score"
   ]
  },
  {
   "cell_type": "code",
   "execution_count": 16,
   "id": "748c0601-4a1b-4d9f-84de-ddb75222def0",
   "metadata": {},
   "outputs": [],
   "source": [
    "def import_seedgenes(path,pcol='P',gene_col='GENE NAME',delim='comma', cutoff=None):\n",
    "    if delim=='comma':\n",
    "        df=pd.read_csv(path,sep=',')\n",
    "    else:\n",
    "        df=pd.read_csv(path,sep='\\t')\n",
    "    if pcol==None:\n",
    "        print('pvalue column not specified- all genes will be used')\n",
    "        cutoff=None\n",
    "    if cutoff=='bonferroni':\n",
    "        df=df[df[pcol]<0.05/len(df)]\n",
    "    elif cutoff=='FDR':\n",
    "        df['pval_FDR']=statsmodels.stats.multitest.fdrcorrection(df[pcol],alpha=0.05,method='indep',is_sorted=False)[1]\n",
    "        df=df[df['pval_FDR']<0.05]\n",
    "    else:\n",
    "        print('cutoff not defined/custom- using all genes ')\n",
    "        df=df\n",
    "    print(df.head())\n",
    "    #gene_ls=list(set(df[gene_col]))\n",
    "    #return(gene_ls)\n",
    "    return(df)"
   ]
  },
  {
   "cell_type": "code",
   "execution_count": 11,
   "id": "1a7dada9-898b-4975-97a8-ad5a883e5cbe",
   "metadata": {},
   "outputs": [
    {
     "data": {
      "application/vnd.jupyter.widget-view+json": {
       "model_id": "db31d6f1563d4eb5b8e055dbeedcb360",
       "version_major": 2,
       "version_minor": 0
      },
      "text/plain": [
       "  0%|          | 0/1000 [00:00<?, ?it/s]"
      ]
     },
     "metadata": {},
     "output_type": "display_data"
    },
    {
     "name": "stdout",
     "output_type": "stream",
     "text": [
      "ADH1C_zscore.tsv\n",
      "network_scores/ADH1C_zscore.tsv\n"
     ]
    }
   ],
   "source": [
    "z_score, Fnew_score, Fnew_rand_score = netprop_zscore.calculate_heat_zscores(w_double_prime, pc_nodes, \n",
    "                                                            dict(interactome.degree), \n",
    "                                                            data, num_reps=1000,\n",
    "                                                            minimum_bin_size=100)\n",
    "trait_name=trait_name\n",
    "z_score.to_csv('network_scores/'+trait_name+'_zscore.tsv',sep='\\t',header=False)\n",
    "Fnew_score.to_csv('network_scores/'+trait_name+'_heats.tsv',sep='\\t',header=False)\n",
    "pd.DataFrame(Fnew_rand_score, columns=z_score.index).to_csv('network_scores/'+trait_name+'_randheats.tsv',sep='\\t')\n",
    "print(str(trait_name+'_zscore.tsv'))\n",
    "print(str('network_scores/'+trait_name+'_zscore.tsv'))"
   ]
  },
  {
   "cell_type": "markdown",
   "id": "36b893fb-2841-4947-a7b5-31fa92b159c5",
   "metadata": {},
   "source": [
    "# rare gene data analysis"
   ]
  },
  {
   "cell_type": "code",
   "execution_count": 21,
   "id": "b559cf91-a8ec-4c09-b2d6-5a80c7f1754d",
   "metadata": {},
   "outputs": [
    {
     "data": {
      "text/plain": [
       "'/tscc/projects/ps-palmer/brittany/rare_common_alcohol'"
      ]
     },
     "execution_count": 21,
     "metadata": {},
     "output_type": "execute_result"
    }
   ],
   "source": [
    "os.getcwd()"
   ]
  },
  {
   "cell_type": "code",
   "execution_count": 127,
   "id": "0ba414d4-5e6e-437b-98e5-cfbfa3695a9d",
   "metadata": {},
   "outputs": [],
   "source": [
    "datasets=pd.read_csv('rare_datasets_prepub.csv')\n",
    "runsets=datasets\n",
    "runsets=runsets.reset_index()"
   ]
  },
  {
   "cell_type": "code",
   "execution_count": 128,
   "id": "49b06541-bf3a-4a55-a3b4-07c9b0f604be",
   "metadata": {},
   "outputs": [
    {
     "data": {
      "text/html": [
       "<div>\n",
       "<style scoped>\n",
       "    .dataframe tbody tr th:only-of-type {\n",
       "        vertical-align: middle;\n",
       "    }\n",
       "\n",
       "    .dataframe tbody tr th {\n",
       "        vertical-align: top;\n",
       "    }\n",
       "\n",
       "    .dataframe thead th {\n",
       "        text-align: right;\n",
       "    }\n",
       "</style>\n",
       "<table border=\"1\" class=\"dataframe\">\n",
       "  <thead>\n",
       "    <tr style=\"text-align: right;\">\n",
       "      <th></th>\n",
       "      <th>index</th>\n",
       "      <th>label</th>\n",
       "      <th>cutoff used</th>\n",
       "      <th>seed_path</th>\n",
       "      <th>delim</th>\n",
       "      <th>zscore_file</th>\n",
       "      <th>zscore_path</th>\n",
       "      <th>seed_gene_name</th>\n",
       "      <th>phenotype_group</th>\n",
       "    </tr>\n",
       "  </thead>\n",
       "  <tbody>\n",
       "    <tr>\n",
       "      <th>0</th>\n",
       "      <td>0</td>\n",
       "      <td>alcoholintake_FDR_25</td>\n",
       "      <td>all tests FDR &lt;0.25</td>\n",
       "      <td>input_files/rare_variant_genebass/alcohol_inta...</td>\n",
       "      <td>comma</td>\n",
       "      <td>alcoholintake_fdr_25_zscore.tsv</td>\n",
       "      <td>calculated_values/network_scores/alcoholintake...</td>\n",
       "      <td>Gene Name</td>\n",
       "      <td>alcohol</td>\n",
       "    </tr>\n",
       "    <tr>\n",
       "      <th>1</th>\n",
       "      <td>1</td>\n",
       "      <td>rare_neale_20153_irnt_FDR_25</td>\n",
       "      <td>all tests FDR &lt;0.25</td>\n",
       "      <td>input_files/rare_variant_genebass/20153_irnt/2...</td>\n",
       "      <td>tab</td>\n",
       "      <td>rare_neale_20153_irnt_fdr_25_zscore.tsv</td>\n",
       "      <td>calculated_values/network_scores/rare_neale_20...</td>\n",
       "      <td>Gene Name</td>\n",
       "      <td>control</td>\n",
       "    </tr>\n",
       "    <tr>\n",
       "      <th>2</th>\n",
       "      <td>2</td>\n",
       "      <td>rare_neale_20016_FDR_25</td>\n",
       "      <td>all tests FDR &lt;0.25</td>\n",
       "      <td>input_files/rare_variant_genebass/20016/20016_...</td>\n",
       "      <td>tab</td>\n",
       "      <td>rare_neale_20016_fdr_25_zscore.tsv</td>\n",
       "      <td>calculated_values/network_scores/rare_neale_20...</td>\n",
       "      <td>Gene Name</td>\n",
       "      <td>control</td>\n",
       "    </tr>\n",
       "    <tr>\n",
       "      <th>3</th>\n",
       "      <td>3</td>\n",
       "      <td>rare_neale_4194_FDR_25</td>\n",
       "      <td>all tests FDR &lt;0.25</td>\n",
       "      <td>input_files/rare_variant_genebass/4194/4194_25...</td>\n",
       "      <td>tab</td>\n",
       "      <td>rare_neale_4194_fdr_25_zscore.tsv</td>\n",
       "      <td>calculated_values/network_scores/rare_neale_41...</td>\n",
       "      <td>Gene Name</td>\n",
       "      <td>control</td>\n",
       "    </tr>\n",
       "    <tr>\n",
       "      <th>4</th>\n",
       "      <td>4</td>\n",
       "      <td>rare_neale_78_FDR_25</td>\n",
       "      <td>all tests FDR &lt;0.25</td>\n",
       "      <td>input_files/rare_variant_genebass/78/78_25FDR.tsv</td>\n",
       "      <td>tab</td>\n",
       "      <td>rare_neale_78_fdr_25_zscore.tsv</td>\n",
       "      <td>calculated_values/network_scores/rare_neale_78...</td>\n",
       "      <td>Gene Name</td>\n",
       "      <td>control</td>\n",
       "    </tr>\n",
       "    <tr>\n",
       "      <th>5</th>\n",
       "      <td>5</td>\n",
       "      <td>rare_neale_C50_FDR_25</td>\n",
       "      <td>all tests FDR &lt;0.25</td>\n",
       "      <td>input_files/rare_variant_genebass/C50/C50_25FD...</td>\n",
       "      <td>tab</td>\n",
       "      <td>rare_neale_c50_fdr_25_zscore.tsv</td>\n",
       "      <td>calculated_values/network_scores/rare_neale_c5...</td>\n",
       "      <td>Gene Name</td>\n",
       "      <td>control</td>\n",
       "    </tr>\n",
       "    <tr>\n",
       "      <th>6</th>\n",
       "      <td>6</td>\n",
       "      <td>rare_neale_C44_FDR_25</td>\n",
       "      <td>all tests FDR &lt;0.25</td>\n",
       "      <td>input_files/rare_variant_genebass/C44/C44_25FD...</td>\n",
       "      <td>tab</td>\n",
       "      <td>rare_neale_c44_fdr_25_zscore.tsv</td>\n",
       "      <td>calculated_values/network_scores/rare_neale_c4...</td>\n",
       "      <td>Gene Name</td>\n",
       "      <td>control</td>\n",
       "    </tr>\n",
       "    <tr>\n",
       "      <th>7</th>\n",
       "      <td>7</td>\n",
       "      <td>rare_neale_100016_FDR_25</td>\n",
       "      <td>all tests FDR &lt;0.25</td>\n",
       "      <td>input_files/rare_variant_genebass/100016/10001...</td>\n",
       "      <td>tab</td>\n",
       "      <td>rare_neale_100016_fdr_25_zscore.tsv</td>\n",
       "      <td>calculated_values/network_scores/rare_neale_10...</td>\n",
       "      <td>Gene Name</td>\n",
       "      <td>control</td>\n",
       "    </tr>\n",
       "    <tr>\n",
       "      <th>8</th>\n",
       "      <td>8</td>\n",
       "      <td>rare_strin_allcut_alcoholintake</td>\n",
       "      <td>burden bonferroni &lt; 0.05 in the whole table of...</td>\n",
       "      <td>input_files/rare_variant_genebass/alcohol_inta...</td>\n",
       "      <td>comma</td>\n",
       "      <td>rare_strin_allcut_alcoholintake_zscore.tsv</td>\n",
       "      <td>calculated_values/network_scores/rare_strin_al...</td>\n",
       "      <td>gene_symbol</td>\n",
       "      <td>alcohol</td>\n",
       "    </tr>\n",
       "  </tbody>\n",
       "</table>\n",
       "</div>"
      ],
      "text/plain": [
       "   index                            label  \\\n",
       "0      0             alcoholintake_FDR_25   \n",
       "1      1     rare_neale_20153_irnt_FDR_25   \n",
       "2      2          rare_neale_20016_FDR_25   \n",
       "3      3           rare_neale_4194_FDR_25   \n",
       "4      4             rare_neale_78_FDR_25   \n",
       "5      5            rare_neale_C50_FDR_25   \n",
       "6      6            rare_neale_C44_FDR_25   \n",
       "7      7         rare_neale_100016_FDR_25   \n",
       "8      8  rare_strin_allcut_alcoholintake   \n",
       "\n",
       "                                         cutoff used  \\\n",
       "0                                all tests FDR <0.25   \n",
       "1                                all tests FDR <0.25   \n",
       "2                                all tests FDR <0.25   \n",
       "3                                all tests FDR <0.25   \n",
       "4                                all tests FDR <0.25   \n",
       "5                                all tests FDR <0.25   \n",
       "6                                all tests FDR <0.25   \n",
       "7                                all tests FDR <0.25   \n",
       "8  burden bonferroni < 0.05 in the whole table of...   \n",
       "\n",
       "                                           seed_path  delim  \\\n",
       "0  input_files/rare_variant_genebass/alcohol_inta...  comma   \n",
       "1  input_files/rare_variant_genebass/20153_irnt/2...    tab   \n",
       "2  input_files/rare_variant_genebass/20016/20016_...    tab   \n",
       "3  input_files/rare_variant_genebass/4194/4194_25...    tab   \n",
       "4  input_files/rare_variant_genebass/78/78_25FDR.tsv    tab   \n",
       "5  input_files/rare_variant_genebass/C50/C50_25FD...    tab   \n",
       "6  input_files/rare_variant_genebass/C44/C44_25FD...    tab   \n",
       "7  input_files/rare_variant_genebass/100016/10001...    tab   \n",
       "8  input_files/rare_variant_genebass/alcohol_inta...  comma   \n",
       "\n",
       "                                  zscore_file  \\\n",
       "0             alcoholintake_fdr_25_zscore.tsv   \n",
       "1     rare_neale_20153_irnt_fdr_25_zscore.tsv   \n",
       "2          rare_neale_20016_fdr_25_zscore.tsv   \n",
       "3           rare_neale_4194_fdr_25_zscore.tsv   \n",
       "4             rare_neale_78_fdr_25_zscore.tsv   \n",
       "5            rare_neale_c50_fdr_25_zscore.tsv   \n",
       "6            rare_neale_c44_fdr_25_zscore.tsv   \n",
       "7         rare_neale_100016_fdr_25_zscore.tsv   \n",
       "8  rare_strin_allcut_alcoholintake_zscore.tsv   \n",
       "\n",
       "                                         zscore_path seed_gene_name  \\\n",
       "0  calculated_values/network_scores/alcoholintake...      Gene Name   \n",
       "1  calculated_values/network_scores/rare_neale_20...      Gene Name   \n",
       "2  calculated_values/network_scores/rare_neale_20...      Gene Name   \n",
       "3  calculated_values/network_scores/rare_neale_41...      Gene Name   \n",
       "4  calculated_values/network_scores/rare_neale_78...      Gene Name   \n",
       "5  calculated_values/network_scores/rare_neale_c5...      Gene Name   \n",
       "6  calculated_values/network_scores/rare_neale_c4...      Gene Name   \n",
       "7  calculated_values/network_scores/rare_neale_10...      Gene Name   \n",
       "8  calculated_values/network_scores/rare_strin_al...    gene_symbol   \n",
       "\n",
       "  phenotype_group  \n",
       "0         alcohol  \n",
       "1         control  \n",
       "2         control  \n",
       "3         control  \n",
       "4         control  \n",
       "5         control  \n",
       "6         control  \n",
       "7         control  \n",
       "8         alcohol  "
      ]
     },
     "execution_count": 128,
     "metadata": {},
     "output_type": "execute_result"
    }
   ],
   "source": [
    "runsets"
   ]
  },
  {
   "cell_type": "code",
   "execution_count": 129,
   "id": "b7f7334b-ff64-4ee1-9d36-d96a26e861a7",
   "metadata": {},
   "outputs": [
    {
     "name": "stdout",
     "output_type": "stream",
     "text": [
      "processing alcoholintake_FDR_25\n",
      "cutoff not defined/custom- using all genes \n",
      "    Gene Name          Gene Id  P-Value SKATO  P-Value Burden  P-Value SKAT  \\\n",
      "0       MMEL1  ENSG00000142606       0.000037        0.000017      0.002806   \n",
      "1        MTOR  ENSG00000198793       0.000112        0.000036      0.048810   \n",
      "2  AC118553.2  ENSG00000283761       0.000138        0.000128      0.000453   \n",
      "3      KIF21B  ENSG00000116852       0.000063        0.000141      0.000477   \n",
      "4       KDM5B  ENSG00000117139       0.000043        0.000023      0.010125   \n",
      "\n",
      "   BETA Burden   Burden Set  Chrom : Position Chrom   Position  burden_FDR  \\\n",
      "0     0.001404  missense|LC      1.002587e+09     1    2586658    0.121878   \n",
      "1    -0.018638         pLoF      1.011107e+09     1   11106515    0.149029   \n",
      "2    -0.005127   synonymous      1.099970e+09     1   99970489    0.266147   \n",
      "3    -0.014921         pLoF      1.200974e+09     1  200973806    0.273031   \n",
      "4    -0.010240         pLoF      1.202729e+09     1  202728943    0.126709   \n",
      "\n",
      "   skato_FDR  skat_FDR  \n",
      "0   0.185174  0.555351  \n",
      "1   0.242501  0.779124  \n",
      "2   0.242758  0.447632  \n",
      "3   0.215667  0.447632  \n",
      "4   0.187892  0.681348  \n",
      "\n",
      "calculating w_prime\n"
     ]
    },
    {
     "ename": "AttributeError",
     "evalue": "'str' object has no attribute 'degree'",
     "output_type": "error",
     "traceback": [
      "\u001b[0;31m---------------------------------------------------------------------------\u001b[0m",
      "\u001b[0;31mAttributeError\u001b[0m                            Traceback (most recent call last)",
      "Input \u001b[0;32mIn [129]\u001b[0m, in \u001b[0;36m<cell line: 1>\u001b[0;34m()\u001b[0m\n\u001b[1;32m      1\u001b[0m \u001b[38;5;28;01mfor\u001b[39;00m row \u001b[38;5;129;01min\u001b[39;00m \u001b[38;5;28mrange\u001b[39m(\u001b[38;5;28mlen\u001b[39m(runsets)):\n\u001b[1;32m      2\u001b[0m     \u001b[38;5;28mprint\u001b[39m(\u001b[38;5;124m'\u001b[39m\u001b[38;5;124mprocessing \u001b[39m\u001b[38;5;124m'\u001b[39m\u001b[38;5;241m+\u001b[39mrunsets[\u001b[38;5;124m'\u001b[39m\u001b[38;5;124mlabel\u001b[39m\u001b[38;5;124m'\u001b[39m][row])\n\u001b[0;32m----> 3\u001b[0m     \u001b[43mrun_net_prop\u001b[49m\u001b[43m(\u001b[49m\u001b[43mrunsets\u001b[49m\u001b[43m[\u001b[49m\u001b[38;5;124;43m'\u001b[39;49m\u001b[38;5;124;43mseed_path\u001b[39;49m\u001b[38;5;124;43m'\u001b[39;49m\u001b[43m]\u001b[49m\u001b[43m[\u001b[49m\u001b[43mrow\u001b[49m\u001b[43m]\u001b[49m\u001b[43m,\u001b[49m\u001b[43m \u001b[49m\u001b[43mrunsets\u001b[49m\u001b[43m[\u001b[49m\u001b[38;5;124;43m'\u001b[39;49m\u001b[38;5;124;43mlabel\u001b[39;49m\u001b[38;5;124;43m'\u001b[39;49m\u001b[43m]\u001b[49m\u001b[43m[\u001b[49m\u001b[43mrow\u001b[49m\u001b[43m]\u001b[49m\u001b[43m,\u001b[49m\u001b[38;5;124;43m'\u001b[39;49m\u001b[38;5;124;43m0\u001b[39;49m\u001b[38;5;124;43m'\u001b[39;49m\u001b[43m,\u001b[49m\u001b[43mrunsets\u001b[49m\u001b[43m[\u001b[49m\u001b[38;5;124;43m'\u001b[39;49m\u001b[38;5;124;43mseed_gene_name\u001b[39;49m\u001b[38;5;124;43m'\u001b[39;49m\u001b[43m]\u001b[49m\u001b[43m[\u001b[49m\u001b[43mrow\u001b[49m\u001b[43m]\u001b[49m\u001b[43m,\u001b[49m\n\u001b[1;32m      4\u001b[0m \u001b[43m                 \u001b[49m\u001b[43mrunsets\u001b[49m\u001b[43m[\u001b[49m\u001b[38;5;124;43m'\u001b[39;49m\u001b[38;5;124;43mdelim\u001b[39;49m\u001b[38;5;124;43m'\u001b[39;49m\u001b[43m]\u001b[49m\u001b[43m[\u001b[49m\u001b[43mrow\u001b[49m\u001b[43m]\u001b[49m\u001b[43m,\u001b[49m\u001b[38;5;124;43m'\u001b[39;49m\u001b[38;5;124;43mno_cutoff\u001b[39;49m\u001b[38;5;124;43m'\u001b[39;49m\u001b[43m,\u001b[49m\n\u001b[1;32m      5\u001b[0m \u001b[43m                \u001b[49m\u001b[43minteractome_name\u001b[49m\u001b[43m)\u001b[49m\n",
      "File \u001b[0;32m/tscc/projects/ps-palmer/brittany/rare_common_alcohol_comparison/notebooks/rca_functions.py:300\u001b[0m, in \u001b[0;36mrun_net_prop\u001b[0;34m(path, trait_name, pcol, gene_col, delim, cutoff, graph, w_double_prime, interactome, ndex_user, ndex_password, savefile)\u001b[0m\n\u001b[1;32m    297\u001b[0m \u001b[38;5;28;01mif\u001b[39;00m w_double_prime \u001b[38;5;129;01mis\u001b[39;00m \u001b[38;5;28;01mNone\u001b[39;00m:\n\u001b[1;32m    298\u001b[0m     \u001b[38;5;66;03m# pre calculate mats used for netprop\u001b[39;00m\n\u001b[1;32m    299\u001b[0m     \u001b[38;5;28mprint\u001b[39m(\u001b[38;5;124m'\u001b[39m\u001b[38;5;130;01m\\n\u001b[39;00m\u001b[38;5;124mcalculating w_prime\u001b[39m\u001b[38;5;124m'\u001b[39m)\n\u001b[0;32m--> 300\u001b[0m     w_prime \u001b[38;5;241m=\u001b[39m \u001b[43mnetprop\u001b[49m\u001b[38;5;241;43m.\u001b[39;49m\u001b[43mget_normalized_adjacency_matrix\u001b[49m\u001b[43m(\u001b[49m\u001b[43mgraph\u001b[49m\u001b[43m,\u001b[49m\u001b[43m \u001b[49m\u001b[43mconserve_heat\u001b[49m\u001b[38;5;241;43m=\u001b[39;49m\u001b[38;5;28;43;01mTrue\u001b[39;49;00m\u001b[43m)\u001b[49m \n\u001b[1;32m    301\u001b[0m     \u001b[38;5;28mprint\u001b[39m(\u001b[38;5;124m'\u001b[39m\u001b[38;5;130;01m\\n\u001b[39;00m\u001b[38;5;124mcalculating w_double_prime\u001b[39m\u001b[38;5;124m'\u001b[39m)\n\u001b[1;32m    302\u001b[0m     w_double_prime \u001b[38;5;241m=\u001b[39m netprop\u001b[38;5;241m.\u001b[39mget_individual_heats_matrix(w_prime, \u001b[38;5;241m0.5\u001b[39m)\n",
      "File \u001b[0;32m~/miniconda3/envs/env-std-py38/lib/python3.8/site-packages/netcoloc/netprop.py:55\u001b[0m, in \u001b[0;36mget_normalized_adjacency_matrix\u001b[0;34m(graph, conserve_heat, weighted)\u001b[0m\n\u001b[1;32m     16\u001b[0m \u001b[38;5;28;01mdef\u001b[39;00m \u001b[38;5;21mget_normalized_adjacency_matrix\u001b[39m(graph, conserve_heat\u001b[38;5;241m=\u001b[39m\u001b[38;5;28;01mTrue\u001b[39;00m, weighted\u001b[38;5;241m=\u001b[39m\u001b[38;5;28;01mFalse\u001b[39;00m):\n\u001b[1;32m     17\u001b[0m     \u001b[38;5;124;03m\"\"\"\u001b[39;00m\n\u001b[1;32m     18\u001b[0m \u001b[38;5;124;03m    Returns normalized adjacency matrix (W'), as detailed in:\u001b[39;00m\n\u001b[1;32m     19\u001b[0m \n\u001b[0;32m   (...)\u001b[0m\n\u001b[1;32m     53\u001b[0m \u001b[38;5;124;03m    :rtype: :py:class:`numpy.ndarray`\u001b[39;00m\n\u001b[1;32m     54\u001b[0m \u001b[38;5;124;03m    \"\"\"\u001b[39;00m\n\u001b[0;32m---> 55\u001b[0m     \u001b[38;5;28;01massert\u001b[39;00m \u001b[38;5;241m0\u001b[39m \u001b[38;5;129;01mnot\u001b[39;00m \u001b[38;5;129;01min\u001b[39;00m \u001b[38;5;28mdict\u001b[39m(\u001b[43mgraph\u001b[49m\u001b[38;5;241;43m.\u001b[39;49m\u001b[43mdegree\u001b[49m)\u001b[38;5;241m.\u001b[39mvalues(), \u001b[38;5;124m\"\u001b[39m\u001b[38;5;124mGraph cannot have nodes with degree=zero\u001b[39m\u001b[38;5;124m\"\u001b[39m\n\u001b[1;32m     57\u001b[0m     \u001b[38;5;66;03m# Create graph\u001b[39;00m\n\u001b[1;32m     58\u001b[0m     \u001b[38;5;28;01mif\u001b[39;00m conserve_heat:\n\u001b[1;32m     59\u001b[0m         \u001b[38;5;66;03m# If conserving heat, make G_weighted a di-graph (not symmetric)\u001b[39;00m\n",
      "\u001b[0;31mAttributeError\u001b[0m: 'str' object has no attribute 'degree'"
     ]
    }
   ],
   "source": [
    "for row in range(len(runsets)):\n",
    "    print('processing '+runsets['label'][row])\n",
    "    run_net_prop(runsets['seed_path'][row], runsets['label'][row],'0',runsets['seed_gene_name'][row],\n",
    "                 runsets['delim'][row],'no_cutoff',\n",
    "                interactome_name)"
   ]
  }
 ],
 "metadata": {
  "kernelspec": {
   "display_name": "Python [conda env:env-std-py38]",
   "language": "python",
   "name": "conda-env-env-std-py38-py"
  },
  "language_info": {
   "codemirror_mode": {
    "name": "ipython",
    "version": 3
   },
   "file_extension": ".py",
   "mimetype": "text/x-python",
   "name": "python",
   "nbconvert_exporter": "python",
   "pygments_lexer": "ipython3",
   "version": "3.8.13"
  }
 },
 "nbformat": 4,
 "nbformat_minor": 5
}
