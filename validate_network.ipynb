{
 "cells": [
  {
   "cell_type": "markdown",
   "id": "4b88f880-7d49-4ede-9e11-70ebdece5559",
   "metadata": {},
   "source": [
    "annotate network with validation from:\n",
    "- gwas catalog\n",
    "- mgd (not actually added as not wanted)\n",
    "- gprofiler family"
   ]
  },
  {
   "cell_type": "markdown",
   "id": "63b9193b-9aa9-47d6-94d3-d162befc4b16",
   "metadata": {},
   "source": [
    "# import packages"
   ]
  },
  {
   "cell_type": "code",
   "execution_count": 1,
   "id": "fd399d78-6eb6-409a-bb22-8258f6bd5332",
   "metadata": {},
   "outputs": [],
   "source": [
    "from ndex2.nice_cx_network import NiceCXNetwork\n",
    "import ndex2.client as nc\n",
    "import ndex2\n",
    "import networkx as nx\n",
    "import pandas as pd\n",
    "import numpy as np\n",
    "import os\n",
    "from netcoloc import netprop_zscore\n",
    "from netcoloc import netprop\n",
    "from netcoloc import network_colocalization\n",
    "from scipy.stats import hypergeom\n",
    "#import upsetplot\n",
    "from upsetplot import plot as upplot\n",
    "from upsetplot import from_contents\n",
    "from upsetplot import UpSet\n",
    "\n",
    "import matplotlib.pyplot as plt\n",
    "from rca_functions import *"
   ]
  },
  {
   "cell_type": "code",
   "execution_count": 3,
   "id": "25c94b0a-1d84-4ca9-815e-d0e91ca02323",
   "metadata": {},
   "outputs": [],
   "source": [
    "os.chdir('/tscc/nfs/home/bsleger/bsl/rare_common_alcohol/')"
   ]
  },
  {
   "cell_type": "code",
   "execution_count": null,
   "id": "39a3e289-bd42-4967-885b-871279414eb3",
   "metadata": {},
   "outputs": [],
   "source": [
    "save_fig=False"
   ]
  },
  {
   "cell_type": "markdown",
   "id": "027c52df-2cb1-4f48-91b5-0a3586d01334",
   "metadata": {
    "tags": []
   },
   "source": [
    "# import pcnet"
   ]
  },
  {
   "cell_type": "code",
   "execution_count": null,
   "id": "08201dd2-0e3f-49eb-991a-d98a8bdc20d9",
   "metadata": {},
   "outputs": [],
   "source": [
    "interactome=import_interactome(interactome_name='pcnet_v14')"
   ]
  },
  {
   "cell_type": "markdown",
   "id": "61dc1f10-d94c-4b5d-bb43-151f029aa099",
   "metadata": {
    "tags": []
   },
   "source": [
    "# read in common and rare meta data"
   ]
  },
  {
   "cell_type": "code",
   "execution_count": 5,
   "id": "23cbc798-15cc-42cf-8109-f296de119b72",
   "metadata": {},
   "outputs": [],
   "source": [
    "rare_datasets=pd.read_csv('rare_datasets_prepub.csv')\n",
    "common_datasets=pd.read_csv('common_datasets_prepub.csv')"
   ]
  },
  {
   "cell_type": "markdown",
   "id": "e394a851-1616-4767-8507-888be8ee8c62",
   "metadata": {},
   "source": [
    "# choose network to analyze and import colocalized network"
   ]
  },
  {
   "cell_type": "code",
   "execution_count": 6,
   "id": "48717604-7d7a-4116-8681-3f7e6ad59a06",
   "metadata": {},
   "outputs": [],
   "source": [
    "#set which network you're annotating\n",
    "uuid_dict={'bonf_strin':'48de252c-3d50-11ee-aa50-005056ae23aa',\n",
    "'FDR_25':'f81a3f67-4215-11ee-aa50-005056ae23aa'}"
   ]
  },
  {
   "cell_type": "code",
   "execution_count": 7,
   "id": "b276a88c-cea3-4c53-9f28-e6ecf41bdc9c",
   "metadata": {},
   "outputs": [],
   "source": [
    "#read in network chosen above\n",
    "analysis_dataset='FDR_25'\n",
    "network = ndex2.create_nice_cx_from_server(server='public.ndexbio.org',username='bsleger',password='Pyjgor-3sarwe-puvfyb', uuid=uuid_dict[analysis_dataset])\n",
    "nodes=list(nx.get_node_attributes(network, 'n').values())"
   ]
  },
  {
   "cell_type": "code",
   "execution_count": 8,
   "id": "95700a2d-2c9f-43fe-be3e-5e64153452ef",
   "metadata": {},
   "outputs": [],
   "source": [
    "#import families and HGNC for FDR_25 only\n",
    "families=pd.read_csv('fdr25_tbl_families.csv')\n",
    "families=families.drop('HGNC Symbol',axis=1)"
   ]
  },
  {
   "cell_type": "markdown",
   "id": "e955f40a-4ee1-43d9-84fa-62613aade45d",
   "metadata": {
    "tags": []
   },
   "source": [
    "# import rare and common variant network seed genes and zscores"
   ]
  },
  {
   "cell_type": "code",
   "execution_count": 9,
   "id": "82fa30bf-3012-4940-b3bd-dfde8277bd5f",
   "metadata": {},
   "outputs": [
    {
     "data": {
      "text/plain": [
       "'rare_variant_genebass/alcohol_intake/alcohol_intake_FDR_25.csv'"
      ]
     },
     "execution_count": 9,
     "metadata": {},
     "output_type": "execute_result"
    }
   ],
   "source": [
    "rare_datasets['seed_path'][1]"
   ]
  },
  {
   "cell_type": "code",
   "execution_count": 10,
   "id": "43443900-256d-4b28-8009-0df0d1e56ded",
   "metadata": {},
   "outputs": [
    {
     "name": "stdout",
     "output_type": "stream",
     "text": [
      "analyzing alcoholintake_FDR_25\n"
     ]
    }
   ],
   "source": [
    "row_rare=1\n",
    "seed_rare=pd.read_csv(rare_datasets['seed_path'][row_rare],sep=',')\n",
    "seed_rare=list(seed_rare[rare_datasets['seed_gene_name'][row_rare]])\n",
    "seed_rare=list(set(seed_rare))\n",
    "label_rare=rare_datasets['label'][row_rare]\n",
    "zscore_rare_df=pd.read_csv(rare_datasets['zscore_path'][row_rare],header=None, sep='\\t')\n",
    "zscore_rare_df.index=zscore_rare_df[0]\n",
    "zscore_rare_df=zscore_rare_df.drop(columns=[0])\n",
    "zscore_rare=zscore_rare_df[1].squeeze()\n",
    "zscore_rare_df = pd.DataFrame({'z':zscore_rare})\n",
    "print('analyzing '+rare_datasets['label'][row_rare])"
   ]
  },
  {
   "cell_type": "code",
   "execution_count": 11,
   "id": "e57266f6-1c71-4acf-a2ca-960917edcfa3",
   "metadata": {},
   "outputs": [
    {
     "name": "stdout",
     "output_type": "stream",
     "text": [
      "analyzing GSCAN_DPW_magma\n"
     ]
    }
   ],
   "source": [
    "#import common variant network seed genes and zscores\n",
    "row_common=4\n",
    "label_common=common_datasets['label'][row_common]\n",
    "if (common_datasets['delim'][row_common]=='tab'):\n",
    "    seed_common=pd.read_csv(common_datasets['seed_path'][row_common],sep='\\t')\n",
    "else:\n",
    "    seed_common=pd.read_csv(common_datasets['seed_path'][row_common],sep=',')\n",
    "\n",
    "seed_common=seed_common[seed_common[common_datasets['seed_p'][row_common]]<0.05/len(seed_common)]\n",
    "seed_common=list(seed_common[common_datasets['seed_gene_name'][row_common]])\n",
    "\n",
    "zscore_common_df=pd.read_csv(common_datasets['zscore_path'][row_common],header=None, sep='\\t')\n",
    "zscore_common_df.index=zscore_common_df[0]\n",
    "zscore_common_df=zscore_common_df.drop(columns=[0])\n",
    "zscore_common=zscore_common_df[1].squeeze()\n",
    "zscore_common_df = pd.DataFrame({'z':zscore_common})\n",
    "print('analyzing '+common_datasets['label'][row_common])"
   ]
  },
  {
   "cell_type": "code",
   "execution_count": 12,
   "id": "94ac27d5-3f7a-44f1-8fcf-fc21ac19e233",
   "metadata": {},
   "outputs": [],
   "source": [
    "#seed_common.to_csv('magma_alcintake_sig_genes.csv')"
   ]
  },
  {
   "cell_type": "code",
   "execution_count": 13,
   "id": "a0440283-2177-412e-a2f3-1c757b8e58ca",
   "metadata": {},
   "outputs": [],
   "source": [
    "#define zscore cutoffs used\n",
    "cutoff_comb=3\n",
    "cutoff_single=1.5"
   ]
  },
  {
   "cell_type": "markdown",
   "id": "4408bb32-4754-414f-8e93-25b5e3d3c492",
   "metadata": {
    "tags": []
   },
   "source": [
    "# query gwas catalog for network genes with alcohol traits"
   ]
  },
  {
   "cell_type": "markdown",
   "id": "86ffb589-582a-44b4-81de-5b95012ba790",
   "metadata": {},
   "source": [
    "## import and format gwas catalog"
   ]
  },
  {
   "cell_type": "code",
   "execution_count": 16,
   "id": "e2e8ff4a-828e-47fd-ab56-f18623559531",
   "metadata": {},
   "outputs": [],
   "source": [
    "gwas_catalog=pd.read_csv('gwas_catalog_v12.tsv',sep='\\t',low_memory=False)"
   ]
  },
  {
   "cell_type": "code",
   "execution_count": 17,
   "id": "93bfa105-f5e8-4a6d-ad67-7b68fbcc0e25",
   "metadata": {},
   "outputs": [],
   "source": [
    "gwas_catalog['MAPPED_TRAIT']=gwas_catalog['MAPPED_TRAIT'].str.lower()\n",
    "gwas_catalog['DISEASE/TRAIT']=gwas_catalog['DISEASE/TRAIT'].str.lower()"
   ]
  },
  {
   "cell_type": "code",
   "execution_count": 18,
   "id": "322a5d44-a053-449d-947a-cf44ecf113c8",
   "metadata": {},
   "outputs": [],
   "source": [
    "#filter genes that were mapped\n",
    "mapped=gwas_catalog[~gwas_catalog['MAPPED_GENE'].isna()]\n",
    "mapped=mapped[~mapped['MAPPED_TRAIT'].isna()]\n",
    "mapped=mapped[['MAPPED_GENE','MAPPED_TRAIT','DISEASE/TRAIT']]\n",
    "mapped.columns=['GENE','MAPPED_TRAIT','DISEASE/TRAIT']\n",
    "#filter genes that were reported\n",
    "rep=gwas_catalog[~gwas_catalog['REPORTED GENE(S)'].isna()]\n",
    "rep=rep[~rep['MAPPED_TRAIT'].isna()]\n",
    "rep=rep[~rep['REPORTED GENE(S)'].str.contains('Intergenic')]\n",
    "rep=rep[['REPORTED GENE(S)','MAPPED_TRAIT','DISEASE/TRAIT']]\n",
    "rep.columns=['GENE','MAPPED_TRAIT','DISEASE/TRAIT']"
   ]
  },
  {
   "cell_type": "code",
   "execution_count": 19,
   "id": "52f3e460-218a-412f-be44-b0b886ce5eca",
   "metadata": {},
   "outputs": [],
   "source": [
    "#combine mapped and reported into a singular table\n",
    "cat=pd.concat([rep, mapped])\n",
    "cat['GENE']=cat['GENE'].str.split('; ')\n",
    "cat=cat.explode('GENE')\n",
    "cat=cat[~(cat['GENE'].str.contains('mapped'))]\n",
    "cat['GENE']=cat['GENE'].str.split(', ')\n",
    "cat=cat.explode('GENE')\n",
    "cat['GENE']=cat['GENE'].str.split(' - ')\n",
    "cat=cat.explode('GENE')\n",
    "cat['GENE']=cat['GENE'].astype('str')\n",
    "cat=cat[~(cat['GENE'].str.contains('intergenic'))]\n",
    "cat['TRAIT']=cat['MAPPED_TRAIT'] + \": \" +cat['DISEASE/TRAIT']"
   ]
  },
  {
   "cell_type": "code",
   "execution_count": 20,
   "id": "d9c5a4db-e7f1-4a92-9b8c-14fd1fd32a0e",
   "metadata": {
    "scrolled": true,
    "tags": []
   },
   "outputs": [],
   "source": [
    "#subset for alcohol use traits\n",
    "alc_cat=cat[(cat['TRAIT'].str.contains('alcohol'))\n",
    "            |(cat['TRAIT'].str.contains('drinking'))\n",
    "           |(cat['TRAIT'].str.contains('wine'))\n",
    "           |(cat['TRAIT'].str.contains('liquor'))\n",
    "           |(cat['TRAIT'].str.contains('beer'))]\n",
    "#include every measure- could also remove add wine, beer, liquor-doesnt change number of genes\n",
    "alc_cat=alc_cat[~(alc_cat['TRAIT'].str.contains('nonalcohol'))]\n",
    "alc_cat=alc_cat[~(alc_cat['TRAIT'].str.contains('non-alcohol'))]\n",
    "alc_ls=alc_cat['TRAIT'].to_list()\n",
    "alc_cat=alc_cat.groupby('GENE').agg(tuple).applymap(set).reset_index()\n",
    "alc_cat=alc_cat[['GENE','TRAIT']]\n",
    "alc=alc_cat[alc_cat['GENE'].isin(nodes)]"
   ]
  },
  {
   "cell_type": "code",
   "execution_count": 21,
   "id": "4a2a7a33-f98b-4a72-be52-c37b88177158",
   "metadata": {},
   "outputs": [],
   "source": [
    "#subset for smoking traits\n",
    "smok_cat=cat[(cat['TRAIT'].str.contains('smok'))&(~cat['TRAIT'].str.contains('taste'))]\n",
    "#smok_cat['TRAIT']=smok_cat['MAPPED_TRAIT'] + \": \" +smok_cat['DISEASE/TRAIT']\n",
    "smok_ls=smok_cat['TRAIT'].to_list()\n",
    "smok_cat=smok_cat.groupby('GENE').agg(tuple).applymap(set).reset_index()\n",
    "smok_cat=smok_cat[['GENE','TRAIT']]\n",
    "smok=smok_cat[smok_cat['GENE'].isin(nodes)]"
   ]
  },
  {
   "cell_type": "code",
   "execution_count": 22,
   "id": "4895f11e-a516-4b9e-8ad3-b121a288388d",
   "metadata": {},
   "outputs": [],
   "source": [
    "SUD_cat=cat[\n",
    "(cat['TRAIT'].str.contains('substance')\n",
    "|cat['TRAIT'].str.contains('addiction')\n",
    "|cat['TRAIT'].str.contains('cocaine')\n",
    "|cat['TRAIT'].str.contains('opioid')\n",
    "|cat['TRAIT'].str.contains('cannabis')\n",
    "|cat['TRAIT'].str.contains('hallucinogen')\n",
    "|cat['TRAIT'].str.contains('abuse')\n",
    "|cat['TRAIT'].str.contains('dependence'))\n",
    "&\n",
    "((~cat['TRAIT'].str.contains('externalizing'))\n",
    "&(~cat['TRAIT'].str.contains('food'))\n",
    "&(~cat['TRAIT'].str.contains('internet'))\n",
    "&(~cat['TRAIT'].str.contains('taste'))\n",
    "&(~cat['TRAIT'].str.contains('eating'))\n",
    "&(~cat['TRAIT'].str.contains('nicotine'))\n",
    "&(~cat['TRAIT'].str.contains('alcohol'))\n",
    "&(~cat['TRAIT'].str.contains('response to opioid')))\n",
    "]\n",
    "SUD_ls=SUD_cat['TRAIT'].tolist()\n",
    "SUD_cat=SUD_cat.groupby('GENE').agg(tuple).applymap(set).reset_index()\n",
    "SUD_cat=SUD_cat[['GENE','TRAIT']]\n",
    "SUD=SUD_cat[SUD_cat['GENE'].isin(nodes)]"
   ]
  },
  {
   "cell_type": "code",
   "execution_count": 23,
   "id": "95ca1890-9d0c-4684-9138-157f9ae9c08b",
   "metadata": {},
   "outputs": [
    {
     "data": {
      "text/html": [
       "<div>\n",
       "<style scoped>\n",
       "    .dataframe tbody tr th:only-of-type {\n",
       "        vertical-align: middle;\n",
       "    }\n",
       "\n",
       "    .dataframe tbody tr th {\n",
       "        vertical-align: top;\n",
       "    }\n",
       "\n",
       "    .dataframe thead th {\n",
       "        text-align: right;\n",
       "    }\n",
       "</style>\n",
       "<table border=\"1\" class=\"dataframe\">\n",
       "  <thead>\n",
       "    <tr style=\"text-align: right;\">\n",
       "      <th></th>\n",
       "      <th>GENE</th>\n",
       "      <th>TRAIT</th>\n",
       "    </tr>\n",
       "  </thead>\n",
       "  <tbody>\n",
       "    <tr>\n",
       "      <th>13</th>\n",
       "      <td>ADH1B</td>\n",
       "      <td>{substance-related disorder: addiction risk fa...</td>\n",
       "    </tr>\n",
       "    <tr>\n",
       "      <th>152</th>\n",
       "      <td>EPM2A</td>\n",
       "      <td>{methadone dose measurement: methadone dose in...</td>\n",
       "    </tr>\n",
       "    <tr>\n",
       "      <th>156</th>\n",
       "      <td>EXOC2</td>\n",
       "      <td>{methadone dose measurement: methadone dose in...</td>\n",
       "    </tr>\n",
       "    <tr>\n",
       "      <th>176</th>\n",
       "      <td>FOXP2</td>\n",
       "      <td>{cannabis dependence: cannabis use disorder, o...</td>\n",
       "    </tr>\n",
       "    <tr>\n",
       "      <th>460</th>\n",
       "      <td>RABEP2</td>\n",
       "      <td>{cannabis use: cannabis use}</td>\n",
       "    </tr>\n",
       "    <tr>\n",
       "      <th>570</th>\n",
       "      <td>SNTB1</td>\n",
       "      <td>{opioid use measurement: opioid use cessation}</td>\n",
       "    </tr>\n",
       "    <tr>\n",
       "      <th>594</th>\n",
       "      <td>SYNJ2</td>\n",
       "      <td>{drug dependence: cannabis use (initiation)}</td>\n",
       "    </tr>\n",
       "    <tr>\n",
       "      <th>628</th>\n",
       "      <td>TXK</td>\n",
       "      <td>{opioid dependence: opioid addiction}</td>\n",
       "    </tr>\n",
       "  </tbody>\n",
       "</table>\n",
       "</div>"
      ],
      "text/plain": [
       "       GENE                                              TRAIT\n",
       "13    ADH1B  {substance-related disorder: addiction risk fa...\n",
       "152   EPM2A  {methadone dose measurement: methadone dose in...\n",
       "156   EXOC2  {methadone dose measurement: methadone dose in...\n",
       "176   FOXP2  {cannabis dependence: cannabis use disorder, o...\n",
       "460  RABEP2                       {cannabis use: cannabis use}\n",
       "570   SNTB1     {opioid use measurement: opioid use cessation}\n",
       "594   SYNJ2       {drug dependence: cannabis use (initiation)}\n",
       "628     TXK              {opioid dependence: opioid addiction}"
      ]
     },
     "execution_count": 23,
     "metadata": {},
     "output_type": "execute_result"
    }
   ],
   "source": [
    "SUD"
   ]
  },
  {
   "cell_type": "code",
   "execution_count": 24,
   "id": "cd0eb434-4331-48ca-83e0-1679e3cfd434",
   "metadata": {},
   "outputs": [],
   "source": [
    "behav_ls=set(cat[\n",
    "(cat['TRAIT'].str.contains('depre'))|\n",
    "    (cat['TRAIT'].str.contains('neurotic'))|\n",
    "    (cat['TRAIT'].str.contains('cogn'))|\n",
    "    (cat['TRAIT'].str.contains('behav'))|\n",
    "    (cat['TRAIT'].str.contains('anorex'))|\n",
    "    ((cat['TRAIT'].str.contains('mani'))&(~cat['TRAIT'].str.contains('holdemania')))|\n",
    "    (cat['TRAIT'].str.contains('parkinson'))|\n",
    "    (cat['TRAIT'].str.contains('alz'))|\n",
    "    (cat['TRAIT'].str.contains('language'))|\n",
    "    (cat['TRAIT'].str.contains('risk'))|\n",
    "    (cat['TRAIT'].str.contains('demen'))|\n",
    "    (cat['TRAIT'].str.contains('autis'))|\n",
    "    (cat['TRAIT'].str.contains('disorder')&~cat['TRAIT'].str.contains('use disorder'))|\n",
    "    (cat['MAPPED_TRAIT'].str.contains('risk'))|\n",
    "    (cat['TRAIT'].str.contains('anxiet'))|\n",
    "    (cat['TRAIT'].str.contains('memory')&(~cat['TRAIT'].str.contains('cell')))|\n",
    "    (cat['TRAIT'].str.contains('externalizing'))\n",
    "]['TRAIT'])\n",
    "\n",
    "SUD_inclusive=set(alc_ls+SUD_ls+smok_ls)\n",
    "behav_ls=behav_ls.difference(set(SUD_inclusive))\n",
    "behav_cat=cat[cat['TRAIT'].isin(behav_ls)]\n",
    "behav_cat=behav_cat.groupby('GENE').agg(tuple).applymap(set).reset_index()\n",
    "behav_cat=behav_cat[['GENE','TRAIT']]\n",
    "behav=behav_cat[behav_cat['GENE'].isin(nodes)]"
   ]
  },
  {
   "cell_type": "code",
   "execution_count": 25,
   "id": "2f5cb93c-5364-4f15-a76b-a6cb64112bf9",
   "metadata": {},
   "outputs": [
    {
     "data": {
      "text/plain": [
       "[]"
      ]
     },
     "execution_count": 25,
     "metadata": {},
     "output_type": "execute_result"
    }
   ],
   "source": [
    "#check if use disorders present in listed phenotypes for behaviour\n",
    "[x for x in behav_ls if 'use disorder' in x]"
   ]
  },
  {
   "cell_type": "raw",
   "id": "b827e235-ea03-4417-8c04-eccbdd1f952c",
   "metadata": {},
   "source": [
    "#check if anything we want is not in behavioral\n",
    "non_behav=set(gwas_catalog\n",
    "    [~(gwas_catalog['DISEASE/TRAIT'].isin(behav))]\n",
    "    ['DISEASE/TRAIT'])\n",
    "with open('non-behavioural-traits.txt', 'w') as f:\n",
    "    for line in non_behav:\n",
    "        f.write(f\"{line}\\n\")"
   ]
  },
  {
   "cell_type": "markdown",
   "id": "93909654-b2f0-4f10-b6bf-6a7872ae924b",
   "metadata": {},
   "source": [
    "## format gwas catalog traits into table to query"
   ]
  },
  {
   "cell_type": "code",
   "execution_count": 26,
   "id": "8fcaeadf-8cbc-4bd0-a493-71f840854d10",
   "metadata": {},
   "outputs": [],
   "source": [
    "t=alc_cat.merge(smok_cat,on=\"GENE\", how=\"outer\")\n",
    "t=t.merge(SUD_cat, on=\"GENE\",how=\"outer\")\n",
    "t.columns=['GENE','ALC_TRAIT',\n",
    "           'SMOK_TRAIT',\n",
    "           'SUD_TRAIT']\n",
    "t=t.merge(behav_cat, on=\"GENE\",how=\"outer\")\n",
    "t.columns=['GENE','ALC_TRAIT',\n",
    "           'SMOK_TRAIT',\n",
    "           'SUD_TRAIT',\n",
    "          'NEUROPSYCH_TRAIT']"
   ]
  },
  {
   "cell_type": "code",
   "execution_count": 27,
   "id": "d15fcf12-8f49-42b2-b951-54af422ee2d7",
   "metadata": {},
   "outputs": [
    {
     "data": {
      "text/html": [
       "<div>\n",
       "<style scoped>\n",
       "    .dataframe tbody tr th:only-of-type {\n",
       "        vertical-align: middle;\n",
       "    }\n",
       "\n",
       "    .dataframe tbody tr th {\n",
       "        vertical-align: top;\n",
       "    }\n",
       "\n",
       "    .dataframe thead th {\n",
       "        text-align: right;\n",
       "    }\n",
       "</style>\n",
       "<table border=\"1\" class=\"dataframe\">\n",
       "  <thead>\n",
       "    <tr style=\"text-align: right;\">\n",
       "      <th></th>\n",
       "      <th>GENE</th>\n",
       "      <th>ALC_TRAIT</th>\n",
       "      <th>SMOK_TRAIT</th>\n",
       "      <th>SUD_TRAIT</th>\n",
       "      <th>NEUROPSYCH_TRAIT</th>\n",
       "    </tr>\n",
       "  </thead>\n",
       "  <tbody>\n",
       "    <tr>\n",
       "      <th>0</th>\n",
       "      <td>A1CF</td>\n",
       "      <td>{triglyceride measurement, alcohol consumption...</td>\n",
       "      <td>NaN</td>\n",
       "      <td>NaN</td>\n",
       "      <td>{cognitive function measurement: cognitive fun...</td>\n",
       "    </tr>\n",
       "    <tr>\n",
       "      <th>1</th>\n",
       "      <td>AADAT</td>\n",
       "      <td>{alcohol consumption measurement: alcohol cons...</td>\n",
       "      <td>NaN</td>\n",
       "      <td>NaN</td>\n",
       "      <td>{self reported educational attainment: noncogn...</td>\n",
       "    </tr>\n",
       "    <tr>\n",
       "      <th>2</th>\n",
       "      <td>AATF</td>\n",
       "      <td>{alcohol consumption measurement: drinks per w...</td>\n",
       "      <td>{smoking initiation: smoking initiation}</td>\n",
       "      <td>NaN</td>\n",
       "      <td>NaN</td>\n",
       "    </tr>\n",
       "    <tr>\n",
       "      <th>3</th>\n",
       "      <td>ABCA1</td>\n",
       "      <td>{alcohol consumption measurement, high density...</td>\n",
       "      <td>{smoking behavior, bmi-adjusted waist-hip rati...</td>\n",
       "      <td>NaN</td>\n",
       "      <td>{posterior cortical atrophy, alzheimer disease...</td>\n",
       "    </tr>\n",
       "    <tr>\n",
       "      <th>4</th>\n",
       "      <td>ABCA4</td>\n",
       "      <td>{aspartate aminotransferase measurement: aspar...</td>\n",
       "      <td>NaN</td>\n",
       "      <td>NaN</td>\n",
       "      <td>NaN</td>\n",
       "    </tr>\n",
       "    <tr>\n",
       "      <th>...</th>\n",
       "      <td>...</td>\n",
       "      <td>...</td>\n",
       "      <td>...</td>\n",
       "      <td>...</td>\n",
       "      <td>...</td>\n",
       "    </tr>\n",
       "    <tr>\n",
       "      <th>15090</th>\n",
       "      <td>ncRNA32</td>\n",
       "      <td>NaN</td>\n",
       "      <td>NaN</td>\n",
       "      <td>NaN</td>\n",
       "      <td>{mental deterioration: cognitive decline (age-...</td>\n",
       "    </tr>\n",
       "    <tr>\n",
       "      <th>15091</th>\n",
       "      <td>other genes</td>\n",
       "      <td>NaN</td>\n",
       "      <td>NaN</td>\n",
       "      <td>NaN</td>\n",
       "      <td>{bipolar disorder, schizophrenia: bipolar diso...</td>\n",
       "    </tr>\n",
       "    <tr>\n",
       "      <th>15092</th>\n",
       "      <td>snoZ13_snr52</td>\n",
       "      <td>NaN</td>\n",
       "      <td>NaN</td>\n",
       "      <td>NaN</td>\n",
       "      <td>{unipolar depression: depression, anxiety meas...</td>\n",
       "    </tr>\n",
       "    <tr>\n",
       "      <th>15093</th>\n",
       "      <td>snoZ6</td>\n",
       "      <td>NaN</td>\n",
       "      <td>NaN</td>\n",
       "      <td>NaN</td>\n",
       "      <td>{alzheimer disease, family history of alzheime...</td>\n",
       "    </tr>\n",
       "    <tr>\n",
       "      <th>15094</th>\n",
       "      <td>tcag7.1213</td>\n",
       "      <td>NaN</td>\n",
       "      <td>NaN</td>\n",
       "      <td>NaN</td>\n",
       "      <td>{exploratory eye movement measurement: explora...</td>\n",
       "    </tr>\n",
       "  </tbody>\n",
       "</table>\n",
       "<p>15095 rows × 5 columns</p>\n",
       "</div>"
      ],
      "text/plain": [
       "               GENE                                          ALC_TRAIT  \\\n",
       "0              A1CF  {triglyceride measurement, alcohol consumption...   \n",
       "1             AADAT  {alcohol consumption measurement: alcohol cons...   \n",
       "2              AATF  {alcohol consumption measurement: drinks per w...   \n",
       "3             ABCA1  {alcohol consumption measurement, high density...   \n",
       "4             ABCA4  {aspartate aminotransferase measurement: aspar...   \n",
       "...             ...                                                ...   \n",
       "15090       ncRNA32                                                NaN   \n",
       "15091   other genes                                                NaN   \n",
       "15092  snoZ13_snr52                                                NaN   \n",
       "15093         snoZ6                                                NaN   \n",
       "15094    tcag7.1213                                                NaN   \n",
       "\n",
       "                                              SMOK_TRAIT SUD_TRAIT  \\\n",
       "0                                                    NaN       NaN   \n",
       "1                                                    NaN       NaN   \n",
       "2               {smoking initiation: smoking initiation}       NaN   \n",
       "3      {smoking behavior, bmi-adjusted waist-hip rati...       NaN   \n",
       "4                                                    NaN       NaN   \n",
       "...                                                  ...       ...   \n",
       "15090                                                NaN       NaN   \n",
       "15091                                                NaN       NaN   \n",
       "15092                                                NaN       NaN   \n",
       "15093                                                NaN       NaN   \n",
       "15094                                                NaN       NaN   \n",
       "\n",
       "                                        NEUROPSYCH_TRAIT  \n",
       "0      {cognitive function measurement: cognitive fun...  \n",
       "1      {self reported educational attainment: noncogn...  \n",
       "2                                                    NaN  \n",
       "3      {posterior cortical atrophy, alzheimer disease...  \n",
       "4                                                    NaN  \n",
       "...                                                  ...  \n",
       "15090  {mental deterioration: cognitive decline (age-...  \n",
       "15091  {bipolar disorder, schizophrenia: bipolar diso...  \n",
       "15092  {unipolar depression: depression, anxiety meas...  \n",
       "15093  {alzheimer disease, family history of alzheime...  \n",
       "15094  {exploratory eye movement measurement: explora...  \n",
       "\n",
       "[15095 rows x 5 columns]"
      ]
     },
     "execution_count": 27,
     "metadata": {},
     "output_type": "execute_result"
    }
   ],
   "source": [
    "t"
   ]
  },
  {
   "cell_type": "code",
   "execution_count": 28,
   "id": "720e1759-dff0-44fa-abdf-d01706b4dd6f",
   "metadata": {},
   "outputs": [],
   "source": [
    "#t.to_csv('MAGMA_FDR25_all_drug_associations.csv',index=False)"
   ]
  },
  {
   "cell_type": "code",
   "execution_count": 29,
   "id": "1a175b59-8e29-4354-9c92-fd13cbb04460",
   "metadata": {},
   "outputs": [],
   "source": [
    "#SUD.to_csv('FDR25_magma_alcoholintake_SUD_gwascatalog_genes.csv')"
   ]
  },
  {
   "cell_type": "code",
   "execution_count": 30,
   "id": "08df3662-901f-495d-a0b4-02251a36235a",
   "metadata": {},
   "outputs": [],
   "source": [
    "#set(gwas_catalog_alc[gwas_catalog_alc['DISEASE/TRAIT'].str.contains(' in ')]['DISEASE/TRAIT'])"
   ]
  },
  {
   "cell_type": "markdown",
   "id": "e2861090-d9cc-4f60-b929-7041389e5140",
   "metadata": {},
   "source": [
    "# import dataframe of gprofiler enrichment"
   ]
  },
  {
   "cell_type": "code",
   "execution_count": 31,
   "id": "f094b35c-cca1-4c1b-a48b-95cabfc8b7a1",
   "metadata": {},
   "outputs": [],
   "source": [
    "gprof_dict={'bonf_strin':'gProfiler_hsapiens_8-11-2023_1-37-16 PM__intersections_rare_stin.csv',\n",
    "          'FDR_25':'gProfiler_hsapiens_8-23-2023_5-47-43 PM__intersections_FDR25.csv'}"
   ]
  },
  {
   "cell_type": "code",
   "execution_count": 32,
   "id": "a12726ba-284e-4085-a4e8-0b31c4605276",
   "metadata": {},
   "outputs": [],
   "source": [
    "gprof=pd.read_csv(gprof_dict[analysis_dataset])"
   ]
  },
  {
   "cell_type": "code",
   "execution_count": 33,
   "id": "6e5a1924-6dc5-43e4-a7ea-cc569a452849",
   "metadata": {},
   "outputs": [],
   "source": [
    "gprof=gprof[(gprof['term_size']<500) \n",
    "            &(gprof['term_size']>50)]"
   ]
  },
  {
   "cell_type": "code",
   "execution_count": 34,
   "id": "e329934d-407e-431d-9d9c-80d94d558041",
   "metadata": {},
   "outputs": [],
   "source": [
    "gprof['intersections']=gprof['intersections'].str.split(',')"
   ]
  },
  {
   "cell_type": "code",
   "execution_count": 35,
   "id": "1e6e1aa4-108e-48af-a0ba-b659ac34ccd5",
   "metadata": {},
   "outputs": [],
   "source": [
    "gprof=gprof[gprof['adjusted_p_value']<1e-3]\n",
    "gprof=gprof[gprof['source'].str.contains('GO')]"
   ]
  },
  {
   "cell_type": "code",
   "execution_count": 36,
   "id": "b914db6f-607c-4de2-a533-a7f473b2ffd7",
   "metadata": {
    "scrolled": true,
    "tags": []
   },
   "outputs": [],
   "source": [
    "gprof_explode=gprof.explode('intersections').reset_index().drop('index',axis=1)"
   ]
  },
  {
   "cell_type": "code",
   "execution_count": 37,
   "id": "56cc7d4b-e9b7-4385-ac29-d70f05381504",
   "metadata": {},
   "outputs": [],
   "source": [
    "gprof_collapse=gprof_explode.loc[gprof_explode.groupby('intersections')['adjusted_p_value'].idxmin()]"
   ]
  },
  {
   "cell_type": "code",
   "execution_count": 38,
   "id": "91743d33-4dd7-444f-8336-e51e5f9ded51",
   "metadata": {},
   "outputs": [
    {
     "data": {
      "text/plain": [
       "{'UDP-glycosyltransferase activity',\n",
       " 'alcohol metabolic process',\n",
       " 'cellular aldehyde metabolic process',\n",
       " 'cellular response to xenobiotic stimulus',\n",
       " 'fatty acid metabolic process',\n",
       " 'hexosyltransferase activity',\n",
       " 'hormone metabolic process',\n",
       " 'oxidoreductase activity, acting on the CH-OH group of donors, NAD or NADP as acceptor',\n",
       " 'primary alcohol metabolic process',\n",
       " 'response to xenobiotic stimulus',\n",
       " 'steroid metabolic process',\n",
       " 'terpenoid metabolic process',\n",
       " 'xenobiotic metabolic process'}"
      ]
     },
     "execution_count": 38,
     "metadata": {},
     "output_type": "execute_result"
    }
   ],
   "source": [
    "set(gprof_collapse['term_name'])"
   ]
  },
  {
   "cell_type": "markdown",
   "id": "8db17086-a235-4a2d-9964-26d3f2e6629c",
   "metadata": {
    "tags": []
   },
   "source": [
    "# make dataframe to make into dictionaries for adding to network"
   ]
  },
  {
   "cell_type": "code",
   "execution_count": 39,
   "id": "0b3c9443-1585-45ee-99ba-a9c207a9773a",
   "metadata": {},
   "outputs": [],
   "source": [
    "df=pd.DataFrame(nodes)\n",
    "df.columns=['nodes']"
   ]
  },
  {
   "cell_type": "code",
   "execution_count": 40,
   "id": "4e48481f-6299-4e2b-9ed1-f425adb210b4",
   "metadata": {},
   "outputs": [],
   "source": [
    "df['in_gwas_catalog']=df['nodes'].isin(cat['GENE'])\n",
    "df['alc_val']=df['nodes'].isin(alc['GENE'])"
   ]
  },
  {
   "cell_type": "code",
   "execution_count": 41,
   "id": "c2300060-9f19-4887-b444-86770e4a7edd",
   "metadata": {},
   "outputs": [],
   "source": [
    "df=df.merge(t, left_on='nodes',right_on='GENE',how='left')\n",
    "df=df.merge(families,left_on='nodes',right_on='name',how='left')"
   ]
  },
  {
   "cell_type": "code",
   "execution_count": 42,
   "id": "05d588d4-6a9d-4252-b3fb-3014c32794b0",
   "metadata": {},
   "outputs": [],
   "source": [
    "df=df.drop(['GENE'],axis=1)"
   ]
  },
  {
   "cell_type": "code",
   "execution_count": 43,
   "id": "fcda04aa-1e31-4978-9d18-35e0f2bc662e",
   "metadata": {},
   "outputs": [],
   "source": [
    "df=df.drop(['name'],axis=1)"
   ]
  },
  {
   "cell_type": "code",
   "execution_count": 80,
   "id": "a4473d75-ca71-4595-ac6e-de881c37e3f3",
   "metadata": {},
   "outputs": [],
   "source": [
    "#df.to_csv('updated_GWAS_cat_FDR25MAGMA.csv',index=False)"
   ]
  },
  {
   "cell_type": "markdown",
   "id": "951f00ea-ed4c-4a61-9a78-37eab065886a",
   "metadata": {},
   "source": [
    "## merge gprofiler group label into dataframe of attributes"
   ]
  },
  {
   "cell_type": "code",
   "execution_count": 44,
   "id": "59d2edcf-e6b2-4465-8786-4a4ad41588c3",
   "metadata": {},
   "outputs": [],
   "source": [
    "df=df.merge(gprof_collapse[['term_name','intersections']], left_on='nodes',right_on='intersections',how='left').drop('intersections',axis=1)"
   ]
  },
  {
   "cell_type": "markdown",
   "id": "e9d72447-c530-4297-8cac-a906276e9bd2",
   "metadata": {},
   "source": [
    "## make dataframe into dictionary and add node attributes to network"
   ]
  },
  {
   "cell_type": "code",
   "execution_count": 45,
   "id": "659a9e4b-0684-43a4-a081-4706069e6d9b",
   "metadata": {},
   "outputs": [],
   "source": [
    "#necessary to replace NA to uploade to ndex\n",
    "df=df.fillna('null')\n",
    "df = df.astype(str)\n",
    "#df.index=df['nodes']\n",
    "df_dict=df.to_dict()\n",
    "attributes=df.columns\n",
    "attributes=attributes.drop('nodes')"
   ]
  },
  {
   "cell_type": "code",
   "execution_count": 46,
   "id": "58a0b862-99d9-4bfa-835c-2d3c412bad3a",
   "metadata": {},
   "outputs": [],
   "source": [
    "#add attributes to network\n",
    "for a in attributes:\n",
    "    for i in network.nodes:\n",
    "        network.set_node_attribute(node=i, attribute_name=a, type='string',values=df_dict[a][i])"
   ]
  },
  {
   "cell_type": "code",
   "execution_count": 185,
   "id": "4f2bf5f8-76d2-40d9-9596-eb3a9f656b9c",
   "metadata": {},
   "outputs": [],
   "source": [
    "df.to_csv('nodes_gwas_cat.csv',index=False)"
   ]
  },
  {
   "cell_type": "markdown",
   "id": "30e45b8f-7c08-42ce-bbae-34d32952d841",
   "metadata": {},
   "source": [
    "## export network to ndex"
   ]
  },
  {
   "cell_type": "code",
   "execution_count": 186,
   "id": "06b2a817-5580-4a14-9772-978c39314c71",
   "metadata": {},
   "outputs": [
    {
     "name": "stdout",
     "output_type": "stream",
     "text": [
      "Generating CX\n"
     ]
    },
    {
     "data": {
      "text/plain": [
       "'https://www.ndexbio.org/v2/network/5b6323bb-93a3-11ee-8a13-005056ae23aa'"
      ]
     },
     "execution_count": 186,
     "metadata": {},
     "output_type": "execute_result"
    }
   ],
   "source": [
    "network.set_name(network.get_name()+'_annotated')\n",
    "#use to upload as new newtwork with annotated subscript\n",
    "network.upload_to(server='public.ndexbio.org',\n",
    "                  username='bsleger',\n",
    "                  password='Pyjgor-3sarwe-puvfyb' )"
   ]
  },
  {
   "cell_type": "raw",
   "id": "6686cc35-c2d5-4f25-8c71-3d75609ad6aa",
   "metadata": {},
   "source": [
    "use to overwrite original network\n",
    "network.update_to(server='public.ndexbio.org',\n",
    "                  username='bsleger',\n",
    "                  password='Pyjgor-3sarwe-puvfyb', \n",
    "                  uuid=uuid_dict[analysis_dataset])"
   ]
  },
  {
   "cell_type": "code",
   "execution_count": 239,
   "id": "019b5bb7-3ed5-45b7-b55a-ffc9ade39878",
   "metadata": {},
   "outputs": [
    {
     "data": {
      "text/plain": [
       "<ndex2.nice_cx_network.NiceCXNetwork at 0x2b8eca6bad00>"
      ]
     },
     "execution_count": 239,
     "metadata": {},
     "output_type": "execute_result"
    }
   ],
   "source": [
    "network"
   ]
  },
  {
   "cell_type": "markdown",
   "id": "a9eb2718-a8f1-46d0-a1d5-5ddb6fcab997",
   "metadata": {},
   "source": [
    "# ID seed genes that have been found for GWAS traits"
   ]
  },
  {
   "cell_type": "code",
   "execution_count": 47,
   "id": "ee4e79b0-36b2-47f4-ae56-3b5b8dd6968c",
   "metadata": {},
   "outputs": [
    {
     "data": {
      "text/plain": [
       "38323"
      ]
     },
     "execution_count": 47,
     "metadata": {},
     "output_type": "execute_result"
    }
   ],
   "source": [
    "len(set(cat['GENE']))"
   ]
  },
  {
   "cell_type": "code",
   "execution_count": 48,
   "id": "8c9fd09b-42b1-4335-97cc-0e66c466c60d",
   "metadata": {},
   "outputs": [
    {
     "data": {
      "text/plain": [
       "'/tscc/projects/ps-palmer/brittany/rare_common_alcohol'"
      ]
     },
     "execution_count": 48,
     "metadata": {},
     "output_type": "execute_result"
    }
   ],
   "source": [
    "os.getcwd()"
   ]
  },
  {
   "cell_type": "code",
   "execution_count": 49,
   "id": "69fac428-f545-4b87-96dc-fec9a4b39401",
   "metadata": {},
   "outputs": [],
   "source": [
    "t[t['GENE'].isin(seed_rare)].to_csv('gwas_catalog_rare_seed_FDR25.csv')"
   ]
  },
  {
   "cell_type": "code",
   "execution_count": 51,
   "id": "324e37a1-203a-456d-8342-dd38e883c27c",
   "metadata": {},
   "outputs": [],
   "source": [
    "tbl=alc_cat[alc_cat['GENE'].isin(seed_rare)]\n",
    "tbl=tbl.explode('TRAIT')"
   ]
  },
  {
   "cell_type": "code",
   "execution_count": 52,
   "id": "a88647da-c5f8-4850-9713-c2992371ef64",
   "metadata": {},
   "outputs": [
    {
     "data": {
      "text/plain": [
       "12"
      ]
     },
     "execution_count": 52,
     "metadata": {},
     "output_type": "execute_result"
    }
   ],
   "source": [
    "len(set(tbl[tbl.TRAIT.str.contains('consumption')]['GENE']))"
   ]
  },
  {
   "cell_type": "code",
   "execution_count": 53,
   "id": "0eca29bc-998a-4acf-8e74-8346fa1fd9ba",
   "metadata": {},
   "outputs": [],
   "source": [
    "SUD_rare=SUD_cat[SUD_cat['GENE'].isin(seed_rare)]"
   ]
  },
  {
   "cell_type": "code",
   "execution_count": 54,
   "id": "00681c57-d015-4e2e-85d2-080a0411743b",
   "metadata": {},
   "outputs": [],
   "source": [
    "cat=cat.explode('GENE')"
   ]
  },
  {
   "cell_type": "code",
   "execution_count": 56,
   "id": "83e8fc5f-3e76-47f5-81e5-a45c63593348",
   "metadata": {},
   "outputs": [
    {
     "data": {
      "text/html": [
       "<div>\n",
       "<style scoped>\n",
       "    .dataframe tbody tr th:only-of-type {\n",
       "        vertical-align: middle;\n",
       "    }\n",
       "\n",
       "    .dataframe tbody tr th {\n",
       "        vertical-align: top;\n",
       "    }\n",
       "\n",
       "    .dataframe thead th {\n",
       "        text-align: right;\n",
       "    }\n",
       "</style>\n",
       "<table border=\"1\" class=\"dataframe\">\n",
       "  <thead>\n",
       "    <tr style=\"text-align: right;\">\n",
       "      <th></th>\n",
       "      <th>GENE</th>\n",
       "      <th>TRAIT</th>\n",
       "    </tr>\n",
       "  </thead>\n",
       "  <tbody>\n",
       "    <tr>\n",
       "      <th>13</th>\n",
       "      <td>ADH1B</td>\n",
       "      <td>{substance-related disorder: addiction risk fa...</td>\n",
       "    </tr>\n",
       "    <tr>\n",
       "      <th>92</th>\n",
       "      <td>CHRM3</td>\n",
       "      <td>{hallucinations: hallucinations in long-term c...</td>\n",
       "    </tr>\n",
       "    <tr>\n",
       "      <th>183</th>\n",
       "      <td>GCKR</td>\n",
       "      <td>{opioid-binding protein/cell adhesion molecule...</td>\n",
       "    </tr>\n",
       "  </tbody>\n",
       "</table>\n",
       "</div>"
      ],
      "text/plain": [
       "      GENE                                              TRAIT\n",
       "13   ADH1B  {substance-related disorder: addiction risk fa...\n",
       "92   CHRM3  {hallucinations: hallucinations in long-term c...\n",
       "183   GCKR  {opioid-binding protein/cell adhesion molecule..."
      ]
     },
     "execution_count": 56,
     "metadata": {},
     "output_type": "execute_result"
    }
   ],
   "source": [
    "SUD_rare"
   ]
  },
  {
   "cell_type": "markdown",
   "id": "9c1e049d-d61c-4dbb-86bd-dee494aace13",
   "metadata": {},
   "source": [
    "# test if gwas catalog enrichment is significant "
   ]
  },
  {
   "cell_type": "code",
   "execution_count": null,
   "id": "1ef6fa44-f314-45cc-8220-52d7b6b711aa",
   "metadata": {},
   "outputs": [],
   "source": [
    "GWAS_catalog_pcnetnodes=set(list(gwas_catalog['REPORTED GENE(S)'].dropna())+list(gwas_catalog['MAPPED_GENE'])).intersection(pc_nodes)"
   ]
  },
  {
   "cell_type": "code",
   "execution_count": null,
   "id": "7ff43a3f-d11e-457d-905c-d7fb2b502395",
   "metadata": {},
   "outputs": [],
   "source": [
    "len(set(nodes).intersection(cat['GENE']))"
   ]
  },
  {
   "cell_type": "markdown",
   "id": "ae5354ef-b968-424f-85d5-4098116c15b6",
   "metadata": {
    "tags": []
   },
   "source": [
    "## alcohol traits"
   ]
  },
  {
   "cell_type": "code",
   "execution_count": 44,
   "id": "18d831c6-8740-4e93-8fd7-d94a841fd770",
   "metadata": {},
   "outputs": [
    {
     "data": {
      "text/plain": [
       "0.0015553079797409979"
      ]
     },
     "execution_count": 44,
     "metadata": {},
     "output_type": "execute_result"
    }
   ],
   "source": [
    "#alcohol traits\n",
    "hyper = hypergeom(M=len(GWAS_catalog_pcnetnodes), n=len(set(alc_cat['GENE']).intersection(pc_nodes)), N=len(nodes))\n",
    "p_intersect_alc = hyper.sf(len(set(alc['GENE'])))\n",
    "p_intersect_alc"
   ]
  },
  {
   "cell_type": "code",
   "execution_count": 45,
   "id": "385ca861-3533-4795-8d02-e8da9362a9ea",
   "metadata": {},
   "outputs": [
    {
     "data": {
      "text/plain": [
       "40"
      ]
     },
     "execution_count": 45,
     "metadata": {},
     "output_type": "execute_result"
    }
   ],
   "source": [
    "len(set(alc['GENE']))"
   ]
  },
  {
   "cell_type": "markdown",
   "id": "038f8c44-924f-42be-92c4-8ac1c00a24b6",
   "metadata": {
    "tags": []
   },
   "source": [
    "## smoking traits"
   ]
  },
  {
   "cell_type": "code",
   "execution_count": 46,
   "id": "1cfe6ba8-d1b6-4226-a6b6-d43b055e4a05",
   "metadata": {},
   "outputs": [
    {
     "data": {
      "text/plain": [
       "0.045814720229329295"
      ]
     },
     "execution_count": 46,
     "metadata": {},
     "output_type": "execute_result"
    }
   ],
   "source": [
    "hyper = hypergeom(M=len(set(GWAS_catalog_pcnetnodes)), n=len(set(smok_cat['GENE']).intersection(pc_nodes)), N=len(nodes))\n",
    "p_intersect_smok = hyper.sf(len(set(smok['GENE'])))\n",
    "p_intersect_smok"
   ]
  },
  {
   "cell_type": "code",
   "execution_count": 47,
   "id": "a5b4ad66-c4c9-4173-adc0-ad6f761a252d",
   "metadata": {},
   "outputs": [
    {
     "data": {
      "text/plain": [
       "52"
      ]
     },
     "execution_count": 47,
     "metadata": {},
     "output_type": "execute_result"
    }
   ],
   "source": [
    "len(set(smok['GENE']))"
   ]
  },
  {
   "cell_type": "code",
   "execution_count": 48,
   "id": "495daa1a-3d22-4378-be4e-90bbaf669988",
   "metadata": {},
   "outputs": [
    {
     "data": {
      "text/plain": [
       "2977"
      ]
     },
     "execution_count": 48,
     "metadata": {},
     "output_type": "execute_result"
    }
   ],
   "source": [
    "len(set(smok_cat['GENE']).intersection(pc_nodes))"
   ]
  },
  {
   "cell_type": "code",
   "execution_count": 49,
   "id": "4fd32502-b319-4839-9013-61f8e66ffe85",
   "metadata": {},
   "outputs": [
    {
     "data": {
      "text/plain": [
       "14539"
      ]
     },
     "execution_count": 49,
     "metadata": {},
     "output_type": "execute_result"
    }
   ],
   "source": [
    "len(set(GWAS_catalog_pcnetnodes))"
   ]
  },
  {
   "cell_type": "markdown",
   "id": "84024d71-242d-4cc3-9ede-f25c31397417",
   "metadata": {},
   "source": [
    "## SUD traits"
   ]
  },
  {
   "cell_type": "code",
   "execution_count": 50,
   "id": "fba6e675-0d4e-4fbb-9973-c21f928720fa",
   "metadata": {},
   "outputs": [
    {
     "data": {
      "text/plain": [
       "0.11831054996972501"
      ]
     },
     "execution_count": 50,
     "metadata": {},
     "output_type": "execute_result"
    }
   ],
   "source": [
    "hyper = hypergeom(M=len(GWAS_catalog_pcnetnodes), n=len(set(SUD_cat['GENE']).intersection(pc_nodes)), N=len(nodes))\n",
    "p_intersect_SUD = hyper.sf(len(set(SUD['GENE'])))\n",
    "p_intersect_SUD"
   ]
  },
  {
   "cell_type": "code",
   "execution_count": 393,
   "id": "8319866b-6b45-4fd2-a521-232e43b689e1",
   "metadata": {},
   "outputs": [
    {
     "data": {
      "text/plain": [
       "{'ADH1B',\n",
       " 'EPM2A',\n",
       " 'FOXP1',\n",
       " 'FOXP2',\n",
       " 'HSP90AA1',\n",
       " 'NFAT5',\n",
       " 'SND1',\n",
       " 'SULT1A2',\n",
       " 'TXK',\n",
       " 'XYLT1',\n",
       " 'ZKSCAN5'}"
      ]
     },
     "execution_count": 393,
     "metadata": {},
     "output_type": "execute_result"
    }
   ],
   "source": [
    "set(SUD['GENE'])"
   ]
  },
  {
   "cell_type": "code",
   "execution_count": 52,
   "id": "fc757954-bf48-4e6b-8af1-e2dc18ff9bce",
   "metadata": {},
   "outputs": [
    {
     "ename": "NameError",
     "evalue": "name 'other_SUD_cat' is not defined",
     "output_type": "error",
     "traceback": [
      "\u001b[0;31m---------------------------------------------------------------------------\u001b[0m",
      "\u001b[0;31mNameError\u001b[0m                                 Traceback (most recent call last)",
      "Input \u001b[0;32mIn [52]\u001b[0m, in \u001b[0;36m<cell line: 1>\u001b[0;34m()\u001b[0m\n\u001b[0;32m----> 1\u001b[0m SUD_incl_cat\u001b[38;5;241m=\u001b[39m(SUD_cat[\u001b[38;5;124m'\u001b[39m\u001b[38;5;124mGENE\u001b[39m\u001b[38;5;124m'\u001b[39m]\u001b[38;5;241m.\u001b[39mto_list()\u001b[38;5;241m+\u001b[39m\u001b[43mother_SUD_cat\u001b[49m[\u001b[38;5;124m'\u001b[39m\u001b[38;5;124mGENE\u001b[39m\u001b[38;5;124m'\u001b[39m]\u001b[38;5;241m.\u001b[39mto_list())\n",
      "\u001b[0;31mNameError\u001b[0m: name 'other_SUD_cat' is not defined"
     ]
    }
   ],
   "source": [
    "SUD_incl_cat=(SUD_cat['GENE'].to_list()+other_SUD_cat['GENE'].to_list())"
   ]
  },
  {
   "cell_type": "code",
   "execution_count": 51,
   "id": "ab596970-26c3-4131-9b3a-2c31e3041769",
   "metadata": {},
   "outputs": [
    {
     "ename": "NameError",
     "evalue": "name 'SUD_incl_cat' is not defined",
     "output_type": "error",
     "traceback": [
      "\u001b[0;31m---------------------------------------------------------------------------\u001b[0m",
      "\u001b[0;31mNameError\u001b[0m                                 Traceback (most recent call last)",
      "Input \u001b[0;32mIn [51]\u001b[0m, in \u001b[0;36m<cell line: 1>\u001b[0;34m()\u001b[0m\n\u001b[0;32m----> 1\u001b[0m hyper \u001b[38;5;241m=\u001b[39m hypergeom(M\u001b[38;5;241m=\u001b[39m\u001b[38;5;28mlen\u001b[39m(GWAS_catalog_pcnetnodes), n\u001b[38;5;241m=\u001b[39m\u001b[38;5;28mlen\u001b[39m(\u001b[38;5;28mset\u001b[39m(\u001b[43mSUD_incl_cat\u001b[49m)\u001b[38;5;241m.\u001b[39mintersection(pc_nodes)), N\u001b[38;5;241m=\u001b[39m\u001b[38;5;28mlen\u001b[39m(nodes))\n\u001b[1;32m      2\u001b[0m p_intersect_SUD \u001b[38;5;241m=\u001b[39m hyper\u001b[38;5;241m.\u001b[39msf(\u001b[38;5;28mlen\u001b[39m(\u001b[38;5;28mset\u001b[39m(SUD_incl_cat)\u001b[38;5;241m.\u001b[39mintersection(nodes)))\n\u001b[1;32m      3\u001b[0m p_intersect_SUD\n",
      "\u001b[0;31mNameError\u001b[0m: name 'SUD_incl_cat' is not defined"
     ]
    }
   ],
   "source": [
    "hyper = hypergeom(M=len(GWAS_catalog_pcnetnodes), n=len(set(SUD_incl_cat).intersection(pc_nodes)), N=len(nodes))\n",
    "p_intersect_SUD = hyper.sf(len(set(SUD_incl_cat).intersection(nodes)))\n",
    "p_intersect_SUD"
   ]
  },
  {
   "cell_type": "code",
   "execution_count": null,
   "id": "0af0460c-95bb-42fa-9f6a-b16c4de8091b",
   "metadata": {},
   "outputs": [],
   "source": []
  },
  {
   "cell_type": "code",
   "execution_count": 208,
   "id": "29370af1-aaae-4960-afd1-7db85ac28bb4",
   "metadata": {},
   "outputs": [
    {
     "data": {
      "text/plain": [
       "15"
      ]
     },
     "execution_count": 208,
     "metadata": {},
     "output_type": "execute_result"
    }
   ],
   "source": [
    "len(set(SUD_incl_cat).intersection(nodes))"
   ]
  },
  {
   "cell_type": "code",
   "execution_count": 209,
   "id": "9f319ee6-2de5-4ddc-ad06-4d355d987072",
   "metadata": {},
   "outputs": [
    {
     "data": {
      "text/plain": [
       "11"
      ]
     },
     "execution_count": 209,
     "metadata": {},
     "output_type": "execute_result"
    }
   ],
   "source": [
    "len(SUD['GENE'])"
   ]
  },
  {
   "cell_type": "code",
   "execution_count": 210,
   "id": "cf39233f-0883-4f14-8c79-7216516f9ad6",
   "metadata": {},
   "outputs": [
    {
     "data": {
      "text/plain": [
       "14539"
      ]
     },
     "execution_count": 210,
     "metadata": {},
     "output_type": "execute_result"
    }
   ],
   "source": [
    "len(GWAS_catalog_pcnetnodes)"
   ]
  },
  {
   "cell_type": "code",
   "execution_count": 211,
   "id": "1dd71422-130f-409f-b789-66b32ed06d31",
   "metadata": {},
   "outputs": [
    {
     "data": {
      "text/plain": [
       "2977"
      ]
     },
     "execution_count": 211,
     "metadata": {},
     "output_type": "execute_result"
    }
   ],
   "source": [
    "len(set(smok_cat['GENE']).intersection(pc_nodes))"
   ]
  },
  {
   "cell_type": "code",
   "execution_count": 212,
   "id": "2c68ee5d-90b7-48cb-9ae1-40a3f185b2df",
   "metadata": {},
   "outputs": [
    {
     "data": {
      "text/plain": [
       "11"
      ]
     },
     "execution_count": 212,
     "metadata": {},
     "output_type": "execute_result"
    }
   ],
   "source": [
    "len(set(SUD['GENE']))"
   ]
  },
  {
   "cell_type": "code",
   "execution_count": 102,
   "id": "deafa463-c691-4801-af97-c348788bb751",
   "metadata": {},
   "outputs": [],
   "source": [
    "smok.merge(SUD, on='GENE', how='outer').to_csv('node_SUD_smok_phenotypes.csv')"
   ]
  },
  {
   "cell_type": "code",
   "execution_count": 394,
   "id": "44e25375-ab1e-454a-99d3-ae59815a9724",
   "metadata": {},
   "outputs": [],
   "source": [
    "t.to_csv(\"behavioural_and_SUD_traits_GWAS_catalog.csv\",index=False)"
   ]
  },
  {
   "cell_type": "markdown",
   "id": "b52c08b0-63d3-4c6d-bb44-e8ec41011de3",
   "metadata": {},
   "source": [
    "# behavioural traits"
   ]
  },
  {
   "cell_type": "code",
   "execution_count": 67,
   "id": "071fdbfa-5f6b-4a6c-853a-3f7a49a173e5",
   "metadata": {},
   "outputs": [],
   "source": [
    "behav_exp_cat=cat[cat['TRAIT'].isin(behav_ls)]\n",
    "behav_exp=behav_exp_cat[behav_exp_cat['GENE'].isin(nodes)]"
   ]
  },
  {
   "cell_type": "code",
   "execution_count": 68,
   "id": "942fc67f-36ff-4131-b198-a706a4552813",
   "metadata": {},
   "outputs": [
    {
     "data": {
      "text/html": [
       "<div>\n",
       "<style scoped>\n",
       "    .dataframe tbody tr th:only-of-type {\n",
       "        vertical-align: middle;\n",
       "    }\n",
       "\n",
       "    .dataframe tbody tr th {\n",
       "        vertical-align: top;\n",
       "    }\n",
       "\n",
       "    .dataframe thead th {\n",
       "        text-align: right;\n",
       "    }\n",
       "</style>\n",
       "<table border=\"1\" class=\"dataframe\">\n",
       "  <thead>\n",
       "    <tr style=\"text-align: right;\">\n",
       "      <th></th>\n",
       "      <th>GENE</th>\n",
       "      <th>MAPPED_TRAIT</th>\n",
       "      <th>DISEASE/TRAIT</th>\n",
       "      <th>TRAIT</th>\n",
       "    </tr>\n",
       "  </thead>\n",
       "  <tbody>\n",
       "    <tr>\n",
       "      <th>7006</th>\n",
       "      <td>HIPK3</td>\n",
       "      <td>aggressive behavior</td>\n",
       "      <td>anger</td>\n",
       "      <td>aggressive behavior: anger</td>\n",
       "    </tr>\n",
       "    <tr>\n",
       "      <th>10650</th>\n",
       "      <td>SLC4A8</td>\n",
       "      <td>unipolar depression, mood disorder, response t...</td>\n",
       "      <td>response to antidepressants and depression</td>\n",
       "      <td>unipolar depression, mood disorder, response t...</td>\n",
       "    </tr>\n",
       "    <tr>\n",
       "      <th>20580</th>\n",
       "      <td>CEP85L</td>\n",
       "      <td>attention deficit hyperactivity disorder, bipo...</td>\n",
       "      <td>bipolar disorder (age of onset &lt;21) or attenti...</td>\n",
       "      <td>attention deficit hyperactivity disorder, bipo...</td>\n",
       "    </tr>\n",
       "    <tr>\n",
       "      <th>20586</th>\n",
       "      <td>CEP85L</td>\n",
       "      <td>attention deficit hyperactivity disorder, bipo...</td>\n",
       "      <td>bipolar disorder or attention deficit hyperact...</td>\n",
       "      <td>attention deficit hyperactivity disorder, bipo...</td>\n",
       "    </tr>\n",
       "    <tr>\n",
       "      <th>20597</th>\n",
       "      <td>CEP85L</td>\n",
       "      <td>attention deficit hyperactivity disorder, bipo...</td>\n",
       "      <td>bipolar disorder or attention deficit hyperact...</td>\n",
       "      <td>attention deficit hyperactivity disorder, bipo...</td>\n",
       "    </tr>\n",
       "    <tr>\n",
       "      <th>...</th>\n",
       "      <td>...</td>\n",
       "      <td>...</td>\n",
       "      <td>...</td>\n",
       "      <td>...</td>\n",
       "    </tr>\n",
       "    <tr>\n",
       "      <th>480807</th>\n",
       "      <td>TTC21B</td>\n",
       "      <td>cognitive function measurement</td>\n",
       "      <td>cognitive performance (mtag)</td>\n",
       "      <td>cognitive function measurement: cognitive perf...</td>\n",
       "    </tr>\n",
       "    <tr>\n",
       "      <th>501921</th>\n",
       "      <td>SH3BP4</td>\n",
       "      <td>memory performance</td>\n",
       "      <td>cognitive function (delayed memory)</td>\n",
       "      <td>memory performance: cognitive function (delaye...</td>\n",
       "    </tr>\n",
       "    <tr>\n",
       "      <th>502118</th>\n",
       "      <td>EXOC2</td>\n",
       "      <td>memory performance</td>\n",
       "      <td>cognitive function (immediate memory) (longitu...</td>\n",
       "      <td>memory performance: cognitive function (immedi...</td>\n",
       "    </tr>\n",
       "    <tr>\n",
       "      <th>502879</th>\n",
       "      <td>EXOC2</td>\n",
       "      <td>memory performance</td>\n",
       "      <td>cognitive function (immediate memory)</td>\n",
       "      <td>memory performance: cognitive function (immedi...</td>\n",
       "    </tr>\n",
       "    <tr>\n",
       "      <th>503918</th>\n",
       "      <td>FOXP1</td>\n",
       "      <td>neuroticism measurement, cognitive function me...</td>\n",
       "      <td>personality traits or cognitive traits (multiv...</td>\n",
       "      <td>neuroticism measurement, cognitive function me...</td>\n",
       "    </tr>\n",
       "  </tbody>\n",
       "</table>\n",
       "<p>420 rows × 4 columns</p>\n",
       "</div>"
      ],
      "text/plain": [
       "          GENE                                       MAPPED_TRAIT  \\\n",
       "7006     HIPK3                                aggressive behavior   \n",
       "10650   SLC4A8  unipolar depression, mood disorder, response t...   \n",
       "20580   CEP85L  attention deficit hyperactivity disorder, bipo...   \n",
       "20586   CEP85L  attention deficit hyperactivity disorder, bipo...   \n",
       "20597   CEP85L  attention deficit hyperactivity disorder, bipo...   \n",
       "...        ...                                                ...   \n",
       "480807  TTC21B                     cognitive function measurement   \n",
       "501921  SH3BP4                                 memory performance   \n",
       "502118   EXOC2                                 memory performance   \n",
       "502879   EXOC2                                 memory performance   \n",
       "503918   FOXP1  neuroticism measurement, cognitive function me...   \n",
       "\n",
       "                                            DISEASE/TRAIT  \\\n",
       "7006                                                anger   \n",
       "10650          response to antidepressants and depression   \n",
       "20580   bipolar disorder (age of onset <21) or attenti...   \n",
       "20586   bipolar disorder or attention deficit hyperact...   \n",
       "20597   bipolar disorder or attention deficit hyperact...   \n",
       "...                                                   ...   \n",
       "480807                       cognitive performance (mtag)   \n",
       "501921                cognitive function (delayed memory)   \n",
       "502118  cognitive function (immediate memory) (longitu...   \n",
       "502879              cognitive function (immediate memory)   \n",
       "503918  personality traits or cognitive traits (multiv...   \n",
       "\n",
       "                                                    TRAIT  \n",
       "7006                           aggressive behavior: anger  \n",
       "10650   unipolar depression, mood disorder, response t...  \n",
       "20580   attention deficit hyperactivity disorder, bipo...  \n",
       "20586   attention deficit hyperactivity disorder, bipo...  \n",
       "20597   attention deficit hyperactivity disorder, bipo...  \n",
       "...                                                   ...  \n",
       "480807  cognitive function measurement: cognitive perf...  \n",
       "501921  memory performance: cognitive function (delaye...  \n",
       "502118  memory performance: cognitive function (immedi...  \n",
       "502879  memory performance: cognitive function (immedi...  \n",
       "503918  neuroticism measurement, cognitive function me...  \n",
       "\n",
       "[420 rows x 4 columns]"
      ]
     },
     "execution_count": 68,
     "metadata": {},
     "output_type": "execute_result"
    }
   ],
   "source": [
    "behav_exp"
   ]
  },
  {
   "cell_type": "code",
   "execution_count": 64,
   "id": "3cfa9d66-ded4-4e6f-b945-add6cac75ded",
   "metadata": {},
   "outputs": [
    {
     "ename": "KeyError",
     "evalue": "\"None of [Float64Index([nan, nan, nan, nan, nan, nan, nan, nan, nan, nan, nan, nan, nan,\\n              nan, nan, nan, nan, nan, nan, nan, nan, nan, nan, nan, nan, nan,\\n              nan, nan, nan, nan, nan, nan, nan, nan, nan, nan, nan, nan, nan,\\n              nan, nan, nan, nan, nan, nan, nan, nan, nan, nan, nan, nan, nan,\\n              nan, nan, nan, nan, nan, nan, nan, nan, nan, nan, nan, nan, nan,\\n              nan, nan, nan, nan, nan, nan, nan, nan, nan, nan, nan, nan, nan,\\n              nan, nan, nan, nan, nan, nan, nan, nan, nan, nan],\\n             dtype='float64')] are in the [columns]\"",
     "output_type": "error",
     "traceback": [
      "\u001b[0;31m---------------------------------------------------------------------------\u001b[0m",
      "\u001b[0;31mKeyError\u001b[0m                                  Traceback (most recent call last)",
      "Input \u001b[0;32mIn [64]\u001b[0m, in \u001b[0;36m<cell line: 1>\u001b[0;34m()\u001b[0m\n\u001b[0;32m----> 1\u001b[0m depr\u001b[38;5;241m=\u001b[39m\u001b[43mbehav\u001b[49m\u001b[43m[\u001b[49m\u001b[43mbehav\u001b[49m\u001b[43m[\u001b[49m\u001b[38;5;124;43m'\u001b[39;49m\u001b[38;5;124;43mTRAIT\u001b[39;49m\u001b[38;5;124;43m'\u001b[39;49m\u001b[43m]\u001b[49m\u001b[38;5;241;43m.\u001b[39;49m\u001b[43mstr\u001b[49m\u001b[38;5;241;43m.\u001b[39;49m\u001b[43mcontains\u001b[49m\u001b[43m(\u001b[49m\u001b[38;5;124;43m'\u001b[39;49m\u001b[38;5;124;43mdepr\u001b[39;49m\u001b[38;5;124;43m'\u001b[39;49m\u001b[43m)\u001b[49m\u001b[43m]\u001b[49m\n\u001b[1;32m      2\u001b[0m depr_cat\u001b[38;5;241m=\u001b[39mbehav_cat[behav_cat[\u001b[38;5;124m'\u001b[39m\u001b[38;5;124mTRAIT\u001b[39m\u001b[38;5;124m'\u001b[39m]\u001b[38;5;241m.\u001b[39mstr\u001b[38;5;241m.\u001b[39mcontains(\u001b[38;5;124m'\u001b[39m\u001b[38;5;124mdepr\u001b[39m\u001b[38;5;124m'\u001b[39m)]\n",
      "File \u001b[0;32m~/miniconda3/envs/env-std-py38/lib/python3.8/site-packages/pandas/core/frame.py:3810\u001b[0m, in \u001b[0;36mDataFrame.__getitem__\u001b[0;34m(self, key)\u001b[0m\n\u001b[1;32m   3808\u001b[0m     \u001b[38;5;28;01mif\u001b[39;00m is_iterator(key):\n\u001b[1;32m   3809\u001b[0m         key \u001b[38;5;241m=\u001b[39m \u001b[38;5;28mlist\u001b[39m(key)\n\u001b[0;32m-> 3810\u001b[0m     indexer \u001b[38;5;241m=\u001b[39m \u001b[38;5;28;43mself\u001b[39;49m\u001b[38;5;241;43m.\u001b[39;49m\u001b[43mcolumns\u001b[49m\u001b[38;5;241;43m.\u001b[39;49m\u001b[43m_get_indexer_strict\u001b[49m\u001b[43m(\u001b[49m\u001b[43mkey\u001b[49m\u001b[43m,\u001b[49m\u001b[43m \u001b[49m\u001b[38;5;124;43m\"\u001b[39;49m\u001b[38;5;124;43mcolumns\u001b[39;49m\u001b[38;5;124;43m\"\u001b[39;49m\u001b[43m)\u001b[49m[\u001b[38;5;241m1\u001b[39m]\n\u001b[1;32m   3812\u001b[0m \u001b[38;5;66;03m# take() does not accept boolean indexers\u001b[39;00m\n\u001b[1;32m   3813\u001b[0m \u001b[38;5;28;01mif\u001b[39;00m \u001b[38;5;28mgetattr\u001b[39m(indexer, \u001b[38;5;124m\"\u001b[39m\u001b[38;5;124mdtype\u001b[39m\u001b[38;5;124m\"\u001b[39m, \u001b[38;5;28;01mNone\u001b[39;00m) \u001b[38;5;241m==\u001b[39m \u001b[38;5;28mbool\u001b[39m:\n",
      "File \u001b[0;32m~/miniconda3/envs/env-std-py38/lib/python3.8/site-packages/pandas/core/indexes/base.py:6111\u001b[0m, in \u001b[0;36mIndex._get_indexer_strict\u001b[0;34m(self, key, axis_name)\u001b[0m\n\u001b[1;32m   6108\u001b[0m \u001b[38;5;28;01melse\u001b[39;00m:\n\u001b[1;32m   6109\u001b[0m     keyarr, indexer, new_indexer \u001b[38;5;241m=\u001b[39m \u001b[38;5;28mself\u001b[39m\u001b[38;5;241m.\u001b[39m_reindex_non_unique(keyarr)\n\u001b[0;32m-> 6111\u001b[0m \u001b[38;5;28;43mself\u001b[39;49m\u001b[38;5;241;43m.\u001b[39;49m\u001b[43m_raise_if_missing\u001b[49m\u001b[43m(\u001b[49m\u001b[43mkeyarr\u001b[49m\u001b[43m,\u001b[49m\u001b[43m \u001b[49m\u001b[43mindexer\u001b[49m\u001b[43m,\u001b[49m\u001b[43m \u001b[49m\u001b[43maxis_name\u001b[49m\u001b[43m)\u001b[49m\n\u001b[1;32m   6113\u001b[0m keyarr \u001b[38;5;241m=\u001b[39m \u001b[38;5;28mself\u001b[39m\u001b[38;5;241m.\u001b[39mtake(indexer)\n\u001b[1;32m   6114\u001b[0m \u001b[38;5;28;01mif\u001b[39;00m \u001b[38;5;28misinstance\u001b[39m(key, Index):\n\u001b[1;32m   6115\u001b[0m     \u001b[38;5;66;03m# GH 42790 - Preserve name from an Index\u001b[39;00m\n",
      "File \u001b[0;32m~/miniconda3/envs/env-std-py38/lib/python3.8/site-packages/pandas/core/indexes/base.py:6171\u001b[0m, in \u001b[0;36mIndex._raise_if_missing\u001b[0;34m(self, key, indexer, axis_name)\u001b[0m\n\u001b[1;32m   6169\u001b[0m     \u001b[38;5;28;01mif\u001b[39;00m use_interval_msg:\n\u001b[1;32m   6170\u001b[0m         key \u001b[38;5;241m=\u001b[39m \u001b[38;5;28mlist\u001b[39m(key)\n\u001b[0;32m-> 6171\u001b[0m     \u001b[38;5;28;01mraise\u001b[39;00m \u001b[38;5;167;01mKeyError\u001b[39;00m(\u001b[38;5;124mf\u001b[39m\u001b[38;5;124m\"\u001b[39m\u001b[38;5;124mNone of [\u001b[39m\u001b[38;5;132;01m{\u001b[39;00mkey\u001b[38;5;132;01m}\u001b[39;00m\u001b[38;5;124m] are in the [\u001b[39m\u001b[38;5;132;01m{\u001b[39;00maxis_name\u001b[38;5;132;01m}\u001b[39;00m\u001b[38;5;124m]\u001b[39m\u001b[38;5;124m\"\u001b[39m)\n\u001b[1;32m   6173\u001b[0m not_found \u001b[38;5;241m=\u001b[39m \u001b[38;5;28mlist\u001b[39m(ensure_index(key)[missing_mask\u001b[38;5;241m.\u001b[39mnonzero()[\u001b[38;5;241m0\u001b[39m]]\u001b[38;5;241m.\u001b[39munique())\n\u001b[1;32m   6174\u001b[0m \u001b[38;5;28;01mraise\u001b[39;00m \u001b[38;5;167;01mKeyError\u001b[39;00m(\u001b[38;5;124mf\u001b[39m\u001b[38;5;124m\"\u001b[39m\u001b[38;5;132;01m{\u001b[39;00mnot_found\u001b[38;5;132;01m}\u001b[39;00m\u001b[38;5;124m not in index\u001b[39m\u001b[38;5;124m\"\u001b[39m)\n",
      "\u001b[0;31mKeyError\u001b[0m: \"None of [Float64Index([nan, nan, nan, nan, nan, nan, nan, nan, nan, nan, nan, nan, nan,\\n              nan, nan, nan, nan, nan, nan, nan, nan, nan, nan, nan, nan, nan,\\n              nan, nan, nan, nan, nan, nan, nan, nan, nan, nan, nan, nan, nan,\\n              nan, nan, nan, nan, nan, nan, nan, nan, nan, nan, nan, nan, nan,\\n              nan, nan, nan, nan, nan, nan, nan, nan, nan, nan, nan, nan, nan,\\n              nan, nan, nan, nan, nan, nan, nan, nan, nan, nan, nan, nan, nan,\\n              nan, nan, nan, nan, nan, nan, nan, nan, nan, nan],\\n             dtype='float64')] are in the [columns]\""
     ]
    }
   ],
   "source": [
    "depr=behav[behav['TRAIT'].str.contains('depr')]\n",
    "depr_cat=behav_cat[behav_cat['TRAIT'].str.contains('depr')]"
   ]
  },
  {
   "cell_type": "code",
   "execution_count": 33,
   "id": "4f294c52-9555-4ff4-af54-e3dade0a75e2",
   "metadata": {},
   "outputs": [],
   "source": [
    "bip=behav[behav['TRAIT'].str.contains('bipol')]\n",
    "bip_cat=behav_cat[behav_cat['TRAIT'].str.contains('bipol')]"
   ]
  },
  {
   "cell_type": "code",
   "execution_count": 37,
   "id": "6d4e799f-af68-40c2-a95d-4a20b5850aa3",
   "metadata": {},
   "outputs": [],
   "source": [
    "schiz=behav[behav['TRAIT'].str.contains('schiz')]\n",
    "schiz_cat=behav_cat[behav_cat['TRAIT'].str.contains('schiz')]"
   ]
  },
  {
   "cell_type": "code",
   "execution_count": 39,
   "id": "2347a112-910a-4af4-a79e-f0bd5c849e15",
   "metadata": {},
   "outputs": [
    {
     "data": {
      "text/plain": [
       "{'antipsychotic drug use measurement: antipsychotic drug dosage in schizophrenia or schizoaffective disorder',\n",
       " 'attention deficit hyperactivity disorder, unipolar depression, bipolar disorder, autism spectrum disorder, schizophrenia: autism spectrum disorder, attention deficit-hyperactivity disorder, bipolar disorder, major depressive disorder, and schizophrenia (combined)',\n",
       " 'autism spectrum disorder, schizophrenia: autism spectrum disorder or schizophrenia',\n",
       " 'disease recurrence, unipolar depression, bipolar disorder, schizophrenia: schizophrenia, bipolar disorder or recurrent major depressive disorder',\n",
       " 'mental or behavioural disorder: bipolar disorder and schizophrenia',\n",
       " 'obsessive-compulsive disorder, attention deficit hyperactivity disorder, tourette syndrome, unipolar depression, bipolar disorder, autism spectrum disorder, schizophrenia, anorexia nervosa: anorexia nervosa, attention-deficit/hyperactivity disorder, autism spectrum disorder, bipolar disorder, major depression, obsessive-compulsive disorder, schizophrenia, or tourette syndrome (pleiotropy)',\n",
       " 'schizophrenia, intelligence, self reported educational attainment: cognitive ability, years of educational attainment or schizophrenia (pleiotropy)',\n",
       " 'total cholesterol measurement, response to escitalopram, response to citalopram: total cholesterol levels x ssri levels (escitalopram or citalopram) interaction in schizophrenia or bipolar disorder',\n",
       " 'unipolar depression, bipolar disorder, mental or behavioural disorder: schizophrenia, bipolar disorder and depression (combined)',\n",
       " 'unipolar depression, bipolar disorder, schizophrenia: schizophrenia, bipolar disorder or recurrent major depressive disorder'}"
      ]
     },
     "execution_count": 39,
     "metadata": {},
     "output_type": "execute_result"
    }
   ],
   "source": [
    "set(schiz['TRAIT'])"
   ]
  },
  {
   "cell_type": "code",
   "execution_count": 34,
   "id": "e5751407-8a01-4486-bf2c-336406d380fa",
   "metadata": {},
   "outputs": [
    {
     "data": {
      "text/plain": [
       "15"
      ]
     },
     "execution_count": 34,
     "metadata": {},
     "output_type": "execute_result"
    }
   ],
   "source": [
    "len(set(bip['GENE']))"
   ]
  },
  {
   "cell_type": "code",
   "execution_count": 30,
   "id": "ac5f02be-240e-42d8-9418-e033024ad505",
   "metadata": {},
   "outputs": [
    {
     "data": {
      "text/plain": [
       "3163"
      ]
     },
     "execution_count": 30,
     "metadata": {},
     "output_type": "execute_result"
    }
   ],
   "source": [
    "len(set(depr_cat['GENE']))"
   ]
  },
  {
   "cell_type": "code",
   "execution_count": 32,
   "id": "d94bd956-be35-463d-b44a-23ceac8e71f5",
   "metadata": {},
   "outputs": [
    {
     "data": {
      "text/plain": [
       "0.8844735920480864"
      ]
     },
     "execution_count": 32,
     "metadata": {},
     "output_type": "execute_result"
    }
   ],
   "source": [
    "hyper = hypergeom(M=len(GWAS_catalog_pcnetnodes), n=len((set(depr_cat['GENE'])).intersection(pc_nodes)), N=len(nodes))\n",
    "p_intersect_behav = hyper.sf(len(set(depr['GENE'])))\n",
    "p_intersect_behav"
   ]
  },
  {
   "cell_type": "code",
   "execution_count": 40,
   "id": "e630ae3a-5419-42b2-9d71-0d47e1969f7a",
   "metadata": {},
   "outputs": [
    {
     "data": {
      "text/plain": [
       "0.8198871722341952"
      ]
     },
     "execution_count": 40,
     "metadata": {},
     "output_type": "execute_result"
    }
   ],
   "source": [
    "hyper = hypergeom(M=len(GWAS_catalog_pcnetnodes), n=len((set(schiz_cat['GENE'])).intersection(pc_nodes)), N=len(nodes))\n",
    "p_intersect_behav = hyper.sf(len(set(schiz['GENE'])))\n",
    "p_intersect_behav"
   ]
  },
  {
   "cell_type": "code",
   "execution_count": 36,
   "id": "c801d9b9-5280-4462-974a-19f85c4244a9",
   "metadata": {},
   "outputs": [
    {
     "data": {
      "text/plain": [
       "0.7643888807319352"
      ]
     },
     "execution_count": 36,
     "metadata": {},
     "output_type": "execute_result"
    }
   ],
   "source": [
    "hyper = hypergeom(M=len(GWAS_catalog_pcnetnodes), n=len((set(bip_cat['GENE'])).intersection(pc_nodes)), N=len(nodes))\n",
    "p_intersect_behav = hyper.sf(len(set(bip['GENE'])))\n",
    "p_intersect_behav"
   ]
  },
  {
   "cell_type": "markdown",
   "id": "64a478c2-3b5b-4831-991a-5b36e0b3db98",
   "metadata": {},
   "source": [
    "# FUMA Gene to Function - integrate into network"
   ]
  },
  {
   "cell_type": "code",
   "execution_count": 142,
   "id": "4e7c4796-d202-47fb-adec-dd8154200748",
   "metadata": {},
   "outputs": [],
   "source": [
    "#downloaded from FUMA- server\n",
    "#general= 30 tissues\n",
    "#other is 54 tissues\n",
    "gtex_30_dict={'FDR_25':'FUMA_gene2func_fdr25_alcoholintake_network/gtex_v8_ts_general_DEG.txt'}\n",
    "gtex_54_dict={'FDR_25':'FUMA_gene2func_fdr25_alcoholintake_network/gtex_v8_ts_DEG_annotatedsystem.txt'}\n",
    "gtex_gene_table_dict={'FDR_25':'FUMA_gene2func_fdr25_alcoholintake_network/geneTable.txt'}"
   ]
  },
  {
   "cell_type": "code",
   "execution_count": 143,
   "id": "edf89f05-56be-45b7-921a-db1c0e7c74d9",
   "metadata": {},
   "outputs": [],
   "source": [
    "gtex30=pd.read_csv(gtex_30_dict[analysis_dataset], sep='\\t')\n",
    "gtex54=pd.read_csv(gtex_54_dict[analysis_dataset], sep='\\t')\n",
    "gtex_meta=pd.read_csv(gtex_gene_table_dict[analysis_dataset], sep='\\t')\n",
    "gtex_meta.index=gtex_meta.ensg"
   ]
  },
  {
   "cell_type": "code",
   "execution_count": 144,
   "id": "cda6f095-f758-4ec9-a72e-5fa9abb766f5",
   "metadata": {},
   "outputs": [],
   "source": [
    "gtex_dict=gtex_meta[['symbol']].to_dict"
   ]
  },
  {
   "cell_type": "markdown",
   "id": "c2ac71fe-0c18-427c-b595-98e9b7a2df30",
   "metadata": {},
   "source": [
    "## gtex 30 tissue"
   ]
  },
  {
   "cell_type": "code",
   "execution_count": 145,
   "id": "6b5bc4a5-73b0-445d-8a7b-2cbbb0c3a778",
   "metadata": {},
   "outputs": [],
   "source": [
    "gtex30_sig=gtex30[gtex30['adjP']<0.05]"
   ]
  },
  {
   "cell_type": "code",
   "execution_count": 146,
   "id": "fb3997db-3cd2-467b-a5ed-be5ae6bc7aa1",
   "metadata": {},
   "outputs": [],
   "source": [
    "twoside=gtex30_sig[gtex30_sig['Category']=='DEG.twoside']['GeneSet']"
   ]
  },
  {
   "cell_type": "code",
   "execution_count": 147,
   "id": "d99d7490-7994-4d29-a92c-6346f84f275f",
   "metadata": {},
   "outputs": [],
   "source": [
    "up=gtex30_sig[gtex30_sig['Category']=='DEG.up']['GeneSet']"
   ]
  },
  {
   "cell_type": "code",
   "execution_count": 148,
   "id": "5df26ae9-ceca-4647-a0d9-2149c5031bd6",
   "metadata": {},
   "outputs": [],
   "source": [
    "down=gtex30_sig[gtex30_sig['Category']=='DEG.down']['GeneSet']"
   ]
  },
  {
   "cell_type": "code",
   "execution_count": 149,
   "id": "26dee1e0-d51e-42de-8ecb-4bc9e49837a1",
   "metadata": {},
   "outputs": [
    {
     "data": {
      "text/plain": [
       "33             Blood\n",
       "41             Heart\n",
       "42            Kidney\n",
       "43             Liver\n",
       "45            Muscle\n",
       "48          Pancreas\n",
       "51    Salivary_Gland\n",
       "54            Spleen\n",
       "59            Vagina\n",
       "Name: GeneSet, dtype: object"
      ]
     },
     "execution_count": 149,
     "metadata": {},
     "output_type": "execute_result"
    }
   ],
   "source": [
    "down"
   ]
  },
  {
   "cell_type": "code",
   "execution_count": 285,
   "id": "f30618d4-a1dd-44f1-aea8-3bc318867f72",
   "metadata": {},
   "outputs": [
    {
     "data": {
      "text/plain": [
       "8               Colon\n",
       "12             Kidney\n",
       "13              Liver\n",
       "23    Small_Intestine\n",
       "25            Stomach\n",
       "Name: GeneSet, dtype: object"
      ]
     },
     "execution_count": 285,
     "metadata": {},
     "output_type": "execute_result"
    }
   ],
   "source": [
    "up"
   ]
  },
  {
   "cell_type": "code",
   "execution_count": 286,
   "id": "6d7b3c0b-e3b9-4e60-8f49-e81c34d404c8",
   "metadata": {},
   "outputs": [
    {
     "data": {
      "text/plain": [
       "['Adrenal_Gland',\n",
       " 'Bladder',\n",
       " 'Blood',\n",
       " 'Colon',\n",
       " 'Heart',\n",
       " 'Kidney',\n",
       " 'Liver',\n",
       " 'Muscle',\n",
       " 'Pancreas',\n",
       " 'Salivary_Gland',\n",
       " 'Skin',\n",
       " 'Small_Intestine',\n",
       " 'Stomach',\n",
       " 'Vagina']"
      ]
     },
     "execution_count": 286,
     "metadata": {},
     "output_type": "execute_result"
    }
   ],
   "source": [
    "twoside=list(twoside)\n",
    "twoside"
   ]
  },
  {
   "cell_type": "markdown",
   "id": "868f45c0-5163-4b39-810a-d13f96e3478a",
   "metadata": {},
   "source": [
    "## gtex 54 tissue"
   ]
  },
  {
   "cell_type": "code",
   "execution_count": 150,
   "id": "7a8dbd0c-07ee-4c63-893b-f13e41133a7a",
   "metadata": {},
   "outputs": [],
   "source": [
    "gtex54_sig=gtex54[gtex54['adjP']<0.05]"
   ]
  },
  {
   "cell_type": "code",
   "execution_count": 151,
   "id": "5c852c1f-359e-4c11-9077-3210ac66f325",
   "metadata": {},
   "outputs": [],
   "source": [
    "twoside=gtex54_sig[gtex54_sig['Category']=='DEG.twoside']['GeneSet']"
   ]
  },
  {
   "cell_type": "code",
   "execution_count": 152,
   "id": "5b715dc5-d0b9-4a4c-945a-706d584f5a87",
   "metadata": {},
   "outputs": [],
   "source": [
    "up=gtex54_sig[gtex54_sig['Category']=='DEG.up']['GeneSet']"
   ]
  },
  {
   "cell_type": "code",
   "execution_count": 153,
   "id": "78de8ad7-e88c-46d9-a99f-2ceed7207420",
   "metadata": {},
   "outputs": [],
   "source": [
    "down=gtex54_sig[gtex54_sig['Category']=='DEG.down']['GeneSet']"
   ]
  },
  {
   "cell_type": "code",
   "execution_count": 154,
   "id": "f37d1d2f-9e2b-411e-b222-f9289b01dc67",
   "metadata": {},
   "outputs": [],
   "source": [
    "gtex54_sig=gtex54_sig[gtex54_sig['Category']=='DEG.twoside']"
   ]
  },
  {
   "cell_type": "code",
   "execution_count": 155,
   "id": "fb61c5d2-46b6-4de9-ab1d-20637f6ab0b5",
   "metadata": {},
   "outputs": [],
   "source": [
    "gtex54_sig['genes']=gtex54_sig['genes'].str.split(':')"
   ]
  },
  {
   "cell_type": "code",
   "execution_count": 156,
   "id": "2fa21d70-b459-479a-8738-775570b5f524",
   "metadata": {},
   "outputs": [],
   "source": [
    "gtex54_sig_exp=gtex54_sig.explode('genes')"
   ]
  },
  {
   "cell_type": "code",
   "execution_count": 157,
   "id": "0b0069bd-76f2-420e-8838-2e55725f7ff1",
   "metadata": {},
   "outputs": [],
   "source": [
    "gtex54_sig_exp=gtex54_sig_exp.merge(gtex_meta[['symbol']], left_on='genes', right_on='ensg',how='left')"
   ]
  },
  {
   "cell_type": "code",
   "execution_count": 158,
   "id": "151d06f3-c3e8-49b3-b1bd-1d5cdc104eb4",
   "metadata": {
    "scrolled": true
   },
   "outputs": [
    {
     "data": {
      "text/plain": [
       "{'Adrenal_Gland',\n",
       " 'Bladder',\n",
       " 'Brain_Amygdala',\n",
       " 'Brain_Anterior_cingulate_cortex_BA24',\n",
       " 'Brain_Caudate_basal_ganglia',\n",
       " 'Brain_Cerebellar_Hemisphere',\n",
       " 'Brain_Cerebellum',\n",
       " 'Brain_Cortex',\n",
       " 'Brain_Frontal_Cortex_BA9',\n",
       " 'Brain_Hippocampus',\n",
       " 'Brain_Hypothalamus',\n",
       " 'Brain_Nucleus_accumbens_basal_ganglia',\n",
       " 'Brain_Putamen_basal_ganglia',\n",
       " 'Brain_Spinal_cord_cervical_c-1',\n",
       " 'Brain_Substantia_nigra',\n",
       " 'Cells_Cultured_fibroblasts',\n",
       " 'Colon_Transverse',\n",
       " 'Esophagus_Mucosa',\n",
       " 'Heart_Atrial_Appendage',\n",
       " 'Heart_Left_Ventricle',\n",
       " 'Kidney_Cortex',\n",
       " 'Liver',\n",
       " 'Minor_Salivary_Gland',\n",
       " 'Muscle_Skeletal',\n",
       " 'Pancreas',\n",
       " 'Skin_Not_Sun_Exposed_Suprapubic',\n",
       " 'Skin_Sun_Exposed_Lower_leg',\n",
       " 'Small_Intestine_Terminal_Ileum',\n",
       " 'Stomach',\n",
       " 'Whole_Blood'}"
      ]
     },
     "execution_count": 158,
     "metadata": {},
     "output_type": "execute_result"
    }
   ],
   "source": [
    "set(gtex54_sig_exp['GeneSet'])"
   ]
  },
  {
   "cell_type": "code",
   "execution_count": 168,
   "id": "e95ff182-1ed4-4dfc-aa30-85cb6c870d03",
   "metadata": {
    "scrolled": true
   },
   "outputs": [
    {
     "data": {
      "text/plain": [
       "{'NS', 'cardiac', 'epidermal', 'gastro', nan, 'neuro', 'other', 'urinary'}"
      ]
     },
     "execution_count": 168,
     "metadata": {},
     "output_type": "execute_result"
    }
   ],
   "source": [
    "set(gtex54['System'])"
   ]
  },
  {
   "cell_type": "code",
   "execution_count": 74,
   "id": "06ffc979-f2db-49e3-8eec-e111fefd08cb",
   "metadata": {},
   "outputs": [],
   "source": [
    "gtex54_sig_collapse=gtex54_sig_exp[['symbol','GeneSet','adjP']]"
   ]
  },
  {
   "cell_type": "code",
   "execution_count": 24,
   "id": "8e9409af-06ec-4f9b-a467-19804810f9a8",
   "metadata": {},
   "outputs": [],
   "source": [
    "gtex54_sig_collapse=gtex54_sig_collapse.groupby('symbol').agg(tuple).applymap(list).reset_index()"
   ]
  },
  {
   "cell_type": "code",
   "execution_count": 25,
   "id": "3d099428-4bc9-4a2f-b639-6961e1387185",
   "metadata": {},
   "outputs": [],
   "source": [
    "gtex54_sig_collapse['N_GeneSet']=gtex54_sig_collapse['GeneSet'].apply(lambda x: len(x))"
   ]
  },
  {
   "cell_type": "code",
   "execution_count": 26,
   "id": "97a0a234-d6bb-45a0-a1b3-aa92a809dfdd",
   "metadata": {},
   "outputs": [],
   "source": [
    "gtex54_sig_collapse[list(range(3,len(twoside)+3))]=False\n",
    "gtex54_sig_collapse.columns=['symbol','GeneSet','adjP','N_Geneset']+list(twoside)"
   ]
  },
  {
   "cell_type": "code",
   "execution_count": 300,
   "id": "98026acc-b77d-4c71-b376-8bd5b46c9597",
   "metadata": {},
   "outputs": [
    {
     "name": "stderr",
     "output_type": "stream",
     "text": [
      "/scratch/bsleger/33523284.tscc-mgr7.local/ipykernel_5448/2842143822.py:5: SettingWithCopyWarning: \n",
      "A value is trying to be set on a copy of a slice from a DataFrame\n",
      "\n",
      "See the caveats in the documentation: https://pandas.pydata.org/pandas-docs/stable/user_guide/indexing.html#returning-a-view-versus-a-copy\n",
      "  gtex54_sig_collapse[i].iloc[j] = i in gtex54_sig_collapse['GeneSet'][j]\n"
     ]
    }
   ],
   "source": [
    "for i in twoside:\n",
    "    #print(i)\n",
    "    #print(gtex54_sig_collapse[i])\n",
    "    for j in range(len(gtex54_sig_collapse)):\n",
    "        gtex54_sig_collapse[i].iloc[j] = i in gtex54_sig_collapse['GeneSet'][j]"
   ]
  },
  {
   "cell_type": "markdown",
   "id": "0fc32731-ab67-4577-803b-6b490d4289a8",
   "metadata": {},
   "source": [
    "## Plot gene FUMA DEG"
   ]
  },
  {
   "cell_type": "code",
   "execution_count": 224,
   "id": "cbf7a3ca-5ec9-4750-86f8-247cb5ecd0ac",
   "metadata": {},
   "outputs": [],
   "source": [
    "twoside_tbl=gtex54[gtex54['Category']=='DEG.twoside']\n",
    "twoside_tbl=twoside_tbl.sort_values(\"adjP\", ascending=True)\n",
    "#twoside_tbl=twoside_tbl[twoside_tbl['adjP']<1]"
   ]
  },
  {
   "cell_type": "code",
   "execution_count": 222,
   "id": "66b44b6a-b189-4016-8d65-b5e7010f91da",
   "metadata": {},
   "outputs": [],
   "source": [
    "tiss_col_dict={'neuro':'#785EF0','gastro':'#FFB000','cardiac':'#D41A75', 'urinary':'#FFDF58','epidermal':'#6BABFF','other':'#FF7D2D', 'NS':\"#CCCCCC\",}"
   ]
  },
  {
   "cell_type": "code",
   "execution_count": 225,
   "id": "2d0a40d0-2d4f-4f36-8166-38b70ab61ff2",
   "metadata": {},
   "outputs": [],
   "source": [
    "twoside_tbl['colour']=twoside_tbl['System'].apply(lambda x: tiss_col_dict.get(x))"
   ]
  },
  {
   "cell_type": "code",
   "execution_count": 210,
   "id": "cbe6c090-270a-461a-9993-e140e3a213b8",
   "metadata": {},
   "outputs": [],
   "source": [
    "plt.rcParams.update({'font.size': 10})"
   ]
  },
  {
   "cell_type": "code",
   "execution_count": 227,
   "id": "7bb16f96-0d8b-4ee6-8376-33588003ec9f",
   "metadata": {},
   "outputs": [
    {
     "data": {
      "image/png": "[encoded data removed]",
      "text/plain": [
       "<Figure size 750x500 with 1 Axes>"
      ]
     },
     "metadata": {},
     "output_type": "display_data"
    }
   ],
   "source": [
    "fig=plt.figure(figsize=(7.5,5))\n",
    "fig=plt.bar(twoside_tbl['GeneSet'].str.replace('_',' '), -np.log10(twoside_tbl['adjP']), width=.9, align='center', color=twoside_tbl['colour'])\n",
    "fig=plt.xticks(rotation=90)\n",
    "fig=plt.ylabel('-log10(p-value)')\n",
    "fig=plt.ylim([0,15])\n",
    "fig=plt.tight_layout(pad=0)\n",
    "fig=plt.margins(x=0.005)\n",
    "\n",
    "# create legend\n",
    "markers = [plt.Line2D([0,0],[0,0],color=color, marker='o', linestyle='') for color in tiss_col_dict.values()]\n",
    "plt.legend(markers, tiss_col_dict.keys(), numpoints=1)\n",
    "\n",
    "plt.savefig('figures/' + 'gtex_enrichment_barplot_expanded.svg',bbox_inches='tight')"
   ]
  },
  {
   "cell_type": "markdown",
   "id": "2341e9b0-ebc5-48ee-ae8a-17d671d716b7",
   "metadata": {
    "tags": []
   },
   "source": [
    "# make dataframe to make into dictionaries for adding to network"
   ]
  },
  {
   "cell_type": "code",
   "execution_count": 72,
   "id": "b8d5c9a2-1af2-48fc-81aa-243d0c532165",
   "metadata": {},
   "outputs": [],
   "source": [
    "df=pd.DataFrame(nodes)\n",
    "df.columns=['nodes']"
   ]
  },
  {
   "cell_type": "code",
   "execution_count": 73,
   "id": "5a213a63-d002-437c-af7b-5215334481bf",
   "metadata": {},
   "outputs": [
    {
     "ename": "NameError",
     "evalue": "name 'gtex54_sig_collapse' is not defined",
     "output_type": "error",
     "traceback": [
      "\u001b[0;31m---------------------------------------------------------------------------\u001b[0m",
      "\u001b[0;31mNameError\u001b[0m                                 Traceback (most recent call last)",
      "Input \u001b[0;32mIn [73]\u001b[0m, in \u001b[0;36m<cell line: 1>\u001b[0;34m()\u001b[0m\n\u001b[0;32m----> 1\u001b[0m df\u001b[38;5;241m=\u001b[39mdf\u001b[38;5;241m.\u001b[39mmerge(\u001b[43mgtex54_sig_collapse\u001b[49m, left_on\u001b[38;5;241m=\u001b[39m\u001b[38;5;124m'\u001b[39m\u001b[38;5;124mnodes\u001b[39m\u001b[38;5;124m'\u001b[39m,right_on\u001b[38;5;241m=\u001b[39m\u001b[38;5;124m'\u001b[39m\u001b[38;5;124msymbol\u001b[39m\u001b[38;5;124m'\u001b[39m,how\u001b[38;5;241m=\u001b[39m\u001b[38;5;124m'\u001b[39m\u001b[38;5;124mleft\u001b[39m\u001b[38;5;124m'\u001b[39m)\n",
      "\u001b[0;31mNameError\u001b[0m: name 'gtex54_sig_collapse' is not defined"
     ]
    }
   ],
   "source": [
    "df=df.merge(gtex54_sig_collapse, left_on='nodes',right_on='symbol',how='left')"
   ]
  },
  {
   "cell_type": "code",
   "execution_count": 74,
   "id": "87e86bf7-ae72-4c6c-8b31-c4575b276dcd",
   "metadata": {},
   "outputs": [
    {
     "ename": "KeyError",
     "evalue": "\"['symbol'] not found in axis\"",
     "output_type": "error",
     "traceback": [
      "\u001b[0;31m---------------------------------------------------------------------------\u001b[0m",
      "\u001b[0;31mKeyError\u001b[0m                                  Traceback (most recent call last)",
      "Input \u001b[0;32mIn [74]\u001b[0m, in \u001b[0;36m<cell line: 1>\u001b[0;34m()\u001b[0m\n\u001b[0;32m----> 1\u001b[0m df\u001b[38;5;241m=\u001b[39m\u001b[43mdf\u001b[49m\u001b[38;5;241;43m.\u001b[39;49m\u001b[43mdrop\u001b[49m\u001b[43m(\u001b[49m\u001b[43m[\u001b[49m\u001b[38;5;124;43m'\u001b[39;49m\u001b[38;5;124;43msymbol\u001b[39;49m\u001b[38;5;124;43m'\u001b[39;49m\u001b[43m]\u001b[49m\u001b[43m,\u001b[49m\u001b[43maxis\u001b[49m\u001b[38;5;241;43m=\u001b[39;49m\u001b[38;5;241;43m1\u001b[39;49m\u001b[43m)\u001b[49m\n",
      "File \u001b[0;32m~/miniconda3/envs/env-std-py38/lib/python3.8/site-packages/pandas/util/_decorators.py:331\u001b[0m, in \u001b[0;36mdeprecate_nonkeyword_arguments.<locals>.decorate.<locals>.wrapper\u001b[0;34m(*args, **kwargs)\u001b[0m\n\u001b[1;32m    325\u001b[0m \u001b[38;5;28;01mif\u001b[39;00m \u001b[38;5;28mlen\u001b[39m(args) \u001b[38;5;241m>\u001b[39m num_allow_args:\n\u001b[1;32m    326\u001b[0m     warnings\u001b[38;5;241m.\u001b[39mwarn(\n\u001b[1;32m    327\u001b[0m         msg\u001b[38;5;241m.\u001b[39mformat(arguments\u001b[38;5;241m=\u001b[39m_format_argument_list(allow_args)),\n\u001b[1;32m    328\u001b[0m         \u001b[38;5;167;01mFutureWarning\u001b[39;00m,\n\u001b[1;32m    329\u001b[0m         stacklevel\u001b[38;5;241m=\u001b[39mfind_stack_level(),\n\u001b[1;32m    330\u001b[0m     )\n\u001b[0;32m--> 331\u001b[0m \u001b[38;5;28;01mreturn\u001b[39;00m \u001b[43mfunc\u001b[49m\u001b[43m(\u001b[49m\u001b[38;5;241;43m*\u001b[39;49m\u001b[43margs\u001b[49m\u001b[43m,\u001b[49m\u001b[43m \u001b[49m\u001b[38;5;241;43m*\u001b[39;49m\u001b[38;5;241;43m*\u001b[39;49m\u001b[43mkwargs\u001b[49m\u001b[43m)\u001b[49m\n",
      "File \u001b[0;32m~/miniconda3/envs/env-std-py38/lib/python3.8/site-packages/pandas/core/frame.py:5388\u001b[0m, in \u001b[0;36mDataFrame.drop\u001b[0;34m(self, labels, axis, index, columns, level, inplace, errors)\u001b[0m\n\u001b[1;32m   5240\u001b[0m \u001b[38;5;129m@deprecate_nonkeyword_arguments\u001b[39m(version\u001b[38;5;241m=\u001b[39m\u001b[38;5;28;01mNone\u001b[39;00m, allowed_args\u001b[38;5;241m=\u001b[39m[\u001b[38;5;124m\"\u001b[39m\u001b[38;5;124mself\u001b[39m\u001b[38;5;124m\"\u001b[39m, \u001b[38;5;124m\"\u001b[39m\u001b[38;5;124mlabels\u001b[39m\u001b[38;5;124m\"\u001b[39m])\n\u001b[1;32m   5241\u001b[0m \u001b[38;5;28;01mdef\u001b[39;00m \u001b[38;5;21mdrop\u001b[39m(  \u001b[38;5;66;03m# type: ignore[override]\u001b[39;00m\n\u001b[1;32m   5242\u001b[0m     \u001b[38;5;28mself\u001b[39m,\n\u001b[0;32m   (...)\u001b[0m\n\u001b[1;32m   5249\u001b[0m     errors: IgnoreRaise \u001b[38;5;241m=\u001b[39m \u001b[38;5;124m\"\u001b[39m\u001b[38;5;124mraise\u001b[39m\u001b[38;5;124m\"\u001b[39m,\n\u001b[1;32m   5250\u001b[0m ) \u001b[38;5;241m-\u001b[39m\u001b[38;5;241m>\u001b[39m DataFrame \u001b[38;5;241m|\u001b[39m \u001b[38;5;28;01mNone\u001b[39;00m:\n\u001b[1;32m   5251\u001b[0m     \u001b[38;5;124;03m\"\"\"\u001b[39;00m\n\u001b[1;32m   5252\u001b[0m \u001b[38;5;124;03m    Drop specified labels from rows or columns.\u001b[39;00m\n\u001b[1;32m   5253\u001b[0m \n\u001b[0;32m   (...)\u001b[0m\n\u001b[1;32m   5386\u001b[0m \u001b[38;5;124;03m            weight  1.0     0.8\u001b[39;00m\n\u001b[1;32m   5387\u001b[0m \u001b[38;5;124;03m    \"\"\"\u001b[39;00m\n\u001b[0;32m-> 5388\u001b[0m     \u001b[38;5;28;01mreturn\u001b[39;00m \u001b[38;5;28;43msuper\u001b[39;49m\u001b[43m(\u001b[49m\u001b[43m)\u001b[49m\u001b[38;5;241;43m.\u001b[39;49m\u001b[43mdrop\u001b[49m\u001b[43m(\u001b[49m\n\u001b[1;32m   5389\u001b[0m \u001b[43m        \u001b[49m\u001b[43mlabels\u001b[49m\u001b[38;5;241;43m=\u001b[39;49m\u001b[43mlabels\u001b[49m\u001b[43m,\u001b[49m\n\u001b[1;32m   5390\u001b[0m \u001b[43m        \u001b[49m\u001b[43maxis\u001b[49m\u001b[38;5;241;43m=\u001b[39;49m\u001b[43maxis\u001b[49m\u001b[43m,\u001b[49m\n\u001b[1;32m   5391\u001b[0m \u001b[43m        \u001b[49m\u001b[43mindex\u001b[49m\u001b[38;5;241;43m=\u001b[39;49m\u001b[43mindex\u001b[49m\u001b[43m,\u001b[49m\n\u001b[1;32m   5392\u001b[0m \u001b[43m        \u001b[49m\u001b[43mcolumns\u001b[49m\u001b[38;5;241;43m=\u001b[39;49m\u001b[43mcolumns\u001b[49m\u001b[43m,\u001b[49m\n\u001b[1;32m   5393\u001b[0m \u001b[43m        \u001b[49m\u001b[43mlevel\u001b[49m\u001b[38;5;241;43m=\u001b[39;49m\u001b[43mlevel\u001b[49m\u001b[43m,\u001b[49m\n\u001b[1;32m   5394\u001b[0m \u001b[43m        \u001b[49m\u001b[43minplace\u001b[49m\u001b[38;5;241;43m=\u001b[39;49m\u001b[43minplace\u001b[49m\u001b[43m,\u001b[49m\n\u001b[1;32m   5395\u001b[0m \u001b[43m        \u001b[49m\u001b[43merrors\u001b[49m\u001b[38;5;241;43m=\u001b[39;49m\u001b[43merrors\u001b[49m\u001b[43m,\u001b[49m\n\u001b[1;32m   5396\u001b[0m \u001b[43m    \u001b[49m\u001b[43m)\u001b[49m\n",
      "File \u001b[0;32m~/miniconda3/envs/env-std-py38/lib/python3.8/site-packages/pandas/util/_decorators.py:331\u001b[0m, in \u001b[0;36mdeprecate_nonkeyword_arguments.<locals>.decorate.<locals>.wrapper\u001b[0;34m(*args, **kwargs)\u001b[0m\n\u001b[1;32m    325\u001b[0m \u001b[38;5;28;01mif\u001b[39;00m \u001b[38;5;28mlen\u001b[39m(args) \u001b[38;5;241m>\u001b[39m num_allow_args:\n\u001b[1;32m    326\u001b[0m     warnings\u001b[38;5;241m.\u001b[39mwarn(\n\u001b[1;32m    327\u001b[0m         msg\u001b[38;5;241m.\u001b[39mformat(arguments\u001b[38;5;241m=\u001b[39m_format_argument_list(allow_args)),\n\u001b[1;32m    328\u001b[0m         \u001b[38;5;167;01mFutureWarning\u001b[39;00m,\n\u001b[1;32m    329\u001b[0m         stacklevel\u001b[38;5;241m=\u001b[39mfind_stack_level(),\n\u001b[1;32m    330\u001b[0m     )\n\u001b[0;32m--> 331\u001b[0m \u001b[38;5;28;01mreturn\u001b[39;00m \u001b[43mfunc\u001b[49m\u001b[43m(\u001b[49m\u001b[38;5;241;43m*\u001b[39;49m\u001b[43margs\u001b[49m\u001b[43m,\u001b[49m\u001b[43m \u001b[49m\u001b[38;5;241;43m*\u001b[39;49m\u001b[38;5;241;43m*\u001b[39;49m\u001b[43mkwargs\u001b[49m\u001b[43m)\u001b[49m\n",
      "File \u001b[0;32m~/miniconda3/envs/env-std-py38/lib/python3.8/site-packages/pandas/core/generic.py:4505\u001b[0m, in \u001b[0;36mNDFrame.drop\u001b[0;34m(self, labels, axis, index, columns, level, inplace, errors)\u001b[0m\n\u001b[1;32m   4503\u001b[0m \u001b[38;5;28;01mfor\u001b[39;00m axis, labels \u001b[38;5;129;01min\u001b[39;00m axes\u001b[38;5;241m.\u001b[39mitems():\n\u001b[1;32m   4504\u001b[0m     \u001b[38;5;28;01mif\u001b[39;00m labels \u001b[38;5;129;01mis\u001b[39;00m \u001b[38;5;129;01mnot\u001b[39;00m \u001b[38;5;28;01mNone\u001b[39;00m:\n\u001b[0;32m-> 4505\u001b[0m         obj \u001b[38;5;241m=\u001b[39m \u001b[43mobj\u001b[49m\u001b[38;5;241;43m.\u001b[39;49m\u001b[43m_drop_axis\u001b[49m\u001b[43m(\u001b[49m\u001b[43mlabels\u001b[49m\u001b[43m,\u001b[49m\u001b[43m \u001b[49m\u001b[43maxis\u001b[49m\u001b[43m,\u001b[49m\u001b[43m \u001b[49m\u001b[43mlevel\u001b[49m\u001b[38;5;241;43m=\u001b[39;49m\u001b[43mlevel\u001b[49m\u001b[43m,\u001b[49m\u001b[43m \u001b[49m\u001b[43merrors\u001b[49m\u001b[38;5;241;43m=\u001b[39;49m\u001b[43merrors\u001b[49m\u001b[43m)\u001b[49m\n\u001b[1;32m   4507\u001b[0m \u001b[38;5;28;01mif\u001b[39;00m inplace:\n\u001b[1;32m   4508\u001b[0m     \u001b[38;5;28mself\u001b[39m\u001b[38;5;241m.\u001b[39m_update_inplace(obj)\n",
      "File \u001b[0;32m~/miniconda3/envs/env-std-py38/lib/python3.8/site-packages/pandas/core/generic.py:4546\u001b[0m, in \u001b[0;36mNDFrame._drop_axis\u001b[0;34m(self, labels, axis, level, errors, only_slice)\u001b[0m\n\u001b[1;32m   4544\u001b[0m         new_axis \u001b[38;5;241m=\u001b[39m axis\u001b[38;5;241m.\u001b[39mdrop(labels, level\u001b[38;5;241m=\u001b[39mlevel, errors\u001b[38;5;241m=\u001b[39merrors)\n\u001b[1;32m   4545\u001b[0m     \u001b[38;5;28;01melse\u001b[39;00m:\n\u001b[0;32m-> 4546\u001b[0m         new_axis \u001b[38;5;241m=\u001b[39m \u001b[43maxis\u001b[49m\u001b[38;5;241;43m.\u001b[39;49m\u001b[43mdrop\u001b[49m\u001b[43m(\u001b[49m\u001b[43mlabels\u001b[49m\u001b[43m,\u001b[49m\u001b[43m \u001b[49m\u001b[43merrors\u001b[49m\u001b[38;5;241;43m=\u001b[39;49m\u001b[43merrors\u001b[49m\u001b[43m)\u001b[49m\n\u001b[1;32m   4547\u001b[0m     indexer \u001b[38;5;241m=\u001b[39m axis\u001b[38;5;241m.\u001b[39mget_indexer(new_axis)\n\u001b[1;32m   4549\u001b[0m \u001b[38;5;66;03m# Case for non-unique axis\u001b[39;00m\n\u001b[1;32m   4550\u001b[0m \u001b[38;5;28;01melse\u001b[39;00m:\n",
      "File \u001b[0;32m~/miniconda3/envs/env-std-py38/lib/python3.8/site-packages/pandas/core/indexes/base.py:6975\u001b[0m, in \u001b[0;36mIndex.drop\u001b[0;34m(self, labels, errors)\u001b[0m\n\u001b[1;32m   6973\u001b[0m \u001b[38;5;28;01mif\u001b[39;00m mask\u001b[38;5;241m.\u001b[39many():\n\u001b[1;32m   6974\u001b[0m     \u001b[38;5;28;01mif\u001b[39;00m errors \u001b[38;5;241m!=\u001b[39m \u001b[38;5;124m\"\u001b[39m\u001b[38;5;124mignore\u001b[39m\u001b[38;5;124m\"\u001b[39m:\n\u001b[0;32m-> 6975\u001b[0m         \u001b[38;5;28;01mraise\u001b[39;00m \u001b[38;5;167;01mKeyError\u001b[39;00m(\u001b[38;5;124mf\u001b[39m\u001b[38;5;124m\"\u001b[39m\u001b[38;5;132;01m{\u001b[39;00m\u001b[38;5;28mlist\u001b[39m(labels[mask])\u001b[38;5;132;01m}\u001b[39;00m\u001b[38;5;124m not found in axis\u001b[39m\u001b[38;5;124m\"\u001b[39m)\n\u001b[1;32m   6976\u001b[0m     indexer \u001b[38;5;241m=\u001b[39m indexer[\u001b[38;5;241m~\u001b[39mmask]\n\u001b[1;32m   6977\u001b[0m \u001b[38;5;28;01mreturn\u001b[39;00m \u001b[38;5;28mself\u001b[39m\u001b[38;5;241m.\u001b[39mdelete(indexer)\n",
      "\u001b[0;31mKeyError\u001b[0m: \"['symbol'] not found in axis\""
     ]
    }
   ],
   "source": [
    "df=df.drop(['symbol'],axis=1)"
   ]
  },
  {
   "cell_type": "code",
   "execution_count": null,
   "id": "3d37e9ea-68a4-421b-a579-913274d22872",
   "metadata": {},
   "outputs": [],
   "source": [
    "df"
   ]
  },
  {
   "cell_type": "markdown",
   "id": "7f4f16de-1248-4329-8e1f-b384b52d2f16",
   "metadata": {},
   "source": [
    "## make dataframe into dictionary and add node attributes to network"
   ]
  },
  {
   "cell_type": "code",
   "execution_count": 305,
   "id": "addda019-fa1f-4ab6-ad56-54ef314cbed5",
   "metadata": {},
   "outputs": [],
   "source": [
    "#necessary to replace NA to uploade to ndex\n",
    "df=df.fillna('null')\n",
    "df = df.astype(str)\n",
    "#df.index=df['nodes']\n",
    "df_dict=df.to_dict()\n",
    "attributes=df.columns\n",
    "attributes=attributes.drop('nodes')"
   ]
  },
  {
   "cell_type": "code",
   "execution_count": 306,
   "id": "e17adf2b-df6a-4789-9647-2e49f2e3b695",
   "metadata": {},
   "outputs": [],
   "source": [
    "#add attributes to network\n",
    "for a in attributes:\n",
    "    for i in network.nodes:\n",
    "        network.set_node_attribute(node=i, attribute_name=a, type='string',values=df_dict[a][i])"
   ]
  },
  {
   "cell_type": "code",
   "execution_count": 308,
   "id": "b8e4414b-0895-4fb7-b744-02b2d578c074",
   "metadata": {},
   "outputs": [
    {
     "data": {
      "text/plain": [
       "[{'po': 25, 'n': 'HGNC Symbol', 'v': 'SLC5A6'},\n",
       " {'po': 25,\n",
       "  'n': 'z_alcoholintake_FDR_25',\n",
       "  'v': '2.258363338262249',\n",
       "  'd': 'double'},\n",
       " {'po': 25,\n",
       "  'n': 'z_GSCAN_DPW_magma',\n",
       "  'v': '13.762914916228087',\n",
       "  'd': 'double'},\n",
       " {'po': 25, 'n': 'z_comb', 'v': '31.081662474432164', 'd': 'double'},\n",
       " {'po': 25, 'n': 'seed_alcoholintake_FDR_25', 'v': 'false', 'd': 'boolean'},\n",
       " {'po': 25, 'n': 'seed_GSCAN_DPW_magma', 'v': 'true', 'd': 'boolean'},\n",
       " {'po': 25, 'n': 'seed_both', 'v': 'false', 'd': 'boolean'},\n",
       " {'po': 25, 'n': 'seed_color_scheme', 'v': '2', 'd': 'integer'},\n",
       " {'po': 25, 'n': 'in_gwas_catalog', 'v': 'True', 'd': 'string'},\n",
       " {'po': 25, 'n': 'alc_val', 'v': 'False', 'd': 'string'},\n",
       " {'po': 25, 'n': 'DISEASE/TRAIT', 'v': 'null', 'd': 'string'},\n",
       " {'po': 25, 'n': 'MAPPED_TRAIT', 'v': 'null', 'd': 'string'},\n",
       " {'po': 25, 'n': 'SMOK_DISEASE/TRAIT', 'v': 'null', 'd': 'string'},\n",
       " {'po': 25, 'n': 'SMOK_MAPPED_TRAIT', 'v': 'null', 'd': 'string'},\n",
       " {'po': 25, 'n': 'SUD_DISEASE/TRAIT', 'v': 'null', 'd': 'string'},\n",
       " {'po': 25, 'n': 'SUD_MAPPED_TRAIT', 'v': 'null', 'd': 'string'},\n",
       " {'po': 25,\n",
       "  'n': 'Approved name',\n",
       "  'v': 'solute carrier family 35 member A2',\n",
       "  'd': 'string'},\n",
       " {'po': 25, 'n': 'family', 'v': 'solute carrier families', 'd': 'string'},\n",
       " {'po': 25, 'n': 'name', 'v': 'SLC5A6', 'd': 'string'},\n",
       " {'po': 25, 'n': 'term_name', 'v': 'null', 'd': 'string'},\n",
       " {'po': 25,\n",
       "  'n': 'GeneSet',\n",
       "  'v': \"['Brain_Amygdala', 'Brain_Anterior_cingulate_cortex_BA24', 'Brain_Cerebellum', 'Brain_Hippocampus', 'Heart_Atrial_Appendage', 'Heart_Left_Ventricle', 'Kidney_Cortex', 'Liver', 'Pancreas', 'Whole_Blood']\",\n",
       "  'd': 'string'},\n",
       " {'po': 25,\n",
       "  'n': 'adjP',\n",
       "  'v': '[6.30324639977141e-06, 0.0048075404966353, 5.23456863863061e-05, 0.0002015122440459, 9.74675901226797e-06, 1.70680369105675e-06, 2.19134174292202e-13, 2.01721127770111e-14, 3.44528604564647e-08, 0.0001302116638683]',\n",
       "  'd': 'string'},\n",
       " {'po': 25, 'n': 'N_Geneset', 'v': '10.0', 'd': 'string'},\n",
       " {'po': 25, 'n': 'Adrenal_Gland', 'v': 'False', 'd': 'string'},\n",
       " {'po': 25, 'n': 'Bladder', 'v': 'False', 'd': 'string'},\n",
       " {'po': 25, 'n': 'Brain_Amygdala', 'v': 'True', 'd': 'string'},\n",
       " {'po': 25,\n",
       "  'n': 'Brain_Anterior_cingulate_cortex_BA24',\n",
       "  'v': 'True',\n",
       "  'd': 'string'},\n",
       " {'po': 25, 'n': 'Brain_Caudate_basal_ganglia', 'v': 'False', 'd': 'string'},\n",
       " {'po': 25, 'n': 'Brain_Cerebellar_Hemisphere', 'v': 'False', 'd': 'string'},\n",
       " {'po': 25, 'n': 'Brain_Cerebellum', 'v': 'True', 'd': 'string'},\n",
       " {'po': 25, 'n': 'Brain_Cortex', 'v': 'False', 'd': 'string'},\n",
       " {'po': 25, 'n': 'Brain_Frontal_Cortex_BA9', 'v': 'False', 'd': 'string'},\n",
       " {'po': 25, 'n': 'Brain_Hippocampus', 'v': 'True', 'd': 'string'},\n",
       " {'po': 25, 'n': 'Brain_Hypothalamus', 'v': 'False', 'd': 'string'},\n",
       " {'po': 25,\n",
       "  'n': 'Brain_Nucleus_accumbens_basal_ganglia',\n",
       "  'v': 'False',\n",
       "  'd': 'string'},\n",
       " {'po': 25, 'n': 'Brain_Putamen_basal_ganglia', 'v': 'False', 'd': 'string'},\n",
       " {'po': 25,\n",
       "  'n': 'Brain_Spinal_cord_cervical_c-1',\n",
       "  'v': 'False',\n",
       "  'd': 'string'},\n",
       " {'po': 25, 'n': 'Brain_Substantia_nigra', 'v': 'False', 'd': 'string'},\n",
       " {'po': 25, 'n': 'Cells_Cultured_fibroblasts', 'v': 'False', 'd': 'string'},\n",
       " {'po': 25, 'n': 'Colon_Transverse', 'v': 'False', 'd': 'string'},\n",
       " {'po': 25, 'n': 'Esophagus_Mucosa', 'v': 'False', 'd': 'string'},\n",
       " {'po': 25, 'n': 'Heart_Atrial_Appendage', 'v': 'True', 'd': 'string'},\n",
       " {'po': 25, 'n': 'Heart_Left_Ventricle', 'v': 'True', 'd': 'string'},\n",
       " {'po': 25, 'n': 'Kidney_Cortex', 'v': 'True', 'd': 'string'},\n",
       " {'po': 25, 'n': 'Liver', 'v': 'True', 'd': 'string'},\n",
       " {'po': 25, 'n': 'Minor_Salivary_Gland', 'v': 'False', 'd': 'string'},\n",
       " {'po': 25, 'n': 'Muscle_Skeletal', 'v': 'False', 'd': 'string'},\n",
       " {'po': 25, 'n': 'Pancreas', 'v': 'True', 'd': 'string'},\n",
       " {'po': 25,\n",
       "  'n': 'Skin_Not_Sun_Exposed_Suprapubic',\n",
       "  'v': 'False',\n",
       "  'd': 'string'},\n",
       " {'po': 25, 'n': 'Skin_Sun_Exposed_Lower_leg', 'v': 'False', 'd': 'string'},\n",
       " {'po': 25,\n",
       "  'n': 'Small_Intestine_Terminal_Ileum',\n",
       "  'v': 'False',\n",
       "  'd': 'string'},\n",
       " {'po': 25, 'n': 'Stomach', 'v': 'False', 'd': 'string'},\n",
       " {'po': 25, 'n': 'Whole_Blood', 'v': 'True', 'd': 'string'}]"
      ]
     },
     "execution_count": 308,
     "metadata": {},
     "output_type": "execute_result"
    }
   ],
   "source": [
    "network.get_node_attributes(25)"
   ]
  },
  {
   "cell_type": "markdown",
   "id": "13b7b640-c322-4f8e-bdf1-78ead792b911",
   "metadata": {},
   "source": [
    "## export network to ndex"
   ]
  },
  {
   "cell_type": "code",
   "execution_count": 26,
   "id": "2f3e13d1-f3b8-4e73-96b3-f89eaea49ae5",
   "metadata": {},
   "outputs": [
    {
     "name": "stdout",
     "output_type": "stream",
     "text": [
      "Generating CX\n"
     ]
    },
    {
     "data": {
      "text/plain": [
       "'https://www.ndexbio.org/v2/network/a7e0fd9e-b189-11ee-8a13-005056ae23aa'"
      ]
     },
     "execution_count": 26,
     "metadata": {},
     "output_type": "execute_result"
    }
   ],
   "source": [
    "network.set_name(network.get_name()+'_updated_GWAS_catalog_and_tissue_enrichment')\n",
    "#use to upload as new newtwork with annotated subscript\n",
    "network.upload_to(server='public.ndexbio.org',\n",
    "                  username='bsleger',\n",
    "                  password='Pyjgor-3sarwe-puvfyb' )"
   ]
  },
  {
   "cell_type": "markdown",
   "id": "69d77a6c-d196-4b4b-9430-eb22a70366fa",
   "metadata": {},
   "source": [
    "# check seed gene validation in GWAS catalog"
   ]
  },
  {
   "cell_type": "markdown",
   "id": "3b45e79c-c9ea-4b8f-8bd9-748acac1098f",
   "metadata": {},
   "source": [
    "## build tables and export"
   ]
  },
  {
   "cell_type": "code",
   "execution_count": 57,
   "id": "32cd15da-e3d8-4833-a47f-84bc2816bf57",
   "metadata": {},
   "outputs": [],
   "source": [
    "rare_seed_df = pd.DataFrame({'GENE': seed_rare})\n",
    "rare_seed_df=rare_seed_df.merge(t, on='GENE',how='left')\n",
    "rare_seed_df.to_csv(\"FDR_25_seed_GWAS_catalog.csv\",sep=\",\",index=False)"
   ]
  },
  {
   "cell_type": "code",
   "execution_count": 58,
   "id": "049e2d4f-fe05-4318-8a81-0b6ae09214aa",
   "metadata": {},
   "outputs": [],
   "source": [
    "common_seed_df = pd.DataFrame({'GENE': seed_common})\n",
    "common_seed_df=common_seed_df.merge(t, on='GENE',how='left')\n",
    "common_seed_df.to_csv(\"GSCAN_MAGMA_seed_GWAS_catalog.csv\",sep=\",\",index=False)"
   ]
  },
  {
   "cell_type": "markdown",
   "id": "b1397b93-2940-4fdc-b45c-977bd61eb0f5",
   "metadata": {},
   "source": [
    "## test significance"
   ]
  },
  {
   "cell_type": "code",
   "execution_count": 30,
   "id": "3c7828f2-0392-439b-ab9e-a47d7c39f683",
   "metadata": {},
   "outputs": [],
   "source": [
    "alc_cat_rare_seed=alc_cat[alc_cat['GENE'].isin(seed_rare)]"
   ]
  },
  {
   "cell_type": "code",
   "execution_count": 31,
   "id": "e21ba6f5-7a08-440e-ac43-7e0ea4517ea3",
   "metadata": {},
   "outputs": [],
   "source": [
    "alc_cat_common_seed=alc_cat[alc_cat['GENE'].isin(seed_common)]"
   ]
  },
  {
   "cell_type": "code",
   "execution_count": 32,
   "id": "04b28e55-a0a5-4387-a88f-43623482a7c5",
   "metadata": {},
   "outputs": [
    {
     "data": {
      "text/plain": [
       "294"
      ]
     },
     "execution_count": 32,
     "metadata": {},
     "output_type": "execute_result"
    }
   ],
   "source": [
    "len(seed_common)"
   ]
  },
  {
   "cell_type": "code",
   "execution_count": 33,
   "id": "7ba0296e-9a50-48d4-98aa-e3ea71f8a6e3",
   "metadata": {},
   "outputs": [
    {
     "data": {
      "text/plain": [
       "8.237041662393227e-33"
      ]
     },
     "execution_count": 33,
     "metadata": {},
     "output_type": "execute_result"
    }
   ],
   "source": [
    "#alcohol traits\n",
    "hyper = hypergeom(M=len(set(cat['GENE'])), n=len(set(cat['GENE']).intersection(seed_rare)), N=len(seed_rare))\n",
    "p_intersect_alc = hyper.sf(len(set(cat['GENE']).intersection(alc_cat_rare_seed['GENE'])))\n",
    "p_intersect_alc"
   ]
  },
  {
   "cell_type": "code",
   "execution_count": 34,
   "id": "f3ff0ffc-1d42-45fa-84f8-cb9e6d35717b",
   "metadata": {},
   "outputs": [
    {
     "data": {
      "text/plain": [
       "5.57868606e-316"
      ]
     },
     "execution_count": 34,
     "metadata": {},
     "output_type": "execute_result"
    }
   ],
   "source": [
    "#alcohol traits\n",
    "hyper = hypergeom(M=len(set(cat['GENE'])), n=len(set(cat['GENE']).intersection(seed_common)), N=len(seed_common))\n",
    "p_intersect_alc = hyper.sf(len(set(cat['GENE']).intersection(alc_cat_common_seed['GENE'])))\n",
    "p_intersect_alc"
   ]
  },
  {
   "cell_type": "code",
   "execution_count": 35,
   "id": "b01d6436-988c-47b0-9a78-22190906a5cd",
   "metadata": {},
   "outputs": [
    {
     "data": {
      "text/plain": [
       "35"
      ]
     },
     "execution_count": 35,
     "metadata": {},
     "output_type": "execute_result"
    }
   ],
   "source": [
    "len(seed_rare)"
   ]
  },
  {
   "cell_type": "code",
   "execution_count": 36,
   "id": "c4980d26-4fbc-493f-8580-099797029d66",
   "metadata": {},
   "outputs": [
    {
     "data": {
      "text/plain": [
       "32"
      ]
     },
     "execution_count": 36,
     "metadata": {},
     "output_type": "execute_result"
    }
   ],
   "source": [
    "len(set(cat['GENE']).intersection(seed_rare))"
   ]
  },
  {
   "cell_type": "code",
   "execution_count": 37,
   "id": "1e7f8ee3-1a90-4e88-a745-54cdbdad8752",
   "metadata": {},
   "outputs": [
    {
     "data": {
      "text/plain": [
       "38323"
      ]
     },
     "execution_count": 37,
     "metadata": {},
     "output_type": "execute_result"
    }
   ],
   "source": [
    "len(set(cat['GENE']))"
   ]
  },
  {
   "cell_type": "code",
   "execution_count": 38,
   "id": "1cefa8fc-50b8-49b7-b655-14483daa176d",
   "metadata": {},
   "outputs": [
    {
     "data": {
      "text/plain": [
       "12"
      ]
     },
     "execution_count": 38,
     "metadata": {},
     "output_type": "execute_result"
    }
   ],
   "source": [
    "len(set(cat['GENE']).intersection(alc_cat_rare_seed['GENE']))"
   ]
  },
  {
   "cell_type": "code",
   "execution_count": 39,
   "id": "fc172f15-5d71-4540-a0b9-8fed91bd72d9",
   "metadata": {},
   "outputs": [
    {
     "data": {
      "text/plain": [
       "32"
      ]
     },
     "execution_count": 39,
     "metadata": {},
     "output_type": "execute_result"
    }
   ],
   "source": [
    "len(set(cat['GENE']).intersection(seed_rare))"
   ]
  },
  {
   "cell_type": "code",
   "execution_count": 25,
   "id": "6f8b0a8c-b787-4192-bce4-7bc997fae0a5",
   "metadata": {},
   "outputs": [],
   "source": [
    "rare_seed_tbl=pd.read_csv('rare_variant_genebass/alcohol_intake/alcohol_intake_FDR_25_full_table.csv')"
   ]
  },
  {
   "cell_type": "code",
   "execution_count": 33,
   "id": "fb9a16f9-bed3-420e-8fbb-eaeca5f51555",
   "metadata": {},
   "outputs": [],
   "source": [
    "alc_cat_rare_seed_tbl=rare_seed_tbl.merge(alc_cat_rare_seed, left_on='Gene Name',right_on='GENE', how='outer')"
   ]
  },
  {
   "cell_type": "code",
   "execution_count": 34,
   "id": "d23683bd-62dd-4567-9a8c-379ee5f6a912",
   "metadata": {},
   "outputs": [],
   "source": [
    "alc_cat_rare_seed_tbl.to_csv('alcohol_intake_FDR25_gwas_catalog_alcohol_val.csv', index=False)"
   ]
  },
  {
   "cell_type": "markdown",
   "id": "c8467f7e-57d4-4f71-a9f6-2f4cb51ad431",
   "metadata": {},
   "source": [
    "# upset plot- GWAS catalog"
   ]
  },
  {
   "cell_type": "code",
   "execution_count": 84,
   "id": "fb2807ae-4492-461f-a0f6-b35b54bd92f4",
   "metadata": {},
   "outputs": [],
   "source": [
    "gwascat=from_contents({\n",
    "    'alcohol':list(set(alc['GENE'])),\n",
    "    'nicotine':list(set(smok['GENE'])),\n",
    "    'SUD':list(set(SUD['GENE'])),\n",
    "    'psychiatric':list(set(behav['GENE']))  \n",
    "})"
   ]
  },
  {
   "cell_type": "code",
   "execution_count": 90,
   "id": "8ff8178b-82b8-4ab5-88da-a16acb3afb65",
   "metadata": {},
   "outputs": [
    {
     "data": {
      "image/png": "[encoded data removed]",
      "text/plain": [
       "<Figure size 755.556x444.444 with 4 Axes>"
      ]
     },
     "metadata": {},
     "output_type": "display_data"
    }
   ],
   "source": [
    "UpSet(gwascat, subset_size='count').plot()\n",
    "#plt.savefig('figures/' + 'gwas_catalog_test_upset.pdf')\n",
    "plt.savefig('figures/' + 'gwas_catalog_test_upset.svg')"
   ]
  },
  {
   "cell_type": "markdown",
   "id": "b8dcec40-40d5-465c-9981-2cd21b8648e0",
   "metadata": {},
   "source": [
    "# look at the stats for network nodes"
   ]
  },
  {
   "cell_type": "code",
   "execution_count": 30,
   "id": "e15d3a26-bdec-4c2c-bb51-e20a86e2d03c",
   "metadata": {},
   "outputs": [],
   "source": [
    "node_stat=pd.read_csv('network_node_stats.csv')"
   ]
  },
  {
   "cell_type": "code",
   "execution_count": 32,
   "id": "e4039ac1-15f5-4047-85ef-08cd21ebdde3",
   "metadata": {},
   "outputs": [],
   "source": [
    "node_stat.index=node_stat['HGNC Symbol']"
   ]
  },
  {
   "cell_type": "code",
   "execution_count": 59,
   "id": "e576b487-d123-4d20-96ea-d1384ef8ac72",
   "metadata": {
    "scrolled": true
   },
   "outputs": [
    {
     "data": {
      "text/plain": [
       "Index(['AverageShortestPathLength', 'BetweennessCentrality',\n",
       "       'ClosenessCentrality', 'ClusteringCoefficient', 'Degree',\n",
       "       'Eccentricity', 'HGNC Symbol', 'in_gwas_catalog', 'IsSingleNode',\n",
       "       'name', 'NeighborhoodConnectivity', 'NumberOfDirectedEdges',\n",
       "       'NumberOfUndirectedEdges', 'PartnerOfMultiEdgedNodePairs', 'Radiality',\n",
       "       'seed_alcoholintake_FDR_25', 'seed_both', 'seed_GSCAN_DPW_magma',\n",
       "       'Stress', 'TopologicalCoefficient', 'z_alcoholintake_FDR_25', 'z_comb',\n",
       "       'z_GSCAN_DPW_magma'],\n",
       "      dtype='object')"
      ]
     },
     "execution_count": 59,
     "metadata": {},
     "output_type": "execute_result"
    }
   ],
   "source": [
    "node_stat.columns"
   ]
  },
  {
   "cell_type": "code",
   "execution_count": 60,
   "id": "f3e83b69-f590-44d6-a811-22841385c2fc",
   "metadata": {},
   "outputs": [
    {
     "data": {
      "text/html": [
       "<div>\n",
       "<style scoped>\n",
       "    .dataframe tbody tr th:only-of-type {\n",
       "        vertical-align: middle;\n",
       "    }\n",
       "\n",
       "    .dataframe tbody tr th {\n",
       "        vertical-align: top;\n",
       "    }\n",
       "\n",
       "    .dataframe thead th {\n",
       "        text-align: right;\n",
       "    }\n",
       "</style>\n",
       "<table border=\"1\" class=\"dataframe\">\n",
       "  <thead>\n",
       "    <tr style=\"text-align: right;\">\n",
       "      <th></th>\n",
       "      <th>AverageShortestPathLength</th>\n",
       "      <th>BetweennessCentrality</th>\n",
       "      <th>ClosenessCentrality</th>\n",
       "      <th>ClusteringCoefficient</th>\n",
       "      <th>Degree</th>\n",
       "      <th>Eccentricity</th>\n",
       "      <th>HGNC Symbol</th>\n",
       "      <th>in_gwas_catalog</th>\n",
       "      <th>IsSingleNode</th>\n",
       "      <th>name</th>\n",
       "      <th>...</th>\n",
       "      <th>PartnerOfMultiEdgedNodePairs</th>\n",
       "      <th>Radiality</th>\n",
       "      <th>seed_alcoholintake_FDR_25</th>\n",
       "      <th>seed_both</th>\n",
       "      <th>seed_GSCAN_DPW_magma</th>\n",
       "      <th>Stress</th>\n",
       "      <th>TopologicalCoefficient</th>\n",
       "      <th>z_alcoholintake_FDR_25</th>\n",
       "      <th>z_comb</th>\n",
       "      <th>z_GSCAN_DPW_magma</th>\n",
       "    </tr>\n",
       "    <tr>\n",
       "      <th>HGNC Symbol</th>\n",
       "      <th></th>\n",
       "      <th></th>\n",
       "      <th></th>\n",
       "      <th></th>\n",
       "      <th></th>\n",
       "      <th></th>\n",
       "      <th></th>\n",
       "      <th></th>\n",
       "      <th></th>\n",
       "      <th></th>\n",
       "      <th></th>\n",
       "      <th></th>\n",
       "      <th></th>\n",
       "      <th></th>\n",
       "      <th></th>\n",
       "      <th></th>\n",
       "      <th></th>\n",
       "      <th></th>\n",
       "      <th></th>\n",
       "      <th></th>\n",
       "      <th></th>\n",
       "    </tr>\n",
       "  </thead>\n",
       "  <tbody>\n",
       "    <tr>\n",
       "      <th>STAM2</th>\n",
       "      <td>3.201031</td>\n",
       "      <td>0.007888</td>\n",
       "      <td>0.312399</td>\n",
       "      <td>0.200000</td>\n",
       "      <td>6</td>\n",
       "      <td>5</td>\n",
       "      <td>STAM2</td>\n",
       "      <td>True</td>\n",
       "      <td>False</td>\n",
       "      <td>STAM2</td>\n",
       "      <td>...</td>\n",
       "      <td>0</td>\n",
       "      <td>0.966138</td>\n",
       "      <td>False</td>\n",
       "      <td>False</td>\n",
       "      <td>True</td>\n",
       "      <td>1252</td>\n",
       "      <td>0.250000</td>\n",
       "      <td>1.972590</td>\n",
       "      <td>30.904404</td>\n",
       "      <td>15.666915</td>\n",
       "    </tr>\n",
       "    <tr>\n",
       "      <th>SH3BP4</th>\n",
       "      <td>3.917526</td>\n",
       "      <td>0.000000</td>\n",
       "      <td>0.255263</td>\n",
       "      <td>1.000000</td>\n",
       "      <td>2</td>\n",
       "      <td>6</td>\n",
       "      <td>SH3BP4</td>\n",
       "      <td>True</td>\n",
       "      <td>False</td>\n",
       "      <td>SH3BP4</td>\n",
       "      <td>...</td>\n",
       "      <td>0</td>\n",
       "      <td>0.955115</td>\n",
       "      <td>False</td>\n",
       "      <td>False</td>\n",
       "      <td>False</td>\n",
       "      <td>0</td>\n",
       "      <td>0.590909</td>\n",
       "      <td>3.633693</td>\n",
       "      <td>5.745996</td>\n",
       "      <td>1.581310</td>\n",
       "    </tr>\n",
       "    <tr>\n",
       "      <th>OTUD6B</th>\n",
       "      <td>3.304124</td>\n",
       "      <td>0.001219</td>\n",
       "      <td>0.302652</td>\n",
       "      <td>0.333333</td>\n",
       "      <td>3</td>\n",
       "      <td>6</td>\n",
       "      <td>OTUD6B</td>\n",
       "      <td>True</td>\n",
       "      <td>False</td>\n",
       "      <td>OTUD6B</td>\n",
       "      <td>...</td>\n",
       "      <td>0</td>\n",
       "      <td>0.964552</td>\n",
       "      <td>False</td>\n",
       "      <td>False</td>\n",
       "      <td>False</td>\n",
       "      <td>290</td>\n",
       "      <td>0.400000</td>\n",
       "      <td>1.579771</td>\n",
       "      <td>3.002740</td>\n",
       "      <td>1.900744</td>\n",
       "    </tr>\n",
       "    <tr>\n",
       "      <th>RAD23A</th>\n",
       "      <td>2.943299</td>\n",
       "      <td>0.007261</td>\n",
       "      <td>0.339755</td>\n",
       "      <td>0.200000</td>\n",
       "      <td>5</td>\n",
       "      <td>5</td>\n",
       "      <td>RAD23A</td>\n",
       "      <td>True</td>\n",
       "      <td>False</td>\n",
       "      <td>RAD23A</td>\n",
       "      <td>...</td>\n",
       "      <td>0</td>\n",
       "      <td>0.970103</td>\n",
       "      <td>False</td>\n",
       "      <td>False</td>\n",
       "      <td>False</td>\n",
       "      <td>1658</td>\n",
       "      <td>0.245455</td>\n",
       "      <td>1.637132</td>\n",
       "      <td>4.084231</td>\n",
       "      <td>2.494747</td>\n",
       "    </tr>\n",
       "    <tr>\n",
       "      <th>HSP90AA1</th>\n",
       "      <td>2.077320</td>\n",
       "      <td>0.203004</td>\n",
       "      <td>0.481390</td>\n",
       "      <td>0.126126</td>\n",
       "      <td>37</td>\n",
       "      <td>4</td>\n",
       "      <td>HSP90AA1</td>\n",
       "      <td>True</td>\n",
       "      <td>False</td>\n",
       "      <td>HSP90AA1</td>\n",
       "      <td>...</td>\n",
       "      <td>0</td>\n",
       "      <td>0.983426</td>\n",
       "      <td>False</td>\n",
       "      <td>False</td>\n",
       "      <td>False</td>\n",
       "      <td>50480</td>\n",
       "      <td>0.110636</td>\n",
       "      <td>1.880207</td>\n",
       "      <td>4.477315</td>\n",
       "      <td>2.381288</td>\n",
       "    </tr>\n",
       "    <tr>\n",
       "      <th>...</th>\n",
       "      <td>...</td>\n",
       "      <td>...</td>\n",
       "      <td>...</td>\n",
       "      <td>...</td>\n",
       "      <td>...</td>\n",
       "      <td>...</td>\n",
       "      <td>...</td>\n",
       "      <td>...</td>\n",
       "      <td>...</td>\n",
       "      <td>...</td>\n",
       "      <td>...</td>\n",
       "      <td>...</td>\n",
       "      <td>...</td>\n",
       "      <td>...</td>\n",
       "      <td>...</td>\n",
       "      <td>...</td>\n",
       "      <td>...</td>\n",
       "      <td>...</td>\n",
       "      <td>...</td>\n",
       "      <td>...</td>\n",
       "      <td>...</td>\n",
       "    </tr>\n",
       "    <tr>\n",
       "      <th>APOC4</th>\n",
       "      <td>2.938144</td>\n",
       "      <td>0.000337</td>\n",
       "      <td>0.340351</td>\n",
       "      <td>0.466667</td>\n",
       "      <td>6</td>\n",
       "      <td>5</td>\n",
       "      <td>APOC4</td>\n",
       "      <td>True</td>\n",
       "      <td>False</td>\n",
       "      <td>APOC4</td>\n",
       "      <td>...</td>\n",
       "      <td>0</td>\n",
       "      <td>0.970182</td>\n",
       "      <td>False</td>\n",
       "      <td>False</td>\n",
       "      <td>False</td>\n",
       "      <td>108</td>\n",
       "      <td>0.475556</td>\n",
       "      <td>1.807657</td>\n",
       "      <td>4.683831</td>\n",
       "      <td>2.591106</td>\n",
       "    </tr>\n",
       "    <tr>\n",
       "      <th>ADH1C</th>\n",
       "      <td>2.494845</td>\n",
       "      <td>0.018579</td>\n",
       "      <td>0.400826</td>\n",
       "      <td>0.473077</td>\n",
       "      <td>40</td>\n",
       "      <td>5</td>\n",
       "      <td>ADH1C</td>\n",
       "      <td>True</td>\n",
       "      <td>False</td>\n",
       "      <td>ADH1C</td>\n",
       "      <td>...</td>\n",
       "      <td>0</td>\n",
       "      <td>0.977002</td>\n",
       "      <td>True</td>\n",
       "      <td>True</td>\n",
       "      <td>True</td>\n",
       "      <td>6946</td>\n",
       "      <td>0.303495</td>\n",
       "      <td>8.544530</td>\n",
       "      <td>70.962884</td>\n",
       "      <td>8.305066</td>\n",
       "    </tr>\n",
       "    <tr>\n",
       "      <th>KIF12</th>\n",
       "      <td>4.989691</td>\n",
       "      <td>0.000000</td>\n",
       "      <td>0.200413</td>\n",
       "      <td>0.000000</td>\n",
       "      <td>1</td>\n",
       "      <td>8</td>\n",
       "      <td>KIF12</td>\n",
       "      <td>True</td>\n",
       "      <td>False</td>\n",
       "      <td>KIF12</td>\n",
       "      <td>...</td>\n",
       "      <td>0</td>\n",
       "      <td>0.938620</td>\n",
       "      <td>False</td>\n",
       "      <td>False</td>\n",
       "      <td>False</td>\n",
       "      <td>0</td>\n",
       "      <td>0.000000</td>\n",
       "      <td>2.626023</td>\n",
       "      <td>5.110822</td>\n",
       "      <td>1.946222</td>\n",
       "    </tr>\n",
       "    <tr>\n",
       "      <th>LRRC37A2</th>\n",
       "      <td>3.350515</td>\n",
       "      <td>0.011364</td>\n",
       "      <td>0.298462</td>\n",
       "      <td>0.200000</td>\n",
       "      <td>5</td>\n",
       "      <td>6</td>\n",
       "      <td>LRRC37A2</td>\n",
       "      <td>True</td>\n",
       "      <td>False</td>\n",
       "      <td>LRRC37A2</td>\n",
       "      <td>...</td>\n",
       "      <td>0</td>\n",
       "      <td>0.963838</td>\n",
       "      <td>False</td>\n",
       "      <td>False</td>\n",
       "      <td>True</td>\n",
       "      <td>2484</td>\n",
       "      <td>0.274286</td>\n",
       "      <td>2.627668</td>\n",
       "      <td>19.462410</td>\n",
       "      <td>7.406725</td>\n",
       "    </tr>\n",
       "    <tr>\n",
       "      <th>VSIG10</th>\n",
       "      <td>3.252577</td>\n",
       "      <td>0.000000</td>\n",
       "      <td>0.307448</td>\n",
       "      <td>0.000000</td>\n",
       "      <td>1</td>\n",
       "      <td>6</td>\n",
       "      <td>VSIG10</td>\n",
       "      <td>True</td>\n",
       "      <td>False</td>\n",
       "      <td>VSIG10</td>\n",
       "      <td>...</td>\n",
       "      <td>0</td>\n",
       "      <td>0.965345</td>\n",
       "      <td>False</td>\n",
       "      <td>False</td>\n",
       "      <td>False</td>\n",
       "      <td>0</td>\n",
       "      <td>0.000000</td>\n",
       "      <td>1.760690</td>\n",
       "      <td>3.760919</td>\n",
       "      <td>2.136049</td>\n",
       "    </tr>\n",
       "  </tbody>\n",
       "</table>\n",
       "<p>208 rows × 23 columns</p>\n",
       "</div>"
      ],
      "text/plain": [
       "             AverageShortestPathLength  BetweennessCentrality  \\\n",
       "HGNC Symbol                                                     \n",
       "STAM2                         3.201031               0.007888   \n",
       "SH3BP4                        3.917526               0.000000   \n",
       "OTUD6B                        3.304124               0.001219   \n",
       "RAD23A                        2.943299               0.007261   \n",
       "HSP90AA1                      2.077320               0.203004   \n",
       "...                                ...                    ...   \n",
       "APOC4                         2.938144               0.000337   \n",
       "ADH1C                         2.494845               0.018579   \n",
       "KIF12                         4.989691               0.000000   \n",
       "LRRC37A2                      3.350515               0.011364   \n",
       "VSIG10                        3.252577               0.000000   \n",
       "\n",
       "             ClosenessCentrality  ClusteringCoefficient  Degree  Eccentricity  \\\n",
       "HGNC Symbol                                                                     \n",
       "STAM2                   0.312399               0.200000       6             5   \n",
       "SH3BP4                  0.255263               1.000000       2             6   \n",
       "OTUD6B                  0.302652               0.333333       3             6   \n",
       "RAD23A                  0.339755               0.200000       5             5   \n",
       "HSP90AA1                0.481390               0.126126      37             4   \n",
       "...                          ...                    ...     ...           ...   \n",
       "APOC4                   0.340351               0.466667       6             5   \n",
       "ADH1C                   0.400826               0.473077      40             5   \n",
       "KIF12                   0.200413               0.000000       1             8   \n",
       "LRRC37A2                0.298462               0.200000       5             6   \n",
       "VSIG10                  0.307448               0.000000       1             6   \n",
       "\n",
       "            HGNC Symbol  in_gwas_catalog  IsSingleNode      name  ...  \\\n",
       "HGNC Symbol                                                       ...   \n",
       "STAM2             STAM2             True         False     STAM2  ...   \n",
       "SH3BP4           SH3BP4             True         False    SH3BP4  ...   \n",
       "OTUD6B           OTUD6B             True         False    OTUD6B  ...   \n",
       "RAD23A           RAD23A             True         False    RAD23A  ...   \n",
       "HSP90AA1       HSP90AA1             True         False  HSP90AA1  ...   \n",
       "...                 ...              ...           ...       ...  ...   \n",
       "APOC4             APOC4             True         False     APOC4  ...   \n",
       "ADH1C             ADH1C             True         False     ADH1C  ...   \n",
       "KIF12             KIF12             True         False     KIF12  ...   \n",
       "LRRC37A2       LRRC37A2             True         False  LRRC37A2  ...   \n",
       "VSIG10           VSIG10             True         False    VSIG10  ...   \n",
       "\n",
       "             PartnerOfMultiEdgedNodePairs  Radiality  \\\n",
       "HGNC Symbol                                            \n",
       "STAM2                                   0   0.966138   \n",
       "SH3BP4                                  0   0.955115   \n",
       "OTUD6B                                  0   0.964552   \n",
       "RAD23A                                  0   0.970103   \n",
       "HSP90AA1                                0   0.983426   \n",
       "...                                   ...        ...   \n",
       "APOC4                                   0   0.970182   \n",
       "ADH1C                                   0   0.977002   \n",
       "KIF12                                   0   0.938620   \n",
       "LRRC37A2                                0   0.963838   \n",
       "VSIG10                                  0   0.965345   \n",
       "\n",
       "             seed_alcoholintake_FDR_25  seed_both  seed_GSCAN_DPW_magma  \\\n",
       "HGNC Symbol                                                               \n",
       "STAM2                            False      False                  True   \n",
       "SH3BP4                           False      False                 False   \n",
       "OTUD6B                           False      False                 False   \n",
       "RAD23A                           False      False                 False   \n",
       "HSP90AA1                         False      False                 False   \n",
       "...                                ...        ...                   ...   \n",
       "APOC4                            False      False                 False   \n",
       "ADH1C                             True       True                  True   \n",
       "KIF12                            False      False                 False   \n",
       "LRRC37A2                         False      False                  True   \n",
       "VSIG10                           False      False                 False   \n",
       "\n",
       "             Stress  TopologicalCoefficient  z_alcoholintake_FDR_25  \\\n",
       "HGNC Symbol                                                           \n",
       "STAM2          1252                0.250000                1.972590   \n",
       "SH3BP4            0                0.590909                3.633693   \n",
       "OTUD6B          290                0.400000                1.579771   \n",
       "RAD23A         1658                0.245455                1.637132   \n",
       "HSP90AA1      50480                0.110636                1.880207   \n",
       "...             ...                     ...                     ...   \n",
       "APOC4           108                0.475556                1.807657   \n",
       "ADH1C          6946                0.303495                8.544530   \n",
       "KIF12             0                0.000000                2.626023   \n",
       "LRRC37A2       2484                0.274286                2.627668   \n",
       "VSIG10            0                0.000000                1.760690   \n",
       "\n",
       "                z_comb  z_GSCAN_DPW_magma  \n",
       "HGNC Symbol                                \n",
       "STAM2        30.904404          15.666915  \n",
       "SH3BP4        5.745996           1.581310  \n",
       "OTUD6B        3.002740           1.900744  \n",
       "RAD23A        4.084231           2.494747  \n",
       "HSP90AA1      4.477315           2.381288  \n",
       "...                ...                ...  \n",
       "APOC4         4.683831           2.591106  \n",
       "ADH1C        70.962884           8.305066  \n",
       "KIF12         5.110822           1.946222  \n",
       "LRRC37A2     19.462410           7.406725  \n",
       "VSIG10        3.760919           2.136049  \n",
       "\n",
       "[208 rows x 23 columns]"
      ]
     },
     "execution_count": 60,
     "metadata": {},
     "output_type": "execute_result"
    }
   ],
   "source": [
    "node_stat"
   ]
  },
  {
   "cell_type": "code",
   "execution_count": 61,
   "id": "a07d403a-6407-4060-980d-68488e15a4f1",
   "metadata": {},
   "outputs": [
    {
     "data": {
      "text/plain": [
       "11.01923076923077"
      ]
     },
     "execution_count": 61,
     "metadata": {},
     "output_type": "execute_result"
    }
   ],
   "source": [
    "np.mean(node_stat['Radiality'])"
   ]
  },
  {
   "cell_type": "code",
   "execution_count": 45,
   "id": "8b1aa263-9cf4-4792-9899-f93b56f544db",
   "metadata": {},
   "outputs": [],
   "source": [
    "nodes_stat_met=node_stat[node_stat['HGNC Symbol'].str.contains('CYP')|\n",
    "node_stat['HGNC Symbol'].str.contains('ALD')|\n",
    "node_stat['HGNC Symbol'].str.contains('ADH')|\n",
    "node_stat['HGNC Symbol'].str.contains('UGT')|\n",
    "node_stat['HGNC Symbol'].str.contains('SULT')]"
   ]
  },
  {
   "cell_type": "code",
   "execution_count": 66,
   "id": "eeb92474-619c-4cb3-8aba-ce0efc415e6b",
   "metadata": {
    "scrolled": true
   },
   "outputs": [
    {
     "data": {
      "text/plain": [
       "HGNC Symbol\n",
       "ADH5        True\n",
       "ALDH3B1    False\n",
       "CYP3A5     False\n",
       "UGT2B7     False\n",
       "ALDH2       True\n",
       "ALDH1A2     True\n",
       "ALDH6A1    False\n",
       "CYP2E1      True\n",
       "ALDH3A1    False\n",
       "ADH6        True\n",
       "ALDH1A1     True\n",
       "ALDH1A3     True\n",
       "CYP2A13    False\n",
       "ADH7        True\n",
       "ADH1B       True\n",
       "SULT1A2    False\n",
       "CYP3A43     True\n",
       "CYP2B6      True\n",
       "CYP2C18     True\n",
       "SULT1A1     True\n",
       "ADH1A       True\n",
       "ADHFE1     False\n",
       "UGT2B15    False\n",
       "ADH4        True\n",
       "UGT2B4     False\n",
       "UGT1A10    False\n",
       "UGT3A2     False\n",
       "UGT2A3     False\n",
       "UGT1A8     False\n",
       "UGT1A9     False\n",
       "UGT1A5     False\n",
       "UGT1A4     False\n",
       "UGT1A7     False\n",
       "UGT1A1     False\n",
       "UGT1A6      True\n",
       "UGT1A3     False\n",
       "UGT2B17    False\n",
       "UGT2B10    False\n",
       "UGT2B28    False\n",
       "UGT2A1     False\n",
       "ADH1C       True\n",
       "Name: BetweennessCentrality, dtype: bool"
      ]
     },
     "execution_count": 66,
     "metadata": {},
     "output_type": "execute_result"
    }
   ],
   "source": [
    "nodes_stat_met['BetweennessCentrality']>np.mean(node_stat['BetweennessCentrality'])"
   ]
  },
  {
   "cell_type": "code",
   "execution_count": 85,
   "id": "0aa26142-3051-4508-8b0a-652a0fd3de2c",
   "metadata": {},
   "outputs": [],
   "source": [
    "df[~df['nodes'].isin(nodes_stat_met['HGNC Symbol'])].to_csv('network_nodes_gwascat_noalcmet.csv', index=False, quoting=None)"
   ]
  },
  {
   "cell_type": "code",
   "execution_count": 86,
   "id": "7677e984-9e4f-4123-aff3-7d32039cce99",
   "metadata": {},
   "outputs": [
    {
     "data": {
      "text/html": [
       "<div>\n",
       "<style scoped>\n",
       "    .dataframe tbody tr th:only-of-type {\n",
       "        vertical-align: middle;\n",
       "    }\n",
       "\n",
       "    .dataframe tbody tr th {\n",
       "        vertical-align: top;\n",
       "    }\n",
       "\n",
       "    .dataframe thead th {\n",
       "        text-align: right;\n",
       "    }\n",
       "</style>\n",
       "<table border=\"1\" class=\"dataframe\">\n",
       "  <thead>\n",
       "    <tr style=\"text-align: right;\">\n",
       "      <th></th>\n",
       "      <th>nodes</th>\n",
       "      <th>in_gwas_catalog</th>\n",
       "      <th>alc_val</th>\n",
       "      <th>ALC_TRAIT</th>\n",
       "      <th>SMOK_TRAIT</th>\n",
       "      <th>SUD_TRAIT</th>\n",
       "      <th>NEUROPSYCH_TRAIT</th>\n",
       "      <th>Approved name</th>\n",
       "      <th>family</th>\n",
       "    </tr>\n",
       "  </thead>\n",
       "  <tbody>\n",
       "    <tr>\n",
       "      <th>0</th>\n",
       "      <td>STAM2</td>\n",
       "      <td>True</td>\n",
       "      <td>False</td>\n",
       "      <td>NaN</td>\n",
       "      <td>{smoking status measurement: smoking initiatio...</td>\n",
       "      <td>NaN</td>\n",
       "      <td>{intelligence: general cognitive ability}</td>\n",
       "      <td>NaN</td>\n",
       "      <td>NaN</td>\n",
       "    </tr>\n",
       "    <tr>\n",
       "      <th>1</th>\n",
       "      <td>SH3BP4</td>\n",
       "      <td>True</td>\n",
       "      <td>False</td>\n",
       "      <td>NaN</td>\n",
       "      <td>{unipolar depression: depression in smokers}</td>\n",
       "      <td>NaN</td>\n",
       "      <td>{memory performance: cognitive function (delay...</td>\n",
       "      <td>SH3 domain binding protein 4</td>\n",
       "      <td>NaN</td>\n",
       "    </tr>\n",
       "    <tr>\n",
       "      <th>2</th>\n",
       "      <td>OTUD6B</td>\n",
       "      <td>True</td>\n",
       "      <td>False</td>\n",
       "      <td>NaN</td>\n",
       "      <td>NaN</td>\n",
       "      <td>NaN</td>\n",
       "      <td>NaN</td>\n",
       "      <td>NaN</td>\n",
       "      <td>NaN</td>\n",
       "    </tr>\n",
       "    <tr>\n",
       "      <th>3</th>\n",
       "      <td>RAD23A</td>\n",
       "      <td>True</td>\n",
       "      <td>False</td>\n",
       "      <td>NaN</td>\n",
       "      <td>NaN</td>\n",
       "      <td>NaN</td>\n",
       "      <td>NaN</td>\n",
       "      <td>NaN</td>\n",
       "      <td>NaN</td>\n",
       "    </tr>\n",
       "    <tr>\n",
       "      <th>4</th>\n",
       "      <td>HSP90AA1</td>\n",
       "      <td>True</td>\n",
       "      <td>True</td>\n",
       "      <td>{nicotine use, generational effect measurement...</td>\n",
       "      <td>{smoking initiation: smoking initiation}</td>\n",
       "      <td>NaN</td>\n",
       "      <td>NaN</td>\n",
       "      <td>NaN</td>\n",
       "      <td>NaN</td>\n",
       "    </tr>\n",
       "    <tr>\n",
       "      <th>...</th>\n",
       "      <td>...</td>\n",
       "      <td>...</td>\n",
       "      <td>...</td>\n",
       "      <td>...</td>\n",
       "      <td>...</td>\n",
       "      <td>...</td>\n",
       "      <td>...</td>\n",
       "      <td>...</td>\n",
       "      <td>...</td>\n",
       "    </tr>\n",
       "    <tr>\n",
       "      <th>203</th>\n",
       "      <td>APOC4</td>\n",
       "      <td>True</td>\n",
       "      <td>False</td>\n",
       "      <td>NaN</td>\n",
       "      <td>NaN</td>\n",
       "      <td>NaN</td>\n",
       "      <td>{t-tau measurement: cerebrospinal fluid t-tau ...</td>\n",
       "      <td>NaN</td>\n",
       "      <td>NaN</td>\n",
       "    </tr>\n",
       "    <tr>\n",
       "      <th>204</th>\n",
       "      <td>ADH1C</td>\n",
       "      <td>True</td>\n",
       "      <td>True</td>\n",
       "      <td>{alcohol consumption measurement: alcohol cons...</td>\n",
       "      <td>NaN</td>\n",
       "      <td>NaN</td>\n",
       "      <td>{parental emotion expression measurmement, con...</td>\n",
       "      <td>alcohol dehydrogenase 1C (class I), gamma poly...</td>\n",
       "      <td>alcohol dehydrogenase</td>\n",
       "    </tr>\n",
       "    <tr>\n",
       "      <th>205</th>\n",
       "      <td>KIF12</td>\n",
       "      <td>True</td>\n",
       "      <td>False</td>\n",
       "      <td>NaN</td>\n",
       "      <td>NaN</td>\n",
       "      <td>NaN</td>\n",
       "      <td>{cognitive decline measurement: rate of cognit...</td>\n",
       "      <td>NaN</td>\n",
       "      <td>NaN</td>\n",
       "    </tr>\n",
       "    <tr>\n",
       "      <th>206</th>\n",
       "      <td>LRRC37A2</td>\n",
       "      <td>True</td>\n",
       "      <td>False</td>\n",
       "      <td>NaN</td>\n",
       "      <td>NaN</td>\n",
       "      <td>NaN</td>\n",
       "      <td>{post-traumatic stress disorder symptom measur...</td>\n",
       "      <td>NaN</td>\n",
       "      <td>NaN</td>\n",
       "    </tr>\n",
       "    <tr>\n",
       "      <th>207</th>\n",
       "      <td>VSIG10</td>\n",
       "      <td>True</td>\n",
       "      <td>False</td>\n",
       "      <td>NaN</td>\n",
       "      <td>NaN</td>\n",
       "      <td>NaN</td>\n",
       "      <td>NaN</td>\n",
       "      <td>V-set and immunoglobulin domain containing 10</td>\n",
       "      <td>NaN</td>\n",
       "    </tr>\n",
       "  </tbody>\n",
       "</table>\n",
       "<p>208 rows × 9 columns</p>\n",
       "</div>"
      ],
      "text/plain": [
       "        nodes  in_gwas_catalog  alc_val  \\\n",
       "0       STAM2             True    False   \n",
       "1      SH3BP4             True    False   \n",
       "2      OTUD6B             True    False   \n",
       "3      RAD23A             True    False   \n",
       "4    HSP90AA1             True     True   \n",
       "..        ...              ...      ...   \n",
       "203     APOC4             True    False   \n",
       "204     ADH1C             True     True   \n",
       "205     KIF12             True    False   \n",
       "206  LRRC37A2             True    False   \n",
       "207    VSIG10             True    False   \n",
       "\n",
       "                                             ALC_TRAIT  \\\n",
       "0                                                  NaN   \n",
       "1                                                  NaN   \n",
       "2                                                  NaN   \n",
       "3                                                  NaN   \n",
       "4    {nicotine use, generational effect measurement...   \n",
       "..                                                 ...   \n",
       "203                                                NaN   \n",
       "204  {alcohol consumption measurement: alcohol cons...   \n",
       "205                                                NaN   \n",
       "206                                                NaN   \n",
       "207                                                NaN   \n",
       "\n",
       "                                            SMOK_TRAIT SUD_TRAIT  \\\n",
       "0    {smoking status measurement: smoking initiatio...       NaN   \n",
       "1         {unipolar depression: depression in smokers}       NaN   \n",
       "2                                                  NaN       NaN   \n",
       "3                                                  NaN       NaN   \n",
       "4             {smoking initiation: smoking initiation}       NaN   \n",
       "..                                                 ...       ...   \n",
       "203                                                NaN       NaN   \n",
       "204                                                NaN       NaN   \n",
       "205                                                NaN       NaN   \n",
       "206                                                NaN       NaN   \n",
       "207                                                NaN       NaN   \n",
       "\n",
       "                                      NEUROPSYCH_TRAIT  \\\n",
       "0            {intelligence: general cognitive ability}   \n",
       "1    {memory performance: cognitive function (delay...   \n",
       "2                                                  NaN   \n",
       "3                                                  NaN   \n",
       "4                                                  NaN   \n",
       "..                                                 ...   \n",
       "203  {t-tau measurement: cerebrospinal fluid t-tau ...   \n",
       "204  {parental emotion expression measurmement, con...   \n",
       "205  {cognitive decline measurement: rate of cognit...   \n",
       "206  {post-traumatic stress disorder symptom measur...   \n",
       "207                                                NaN   \n",
       "\n",
       "                                         Approved name                 family  \n",
       "0                                                  NaN                    NaN  \n",
       "1                         SH3 domain binding protein 4                    NaN  \n",
       "2                                                  NaN                    NaN  \n",
       "3                                                  NaN                    NaN  \n",
       "4                                                  NaN                    NaN  \n",
       "..                                                 ...                    ...  \n",
       "203                                                NaN                    NaN  \n",
       "204  alcohol dehydrogenase 1C (class I), gamma poly...  alcohol dehydrogenase  \n",
       "205                                                NaN                    NaN  \n",
       "206                                                NaN                    NaN  \n",
       "207      V-set and immunoglobulin domain containing 10                    NaN  \n",
       "\n",
       "[208 rows x 9 columns]"
      ]
     },
     "execution_count": 86,
     "metadata": {},
     "output_type": "execute_result"
    }
   ],
   "source": [
    "df"
   ]
  },
  {
   "cell_type": "code",
   "execution_count": 89,
   "id": "473b8374-9b59-4809-aa34-f90c88d68aba",
   "metadata": {},
   "outputs": [],
   "source": [
    "y=pd.read_csv('Rare-Common Alcohol Consumption Tables - stable 4. Alcohol Consumption Network Nodes.csv')"
   ]
  },
  {
   "cell_type": "code",
   "execution_count": 91,
   "id": "7cabf781-256e-40c2-a589-f2e69ffb73d4",
   "metadata": {},
   "outputs": [],
   "source": [
    "y[~y['HGNC Symbol'].isin(nodes_stat_met['HGNC Symbol'])].to_csv('network_nodes_gwascat_noalcmet.csv', index=False, quoting=None)"
   ]
  }
 ],
 "metadata": {
  "kernelspec": {
   "display_name": "Python [conda env:env-std-py38]",
   "language": "python",
   "name": "conda-env-env-std-py38-py"
  },
  "language_info": {
   "codemirror_mode": {
    "name": "ipython",
    "version": 3
   },
   "file_extension": ".py",
   "mimetype": "text/x-python",
   "name": "python",
   "nbconvert_exporter": "python",
   "pygments_lexer": "ipython3",
   "version": "3.8.13"
  }
 },
 "nbformat": 4,
 "nbformat_minor": 5
}
