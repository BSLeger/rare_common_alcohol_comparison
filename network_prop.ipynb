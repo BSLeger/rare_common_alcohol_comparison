{
 "cells": [
  {
   "cell_type": "markdown",
   "id": "3975a6e8-2200-44e5-8a25-5f7adeeaba3f",
   "metadata": {},
   "source": [
    "purpose: runs network propagation (typically in pcnet v1.4) from seed genes saved in a file- accessed from meta data csv. if rerun==TRUE, then network propagation scores will be recalculated. Changes will not be saved."
   ]
  },
  {
   "cell_type": "markdown",
   "id": "e3d4187a-cb0a-4ff0-b74a-e050dac374fb",
   "metadata": {},
   "source": [
    "# setup"
   ]
  },
  {
   "cell_type": "code",
   "execution_count": 4,
   "id": "4e75e497-9c62-4faf-b7f6-6a8a6c1295c2",
   "metadata": {
    "tags": []
   },
   "outputs": [],
   "source": [
    "#read in libraries\n",
    "import numpy as np\n",
    "import pandas as pd\n",
    "import matplotlib.pyplot as plt\n",
    "import scipy.stats as stats\n",
    "import matplotlib\n",
    "from matplotlib_venn import venn2 \n",
    "from scipy.stats import hypergeom\n",
    "import statsmodels.stats.multitest\n",
    "import rca_functions\n",
    "import ndex2\n",
    "import networkx as nx\n",
    "from netcoloc import netprop_zscore\n",
    "from netcoloc import netprop\n",
    "from netcoloc import network_colocalization\n",
    "from rca_functions import *"
   ]
  },
  {
   "cell_type": "code",
   "execution_count": 6,
   "id": "d0581bc2-3a97-4a64-8b19-f00944305444",
   "metadata": {
    "tags": []
   },
   "outputs": [
    {
     "data": {
      "text/plain": [
       "'/tscc/projects/ps-palmer/brittany/rare_common_alcohol'"
      ]
     },
     "execution_count": 6,
     "metadata": {},
     "output_type": "execute_result"
    }
   ],
   "source": [
    "import os\n",
    "os.chdir('/tscc/nfs/home/bsleger/bsl/rare_common_alcohol/')\n",
    "os.getcwd()"
   ]
  },
  {
   "cell_type": "markdown",
   "id": "04865e63-c410-489d-a506-709b248d0e02",
   "metadata": {},
   "source": [
    "# Interactome Set-up"
   ]
  },
  {
   "cell_type": "code",
   "execution_count": 7,
   "id": "b88fe08d-6e66-4a9d-a3b9-468520ae06ac",
   "metadata": {},
   "outputs": [
    {
     "name": "stdout",
     "output_type": "stream",
     "text": [
      "True\n"
     ]
    }
   ],
   "source": [
    "if os.path.isfile('environ_ndex_meta.py'):\n",
    "    print ('True')\n",
    "    from environ_ndex_meta import *\n",
    "else:\n",
    "    ndex_user=None\n",
    "    ndex_password=None"
   ]
  },
  {
   "cell_type": "code",
   "execution_count": 8,
   "id": "60560dc2-45e2-4420-ab9d-50651a1b56f2",
   "metadata": {},
   "outputs": [],
   "source": [
    "interactome_name='pcnet_v14'"
   ]
  },
  {
   "cell_type": "code",
   "execution_count": 9,
   "id": "88c3d0c0-9554-43fa-8ab1-d3a435da3abe",
   "metadata": {},
   "outputs": [
    {
     "name": "stdout",
     "output_type": "stream",
     "text": [
      "pcnet_v14\n",
      "number of nodes:\n",
      "18630\n",
      "\n",
      "number of edges:\n",
      "2687393\n"
     ]
    }
   ],
   "source": [
    "G_PC=import_interactome(interactome_name)"
   ]
  },
  {
   "cell_type": "code",
   "execution_count": 10,
   "id": "dd34ffa4-d161-46d5-9b2c-b1646ef31aba",
   "metadata": {},
   "outputs": [
    {
     "name": "stdout",
     "output_type": "stream",
     "text": [
      "\n",
      "calculating w_prime\n",
      "\n",
      "calculating w_double_prime\n"
     ]
    }
   ],
   "source": [
    "# pre calculate mats used for netprop... this step takes a few minutes, more for denser interactomes\n",
    "print('\\ncalculating w_prime')\n",
    "w_prime = netprop.get_normalized_adjacency_matrix(G_PC, conserve_heat=True)\n",
    "\n",
    "print('\\ncalculating w_double_prime')\n",
    "w_double_prime = netprop.get_individual_heats_matrix(w_prime, .5)"
   ]
  },
  {
   "cell_type": "markdown",
   "id": "2284a152-d28b-4000-834b-01fe0811aa98",
   "metadata": {
    "tags": []
   },
   "source": [
    "# common gene data analysis"
   ]
  },
  {
   "cell_type": "code",
   "execution_count": 11,
   "id": "72d8418f-592d-4964-ab3f-5946538f34ca",
   "metadata": {},
   "outputs": [],
   "source": [
    "datasets=pd.read_csv('common_datasets_prepub.csv',sep=',')"
   ]
  },
  {
   "cell_type": "code",
   "execution_count": 12,
   "id": "815cd90b-895f-46ce-be4f-5b2a46c0e4b6",
   "metadata": {},
   "outputs": [],
   "source": [
    "row_common=30"
   ]
  },
  {
   "cell_type": "code",
   "execution_count": 13,
   "id": "550c94d0-0110-4475-b351-779ca933b9ed",
   "metadata": {},
   "outputs": [],
   "source": [
    "runsets=datasets[datasets['label'].str.contains('GSCAN_DPW_magma')]\n",
    "runsets=runsets.reset_index()"
   ]
  },
  {
   "cell_type": "code",
   "execution_count": 14,
   "id": "641b01ed-26fe-43a6-b1db-0e0a767d0886",
   "metadata": {},
   "outputs": [
    {
     "data": {
      "text/html": [
       "<div>\n",
       "<style scoped>\n",
       "    .dataframe tbody tr th:only-of-type {\n",
       "        vertical-align: middle;\n",
       "    }\n",
       "\n",
       "    .dataframe tbody tr th {\n",
       "        vertical-align: top;\n",
       "    }\n",
       "\n",
       "    .dataframe thead th {\n",
       "        text-align: right;\n",
       "    }\n",
       "</style>\n",
       "<table border=\"1\" class=\"dataframe\">\n",
       "  <thead>\n",
       "    <tr style=\"text-align: right;\">\n",
       "      <th></th>\n",
       "      <th>index</th>\n",
       "      <th>group</th>\n",
       "      <th>snp2gene_method</th>\n",
       "      <th>label</th>\n",
       "      <th>phenotype_group</th>\n",
       "      <th>seed_path</th>\n",
       "      <th>delim</th>\n",
       "      <th>zscore_file</th>\n",
       "      <th>zscore_path</th>\n",
       "      <th>seed_p</th>\n",
       "      <th>seed_gene_name</th>\n",
       "      <th>description</th>\n",
       "      <th>cutoff</th>\n",
       "    </tr>\n",
       "  </thead>\n",
       "  <tbody>\n",
       "    <tr>\n",
       "      <th>0</th>\n",
       "      <td>0</td>\n",
       "      <td>GSCAN_DPW</td>\n",
       "      <td>magma</td>\n",
       "      <td>GSCAN_DPW_magma</td>\n",
       "      <td>alcohol</td>\n",
       "      <td>GSCAN_DPW/GSCAN_DPW_magma_results.csv</td>\n",
       "      <td>comma</td>\n",
       "      <td>gscan_dpw_magma_zscore.tsv</td>\n",
       "      <td>network_scores/gscan_dpw_magma_zscore.tsv</td>\n",
       "      <td>P</td>\n",
       "      <td>GENE_NAME</td>\n",
       "      <td>drinks_per_week_gscan</td>\n",
       "      <td>bonferroni</td>\n",
       "    </tr>\n",
       "  </tbody>\n",
       "</table>\n",
       "</div>"
      ],
      "text/plain": [
       "   index      group snp2gene_method            label phenotype_group  \\\n",
       "0      0  GSCAN_DPW           magma  GSCAN_DPW_magma         alcohol   \n",
       "\n",
       "                               seed_path  delim                 zscore_file  \\\n",
       "0  GSCAN_DPW/GSCAN_DPW_magma_results.csv  comma  gscan_dpw_magma_zscore.tsv   \n",
       "\n",
       "                                 zscore_path seed_p seed_gene_name  \\\n",
       "0  network_scores/gscan_dpw_magma_zscore.tsv      P      GENE_NAME   \n",
       "\n",
       "             description      cutoff  \n",
       "0  drinks_per_week_gscan  bonferroni  "
      ]
     },
     "execution_count": 14,
     "metadata": {},
     "output_type": "execute_result"
    }
   ],
   "source": [
    "runsets"
   ]
  },
  {
   "cell_type": "code",
   "execution_count": null,
   "id": "90c72716-90cd-4cfc-bcc8-b24eb46cbc65",
   "metadata": {},
   "outputs": [],
   "source": [
    "for row_common in range(len(runsets)):\n",
    "    print('processing '+runsets['label'][row_common])\n",
    "    run_net_prop(runsets['seed_path'][row_common], runsets['label'][row_common],runsets['seed_p'][row_common],\n",
    "                 runsets['seed_gene_name'][row_common],runsets['delim'][row_common],runsets['cutoff'][row_common],\n",
    "                 interactome_name, w_prime=)"
   ]
  },
  {
   "cell_type": "code",
   "execution_count": 7,
   "id": "2010b956-5aec-4a19-9933-2b75d4ef04a3",
   "metadata": {},
   "outputs": [],
   "source": [
    "data=['ADH1B','ADH1C']\n",
    "trait_name='ADH1BandADH1C'"
   ]
  },
  {
   "cell_type": "code",
   "execution_count": 10,
   "id": "14c5f121-fdb6-4846-9ef7-33cdaeb6a523",
   "metadata": {},
   "outputs": [],
   "source": [
    "data=['ADH1C']\n",
    "trait_name='ADH1C'"
   ]
  },
  {
   "cell_type": "code",
   "execution_count": 11,
   "id": "1a7dada9-898b-4975-97a8-ad5a883e5cbe",
   "metadata": {},
   "outputs": [
    {
     "data": {
      "application/vnd.jupyter.widget-view+json": {
       "model_id": "db31d6f1563d4eb5b8e055dbeedcb360",
       "version_major": 2,
       "version_minor": 0
      },
      "text/plain": [
       "  0%|          | 0/1000 [00:00<?, ?it/s]"
      ]
     },
     "metadata": {},
     "output_type": "display_data"
    },
    {
     "name": "stdout",
     "output_type": "stream",
     "text": [
      "ADH1C_zscore.tsv\n",
      "network_scores/ADH1C_zscore.tsv\n"
     ]
    }
   ],
   "source": [
    "z_score, Fnew_score, Fnew_rand_score = netprop_zscore.calculate_heat_zscores(w_double_prime, pc_nodes, \n",
    "                                                            dict(G_PC.degree), \n",
    "                                                            data, num_reps=1000,\n",
    "                                                            minimum_bin_size=100)\n",
    "trait_name=trait_name\n",
    "z_score.to_csv('network_scores/'+trait_name+'_zscore.tsv',sep='\\t',header=False)\n",
    "Fnew_score.to_csv('network_scores/'+trait_name+'_heats.tsv',sep='\\t',header=False)\n",
    "pd.DataFrame(Fnew_rand_score, columns=z_score.index).to_csv('network_scores/'+trait_name+'_randheats.tsv',sep='\\t')\n",
    "print(str(trait_name+'_zscore.tsv'))\n",
    "print(str('network_scores/'+trait_name+'_zscore.tsv'))"
   ]
  },
  {
   "cell_type": "markdown",
   "id": "36b893fb-2841-4947-a7b5-31fa92b159c5",
   "metadata": {},
   "source": [
    "# rare gene data analysis"
   ]
  },
  {
   "cell_type": "code",
   "execution_count": 21,
   "id": "b559cf91-a8ec-4c09-b2d6-5a80c7f1754d",
   "metadata": {},
   "outputs": [
    {
     "data": {
      "text/plain": [
       "'/tscc/projects/ps-palmer/brittany/rare_common_alcohol'"
      ]
     },
     "execution_count": 21,
     "metadata": {},
     "output_type": "execute_result"
    }
   ],
   "source": [
    "os.getcwd()"
   ]
  },
  {
   "cell_type": "code",
   "execution_count": 19,
   "id": "0ba414d4-5e6e-437b-98e5-cfbfa3695a9d",
   "metadata": {},
   "outputs": [],
   "source": [
    "datasets=pd.read_csv('rare_datasets_prepub.csv')\n",
    "runsets=datasets\n",
    "runsets=runsets.reset_index()"
   ]
  },
  {
   "cell_type": "code",
   "execution_count": 20,
   "id": "49b06541-bf3a-4a55-a3b4-07c9b0f604be",
   "metadata": {},
   "outputs": [
    {
     "data": {
      "text/html": [
       "<div>\n",
       "<style scoped>\n",
       "    .dataframe tbody tr th:only-of-type {\n",
       "        vertical-align: middle;\n",
       "    }\n",
       "\n",
       "    .dataframe tbody tr th {\n",
       "        vertical-align: top;\n",
       "    }\n",
       "\n",
       "    .dataframe thead th {\n",
       "        text-align: right;\n",
       "    }\n",
       "</style>\n",
       "<table border=\"1\" class=\"dataframe\">\n",
       "  <thead>\n",
       "    <tr style=\"text-align: right;\">\n",
       "      <th></th>\n",
       "      <th>index</th>\n",
       "      <th>label</th>\n",
       "      <th>cutoff used</th>\n",
       "      <th>seed_path</th>\n",
       "      <th>delim</th>\n",
       "      <th>zscore_file</th>\n",
       "      <th>zscore_path</th>\n",
       "      <th>Unnamed: 6</th>\n",
       "      <th>seed_gene_name</th>\n",
       "      <th>phenotype_group</th>\n",
       "    </tr>\n",
       "  </thead>\n",
       "  <tbody>\n",
       "    <tr>\n",
       "      <th>0</th>\n",
       "      <td>0</td>\n",
       "      <td>alcoholintake_FDR_25</td>\n",
       "      <td>all tests FDR &lt;0.25</td>\n",
       "      <td>rare_variant_genebass/alcohol_intake/alcohol_i...</td>\n",
       "      <td>comma</td>\n",
       "      <td>alcoholintake_fdr_25_zscore.tsv</td>\n",
       "      <td>network_scores/alcoholintake_FDR_25_zscore.tsv</td>\n",
       "      <td>network_scores/alcoholintake_fdr_25_zscore.tsv</td>\n",
       "      <td>Gene Name</td>\n",
       "      <td>alcohol</td>\n",
       "    </tr>\n",
       "    <tr>\n",
       "      <th>1</th>\n",
       "      <td>1</td>\n",
       "      <td>rare_neale_20153_irnt_FDR_25</td>\n",
       "      <td>all tests FDR &lt;0.25</td>\n",
       "      <td>rare_variant_genebass/20153_irnt/20153_irnt_25...</td>\n",
       "      <td>tab</td>\n",
       "      <td>rare_neale_20153_irnt_fdr_25_zscore.tsv</td>\n",
       "      <td>network_scores/rare_neale_20153_irnt_FDR_25_zs...</td>\n",
       "      <td>network_scores/rare_neale_20153_irnt_fdr_25_zs...</td>\n",
       "      <td>Gene Name</td>\n",
       "      <td>control</td>\n",
       "    </tr>\n",
       "    <tr>\n",
       "      <th>2</th>\n",
       "      <td>2</td>\n",
       "      <td>rare_neale_30110_irnt_FDR_25</td>\n",
       "      <td>all tests FDR &lt;0.25</td>\n",
       "      <td>rare_variant_genebass/30110_irnt/30110_irnt_25...</td>\n",
       "      <td>tab</td>\n",
       "      <td>rare_neale_30110_irnt_fdr_25_zscore.tsv</td>\n",
       "      <td>network_scores/rare_neale_30110_irnt_FDR_25_zs...</td>\n",
       "      <td>network_scores/rare_neale_30110_irnt_fdr_25_zs...</td>\n",
       "      <td>Gene Name</td>\n",
       "      <td>control</td>\n",
       "    </tr>\n",
       "    <tr>\n",
       "      <th>3</th>\n",
       "      <td>3</td>\n",
       "      <td>rare_neale_20016_FDR_25</td>\n",
       "      <td>all tests FDR &lt;0.25</td>\n",
       "      <td>rare_variant_genebass/20016/20016_25FDR.tsv</td>\n",
       "      <td>tab</td>\n",
       "      <td>rare_neale_20016_fdr_25_zscore.tsv</td>\n",
       "      <td>network_scores/rare_neale_20016_FDR_25_zscore.tsv</td>\n",
       "      <td>network_scores/rare_neale_20016_fdr_25_zscore.tsv</td>\n",
       "      <td>Gene Name</td>\n",
       "      <td>control</td>\n",
       "    </tr>\n",
       "    <tr>\n",
       "      <th>4</th>\n",
       "      <td>4</td>\n",
       "      <td>rare_neale_20502_FDR_25</td>\n",
       "      <td>all tests FDR &lt;0.25</td>\n",
       "      <td>rare_variant_genebass/20502/20502_25FDR.tsv</td>\n",
       "      <td>tab</td>\n",
       "      <td>rare_neale_20502_fdr_25_zscore.tsv</td>\n",
       "      <td>network_scores/rare_neale_20502_FDR_25_zscore.tsv</td>\n",
       "      <td>network_scores/rare_neale_20502_fdr_25_zscore.tsv</td>\n",
       "      <td>Gene Name</td>\n",
       "      <td>control</td>\n",
       "    </tr>\n",
       "    <tr>\n",
       "      <th>5</th>\n",
       "      <td>5</td>\n",
       "      <td>rare_neale_2443_FDR_25</td>\n",
       "      <td>all tests FDR &lt;0.25</td>\n",
       "      <td>rare_variant_genebass/2443/2443_25FDR.tsv</td>\n",
       "      <td>tab</td>\n",
       "      <td>rare_neale_2443_fdr_25_zscore.tsv</td>\n",
       "      <td>network_scores/rare_neale_2443_FDR_25_zscore.tsv</td>\n",
       "      <td>network_scores/rare_neale_2443_fdr_25_zscore.tsv</td>\n",
       "      <td>Gene Name</td>\n",
       "      <td>control</td>\n",
       "    </tr>\n",
       "    <tr>\n",
       "      <th>6</th>\n",
       "      <td>6</td>\n",
       "      <td>rare_neale_4194_FDR_25</td>\n",
       "      <td>all tests FDR &lt;0.25</td>\n",
       "      <td>rare_variant_genebass/4194/4194_25FDR.tsv</td>\n",
       "      <td>tab</td>\n",
       "      <td>rare_neale_4194_fdr_25_zscore.tsv</td>\n",
       "      <td>network_scores/rare_neale_4194_FDR_25_zscore.tsv</td>\n",
       "      <td>network_scores/rare_neale_4194_fdr_25_zscore.tsv</td>\n",
       "      <td>Gene Name</td>\n",
       "      <td>control</td>\n",
       "    </tr>\n",
       "    <tr>\n",
       "      <th>7</th>\n",
       "      <td>7</td>\n",
       "      <td>rare_neale_78_FDR_25</td>\n",
       "      <td>all tests FDR &lt;0.25</td>\n",
       "      <td>rare_variant_genebass/78/78_25FDR.tsv</td>\n",
       "      <td>tab</td>\n",
       "      <td>rare_neale_78_fdr_25_zscore.tsv</td>\n",
       "      <td>network_scores/rare_neale_78_FDR_25_zscore.tsv</td>\n",
       "      <td>network_scores/rare_neale_78_fdr_25_zscore.tsv</td>\n",
       "      <td>Gene Name</td>\n",
       "      <td>control</td>\n",
       "    </tr>\n",
       "    <tr>\n",
       "      <th>8</th>\n",
       "      <td>8</td>\n",
       "      <td>rare_neale_C50_FDR_25</td>\n",
       "      <td>all tests FDR &lt;0.25</td>\n",
       "      <td>rare_variant_genebass/C50/C50_25FDR.tsv</td>\n",
       "      <td>tab</td>\n",
       "      <td>rare_neale_c50_fdr_25_zscore.tsv</td>\n",
       "      <td>network_scores/rare_neale_C50_FDR_25_zscore.tsv</td>\n",
       "      <td>network_scores/rare_neale_c50_fdr_25_zscore.tsv</td>\n",
       "      <td>Gene Name</td>\n",
       "      <td>control</td>\n",
       "    </tr>\n",
       "    <tr>\n",
       "      <th>9</th>\n",
       "      <td>9</td>\n",
       "      <td>rare_neale_C44_FDR_25</td>\n",
       "      <td>all tests FDR &lt;0.25</td>\n",
       "      <td>rare_variant_genebass/C44/C44_25FDR.tsv</td>\n",
       "      <td>tab</td>\n",
       "      <td>rare_neale_c44_fdr_25_zscore.tsv</td>\n",
       "      <td>network_scores/rare_neale_C44_FDR_25_zscore.tsv</td>\n",
       "      <td>network_scores/rare_neale_c44_fdr_25_zscore.tsv</td>\n",
       "      <td>Gene Name</td>\n",
       "      <td>control</td>\n",
       "    </tr>\n",
       "    <tr>\n",
       "      <th>10</th>\n",
       "      <td>10</td>\n",
       "      <td>rare_neale_100010_FDR_25</td>\n",
       "      <td>all tests FDR &lt;0.25</td>\n",
       "      <td>rare_variant_genebass/100010/100010_25FDR.tsv</td>\n",
       "      <td>tab</td>\n",
       "      <td>rare_neale_100010_fdr_25_zscore.tsv</td>\n",
       "      <td>network_scores/rare_neale_100010_FDR_25_zscore...</td>\n",
       "      <td>network_scores/rare_neale_100010_fdr_25_zscore...</td>\n",
       "      <td>Gene Name</td>\n",
       "      <td>control</td>\n",
       "    </tr>\n",
       "    <tr>\n",
       "      <th>11</th>\n",
       "      <td>11</td>\n",
       "      <td>rare_neale_100016_FDR_25</td>\n",
       "      <td>all tests FDR &lt;0.25</td>\n",
       "      <td>rare_variant_genebass/100016/100016_25FDR.tsv</td>\n",
       "      <td>tab</td>\n",
       "      <td>rare_neale_100016_fdr_25_zscore.tsv</td>\n",
       "      <td>network_scores/rare_neale_100016_FDR_25_zscore...</td>\n",
       "      <td>network_scores/rare_neale_100016_fdr_25_zscore...</td>\n",
       "      <td>Gene Name</td>\n",
       "      <td>control</td>\n",
       "    </tr>\n",
       "    <tr>\n",
       "      <th>12</th>\n",
       "      <td>12</td>\n",
       "      <td>rare_strin_allcut_alcoholintake</td>\n",
       "      <td>burden bonferroni &lt; 0.05 in the whole table of...</td>\n",
       "      <td>rare_variant_genebass/alcohol_intake/alcohol_i...</td>\n",
       "      <td>comma</td>\n",
       "      <td>rare_strin_allcut_alcoholintake_zscore.tsv</td>\n",
       "      <td>network_scores/rare_strin_allcut_alcoholintake...</td>\n",
       "      <td>network_scores/rare_strin_allcut_alcoholintake...</td>\n",
       "      <td>gene_symbol</td>\n",
       "      <td>alcohol</td>\n",
       "    </tr>\n",
       "  </tbody>\n",
       "</table>\n",
       "</div>"
      ],
      "text/plain": [
       "    index                            label  \\\n",
       "0       0             alcoholintake_FDR_25   \n",
       "1       1     rare_neale_20153_irnt_FDR_25   \n",
       "2       2     rare_neale_30110_irnt_FDR_25   \n",
       "3       3          rare_neale_20016_FDR_25   \n",
       "4       4          rare_neale_20502_FDR_25   \n",
       "5       5           rare_neale_2443_FDR_25   \n",
       "6       6           rare_neale_4194_FDR_25   \n",
       "7       7             rare_neale_78_FDR_25   \n",
       "8       8            rare_neale_C50_FDR_25   \n",
       "9       9            rare_neale_C44_FDR_25   \n",
       "10     10         rare_neale_100010_FDR_25   \n",
       "11     11         rare_neale_100016_FDR_25   \n",
       "12     12  rare_strin_allcut_alcoholintake   \n",
       "\n",
       "                                          cutoff used  \\\n",
       "0                                 all tests FDR <0.25   \n",
       "1                                 all tests FDR <0.25   \n",
       "2                                 all tests FDR <0.25   \n",
       "3                                 all tests FDR <0.25   \n",
       "4                                 all tests FDR <0.25   \n",
       "5                                 all tests FDR <0.25   \n",
       "6                                 all tests FDR <0.25   \n",
       "7                                 all tests FDR <0.25   \n",
       "8                                 all tests FDR <0.25   \n",
       "9                                 all tests FDR <0.25   \n",
       "10                                all tests FDR <0.25   \n",
       "11                                all tests FDR <0.25   \n",
       "12  burden bonferroni < 0.05 in the whole table of...   \n",
       "\n",
       "                                            seed_path  delim  \\\n",
       "0   rare_variant_genebass/alcohol_intake/alcohol_i...  comma   \n",
       "1   rare_variant_genebass/20153_irnt/20153_irnt_25...    tab   \n",
       "2   rare_variant_genebass/30110_irnt/30110_irnt_25...    tab   \n",
       "3         rare_variant_genebass/20016/20016_25FDR.tsv    tab   \n",
       "4         rare_variant_genebass/20502/20502_25FDR.tsv    tab   \n",
       "5           rare_variant_genebass/2443/2443_25FDR.tsv    tab   \n",
       "6           rare_variant_genebass/4194/4194_25FDR.tsv    tab   \n",
       "7               rare_variant_genebass/78/78_25FDR.tsv    tab   \n",
       "8             rare_variant_genebass/C50/C50_25FDR.tsv    tab   \n",
       "9             rare_variant_genebass/C44/C44_25FDR.tsv    tab   \n",
       "10      rare_variant_genebass/100010/100010_25FDR.tsv    tab   \n",
       "11      rare_variant_genebass/100016/100016_25FDR.tsv    tab   \n",
       "12  rare_variant_genebass/alcohol_intake/alcohol_i...  comma   \n",
       "\n",
       "                                   zscore_file  \\\n",
       "0              alcoholintake_fdr_25_zscore.tsv   \n",
       "1      rare_neale_20153_irnt_fdr_25_zscore.tsv   \n",
       "2      rare_neale_30110_irnt_fdr_25_zscore.tsv   \n",
       "3           rare_neale_20016_fdr_25_zscore.tsv   \n",
       "4           rare_neale_20502_fdr_25_zscore.tsv   \n",
       "5            rare_neale_2443_fdr_25_zscore.tsv   \n",
       "6            rare_neale_4194_fdr_25_zscore.tsv   \n",
       "7              rare_neale_78_fdr_25_zscore.tsv   \n",
       "8             rare_neale_c50_fdr_25_zscore.tsv   \n",
       "9             rare_neale_c44_fdr_25_zscore.tsv   \n",
       "10         rare_neale_100010_fdr_25_zscore.tsv   \n",
       "11         rare_neale_100016_fdr_25_zscore.tsv   \n",
       "12  rare_strin_allcut_alcoholintake_zscore.tsv   \n",
       "\n",
       "                                          zscore_path  \\\n",
       "0      network_scores/alcoholintake_FDR_25_zscore.tsv   \n",
       "1   network_scores/rare_neale_20153_irnt_FDR_25_zs...   \n",
       "2   network_scores/rare_neale_30110_irnt_FDR_25_zs...   \n",
       "3   network_scores/rare_neale_20016_FDR_25_zscore.tsv   \n",
       "4   network_scores/rare_neale_20502_FDR_25_zscore.tsv   \n",
       "5    network_scores/rare_neale_2443_FDR_25_zscore.tsv   \n",
       "6    network_scores/rare_neale_4194_FDR_25_zscore.tsv   \n",
       "7      network_scores/rare_neale_78_FDR_25_zscore.tsv   \n",
       "8     network_scores/rare_neale_C50_FDR_25_zscore.tsv   \n",
       "9     network_scores/rare_neale_C44_FDR_25_zscore.tsv   \n",
       "10  network_scores/rare_neale_100010_FDR_25_zscore...   \n",
       "11  network_scores/rare_neale_100016_FDR_25_zscore...   \n",
       "12  network_scores/rare_strin_allcut_alcoholintake...   \n",
       "\n",
       "                                           Unnamed: 6 seed_gene_name  \\\n",
       "0      network_scores/alcoholintake_fdr_25_zscore.tsv      Gene Name   \n",
       "1   network_scores/rare_neale_20153_irnt_fdr_25_zs...      Gene Name   \n",
       "2   network_scores/rare_neale_30110_irnt_fdr_25_zs...      Gene Name   \n",
       "3   network_scores/rare_neale_20016_fdr_25_zscore.tsv      Gene Name   \n",
       "4   network_scores/rare_neale_20502_fdr_25_zscore.tsv      Gene Name   \n",
       "5    network_scores/rare_neale_2443_fdr_25_zscore.tsv      Gene Name   \n",
       "6    network_scores/rare_neale_4194_fdr_25_zscore.tsv      Gene Name   \n",
       "7      network_scores/rare_neale_78_fdr_25_zscore.tsv      Gene Name   \n",
       "8     network_scores/rare_neale_c50_fdr_25_zscore.tsv      Gene Name   \n",
       "9     network_scores/rare_neale_c44_fdr_25_zscore.tsv      Gene Name   \n",
       "10  network_scores/rare_neale_100010_fdr_25_zscore...      Gene Name   \n",
       "11  network_scores/rare_neale_100016_fdr_25_zscore...      Gene Name   \n",
       "12  network_scores/rare_strin_allcut_alcoholintake...    gene_symbol   \n",
       "\n",
       "   phenotype_group  \n",
       "0          alcohol  \n",
       "1          control  \n",
       "2          control  \n",
       "3          control  \n",
       "4          control  \n",
       "5          control  \n",
       "6          control  \n",
       "7          control  \n",
       "8          control  \n",
       "9          control  \n",
       "10         control  \n",
       "11         control  \n",
       "12         alcohol  "
      ]
     },
     "execution_count": 20,
     "metadata": {},
     "output_type": "execute_result"
    }
   ],
   "source": [
    "runsets"
   ]
  },
  {
   "cell_type": "code",
   "execution_count": null,
   "id": "b7f7334b-ff64-4ee1-9d36-d96a26e861a7",
   "metadata": {},
   "outputs": [],
   "source": [
    "for row in range(len(runsets)):\n",
    "    print('processing '+runsets['label'][row])\n",
    "    run_net_prop(runsets['seed_path'][row], runsets['label'][row],'0',runsets['seed_gene_name'][row],\n",
    "                 runsets['delim'][row],'no_cutoff',\n",
    "                interactome_name)"
   ]
  }
 ],
 "metadata": {
  "kernelspec": {
   "display_name": "Python [conda env:env-std-py38]",
   "language": "python",
   "name": "conda-env-env-std-py38-py"
  },
  "language_info": {
   "codemirror_mode": {
    "name": "ipython",
    "version": 3
   },
   "file_extension": ".py",
   "mimetype": "text/x-python",
   "name": "python",
   "nbconvert_exporter": "python",
   "pygments_lexer": "ipython3",
   "version": "3.8.13"
  }
 },
 "nbformat": 4,
 "nbformat_minor": 5
}
